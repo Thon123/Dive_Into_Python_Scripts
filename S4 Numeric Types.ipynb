{
 "cells": [
  {
   "cell_type": "markdown",
   "metadata": {},
   "source": [
    "# Numeric Types"
   ]
  },
  {
   "cell_type": "markdown",
   "metadata": {},
   "source": [
    "- Integers (Z) 0,1,2,3 => int\n",
    "- Rational Numbers (Q) -> Fraction of Integers => fractions.Fractions 2/5\n",
    "- Real Numbers (R) -> Float, decimal.Decimal (pro větší kontrolu u přesnosti)\n",
    "- Complex NUmbers (C)--> 3+4J -> Complex\n",
    "- Boolean values - 0(False), 1(True) - tohle je zajímavější :)"
   ]
  },
  {
   "cell_type": "markdown",
   "metadata": {},
   "source": [
    "## Integers data type"
   ]
  },
  {
   "cell_type": "markdown",
   "metadata": {},
   "source": [
    "Ukládaná jako base-2 binárně. "
   ]
  },
  {
   "cell_type": "markdown",
   "metadata": {},
   "source": [
    "### 8 BITS"
   ]
  },
  {
   "cell_type": "markdown",
   "metadata": {},
   "source": [
    "![Loss](p1-1.png)"
   ]
  },
  {
   "cell_type": "markdown",
   "metadata": {},
   "source": [
    "10011 binárně tzn. base 2 = base 10 - 19 (normal co máme)\n",
    "V podstatě máme 2 na 0tou atd..z toho mám čísla a pokud nastane 0 tak tu hodnotu nepřebírá a pokud 1 tak ano. Lehoučké :)"
   ]
  },
  {
   "cell_type": "markdown",
   "metadata": {},
   "source": [
    "Potřebovali jsme 5 bitů abychom uložili číslo 19"
   ]
  },
  {
   "cell_type": "markdown",
   "metadata": {},
   "source": [
    "A zde nám začíná logika 8 bitů, 16 bitů apod :). Takže maximum je 255. Pokud dám všude 1ky a budu mít tedy 8 bitů využitých. 128+64+32+16+8+4+2+1 (11111111)"
   ]
  },
  {
   "cell_type": "markdown",
   "metadata": {},
   "source": [
    "Tak a pokud se jedná o záporná čísla musím vyhradit jedno místo pro -. A tudíž mám jen 7 míst a maximální číslo které získám je -128"
   ]
  },
  {
   "cell_type": "markdown",
   "metadata": {},
   "source": [
    "- 16 bit má rozmezí -32,768 až 32,767\n",
    "- u 32 bitů mám již -2,147,483,648 ..2,147,483,647 :)\n",
    "- pokud nemám určený typ (+ nebo -) tak máme [0,2 na 32] => [0...4,294,967,296]\n",
    "- proto 32 bitové systémy máme maximum 4,294,967,296 bytes => 4,096MB - 4GB :))\n",
    "- jinak 1 bit má 8 bytů"
   ]
  },
  {
   "cell_type": "markdown",
   "metadata": {},
   "source": [
    "V Javě, C musíme předem definovat jaké integer chceme mít - koélik bitů budou využítvat."
   ]
  },
  {
   "cell_type": "markdown",
   "metadata": {},
   "source": [
    "- byte - 8 bit number -128 - 127\n",
    "-  short 16 bit ...\n",
    "- int 32 bit\n",
    "- long - 64 bit atd..ale Python tak nefunguje"
   ]
  },
  {
   "cell_type": "markdown",
   "metadata": {},
   "source": [
    "Python používá různý počet bitů. Prostě podle potřeby si určí jak chce. Samozřejmě platí jasná logika větší čísla - více paměti - pomalejší výpočty."
   ]
  },
  {
   "cell_type": "code",
   "execution_count": 2,
   "metadata": {},
   "outputs": [
    {
     "name": "stdout",
     "output_type": "stream",
     "text": [
      "<class 'int'>\n"
     ]
    }
   ],
   "source": [
    "print(type(100)) #vytváříme classu int"
   ]
  },
  {
   "cell_type": "code",
   "execution_count": 3,
   "metadata": {},
   "outputs": [],
   "source": [
    "import sys"
   ]
  },
  {
   "cell_type": "code",
   "execution_count": 4,
   "metadata": {},
   "outputs": [
    {
     "data": {
      "text/plain": [
       "24"
      ]
     },
     "execution_count": 4,
     "metadata": {},
     "output_type": "execute_result"
    }
   ],
   "source": [
    "sys.getsizeof(0) #používá 24 bytů - OVERHEAD objekt sám o sobě něco vyžaduje"
   ]
  },
  {
   "cell_type": "code",
   "execution_count": 5,
   "metadata": {},
   "outputs": [
    {
     "data": {
      "text/plain": [
       "28"
      ]
     },
     "execution_count": 5,
     "metadata": {},
     "output_type": "execute_result"
    }
   ],
   "source": [
    "sys.getsizeof(1) "
   ]
  },
  {
   "cell_type": "code",
   "execution_count": 6,
   "metadata": {},
   "outputs": [
    {
     "data": {
      "text/plain": [
       "160"
      ]
     },
     "execution_count": 6,
     "metadata": {},
     "output_type": "execute_result"
    }
   ],
   "source": [
    "sys.getsizeof(2**1000) #160 bytů"
   ]
  },
  {
   "cell_type": "code",
   "execution_count": 7,
   "metadata": {},
   "outputs": [
    {
     "data": {
      "text/plain": [
       "1088"
      ]
     },
     "execution_count": 7,
     "metadata": {},
     "output_type": "execute_result"
    }
   ],
   "source": [
    "(160 - 24) * 8 # 1088 bitů pro uložení hodnoty"
   ]
  },
  {
   "cell_type": "code",
   "execution_count": 8,
   "metadata": {},
   "outputs": [],
   "source": [
    "import time"
   ]
  },
  {
   "cell_type": "code",
   "execution_count": 11,
   "metadata": {},
   "outputs": [],
   "source": [
    "def calc(a):\n",
    "    for i in range(10_000_000):\n",
    "        a * 2"
   ]
  },
  {
   "cell_type": "code",
   "execution_count": 12,
   "metadata": {},
   "outputs": [
    {
     "name": "stdout",
     "output_type": "stream",
     "text": [
      "0.6151472999990801\n"
     ]
    }
   ],
   "source": [
    "start = time.perf_counter()\n",
    "calc(10)\n",
    "end = time.perf_counter()\n",
    "print(end - start)"
   ]
  },
  {
   "cell_type": "code",
   "execution_count": 14,
   "metadata": {},
   "outputs": [
    {
     "name": "stdout",
     "output_type": "stream",
     "text": [
      "1.1870016000029864\n"
     ]
    }
   ],
   "source": [
    "start = time.perf_counter()\n",
    "calc(2**100)\n",
    "end = time.perf_counter()\n",
    "print(end - start)"
   ]
  },
  {
   "cell_type": "code",
   "execution_count": 15,
   "metadata": {},
   "outputs": [
    {
     "name": "stdout",
     "output_type": "stream",
     "text": [
      "5.643072200000461\n"
     ]
    }
   ],
   "source": [
    "start = time.perf_counter()\n",
    "calc(2**10000)\n",
    "end = time.perf_counter()\n",
    "print(end - start)"
   ]
  },
  {
   "cell_type": "markdown",
   "metadata": {},
   "source": [
    "Menší ukázka, na velikosti výrazně záleží. Dochází samozřejmě ke zpomalení."
   ]
  },
  {
   "cell_type": "markdown",
   "metadata": {},
   "source": [
    "## Integers Operations"
   ]
  },
  {
   "cell_type": "markdown",
   "metadata": {},
   "source": [
    "### Teorie"
   ]
  },
  {
   "cell_type": "markdown",
   "metadata": {},
   "source": [
    "Hlavní otázka je, jaký je výstup našich operací?"
   ]
  },
  {
   "cell_type": "markdown",
   "metadata": {},
   "source": [
    "- int + int --> int\n",
    "- int - int --> int\n",
    "- int * int --> int\n",
    "- int ** int --> int\n",
    "- int / int --> float 3/4 - 0,75 | 10/2 - 5 ALE i tak jako FLOAT\n",
    "- dělení má vždy výstup float\n",
    "- 155 / 4 ale jako zlome => numerator / denominator = 38 se zbytkem 3\n",
    "- a tím máme // dělení => výsledek je číslo beze zbytku\n",
    "- ale % takto počítáme pouze zbytek\n",
    "- 155 = 4 * (155 // 4) + (155 % 4) => nebo 4*38+3 :)\n",
    "- // div - floor division \n",
    "- % mod - modulo operator\n",
    "- n = d * (n // d) + (n % d)"
   ]
  },
  {
   "cell_type": "markdown",
   "metadata": {},
   "source": [
    "Co je tedy floor divison? "
   ]
  },
  {
   "cell_type": "markdown",
   "metadata": {},
   "source": [
    "- největší číslo v levo od našeho čísla\n",
    "- floor(3,14) -> 3, 1,999 -> 1, floor(2) -> 2\n",
    "- floor(-3,1) -> -4 \n",
    "- a // b = floor(a/b)"
   ]
  },
  {
   "cell_type": "code",
   "execution_count": 16,
   "metadata": {},
   "outputs": [],
   "source": [
    "#Menší počítání pro +\n",
    "# a = 135\n",
    "# b = 4\n",
    "# 135 / 4 == 33,75 (33 a 3/4)\n",
    "# 135 // 4  -> 33\n",
    "# 135 % 4 -> 3\n",
    "#což je samozřejmě\n",
    "# 33*4 + 3 => 135"
   ]
  },
  {
   "cell_type": "code",
   "execution_count": 17,
   "metadata": {},
   "outputs": [],
   "source": [
    "#Negativní čísla\n",
    "# a = -135\n",
    "#b = 4\n",
    "# -135 / 4 = -33,75 (-33 a 3/4)\n",
    "# -135 // 4 -> -34\n",
    "#No tohle je už trochu problém :D\n",
    "# -135 % 4 -> 1\n",
    "\n",
    "#Mod není remainder - jak se všude říká\n",
    "#ALE musí se rovnat rovnice\n",
    "\n",
    "# 4 * (-135 // 4) + (-135 % 4)\n",
    "# 4* - 34 +1\n",
    "# -135\n",
    "\n",
    "# V podstatě jde o to že jakmile vezme 33,75 - nejmenší největší je 33\n",
    "#ale u -33,75 je to -34 a to vše mění"
   ]
  },
  {
   "cell_type": "code",
   "execution_count": null,
   "metadata": {},
   "outputs": [],
   "source": [
    "# Trochu dále\n",
    "# a = 13, b = 4 --> 13/4 = 3.25 -----> // = 3 ------> % 1\n",
    "# a = -13 b = 4 --> -13/4 = -3,25 -----> // =  -4------> % 3\n",
    "# a = 13, b = -4 --> 13/-4 = -3,25 -----> // = -4------> % -3\n",
    "# a = -13, b = -4 --> -13/-4 = 3,25 -----> // = 3------> % -1\n",
    "\n",
    "# a = b * (a//b) + a % b"
   ]
  },
  {
   "cell_type": "markdown",
   "metadata": {},
   "source": [
    "### Code"
   ]
  },
  {
   "cell_type": "code",
   "execution_count": 21,
   "metadata": {},
   "outputs": [
    {
     "data": {
      "text/plain": [
       "(int, float, int, int)"
      ]
     },
     "execution_count": 21,
     "metadata": {},
     "output_type": "execute_result"
    }
   ],
   "source": [
    "type(1+1), type(2/1), type(4-10), type(3*2)\n",
    "#u dělení získáváme float"
   ]
  },
  {
   "cell_type": "code",
   "execution_count": 22,
   "metadata": {},
   "outputs": [
    {
     "name": "stdout",
     "output_type": "stream",
     "text": [
      "2.0\n"
     ]
    }
   ],
   "source": [
    "print(2/1) "
   ]
  },
  {
   "cell_type": "code",
   "execution_count": 23,
   "metadata": {},
   "outputs": [],
   "source": [
    "import math"
   ]
  },
  {
   "cell_type": "code",
   "execution_count": 27,
   "metadata": {},
   "outputs": [
    {
     "data": {
      "text/plain": [
       "(3, 1, -4)"
      ]
     },
     "execution_count": 27,
     "metadata": {},
     "output_type": "execute_result"
    }
   ],
   "source": [
    "math.floor(3.15), math.floor(1.999), math.floor(-3.1)\n",
    "#tady vidíme náš floor v akci"
   ]
  },
  {
   "cell_type": "code",
   "execution_count": 28,
   "metadata": {},
   "outputs": [
    {
     "data": {
      "text/plain": [
       "-4"
      ]
     },
     "execution_count": 28,
     "metadata": {},
     "output_type": "execute_result"
    }
   ],
   "source": [
    "math.floor(-3.0000000000001)"
   ]
  },
  {
   "cell_type": "code",
   "execution_count": 30,
   "metadata": {},
   "outputs": [
    {
     "data": {
      "text/plain": [
       "-3"
      ]
     },
     "execution_count": 30,
     "metadata": {},
     "output_type": "execute_result"
    }
   ],
   "source": [
    "math.floor(-3.0000000000000001)\n",
    "#float mí limitovanou přesnost - takže 1ku už ignoruje"
   ]
  },
  {
   "cell_type": "code",
   "execution_count": 36,
   "metadata": {},
   "outputs": [
    {
     "name": "stdout",
     "output_type": "stream",
     "text": [
      "2.0625\n",
      "2\n",
      "2\n"
     ]
    },
    {
     "data": {
      "text/plain": [
       "(None, None, None)"
      ]
     },
     "execution_count": 36,
     "metadata": {},
     "output_type": "execute_result"
    }
   ],
   "source": [
    "a, b = 33, 16\n",
    "print(a/b), print(a//b), print(math.floor(a/b))"
   ]
  },
  {
   "cell_type": "code",
   "execution_count": 37,
   "metadata": {},
   "outputs": [
    {
     "name": "stdout",
     "output_type": "stream",
     "text": [
      "-2.0625\n",
      "-3\n",
      "-3\n"
     ]
    },
    {
     "data": {
      "text/plain": [
       "(None, None, None)"
      ]
     },
     "execution_count": 37,
     "metadata": {},
     "output_type": "execute_result"
    }
   ],
   "source": [
    "a, b = -33, 16\n",
    "print(a/b), print(a//b), print(math.floor(a/b))"
   ]
  },
  {
   "cell_type": "markdown",
   "metadata": {},
   "source": [
    "Pouze ukázka naší teorie."
   ]
  },
  {
   "cell_type": "code",
   "execution_count": null,
   "metadata": {},
   "outputs": [],
   "source": [
    "a = b * (a//b) + (a % b)"
   ]
  },
  {
   "cell_type": "code",
   "execution_count": 41,
   "metadata": {},
   "outputs": [
    {
     "name": "stdout",
     "output_type": "stream",
     "text": [
      "13 / 4 = 3.25\n",
      "13 // 4 = 3\n",
      "13 % 4 = 1\n",
      "True\n"
     ]
    }
   ],
   "source": [
    "#Dělíme / zbytkujeme a dělíme beze zbytku a kontrolujeme rovnici\n",
    "a, b = 13, 4\n",
    "print(f\"{a} / {b} = {a/b}\")\n",
    "print(f\"{a} // {b} = {a//b}\")\n",
    "print(f\"{a} % {b} = {a%b}\")\n",
    "print( a == b * (a//b) + (a%b))"
   ]
  },
  {
   "cell_type": "code",
   "execution_count": 42,
   "metadata": {},
   "outputs": [
    {
     "name": "stdout",
     "output_type": "stream",
     "text": [
      "-13 / 4 = -3.25\n",
      "-13 // 4 = -4\n",
      "-13 % 4 = 3\n",
      "True\n"
     ]
    }
   ],
   "source": [
    "#Dělíme / zbytkujeme a dělíme beze zbytku a kontrolujeme rovnici\n",
    "a, b = -13, 4\n",
    "print(f\"{a} / {b} = {a/b}\")\n",
    "print(f\"{a} // {b} = {a//b}\")\n",
    "print(f\"{a} % {b} = {a%b}\")\n",
    "print( a == b * (a//b) + (a%b))"
   ]
  },
  {
   "cell_type": "markdown",
   "metadata": {},
   "source": [
    "Znovu potvrzení celé rovnice a teorie."
   ]
  },
  {
   "cell_type": "markdown",
   "metadata": {},
   "source": [
    "## Constructors and Bases - Teorie"
   ]
  },
  {
   "cell_type": "markdown",
   "metadata": {},
   "source": [
    "Integer je třída int. Int classa obsahuje dva parametry. a = int(10) máme 10, pokud zadáme int(10.9) ztratíme 0.9 a máme znovu pouze 10."
   ]
  },
  {
   "cell_type": "markdown",
   "metadata": {},
   "source": [
    "- int(True) => 1 a naopak, tzn Boolean jsou též integer\n",
    "- int(Decimal(\"10.9) --> a = 10\n",
    "- Můžeme zadávat i ve stringu a Python převede"
   ]
  },
  {
   "cell_type": "markdown",
   "metadata": {},
   "source": [
    "Druhý konstruktor Number Base"
   ]
  },
  {
   "cell_type": "markdown",
   "metadata": {},
   "source": [
    "- int(\"123\") -> Python pozná, že se nám jedná o 123 - BASE10\n",
    "- BASE parametr je mezi 2 až 36, jinak je defaultně 10\n",
    "- int(\"1010\", 2) - chceme BASE 2  :) a máme 10 o base 10 (8-0-2-0)\n",
    "- lepší zápis je int(\"1010\", base = 2) --> udávat base \n",
    "- int(\"A12F\", base = 16) -> 41263 v BASE10 - už začíná být zábava\n",
    "- pozn. base 16 není case sensitive\n",
    "- máme 10 čísel a 26 znaků --> proto base 36 naše maximum\n",
    "- jdeme od 0-9 a A - Z tzn. Base 2 = 0,1\n",
    "- BASE 10 = 0,1,2,3,4,5,6,7,8,9\n",
    "- BASE 11 => 0-9 a A :) "
   ]
  },
  {
   "cell_type": "markdown",
   "metadata": {},
   "source": [
    "Máme bult-in funkce pro získání procesu z BASE10 získat jiný base. "
   ]
  },
  {
   "cell_type": "markdown",
   "metadata": {},
   "source": [
    "- bin() - BASE2 binary --> bin(10) --> \"0b1010\" (0b-pouze pro označení)\n",
    "- oct() - BASE8 - prefix 0o\n",
    "- hex() - BASE16 - prefix 0x\n",
    "- Prefixy jsou zde abychom poznali o jaká base se jedná\n",
    "- a= 0b1010 --> díky prefixu ví že máme BASE10"
   ]
  },
  {
   "cell_type": "markdown",
   "metadata": {},
   "source": [
    "Co další BASES? Python sám o sobě ne, už je třeba Custom code pro tento účel."
   ]
  },
  {
   "cell_type": "markdown",
   "metadata": {},
   "source": [
    "Zkusíme náš custom code pro převod"
   ]
  },
  {
   "cell_type": "code",
   "execution_count": null,
   "metadata": {},
   "outputs": [],
   "source": [
    "# n = 232, b = 5 chceme zjistit jaké čísla musíme použít pro base5\n",
    "# doplníme do rovnice\n",
    "# (232 // 5) * 5 + 232 % 5 = 46 x 5  +2 = 46 * 5 + 2\n",
    "#Problém je že 46 se nevejde do base..takže rozbereme 46\n",
    "# 9 - 1 - 2 //9 příliš velké jdeme dále\n",
    "#  1 4 1 2\n",
    "# --------> Máme base5 pro 232 je 1412 (neřešit tento postupný koloběh)\n",
    "#v podstatě všechny čísla dokud nespadali do 5ky - jelo se podle vzroce stále dokola"
   ]
  },
  {
   "cell_type": "markdown",
   "metadata": {},
   "source": [
    "### Coding"
   ]
  },
  {
   "cell_type": "markdown",
   "metadata": {},
   "source": [
    "Je nutné vzít v potaz že pro každý base - budeme mít jinou mapu. 12 BASE má mapu 0-9 a A-C apod."
   ]
  },
  {
   "cell_type": "code",
   "execution_count": 45,
   "metadata": {},
   "outputs": [],
   "source": [
    "import fractions"
   ]
  },
  {
   "cell_type": "code",
   "execution_count": 46,
   "metadata": {},
   "outputs": [],
   "source": [
    "a = fractions.Fraction(22,7)"
   ]
  },
  {
   "cell_type": "code",
   "execution_count": 49,
   "metadata": {},
   "outputs": [
    {
     "data": {
      "text/plain": [
       "Fraction(22, 7)"
      ]
     },
     "execution_count": 49,
     "metadata": {},
     "output_type": "execute_result"
    }
   ],
   "source": [
    "a"
   ]
  },
  {
   "cell_type": "code",
   "execution_count": 50,
   "metadata": {},
   "outputs": [
    {
     "name": "stdout",
     "output_type": "stream",
     "text": [
      "22/7\n"
     ]
    }
   ],
   "source": [
    "print(a)"
   ]
  },
  {
   "cell_type": "code",
   "execution_count": 52,
   "metadata": {},
   "outputs": [
    {
     "data": {
      "text/plain": [
       "3.142857142857143"
      ]
     },
     "execution_count": 52,
     "metadata": {},
     "output_type": "execute_result"
    }
   ],
   "source": [
    "float(a)"
   ]
  },
  {
   "cell_type": "code",
   "execution_count": 53,
   "metadata": {},
   "outputs": [
    {
     "data": {
      "text/plain": [
       "3"
      ]
     },
     "execution_count": 53,
     "metadata": {},
     "output_type": "execute_result"
    }
   ],
   "source": [
    "int(a)"
   ]
  },
  {
   "cell_type": "code",
   "execution_count": 54,
   "metadata": {},
   "outputs": [
    {
     "data": {
      "text/plain": [
       "5"
      ]
     },
     "execution_count": 54,
     "metadata": {},
     "output_type": "execute_result"
    }
   ],
   "source": [
    "int(\"101\", base = 2)"
   ]
  },
  {
   "cell_type": "code",
   "execution_count": 56,
   "metadata": {},
   "outputs": [
    {
     "data": {
      "text/plain": [
       "255"
      ]
     },
     "execution_count": 56,
     "metadata": {},
     "output_type": "execute_result"
    }
   ],
   "source": [
    "int(\"FF\", base = 16)"
   ]
  },
  {
   "cell_type": "code",
   "execution_count": 57,
   "metadata": {},
   "outputs": [
    {
     "data": {
      "text/plain": [
       "255"
      ]
     },
     "execution_count": 57,
     "metadata": {},
     "output_type": "execute_result"
    }
   ],
   "source": [
    "int(\"ff\", base = 16)"
   ]
  },
  {
   "cell_type": "markdown",
   "metadata": {},
   "source": [
    "Opáčko prozatím."
   ]
  },
  {
   "cell_type": "code",
   "execution_count": 58,
   "metadata": {},
   "outputs": [
    {
     "ename": "ValueError",
     "evalue": "invalid literal for int() with base 11: 'B'",
     "output_type": "error",
     "traceback": [
      "\u001b[1;31m---------------------------------------------------------------------------\u001b[0m",
      "\u001b[1;31mValueError\u001b[0m                                Traceback (most recent call last)",
      "\u001b[1;32m<ipython-input-58-6c885ffb67f7>\u001b[0m in \u001b[0;36m<module>\u001b[1;34m\u001b[0m\n\u001b[1;32m----> 1\u001b[1;33m \u001b[0mint\u001b[0m\u001b[1;33m(\u001b[0m\u001b[1;34m\"B\"\u001b[0m\u001b[1;33m,\u001b[0m \u001b[0mbase\u001b[0m \u001b[1;33m=\u001b[0m \u001b[1;36m11\u001b[0m\u001b[1;33m)\u001b[0m\u001b[1;33m\u001b[0m\u001b[1;33m\u001b[0m\u001b[0m\n\u001b[0m",
      "\u001b[1;31mValueError\u001b[0m: invalid literal for int() with base 11: 'B'"
     ]
    }
   ],
   "source": [
    "int(\"B\", base = 11)\n",
    "#B v base 11 neexistuje"
   ]
  },
  {
   "cell_type": "code",
   "execution_count": 59,
   "metadata": {},
   "outputs": [
    {
     "data": {
      "text/plain": [
       "'0b1010'"
      ]
     },
     "execution_count": 59,
     "metadata": {},
     "output_type": "execute_result"
    }
   ],
   "source": [
    "bin(10) #číslo 10 v base = 2"
   ]
  },
  {
   "cell_type": "code",
   "execution_count": 60,
   "metadata": {},
   "outputs": [
    {
     "data": {
      "text/plain": [
       "'0o12'"
      ]
     },
     "execution_count": 60,
     "metadata": {},
     "output_type": "execute_result"
    }
   ],
   "source": [
    "oct(10) #číslo b base base = 8"
   ]
  },
  {
   "cell_type": "code",
   "execution_count": 61,
   "metadata": {},
   "outputs": [
    {
     "data": {
      "text/plain": [
       "'0xff'"
      ]
     },
     "execution_count": 61,
     "metadata": {},
     "output_type": "execute_result"
    }
   ],
   "source": [
    "hex(255) #číslo v base base = 16"
   ]
  },
  {
   "cell_type": "code",
   "execution_count": 63,
   "metadata": {},
   "outputs": [
    {
     "data": {
      "text/plain": [
       "5"
      ]
     },
     "execution_count": 63,
     "metadata": {},
     "output_type": "execute_result"
    }
   ],
   "source": [
    "b = 0b101 \n",
    "b"
   ]
  },
  {
   "cell_type": "markdown",
   "metadata": {},
   "source": [
    "Pokud používám prefix tak nemusím používat žádné spešl zápisy."
   ]
  },
  {
   "cell_type": "markdown",
   "metadata": {},
   "source": [
    "Nyní na náš custom changer"
   ]
  },
  {
   "cell_type": "code",
   "execution_count": 64,
   "metadata": {},
   "outputs": [],
   "source": [
    "def from_base10(n, b):\n",
    "    if b < 2:\n",
    "        raise ValueError(\"Base b must be >= 2\")\n",
    "    if n < 0:\n",
    "        raise ValueError(\"Number n must b >=0\")\n",
    "    if n == 0:\n",
    "        return [0]\n",
    "    digits = []\n",
    "    while n > 0:\n",
    "        #m = n % b\n",
    "        #n = n // n náhražka za divmod\n",
    "        n, m = divmod(n,b)\n",
    "        digits.insert(0,m)\n",
    "    return digits"
   ]
  },
  {
   "cell_type": "code",
   "execution_count": 65,
   "metadata": {},
   "outputs": [
    {
     "data": {
      "text/plain": [
       "[1, 0, 1, 0]"
      ]
     },
     "execution_count": 65,
     "metadata": {},
     "output_type": "execute_result"
    }
   ],
   "source": [
    "from_base10(10,2)\n",
    "#ona se točí dokola protože n se mění\n",
    "#tzn vezme n a jede dále\n",
    "#až dokud n nstane 0 tak končí"
   ]
  },
  {
   "cell_type": "code",
   "execution_count": 67,
   "metadata": {},
   "outputs": [
    {
     "data": {
      "text/plain": [
       "[15, 15]"
      ]
     },
     "execution_count": 67,
     "metadata": {},
     "output_type": "execute_result"
    }
   ],
   "source": [
    "from_base10(255,16) \n",
    "#všechno funknční "
   ]
  },
  {
   "cell_type": "markdown",
   "metadata": {},
   "source": [
    "Nyní musím encodovat znaky"
   ]
  },
  {
   "cell_type": "code",
   "execution_count": 68,
   "metadata": {},
   "outputs": [],
   "source": [
    "def encode(digits, digit_map):\n",
    "    if max(digits) >= len(digit_map):\n",
    "        raise ValueError(\"Digits map is not long enough to encode digits\")\n",
    "    encoding = \"\"\n",
    "    for d in digits:\n",
    "        encoding += digit_map[d]\n",
    "    #projedu digitmap a to co mám v digits a přiřadím podle toho\n",
    "    return encoding"
   ]
  },
  {
   "cell_type": "code",
   "execution_count": 69,
   "metadata": {},
   "outputs": [
    {
     "data": {
      "text/plain": [
       "'FF'"
      ]
     },
     "execution_count": 69,
     "metadata": {},
     "output_type": "execute_result"
    }
   ],
   "source": [
    "encode([15,15], \"0123456789ABCDEF\")"
   ]
  },
  {
   "cell_type": "code",
   "execution_count": 70,
   "metadata": {},
   "outputs": [],
   "source": [
    "def encode(digits, digit_map):\n",
    "    if max(digits) >= len(digit_map):\n",
    "        raise ValueError(\"Digits map is not long enough to encode digits\")\n",
    "    return \"\".join([digit_map[d] for d in digits])\n",
    "    #pomocí list comprehension \n",
    "    #tzn přidej d z digimapy pokud je v digits "
   ]
  },
  {
   "cell_type": "code",
   "execution_count": 71,
   "metadata": {},
   "outputs": [
    {
     "data": {
      "text/plain": [
       "'FF'"
      ]
     },
     "execution_count": 71,
     "metadata": {},
     "output_type": "execute_result"
    }
   ],
   "source": [
    "encode([15,15], \"0123456789ABCDEF\")"
   ]
  },
  {
   "cell_type": "markdown",
   "metadata": {},
   "source": [
    "Trochu snadnější a též funkční."
   ]
  },
  {
   "cell_type": "code",
   "execution_count": 74,
   "metadata": {},
   "outputs": [],
   "source": [
    "def rebase_from10(number, base):\n",
    "    digit_map = \"0123456789ABCDEFGHIJKLMNOPQRSTUVWXYZ\"\n",
    "    if base < 2 or base > 36:\n",
    "        raise ValueError(\"Invalid base:2 <=2 base <=36\")\n",
    "    sign = -1 if number < 0 else 1 #hledám záporná čísla\n",
    "    number *= sign #a změním číslo násobením -1 => na kladné\n",
    "    \n",
    "    digits = from_base10(number,base)\n",
    "    encoding = encode(digits, digit_map)\n",
    "    if sign == -1:\n",
    "        encoding = \"-\"+ encoding\n",
    "    return encoding\n",
    "#naše metoda je finální\n",
    "#sign používám pro změnu na kladné\n",
    "#dále používám obě funkce výše"
   ]
  },
  {
   "cell_type": "code",
   "execution_count": 76,
   "metadata": {},
   "outputs": [
    {
     "name": "stdout",
     "output_type": "stream",
     "text": [
      "1010\n",
      "10\n"
     ]
    }
   ],
   "source": [
    "e = rebase_from10(10,2)\n",
    "print(e) #na binary\n",
    "print(int(e, base = 2)) #a zpátky"
   ]
  },
  {
   "cell_type": "code",
   "execution_count": 77,
   "metadata": {},
   "outputs": [
    {
     "name": "stdout",
     "output_type": "stream",
     "text": [
      "-1010\n",
      "-10\n"
     ]
    }
   ],
   "source": [
    "e = rebase_from10(-10,2)\n",
    "print(e) #na binary\n",
    "print(int(e, base = 2)) #a zpátky"
   ]
  },
  {
   "cell_type": "markdown",
   "metadata": {},
   "source": [
    "Všechno je funkční a poměrně zřetelné. Menší únava takže bez delších komentářů."
   ]
  },
  {
   "cell_type": "markdown",
   "metadata": {},
   "source": [
    "## Rational Numbers"
   ]
  },
  {
   "cell_type": "markdown",
   "metadata": {},
   "source": [
    "1/2 , -22/7 apod. v podstatě zlomky. Každé číslo, které končí konečným číslem po tečce je považován za racionální číslo. Tzn. například i 0.123456789 je racionální, 8.3/4 - též."
   ]
  },
  {
   "cell_type": "markdown",
   "metadata": {},
   "source": [
    "Fraction classa"
   ]
  },
  {
   "cell_type": "markdown",
   "metadata": {},
   "source": [
    "- from fractions import Fraction\n",
    "- x = Fraction(3,4) - takto vytváříme frakce - jinak nevznikají\n",
    "- Frakce se automaticky zredukují pokud jej udáme špatně, tzn například 10/20 si přepíšem jako 1/2\n",
    "- Numerator musí mít -\n",
    "- Fraction(numerator=0, demoninator=1) - defaultné hodnmnoty\n",
    "- Můžeme tvořit frakce z floatu, decimali, stringu, jiné frakce\n",
    "- Fraction(\"10) - oprava na Fraction (10,1) default hodnoty\n",
    "- Fraction(\"0.125\") -> 1/8\n",
    "- Fracition(\"22/7\") -> Fraction(22,7)"
   ]
  },
  {
   "cell_type": "markdown",
   "metadata": {},
   "source": [
    "Aritmetické operace"
   ]
  },
  {
   "cell_type": "markdown",
   "metadata": {},
   "source": [
    "- +,-,*,/\n",
    "- Pozor na konce a na změnu \n",
    "- 2,3 * 1,2 = 1,3 vynásobil\n",
    "- 2,3 + 1,2 -> 7,6\n",
    "- Klasická matematika zlomků tedy\n",
    "- NUMERATOR - DENOMINATOR "
   ]
  },
  {
   "cell_type": "markdown",
   "metadata": {},
   "source": [
    "Každý float může být zapsán jako frakce. Fraction(0.75) ->(3,4) ..atd"
   ]
  },
  {
   "cell_type": "markdown",
   "metadata": {},
   "source": [
    "Fraction se snaží generovat i hodnoty pro iracionální čísla, ale jen odhady. "
   ]
  },
  {
   "cell_type": "markdown",
   "metadata": {},
   "source": [
    "1/8 má přesnou reorezentaci floatu - 0.125, ale 3/10 vyhodí divná čísla, pamět si neuloží správně a neudá přesnou hodnotu. Dodá 0.2999999888 a tudíž se nepropojí."
   ]
  },
  {
   "cell_type": "markdown",
   "metadata": {},
   "source": [
    "### Code part"
   ]
  },
  {
   "cell_type": "code",
   "execution_count": 80,
   "metadata": {},
   "outputs": [],
   "source": [
    "from fractions import Fraction"
   ]
  },
  {
   "cell_type": "code",
   "execution_count": 81,
   "metadata": {},
   "outputs": [
    {
     "data": {
      "text/plain": [
       "Fraction(1, 1)"
      ]
     },
     "execution_count": 81,
     "metadata": {},
     "output_type": "execute_result"
    }
   ],
   "source": [
    "Fraction(1)"
   ]
  },
  {
   "cell_type": "code",
   "execution_count": 82,
   "metadata": {},
   "outputs": [
    {
     "data": {
      "text/plain": [
       "Fraction(2, 1)"
      ]
     },
     "execution_count": 82,
     "metadata": {},
     "output_type": "execute_result"
    }
   ],
   "source": [
    "Fraction(2,1)"
   ]
  },
  {
   "cell_type": "code",
   "execution_count": 84,
   "metadata": {},
   "outputs": [
    {
     "data": {
      "text/plain": [
       "Fraction(1, 2)"
      ]
     },
     "execution_count": 84,
     "metadata": {},
     "output_type": "execute_result"
    }
   ],
   "source": [
    "Fraction(numerator=1, denominator=2)"
   ]
  },
  {
   "cell_type": "code",
   "execution_count": 85,
   "metadata": {},
   "outputs": [
    {
     "data": {
      "text/plain": [
       "Fraction(1, 8)"
      ]
     },
     "execution_count": 85,
     "metadata": {},
     "output_type": "execute_result"
    }
   ],
   "source": [
    "Fraction('0.125')"
   ]
  },
  {
   "cell_type": "code",
   "execution_count": 87,
   "metadata": {},
   "outputs": [],
   "source": [
    "x = Fraction('22/7')\n",
    "y = Fraction('22/7')"
   ]
  },
  {
   "cell_type": "code",
   "execution_count": 88,
   "metadata": {},
   "outputs": [
    {
     "data": {
      "text/plain": [
       "Fraction(44, 7)"
      ]
     },
     "execution_count": 88,
     "metadata": {},
     "output_type": "execute_result"
    }
   ],
   "source": [
    "x+y"
   ]
  },
  {
   "cell_type": "code",
   "execution_count": 89,
   "metadata": {},
   "outputs": [
    {
     "data": {
      "text/plain": [
       "Fraction(484, 49)"
      ]
     },
     "execution_count": 89,
     "metadata": {},
     "output_type": "execute_result"
    }
   ],
   "source": [
    "x*y"
   ]
  },
  {
   "cell_type": "markdown",
   "metadata": {},
   "source": [
    "Proste klasika, mame zakladni operace a tvorbu frakci - zlomku."
   ]
  },
  {
   "cell_type": "code",
   "execution_count": 91,
   "metadata": {},
   "outputs": [
    {
     "data": {
      "text/plain": [
       "(22, 7)"
      ]
     },
     "execution_count": 91,
     "metadata": {},
     "output_type": "execute_result"
    }
   ],
   "source": [
    "x.numerator, x.denominator #muzeme zavolat jednotlive casti"
   ]
  },
  {
   "cell_type": "code",
   "execution_count": 92,
   "metadata": {},
   "outputs": [
    {
     "data": {
      "text/plain": [
       "Fraction(884279719003555, 281474976710656)"
      ]
     },
     "execution_count": 92,
     "metadata": {},
     "output_type": "execute_result"
    }
   ],
   "source": [
    "import math\n",
    "x = Fraction(math.pi)\n",
    "x"
   ]
  },
  {
   "cell_type": "markdown",
   "metadata": {},
   "source": [
    "Tohle uz je pomerne otravna matematicka cast, asi netreba tolik hrotit prozatim."
   ]
  },
  {
   "cell_type": "code",
   "execution_count": 93,
   "metadata": {},
   "outputs": [
    {
     "name": "stdout",
     "output_type": "stream",
     "text": [
      "0.125\n"
     ]
    }
   ],
   "source": [
    "a = 0.125\n",
    "print(a)"
   ]
  },
  {
   "cell_type": "code",
   "execution_count": 94,
   "metadata": {},
   "outputs": [
    {
     "name": "stdout",
     "output_type": "stream",
     "text": [
      "0.3\n"
     ]
    }
   ],
   "source": [
    "b = 0.3\n",
    "print(b)"
   ]
  },
  {
   "cell_type": "code",
   "execution_count": 95,
   "metadata": {},
   "outputs": [
    {
     "data": {
      "text/plain": [
       "Fraction(1, 8)"
      ]
     },
     "execution_count": 95,
     "metadata": {},
     "output_type": "execute_result"
    }
   ],
   "source": [
    "Fraction(a)"
   ]
  },
  {
   "cell_type": "code",
   "execution_count": 96,
   "metadata": {},
   "outputs": [
    {
     "data": {
      "text/plain": [
       "Fraction(5404319552844595, 18014398509481984)"
      ]
     },
     "execution_count": 96,
     "metadata": {},
     "output_type": "execute_result"
    }
   ],
   "source": [
    "Fraction(b)"
   ]
  },
  {
   "cell_type": "markdown",
   "metadata": {},
   "source": [
    "O co zde jde? Neni schopny presne zobrazit cislo 0.3 ale ukazuje jako 0.00000xxx atd..a tudiz nam vyjde psycho zlomek."
   ]
  },
  {
   "cell_type": "code",
   "execution_count": 97,
   "metadata": {},
   "outputs": [
    {
     "data": {
      "text/plain": [
       "'0.1250000000000000000000000'"
      ]
     },
     "execution_count": 97,
     "metadata": {},
     "output_type": "execute_result"
    }
   ],
   "source": [
    "format(a, '0.25f') #takze zde je vse ok"
   ]
  },
  {
   "cell_type": "code",
   "execution_count": 99,
   "metadata": {},
   "outputs": [
    {
     "data": {
      "text/plain": [
       "'0.2999999999999999888977698'"
      ]
     },
     "execution_count": 99,
     "metadata": {},
     "output_type": "execute_result"
    }
   ],
   "source": [
    "format(b,'0.25f') #ale zde vidime ze nase cislo neni presne 0.3 a tudiz se zlomek napocita trochu vice "
   ]
  },
  {
   "cell_type": "code",
   "execution_count": 100,
   "metadata": {},
   "outputs": [
    {
     "data": {
      "text/plain": [
       "Fraction(3, 10)"
      ]
     },
     "execution_count": 100,
     "metadata": {},
     "output_type": "execute_result"
    }
   ],
   "source": [
    "x = Fraction(0.3)\n",
    "x.limit_denominator(10)"
   ]
  },
  {
   "cell_type": "code",
   "execution_count": 102,
   "metadata": {},
   "outputs": [
    {
     "data": {
      "text/plain": [
       "0.3"
      ]
     },
     "execution_count": 102,
     "metadata": {},
     "output_type": "execute_result"
    }
   ],
   "source": [
    "float(x)"
   ]
  },
  {
   "cell_type": "markdown",
   "metadata": {},
   "source": [
    "Pouze omezuji pocty. Tzn jake nejblizsi pi obdrzim pokud mohu max .10 mist"
   ]
  },
  {
   "cell_type": "markdown",
   "metadata": {},
   "source": [
    "## Float Internal Representations - teorie"
   ]
  },
  {
   "cell_type": "markdown",
   "metadata": {},
   "source": [
    "Defaultni hodnota pouzivana Pythonem pro realna cisla. CPython implementuje Float jako C Double - binary 64. Narozdil od integeru, ktery ma variabilni mnozstvi bytu podle potreby. Floats ma fixne 8 bytu a 64 bits + 16 bytes ve forme overhead."
   ]
  },
  {
   "cell_type": "markdown",
   "metadata": {},
   "source": [
    "- 1.5E -5 --> 1.5 x 10 na -5\n",
    "- sign ma 1 bit, exponent 11 bits [-1022,1023] rozmezi pro exponent\n",
    "- significant digits -> proste pocet cislic nic vic 1.2345, 1234.5 oboji ma 5 sd\n",
    "- exponent se nepocita jako significant digits"
   ]
  },
  {
   "cell_type": "markdown",
   "metadata": {},
   "source": [
    "Realna cisla muzeme zobrazit tedy v base 10 jako frakce, decimal apod..jinak neresim"
   ]
  },
  {
   "cell_type": "markdown",
   "metadata": {},
   "source": [
    "- v binary takto\n",
    "- 0.11 v base = 2 je 1x2 na -1 a 1x 2na -2 => 0.75 ..2 na -1 = 0.5 atd..\n",
    "- tzn. zaciname od 0.5 a jdeme dale po mensich\n",
    "- 0.1101 v base = 2 mame 0.8125 \n",
    "- rovnice netreba resit \n",
    "- mame urcita uskali napr pri snaze zapsat 0.1 binarne se dostaneme pouze na 0.0999755859375\n",
    "- Tady asi zacinaji problemy s nepresnymi cisly? Zajimave \n",
    "- Nejaka cisla maji konecnou hodnotu v base=10 decimal ale v binary nemaji ..\n",
    "- napriklad 0.75 v base 10 je 0.11 v binary => mame tak konecnou hodnotu a bude cislo presne\n",
    "- ale napriklad 0.1 v base10 ma nekonecnou hodnotu v binary 2 - takze mame pouze odhadovanou hodnotu"
   ]
  },
  {
   "cell_type": "markdown",
   "metadata": {},
   "source": [
    "### Code part"
   ]
  },
  {
   "cell_type": "code",
   "execution_count": 103,
   "metadata": {},
   "outputs": [],
   "source": [
    "# help(float) jasne"
   ]
  },
  {
   "cell_type": "code",
   "execution_count": 104,
   "metadata": {},
   "outputs": [
    {
     "data": {
      "text/plain": [
       "10.0"
      ]
     },
     "execution_count": 104,
     "metadata": {},
     "output_type": "execute_result"
    }
   ],
   "source": [
    "float(10)"
   ]
  },
  {
   "cell_type": "code",
   "execution_count": 105,
   "metadata": {},
   "outputs": [
    {
     "data": {
      "text/plain": [
       "10.4"
      ]
     },
     "execution_count": 105,
     "metadata": {},
     "output_type": "execute_result"
    }
   ],
   "source": [
    "float(10.4)"
   ]
  },
  {
   "cell_type": "code",
   "execution_count": 106,
   "metadata": {},
   "outputs": [
    {
     "data": {
      "text/plain": [
       "12.5"
      ]
     },
     "execution_count": 106,
     "metadata": {},
     "output_type": "execute_result"
    }
   ],
   "source": [
    "float('12.5')"
   ]
  },
  {
   "cell_type": "code",
   "execution_count": 109,
   "metadata": {},
   "outputs": [
    {
     "data": {
      "text/plain": [
       "22.7"
      ]
     },
     "execution_count": 109,
     "metadata": {},
     "output_type": "execute_result"
    }
   ],
   "source": [
    "from fractions import Fraction\n",
    "a = Fraction('22.7')\n",
    "float(a)"
   ]
  },
  {
   "cell_type": "code",
   "execution_count": 110,
   "metadata": {},
   "outputs": [
    {
     "name": "stdout",
     "output_type": "stream",
     "text": [
      "0.1\n"
     ]
    }
   ],
   "source": [
    "print(0.1)"
   ]
  },
  {
   "cell_type": "code",
   "execution_count": 112,
   "metadata": {},
   "outputs": [
    {
     "data": {
      "text/plain": [
       "'0.1000000000000000055511151'"
      ]
     },
     "execution_count": 112,
     "metadata": {},
     "output_type": "execute_result"
    }
   ],
   "source": [
    "format(0.1,'.25f') #pouze znovu ukazka teorie,ze neketera cisla nejsou presna"
   ]
  },
  {
   "cell_type": "code",
   "execution_count": 113,
   "metadata": {},
   "outputs": [
    {
     "data": {
      "text/plain": [
       "False"
      ]
     },
     "execution_count": 113,
     "metadata": {},
     "output_type": "execute_result"
    }
   ],
   "source": [
    "a = 0.1+0.1+0.1\n",
    "b = 0.3\n",
    "a == b"
   ]
  },
  {
   "cell_type": "markdown",
   "metadata": {},
   "source": [
    "Tohle je opravdu shitty ..nemaji presnou hodnotu."
   ]
  },
  {
   "cell_type": "markdown",
   "metadata": {},
   "source": [
    "### Floats Equality testing"
   ]
  },
  {
   "cell_type": "markdown",
   "metadata": {},
   "source": [
    "Vytvari bugy pokud si to neumime hlidat. V nitru jsou ulozeny jako binary a zde nemusi nastat vzdy shoda. "
   ]
  },
  {
   "cell_type": "markdown",
   "metadata": {},
   "source": [
    "- round(0.1,1) + round(0.1,1)+ round(0.1,1) == round(0.3,1) --> FALSE\n",
    "- round(0.1+0.1+0.1,5) == round(0.3,5) -> True\n",
    "- zaokrouhlovani ale neni reseni, neni to pruzne\n",
    "- Spravne reseni je dat odchylku tyn..pokud je jejich odchylka napriklad mensi nez 0.00005 tak je budeme povazovat za shodne. \n",
    "- Tez lze resit jako procentualni tolerance - vhodnejsi ale ta ma problemy s hodnotz blizko 0\n",
    "- idelani je pocitat obe hodnoty a pouzit tu vetsi toleranci pro nasi rovnost\n",
    "- math.isclose je jiz funkcni metoda pro tento ucel je ale nutne udavat absolutni hodnotu v parametru jinak budou problemy u hodnot blize 0\n",
    "- pro porovnani float cisel je tedy mnohem lepsi pouzivat math.isclose\n",
    "- a obecne pokud chci porovnanvat hodnoty je lepsi zvolit jiny format"
   ]
  },
  {
   "cell_type": "markdown",
   "metadata": {},
   "source": [
    "### Code part"
   ]
  },
  {
   "cell_type": "code",
   "execution_count": 115,
   "metadata": {},
   "outputs": [
    {
     "data": {
      "text/plain": [
       "False"
      ]
     },
     "execution_count": 115,
     "metadata": {},
     "output_type": "execute_result"
    }
   ],
   "source": [
    "x = 0.1+0.1+0.1\n",
    "y = 0.3\n",
    "x == y"
   ]
  },
  {
   "cell_type": "code",
   "execution_count": 116,
   "metadata": {},
   "outputs": [
    {
     "data": {
      "text/plain": [
       "'0.3000000000000000444089210'"
      ]
     },
     "execution_count": 116,
     "metadata": {},
     "output_type": "execute_result"
    }
   ],
   "source": [
    "format(x,\".25f\")"
   ]
  },
  {
   "cell_type": "code",
   "execution_count": 118,
   "metadata": {},
   "outputs": [
    {
     "data": {
      "text/plain": [
       "'0.2999999999999999888977698'"
      ]
     },
     "execution_count": 118,
     "metadata": {},
     "output_type": "execute_result"
    }
   ],
   "source": [
    "format(y,\".25f\")"
   ]
  },
  {
   "cell_type": "markdown",
   "metadata": {},
   "source": [
    "Nemame shodu, jasne."
   ]
  },
  {
   "cell_type": "code",
   "execution_count": 120,
   "metadata": {},
   "outputs": [
    {
     "data": {
      "text/plain": [
       "True"
      ]
     },
     "execution_count": 120,
     "metadata": {},
     "output_type": "execute_result"
    }
   ],
   "source": [
    "round(x,3) == round(y,3)\n",
    "#jasne zaokrouhlene uz jsou ok ale nevim od jakeho hodnoty jsou shodne"
   ]
  },
  {
   "cell_type": "code",
   "execution_count": 121,
   "metadata": {},
   "outputs": [
    {
     "data": {
      "text/plain": [
       "10000.0"
      ]
     },
     "execution_count": 121,
     "metadata": {},
     "output_type": "execute_result"
    }
   ],
   "source": [
    "x = 10000.01\n",
    "y = 10000.02\n",
    "x = 0.01\n",
    "y - 0.02\n",
    "#absolutni rozdil stejny ale relativni rozdil vyrazne odlisnz\n",
    "#proto je nutne brat v potaz absolutni i relativni vztah\n",
    "#a samozrejme zde je problem se zaokrouhlovanim muze dochazet ke zkresleni"
   ]
  },
  {
   "cell_type": "code",
   "execution_count": 123,
   "metadata": {},
   "outputs": [],
   "source": [
    "from math import isclose #nase trupr metoda pro ladeni float cisel"
   ]
  },
  {
   "cell_type": "code",
   "execution_count": 124,
   "metadata": {},
   "outputs": [],
   "source": [
    "x = 0.1+0.1+0.1\n",
    "y = 0.3"
   ]
  },
  {
   "cell_type": "code",
   "execution_count": 126,
   "metadata": {},
   "outputs": [
    {
     "data": {
      "text/plain": [
       "(True, False)"
      ]
     },
     "execution_count": 126,
     "metadata": {},
     "output_type": "execute_result"
    }
   ],
   "source": [
    "isclose(x,y), x==y #jasne metoda je zdatnejsi"
   ]
  },
  {
   "cell_type": "code",
   "execution_count": 129,
   "metadata": {},
   "outputs": [
    {
     "data": {
      "text/plain": [
       "True"
      ]
     },
     "execution_count": 129,
     "metadata": {},
     "output_type": "execute_result"
    }
   ],
   "source": [
    "x = 123456789.01\n",
    "y = 123456789.02\n",
    "isclose(x,y)"
   ]
  },
  {
   "cell_type": "code",
   "execution_count": null,
   "metadata": {},
   "outputs": [],
   "source": [
    "x = 0.01\n",
    "y = 0.01"
   ]
  },
  {
   "cell_type": "code",
   "execution_count": 130,
   "metadata": {},
   "outputs": [
    {
     "data": {
      "text/plain": [
       "True"
      ]
     },
     "execution_count": 130,
     "metadata": {},
     "output_type": "execute_result"
    }
   ],
   "source": [
    "isclose(x,y)"
   ]
  },
  {
   "cell_type": "markdown",
   "metadata": {},
   "source": [
    "Vidim ze druha moznost rozhodne nema shodu ale isclose i tak ukaze ze jsou shodne."
   ]
  },
  {
   "cell_type": "code",
   "execution_count": 132,
   "metadata": {},
   "outputs": [
    {
     "data": {
      "text/plain": [
       "True"
      ]
     },
     "execution_count": 132,
     "metadata": {},
     "output_type": "execute_result"
    }
   ],
   "source": [
    "isclose(x,y, rel_tol=0.01) #musim presneji definovat parametry"
   ]
  },
  {
   "cell_type": "code",
   "execution_count": 135,
   "metadata": {},
   "outputs": [
    {
     "data": {
      "text/plain": [
       "False"
      ]
     },
     "execution_count": 135,
     "metadata": {},
     "output_type": "execute_result"
    }
   ],
   "source": [
    "x = 0.000000001\n",
    "y = 0.000000002\n",
    "isclose(x,y, rel_tol=0.01)"
   ]
  },
  {
   "cell_type": "markdown",
   "metadata": {},
   "source": [
    "Mela by byt shoda, u malych cisel je nutna spise absolutni hodnoty jinak nastanou problemy."
   ]
  },
  {
   "cell_type": "code",
   "execution_count": 136,
   "metadata": {},
   "outputs": [
    {
     "data": {
      "text/plain": [
       "True"
      ]
     },
     "execution_count": 136,
     "metadata": {},
     "output_type": "execute_result"
    }
   ],
   "source": [
    "x = 0.000000001\n",
    "y = 0.000000002\n",
    "isclose(x,y, rel_tol=0.01, abs_tol=0.01)"
   ]
  },
  {
   "cell_type": "markdown",
   "metadata": {},
   "source": [
    "A ted je vse ok - takze kombinovat relativni i absolutni tolerance is way to go."
   ]
  },
  {
   "cell_type": "markdown",
   "metadata": {},
   "source": [
    "### Floats coercing to integer - teorie"
   ]
  },
  {
   "cell_type": "markdown",
   "metadata": {},
   "source": [
    "Pokud provádíme přeměnu z float hodnoty na integer. Máme stím spojené ztráty. Je otázka zda chcem \"zaokrouhlit\" hodnotu nahoru nebo dolu. Máme tedy truncation, floor, ceiling a rounding."
   ]
  },
  {
   "cell_type": "markdown",
   "metadata": {},
   "source": [
    "- truncation - trunc() - prostě vezme hodnotu před . -> jedno jaká hodnota, 10.4-10,10.8-10 atd.., u negativních funguje stejně\n",
    "- int funkce používá trun funkci pokud vytváří integer a zadáme mu float, tzn. můžu použít int místo trunc() funkce\n",
    "- floor je trochu zamotanějš, bere nejmenší číslo po x -> zde to bude odlišné od záporných hodnot\n",
    "- tzn. 10.4 - floor je 10 ale u -10.4 je floor 11\n",
    "- takže u pozitivních čísel je floor a truncation shodné u negativních hodnot je to odlišné\n",
    "- floor() funkce tez z knihovny math\n",
    "- Ceiling je opak floor, bere tedy nejmensi tzn. 10.4 - 11, -10.4 - -10"
   ]
  },
  {
   "cell_type": "markdown",
   "metadata": {},
   "source": [
    "### Coding part"
   ]
  },
  {
   "cell_type": "code",
   "execution_count": 146,
   "metadata": {},
   "outputs": [],
   "source": [
    "from math import trunc, floor, ceil"
   ]
  },
  {
   "cell_type": "code",
   "execution_count": 142,
   "metadata": {},
   "outputs": [
    {
     "data": {
      "text/plain": [
       "(10, 10, -10)"
      ]
     },
     "execution_count": 142,
     "metadata": {},
     "output_type": "execute_result"
    }
   ],
   "source": [
    "trunc(10.3), trunc(10.5), trunc(-10.8)\n",
    "# neni co resit "
   ]
  },
  {
   "cell_type": "code",
   "execution_count": 145,
   "metadata": {},
   "outputs": [
    {
     "data": {
      "text/plain": [
       "(10, 10, -11)"
      ]
     },
     "execution_count": 145,
     "metadata": {},
     "output_type": "execute_result"
    }
   ],
   "source": [
    "floor(10.3), floor(10.5), floor(-10.8)\n",
    "# zde je tedu rozdil u negativnich cisel"
   ]
  },
  {
   "cell_type": "code",
   "execution_count": null,
   "metadata": {},
   "outputs": [],
   "source": [
    "floor(10.3), floor(10.5), floor(-10.8)"
   ]
  },
  {
   "cell_type": "code",
   "execution_count": 147,
   "metadata": {},
   "outputs": [
    {
     "data": {
      "text/plain": [
       "(11, 11, -10)"
      ]
     },
     "execution_count": 147,
     "metadata": {},
     "output_type": "execute_result"
    }
   ],
   "source": [
    "ceil(10.3), ceil(10.5), ceil(-10.8)\n",
    "# a tady to mame obracene"
   ]
  },
  {
   "cell_type": "code",
   "execution_count": 149,
   "metadata": {},
   "outputs": [
    {
     "data": {
      "text/plain": [
       "10"
      ]
     },
     "execution_count": 149,
     "metadata": {},
     "output_type": "execute_result"
    }
   ],
   "source": [
    "int(10.8) #trunc netreba pouzivat"
   ]
  },
  {
   "cell_type": "markdown",
   "metadata": {},
   "source": [
    "### Floats Rounding teorie"
   ]
  },
  {
   "cell_type": "markdown",
   "metadata": {},
   "source": [
    "Round funkce round(x,n=0), n je v podstate na kolik chceme zaokrouhlit. round(x) -> prevedeme na int"
   ]
  },
  {
   "cell_type": "markdown",
   "metadata": {},
   "source": [
    "- round 1.3 -> round(x) = 1 a integer, 0.23 k hodnote 1 a 0.77 k hodnote 2\n",
    "- round 1.3 -> round(x,0) = 1.0 a vysledek float\n",
    "- round(x, n=1) -> zaokrouhlujeme na 10 na -1 tedy na 0.1 = 1.23 na desetiny 0.3 k 1.2 a 0.7 k 1.3 takze vysledek je 1.2\n",
    "- predtim bylo 10 na 0 -> 1 a tudiz zaokrouhleni na jednotky cele\n",
    "- round(x, n=-1) tak menim 10 na --1 takze 10 na 1 - zaokrouhliji na desitky --> pokud by bylo x 18.3 zaokrouhli na 20\n",
    "- x = 1,25 a chceme na desetinu pote mame 0.05 a 0.05 co pote? Zaokrouhluje pryc od nuly tzn na 1.3 ale u zaporu tez tzn -1.25 na -1.3\n",
    "- nicmene mame zde bankers rounding takze zaokrouhluje na suda - pokud ma lichou hodnotu zaokrouhli opacne tzn 1.25 na 1.2 a 1.35 na 1.4, 15 na 20, 25 na 20 \n",
    "- Bankovni rounding právě proto ze 5ka by se zaokrouhlila nahoru --> vetsi uroky apod..nejednotne\n",
    "- 0.5 1.5 2.5 --> 1.5 je prumer, 2 prumer pri klasickem zaokrouhleni, 1,33 prumer -> presnejsi 'lesss bias'\n",
    "- int(x +0.5) pridavani 0.5 aby dochazelo k zaokrouhlovani away from zero --> nefunguje u zapornych cisel ale mozne to je taktez\n",
    "- pokud chceme opravdu zaokrouhlit away from zero musime nejdrive provest absolutni hodnotu pro x - a pote navratit znak --> vykryjeme tak zaporne hodnoty, pouziva pro to funkci math.copysign"
   ]
  },
  {
   "cell_type": "markdown",
   "metadata": {},
   "source": [
    "### Coding part"
   ]
  },
  {
   "cell_type": "code",
   "execution_count": 150,
   "metadata": {},
   "outputs": [],
   "source": [
    "#round funkci neni treba importovat je defaultne v pythonu"
   ]
  },
  {
   "cell_type": "code",
   "execution_count": 152,
   "metadata": {},
   "outputs": [
    {
     "data": {
      "text/plain": [
       "(2, int)"
      ]
     },
     "execution_count": 152,
     "metadata": {},
     "output_type": "execute_result"
    }
   ],
   "source": [
    "a = round(1.9)\n",
    "a, type(a)\n",
    "#tzn pokud nezadame nic prehodine na integer "
   ]
  },
  {
   "cell_type": "code",
   "execution_count": 153,
   "metadata": {},
   "outputs": [
    {
     "data": {
      "text/plain": [
       "(2.0, float)"
      ]
     },
     "execution_count": 153,
     "metadata": {},
     "output_type": "execute_result"
    }
   ],
   "source": [
    "a = round(1.9,0)\n",
    "a, type(a)\n",
    "# jakmile zadam parametr pro n jiz prevede na floaut"
   ]
  },
  {
   "cell_type": "markdown",
   "metadata": {},
   "source": [
    "n > 0"
   ]
  },
  {
   "cell_type": "code",
   "execution_count": 154,
   "metadata": {},
   "outputs": [
    {
     "data": {
      "text/plain": [
       "(1.889, 1.89, 2.0)"
      ]
     },
     "execution_count": 154,
     "metadata": {},
     "output_type": "execute_result"
    }
   ],
   "source": [
    "round(1.8888,3), round(1.8888,2),round(1.8888,0)\n",
    "#jasna ukazka zaokrouhleni "
   ]
  },
  {
   "cell_type": "markdown",
   "metadata": {},
   "source": [
    "n < 0"
   ]
  },
  {
   "cell_type": "code",
   "execution_count": 156,
   "metadata": {},
   "outputs": [
    {
     "data": {
      "text/plain": [
       "(888.9, 889.0, 890.0, 900.0, 1000.0, 0.0)"
      ]
     },
     "execution_count": 156,
     "metadata": {},
     "output_type": "execute_result"
    }
   ],
   "source": [
    "round(888.88,1),round(888.88,0),round(888.88,-1),round(888.88,-2), round(888.88,-3), round(888.88,-4)\n",
    "#na desetiny, jednotky, desitky, stovky, tisice, desetitice -- ma to blize k 0 nez k 10 000"
   ]
  },
  {
   "cell_type": "markdown",
   "metadata": {},
   "source": [
    "Ties"
   ]
  },
  {
   "cell_type": "code",
   "execution_count": 158,
   "metadata": {},
   "outputs": [
    {
     "data": {
      "text/plain": [
       "(1.2, 1.4)"
      ]
     },
     "execution_count": 158,
     "metadata": {},
     "output_type": "execute_result"
    }
   ],
   "source": [
    "round(1.25,1), round(1.35,1) #bankovni zaokrouhlovani - k sudym cislum"
   ]
  },
  {
   "cell_type": "code",
   "execution_count": 159,
   "metadata": {},
   "outputs": [
    {
     "data": {
      "text/plain": [
       "(-1.2, -1.4)"
      ]
     },
     "execution_count": 159,
     "metadata": {},
     "output_type": "execute_result"
    }
   ],
   "source": [
    "round(-1.25,1), round(-1.35,1) #shodne i pro zaporne hodnoty"
   ]
  },
  {
   "cell_type": "markdown",
   "metadata": {},
   "source": [
    "Decimals maji vice technik pro zaokrouhleni u floatu se to musi dotvorit."
   ]
  },
  {
   "cell_type": "code",
   "execution_count": 161,
   "metadata": {},
   "outputs": [],
   "source": [
    "#musim si vytvorit spesl metodu pokud chci away from zero\n",
    "def _round(x):\n",
    "    from math import copysign\n",
    "    return int(x+0.5*copysign(1,x))\n",
    "    #v podstate vezme x da do absolutni hodnoty a prida znamenko"
   ]
  },
  {
   "cell_type": "code",
   "execution_count": 162,
   "metadata": {},
   "outputs": [
    {
     "data": {
      "text/plain": [
       "(2, 3)"
      ]
     },
     "execution_count": 162,
     "metadata": {},
     "output_type": "execute_result"
    }
   ],
   "source": [
    "round(2.5), _round(2.5)\n",
    "#vidime zde "
   ]
  },
  {
   "cell_type": "markdown",
   "metadata": {},
   "source": [
    "### Decimals teorie"
   ]
  },
  {
   "cell_type": "markdown",
   "metadata": {},
   "source": [
    "Řeseni pokud je nasim cilem vyhnout se odhadum a mit 'presna' cisla. Neresi se pres Fraction protoze je to narocnejsi na pamet i vykon. Napriklad v bankovnictvi je nutne mit vse presne jinak by se pri x transakci ve vysledku nascitali velike rozdily."
   ]
  },
  {
   "cell_type": "markdown",
   "metadata": {},
   "source": [
    "- mame pravidla pro zaokrouhlovani\n",
    "- dale muzeme specifikovat presnost pri aritmetickych operaci\n",
    "- defaultni nastaveni je globalni context ale muzu si nastavovat svuj localni context tzn. pravidla pro presnost a zaokrouhlovani\n",
    "- import decimal pro import, decimal.getcontext() nas defaultni\n",
    "- decimal.localcontext(ctx=None) --> dostaneme context manager\n",
    "- ctx.prec, ctx.rounding pro get a set - uvidime v kodu\n",
    "- mame zde vice hodnot ktere muzeme definovat a zmenit tak nastaveni napr ROUND_UP apod.\n",
    "- decimal.getcontext().rounding = decimal.ROUND_HALF_UP - napriklad takto\n",
    "- LOCAL uz je trochu narocnejsi uvidime v kodu - jede na with logice ..tzn context manageru"
   ]
  },
  {
   "cell_type": "markdown",
   "metadata": {},
   "source": [
    "### Coding Part"
   ]
  },
  {
   "cell_type": "code",
   "execution_count": 179,
   "metadata": {},
   "outputs": [],
   "source": [
    "import decimal\n",
    "from decimal import Decimal"
   ]
  },
  {
   "cell_type": "code",
   "execution_count": 180,
   "metadata": {},
   "outputs": [
    {
     "data": {
      "text/plain": [
       "Context(prec=28, rounding=ROUND_HALF_EVEN, Emin=-999999, Emax=999999, capitals=1, clamp=0, flags=[], traps=[InvalidOperation, DivisionByZero, Overflow])"
      ]
     },
     "execution_count": 180,
     "metadata": {},
     "output_type": "execute_result"
    }
   ],
   "source": [
    "decimal.getcontext()"
   ]
  },
  {
   "cell_type": "markdown",
   "metadata": {},
   "source": [
    "Nas globalni context tzn. tak jak to máme nastavené."
   ]
  },
  {
   "cell_type": "code",
   "execution_count": 181,
   "metadata": {},
   "outputs": [
    {
     "data": {
      "text/plain": [
       "'ROUND_HALF_EVEN'"
      ]
     },
     "execution_count": 181,
     "metadata": {},
     "output_type": "execute_result"
    }
   ],
   "source": [
    "decimal.getcontext().rounding\n",
    "#zjistujeme hodnotu zaokouhleni"
   ]
  },
  {
   "cell_type": "code",
   "execution_count": 190,
   "metadata": {},
   "outputs": [],
   "source": [
    "decimal.DefaultContext.prec = 6\n",
    "#nastavuji hodnotu pro global context"
   ]
  },
  {
   "cell_type": "code",
   "execution_count": 191,
   "metadata": {},
   "outputs": [],
   "source": [
    "q_ctx = decimal.getcontext()"
   ]
  },
  {
   "cell_type": "code",
   "execution_count": 192,
   "metadata": {},
   "outputs": [
    {
     "data": {
      "text/plain": [
       "decimal.Context"
      ]
     },
     "execution_count": 192,
     "metadata": {},
     "output_type": "execute_result"
    }
   ],
   "source": [
    "type(q_ctx)"
   ]
  },
  {
   "cell_type": "code",
   "execution_count": 188,
   "metadata": {},
   "outputs": [],
   "source": [
    "q_ctx.rounding = decimal.ROUND_HALF_UP\n",
    "decimal.DefaultContext.rounding = decimal.ROUND_HALF_UP"
   ]
  },
  {
   "cell_type": "code",
   "execution_count": 193,
   "metadata": {},
   "outputs": [
    {
     "data": {
      "text/plain": [
       "Context(prec=6, rounding=ROUND_HALF_UP, Emin=-999999, Emax=999999, capitals=1, clamp=0, flags=[], traps=[InvalidOperation, DivisionByZero, Overflow])"
      ]
     },
     "execution_count": 193,
     "metadata": {},
     "output_type": "execute_result"
    }
   ],
   "source": [
    "decimal.getcontext()"
   ]
  },
  {
   "cell_type": "markdown",
   "metadata": {},
   "source": [
    "DefaultContext musim dodavat abych provedl zmeny"
   ]
  },
  {
   "cell_type": "code",
   "execution_count": 196,
   "metadata": {},
   "outputs": [],
   "source": [
    "#pouze nastavim do zakladu\n",
    "decimal.DefaultContext.rounding = decimal.ROUND_HALF_EVEN\n",
    "decimal.DefaultContext.prec = 28"
   ]
  },
  {
   "cell_type": "code",
   "execution_count": 197,
   "metadata": {},
   "outputs": [
    {
     "data": {
      "text/plain": [
       "Context(prec=28, rounding=ROUND_HALF_EVEN, Emin=-999999, Emax=999999, capitals=1, clamp=0, flags=[], traps=[InvalidOperation, DivisionByZero, Overflow])"
      ]
     },
     "execution_count": 197,
     "metadata": {},
     "output_type": "execute_result"
    }
   ],
   "source": [
    "decimal.getcontext()"
   ]
  },
  {
   "cell_type": "code",
   "execution_count": 198,
   "metadata": {},
   "outputs": [
    {
     "data": {
      "text/plain": [
       "decimal.ContextManager"
      ]
     },
     "execution_count": 198,
     "metadata": {},
     "output_type": "execute_result"
    }
   ],
   "source": [
    "type(decimal.localcontext()) #takto pouze lokalni context\n",
    "#vraci managera global dodava context = musime ladit"
   ]
  },
  {
   "cell_type": "code",
   "execution_count": 201,
   "metadata": {},
   "outputs": [
    {
     "data": {
      "text/plain": [
       "decimal.Context"
      ]
     },
     "execution_count": 201,
     "metadata": {},
     "output_type": "execute_result"
    }
   ],
   "source": [
    "type(decimal.getcontext()) #zde vidime rozdil"
   ]
  },
  {
   "cell_type": "markdown",
   "metadata": {},
   "source": [
    "Tzn lokalni musime resit trochu jinak"
   ]
  },
  {
   "cell_type": "code",
   "execution_count": 202,
   "metadata": {},
   "outputs": [
    {
     "name": "stdout",
     "output_type": "stream",
     "text": [
      "<class 'decimal.Context'>\n",
      "Context(prec=28, rounding=ROUND_HALF_EVEN, Emin=-999999, Emax=999999, capitals=1, clamp=0, flags=[], traps=[InvalidOperation, DivisionByZero, Overflow])\n"
     ]
    }
   ],
   "source": [
    "with decimal.localcontext() as ctx:\n",
    "    print(type(ctx))\n",
    "    print(ctx)\n",
    "# takhle se do contextu dostanu"
   ]
  },
  {
   "cell_type": "code",
   "execution_count": 205,
   "metadata": {},
   "outputs": [],
   "source": [
    "x = Decimal('1.25')\n",
    "y = Decimal ('1.35')"
   ]
  },
  {
   "cell_type": "code",
   "execution_count": 206,
   "metadata": {},
   "outputs": [
    {
     "name": "stdout",
     "output_type": "stream",
     "text": [
      "Context(prec=6, rounding=ROUND_HALF_UP, Emin=-999999, Emax=999999, capitals=1, clamp=0, flags=[], traps=[InvalidOperation, DivisionByZero, Overflow])\n",
      "Context(prec=6, rounding=ROUND_HALF_UP, Emin=-999999, Emax=999999, capitals=1, clamp=0, flags=[], traps=[InvalidOperation, DivisionByZero, Overflow])\n",
      "1.3\n",
      "1.4\n",
      "1.2\n",
      "1.4\n"
     ]
    }
   ],
   "source": [
    "with decimal.localcontext() as ctx:\n",
    "    ctx.prec = 6\n",
    "    ctx.rounding = decimal.ROUND_HALF_UP\n",
    "    print(ctx)\n",
    "    print(decimal.getcontext())\n",
    "    print(round(x,1))\n",
    "    print(round(y,1))\n",
    "print(round(x,1))\n",
    "print(round(y,1))"
   ]
  },
  {
   "cell_type": "markdown",
   "metadata": {},
   "source": [
    "Takze takto to jsme schopni menit. Uvnitr with codu definujeme lokalni context. Funkce getcontext vraci context v kterym je, tzn. ve with bloku navraci lokalni context."
   ]
  },
  {
   "cell_type": "markdown",
   "metadata": {},
   "source": [
    "Dale vidim zaokrouhleni na urovni v contextu a global contextu. Tzn uvnitr zaokrouhlujeme nahoru a pote podle banking na even."
   ]
  },
  {
   "cell_type": "markdown",
   "metadata": {},
   "source": [
    "### Constructors and Context teorie"
   ]
  },
  {
   "cell_type": "markdown",
   "metadata": {},
   "source": [
    "Nase classa decimal tzn Decimal(x) muzeme zapsat vice zpusoby jako integer -- Decimal(10), string '0.1', tuples ale to je trochu zamotane. Floats radeji nepouzivat v podstate to zaeviduje s jejich nepresnosti."
   ]
  },
  {
   "cell_type": "markdown",
   "metadata": {},
   "source": [
    "- TUPLE CONSTRUCTOR\n",
    "- 1.23 zapiseme jako +123 x 10 na -2\n",
    "- -1.23  jako -123 x 10 na -2\n",
    "- znamenko - cislice - exponent\n",
    "- takze v tuplu se decimal zapisuje jako (sign(c1,c2...),exponent)\n",
    "- stim ze s je 0 pokud mame kladne cislo\n",
    "- s davame jako 1 pokud mame zaporne cislo\n",
    "- -3.1415 zapiseme v tuple jako (1,(3,1,4,1,5),-4)\n",
    "- exponent abychom posunuli carku v podstate o 4"
   ]
  },
  {
   "cell_type": "markdown",
   "metadata": {},
   "source": [
    "Presnost constructu ovlivnuje matematicke operace ale construktor samotny neovlivnuje. "
   ]
  },
  {
   "cell_type": "markdown",
   "metadata": {},
   "source": [
    "- a = Decimal('0.12345'), b = Decimal('0.12345')\n",
    "- DO KONTEXTU OBOJI ULOZI TAKTO S PRESNOSTI 5\n",
    "- c = a+b => 0.25 ALE PRI VYPOCTU PRESNOST RESI"
   ]
  },
  {
   "cell_type": "markdown",
   "metadata": {},
   "source": [
    "### Coding part"
   ]
  },
  {
   "cell_type": "code",
   "execution_count": 207,
   "metadata": {},
   "outputs": [],
   "source": [
    "import decimal\n",
    "from decimal import Decimal"
   ]
  },
  {
   "cell_type": "code",
   "execution_count": 210,
   "metadata": {},
   "outputs": [
    {
     "data": {
      "text/plain": [
       "(Decimal('10'), Decimal('10.1'))"
      ]
     },
     "execution_count": 210,
     "metadata": {},
     "output_type": "execute_result"
    }
   ],
   "source": [
    "Decimal(10), Decimal('10.1') #integer a string zapis"
   ]
  },
  {
   "cell_type": "code",
   "execution_count": 220,
   "metadata": {},
   "outputs": [
    {
     "data": {
      "text/plain": [
       "Decimal('3.1415')"
      ]
     },
     "execution_count": 220,
     "metadata": {},
     "output_type": "execute_result"
    }
   ],
   "source": [
    "t = (0, (3,1,4,1,5), -4) #nejdriv musim takto\n",
    "Decimal(t)\n",
    "Decimal((0, (3,1,4,1,5), -4))\n",
    "# pokud chci zapsat musim dalsi zavorky jinak netvorim tuple"
   ]
  },
  {
   "cell_type": "code",
   "execution_count": 221,
   "metadata": {},
   "outputs": [
    {
     "data": {
      "text/plain": [
       "Decimal('-3.1415')"
      ]
     },
     "execution_count": 221,
     "metadata": {},
     "output_type": "execute_result"
    }
   ],
   "source": [
    "Decimal((1, (3,1,4,1,5), -4))#1ka pro zapornou hodnotu"
   ]
  },
  {
   "cell_type": "code",
   "execution_count": 222,
   "metadata": {},
   "outputs": [
    {
     "data": {
      "text/plain": [
       "'0.1000000000000000055511151'"
      ]
     },
     "execution_count": 222,
     "metadata": {},
     "output_type": "execute_result"
    }
   ],
   "source": [
    "format(0.1, '.25f')"
   ]
  },
  {
   "cell_type": "code",
   "execution_count": 223,
   "metadata": {},
   "outputs": [
    {
     "data": {
      "text/plain": [
       "Decimal('0.1000000000000000055511151231257827021181583404541015625')"
      ]
     },
     "execution_count": 223,
     "metadata": {},
     "output_type": "execute_result"
    }
   ],
   "source": [
    "Decimal(0.1) #nepouzivat float jako parametr pro Decimal"
   ]
  },
  {
   "cell_type": "code",
   "execution_count": 224,
   "metadata": {},
   "outputs": [
    {
     "data": {
      "text/plain": [
       "False"
      ]
     },
     "execution_count": 224,
     "metadata": {},
     "output_type": "execute_result"
    }
   ],
   "source": [
    "Decimal(0.1) == Decimal('0.1') #strig je ale funkcni"
   ]
  },
  {
   "cell_type": "code",
   "execution_count": 225,
   "metadata": {},
   "outputs": [
    {
     "data": {
      "text/plain": [
       "Context(prec=28, rounding=ROUND_HALF_EVEN, Emin=-999999, Emax=999999, capitals=1, clamp=0, flags=[], traps=[InvalidOperation, DivisionByZero, Overflow])"
      ]
     },
     "execution_count": 225,
     "metadata": {},
     "output_type": "execute_result"
    }
   ],
   "source": [
    "decimal.getcontext()"
   ]
  },
  {
   "cell_type": "code",
   "execution_count": 228,
   "metadata": {},
   "outputs": [],
   "source": [
    "decimal.DefaultContext.prec = 6\n",
    "# nastavim presnost kontextu "
   ]
  },
  {
   "cell_type": "code",
   "execution_count": 229,
   "metadata": {},
   "outputs": [],
   "source": [
    "a = Decimal('0.123456789')"
   ]
  },
  {
   "cell_type": "code",
   "execution_count": 230,
   "metadata": {},
   "outputs": [
    {
     "data": {
      "text/plain": [
       "Decimal('0.123456789')"
      ]
     },
     "execution_count": 230,
     "metadata": {},
     "output_type": "execute_result"
    }
   ],
   "source": [
    "a #ale i pres prenost 6 to vidi spravne"
   ]
  },
  {
   "cell_type": "code",
   "execution_count": 232,
   "metadata": {},
   "outputs": [
    {
     "name": "stdout",
     "output_type": "stream",
     "text": [
      "0.12345 0.12345 0.25\n"
     ]
    }
   ],
   "source": [
    "decimal.DefaultContext.prec = 2\n",
    "a = Decimal('0.12345')\n",
    "b = Decimal('0.12345')\n",
    "c = a+b\n",
    "print(a,b,c)\n",
    "#Ale zde vidime ze pro vypocty se presnost meni\n",
    "# tzn secte a zaokrouhli "
   ]
  },
  {
   "cell_type": "code",
   "execution_count": 235,
   "metadata": {},
   "outputs": [
    {
     "name": "stdout",
     "output_type": "stream",
     "text": [
      "0.24690\n",
      "0.25 with local context\n",
      "0.25 with global context\n"
     ]
    }
   ],
   "source": [
    "decimal.DefaultContext.prec = 6\n",
    "a = Decimal('0.12345')\n",
    "b = Decimal('0.12345')\n",
    "print(a+b)\n",
    "with decimal.localcontext() as ctx:\n",
    "    ctx.prec =2\n",
    "    c = a + b\n",
    "    print(f'{c} with local context')\n",
    "print(f'{c} with global context')"
   ]
  },
  {
   "cell_type": "markdown",
   "metadata": {},
   "source": [
    "Nejdrive jsme pocitali s presnosti 6 a tudiz mame 0.24690 ale pote doslo k prechodu na presnost 2. Pokud to ale znovu neprepisi stale si pamatuje hodnotz z local contextu."
   ]
  },
  {
   "cell_type": "markdown",
   "metadata": {},
   "source": [
    "### Decimal Math operations teorie"
   ]
  },
  {
   "cell_type": "markdown",
   "metadata": {},
   "source": [
    "Nektere operace se chovaji odlisne od floatu. Zejmena div a mod tzn // a %."
   ]
  },
  {
   "cell_type": "markdown",
   "metadata": {},
   "source": [
    " - a // b = floor(a/b) pro integers ale pro decimal trunc(a/b)\n",
    " - 10// 3 = 3, pro decimal vysledek 3\n",
    " - 10 // 3 = -4 ale pro decimal vysledek -3 \n",
    " - tzn. to mame trochu mindfuck ale dejme tomu\n",
    " - 10 // 3 => 10 - 3 = 7, 7 - 3 = 4, 4 -3 = 1 STOP vysledek je mensi nez delitel a odecitali jsme 3x proto 3\n",
    " - -10 // 3 => mame minus odebereme negativni znamenko a potom jej vratime --> 3x a jsme na -3\n",
    " - je to stejna operace jako trunc metoda\n",
    " - Nase rovnice je stale stejna a stale se rovna\n",
    " - -135 // 4 pro integer -34 a pro decimal -33 takze zbytek je 1 a -3 => rozdilny zbytek ale rovnice shodna\n",
    " - math modul muzeme pouzivat na decimals ale zmeni si decimals na float a tim ztraci smysl je vubec pouzivat - lepsi se math modulu vyhnout"
   ]
  },
  {
   "cell_type": "markdown",
   "metadata": {},
   "source": [
    "### Coding part"
   ]
  },
  {
   "cell_type": "code",
   "execution_count": 236,
   "metadata": {},
   "outputs": [],
   "source": [
    "import decimal\n",
    "from decimal import Decimal"
   ]
  },
  {
   "cell_type": "markdown",
   "metadata": {},
   "source": [
    "// and %"
   ]
  },
  {
   "cell_type": "markdown",
   "metadata": {},
   "source": [
    "n = d*(n//d) + (n%d)"
   ]
  },
  {
   "cell_type": "code",
   "execution_count": 238,
   "metadata": {},
   "outputs": [
    {
     "name": "stdout",
     "output_type": "stream",
     "text": [
      "3 1\n"
     ]
    }
   ],
   "source": [
    "x, y = 10, 3 \n",
    "print(x//y, x%y)\n",
    "# delime inetger mame 3x a zbytek mame 1\n",
    "# deleni inetegeru je 3 protoze nema logicky .."
   ]
  },
  {
   "cell_type": "code",
   "execution_count": 239,
   "metadata": {},
   "outputs": [
    {
     "name": "stdout",
     "output_type": "stream",
     "text": [
      "3 1\n"
     ]
    }
   ],
   "source": [
    "x, y = Decimal(10), Decimal(3)\n",
    "print(x//y, x%y)\n",
    "#s decimal mame stejne hodnoty - mame +"
   ]
  },
  {
   "cell_type": "code",
   "execution_count": 243,
   "metadata": {},
   "outputs": [
    {
     "name": "stdout",
     "output_type": "stream",
     "text": [
      "-4 2\n"
     ]
    }
   ],
   "source": [
    "x, y = -10, 3 \n",
    "print(x//y, x%y)\n",
    "# 3*-4 je -12 + 2 je -10"
   ]
  },
  {
   "cell_type": "code",
   "execution_count": 244,
   "metadata": {},
   "outputs": [
    {
     "name": "stdout",
     "output_type": "stream",
     "text": [
      "-3 -1\n"
     ]
    }
   ],
   "source": [
    "x, y = Decimal(-10), Decimal(3)\n",
    "print(x//y, x%y)\n",
    "# 3* -3 a  -1 je tez -10"
   ]
  },
  {
   "cell_type": "markdown",
   "metadata": {},
   "source": [
    "V podstate jen ukazka nasi teorie jen na prikladech. Spise potrebuji vedet neco ve stylu - aha bacha na to. Ale umet to pravdepodobne nemusim momentalne umet :)"
   ]
  },
  {
   "cell_type": "code",
   "execution_count": 253,
   "metadata": {},
   "outputs": [
    {
     "name": "stdout",
     "output_type": "stream",
     "text": [
      "-2.302585092994045684017991455\n",
      "1.105170918075647624811707826\n",
      "0.3162277660168379331998893544\n"
     ]
    },
    {
     "data": {
      "text/plain": [
       "(None, None, None)"
      ]
     },
     "execution_count": 253,
     "metadata": {},
     "output_type": "execute_result"
    }
   ],
   "source": [
    "decimal.DefaultContext.prec = 28\n",
    "a = Decimal('0.1')\n",
    "print(a.ln()), print(a.exp()), print(a.sqrt())\n",
    "#tohle jsou nase operace v ramci decimal classy"
   ]
  },
  {
   "cell_type": "code",
   "execution_count": 249,
   "metadata": {},
   "outputs": [],
   "source": [
    "import math"
   ]
  },
  {
   "cell_type": "code",
   "execution_count": 255,
   "metadata": {},
   "outputs": [
    {
     "data": {
      "text/plain": [
       "0.31622776601683794"
      ]
     },
     "execution_count": 255,
     "metadata": {},
     "output_type": "execute_result"
    }
   ],
   "source": [
    "math.sqrt(a)\n",
    "#0.3162277660168379331998893544\n",
    "#0.31622776601683794\n",
    "#jina presnost takze mame mensi rozdily protoze math modul prehodi moji hodnotu na floats"
   ]
  },
  {
   "cell_type": "code",
   "execution_count": 256,
   "metadata": {},
   "outputs": [],
   "source": [
    "x = 2\n",
    "x_dec = Decimal(2)"
   ]
  },
  {
   "cell_type": "code",
   "execution_count": 259,
   "metadata": {},
   "outputs": [],
   "source": [
    "root_float = math.sqrt(x)\n",
    "root_mixed = math.sqrt(x_dec)\n",
    "root_dec = x_dec.sqrt()"
   ]
  },
  {
   "cell_type": "code",
   "execution_count": 264,
   "metadata": {},
   "outputs": [
    {
     "name": "stdout",
     "output_type": "stream",
     "text": [
      "1.414213562373095145474621859\n",
      "1.414213562373095145474621859\n",
      "1.414213562373095048801688724\n"
     ]
    }
   ],
   "source": [
    "print(format(root_float, '1.27f'))\n",
    "print(format(root_mixed, '1.27f'))\n",
    "print(root_dec)\n",
    "## zajimave odlisnost math od opaku"
   ]
  },
  {
   "cell_type": "code",
   "execution_count": 265,
   "metadata": {},
   "outputs": [
    {
     "name": "stdout",
     "output_type": "stream",
     "text": [
      "2.000000000000000444089209850\n",
      "2.000000000000000444089209850\n",
      "1.999999999999999999999999999\n"
     ]
    }
   ],
   "source": [
    "print(format(root_float*root_float, '1.27f'))\n",
    "print(format(root_mixed*root_mixed, '1.27f'))\n",
    "print(root_dec*root_dec)\n",
    "#prvni a druhy ma shodne vysledkz protoze ikdyz mame decimal a float\n",
    "# math knihovna pouzije decimal jako float takze to mame shodne\n",
    "#ale co je pekne nase decimal operace je mnohem zdatnejsi ==> vetsi presnost"
   ]
  },
  {
   "cell_type": "code",
   "execution_count": 268,
   "metadata": {},
   "outputs": [
    {
     "name": "stdout",
     "output_type": "stream",
     "text": [
      "0.01\n",
      "0.01000000000000000020816681711721685132943093776702880859375\n"
     ]
    }
   ],
   "source": [
    "x_dec_not_floated = Decimal('0.01')\n",
    "x_dec_floated = Decimal(0.01)\n",
    "print(x_dec_not_floated)\n",
    "print(x_dec_floated)\n",
    "#Tady to vidime tak trochu presne jak nam to zfusuje na float"
   ]
  },
  {
   "cell_type": "markdown",
   "metadata": {},
   "source": [
    "### Decimals Performance Considerations"
   ]
  },
  {
   "cell_type": "markdown",
   "metadata": {},
   "source": [
    "- obecne je to pracnejsi, vytvareni Decimal neni tak snadne jako float\n",
    "- chybi nektere funkce co jsou v math modulu zejmena triginometricke funkce\n",
    "- je zde vetsi memory overhead\n",
    "- jsou pomalejsi 'relativne' oproti floats\n",
    "- pokud presnost neni dulezita neni treba pouzit decimals"
   ]
  },
  {
   "cell_type": "code",
   "execution_count": 270,
   "metadata": {},
   "outputs": [],
   "source": [
    "from decimal import Decimal\n",
    "import sys"
   ]
  },
  {
   "cell_type": "code",
   "execution_count": 271,
   "metadata": {},
   "outputs": [],
   "source": [
    "a = 3.1415\n",
    "b = Decimal('3.1415')"
   ]
  },
  {
   "cell_type": "code",
   "execution_count": 272,
   "metadata": {},
   "outputs": [
    {
     "data": {
      "text/plain": [
       "24"
      ]
     },
     "execution_count": 272,
     "metadata": {},
     "output_type": "execute_result"
    }
   ],
   "source": [
    "sys.getsizeof(a)"
   ]
  },
  {
   "cell_type": "code",
   "execution_count": 274,
   "metadata": {},
   "outputs": [
    {
     "data": {
      "text/plain": [
       "104"
      ]
     },
     "execution_count": 274,
     "metadata": {},
     "output_type": "execute_result"
    }
   ],
   "source": [
    "sys.getsizeof(b)\n",
    "#vice nez 4x vetsi pamatova narocnost"
   ]
  },
  {
   "cell_type": "code",
   "execution_count": 276,
   "metadata": {},
   "outputs": [],
   "source": [
    "import time"
   ]
  },
  {
   "cell_type": "markdown",
   "metadata": {},
   "source": [
    "Dame si mensi benchmark"
   ]
  },
  {
   "cell_type": "code",
   "execution_count": 290,
   "metadata": {},
   "outputs": [],
   "source": [
    "def run_float(n=1):\n",
    "    for i in range(n):\n",
    "        a = 3.1415\n",
    "        \n",
    "def run_decimal(n=1):\n",
    "    for i in range(n):\n",
    "        a = Decimal('3.1415')\n",
    "#pouze benchamrk skippnu nechce mi to pocitat ma to problemy se smickou "
   ]
  },
  {
   "cell_type": "markdown",
   "metadata": {},
   "source": [
    "Vysledek je jasne. Decimals pouzivaji vice pameti a vice vykonu a to opravdu o kotel. Prenost si zada svou obet."
   ]
  },
  {
   "cell_type": "markdown",
   "metadata": {},
   "source": [
    "### Complex Numbers teorie a coding"
   ]
  },
  {
   "cell_type": "markdown",
   "metadata": {},
   "source": [
    "Tuhle část můžu opravdu přeskočit. Až moc specifické."
   ]
  },
  {
   "cell_type": "markdown",
   "metadata": {},
   "source": [
    "### Boolenas teorie"
   ]
  },
  {
   "cell_type": "markdown",
   "metadata": {},
   "source": [
    "Bool classa je subcalssa int classy a přidává pár dalších navíc jako and, or apod."
   ]
  },
  {
   "cell_type": "code",
   "execution_count": 291,
   "metadata": {},
   "outputs": [
    {
     "data": {
      "text/plain": [
       "True"
      ]
     },
     "execution_count": 291,
     "metadata": {},
     "output_type": "execute_result"
    }
   ],
   "source": [
    "issubclass(bool,int) #test shodz"
   ]
  },
  {
   "cell_type": "code",
   "execution_count": 294,
   "metadata": {},
   "outputs": [
    {
     "data": {
      "text/plain": [
       "(True, True, True)"
      ]
     },
     "execution_count": 294,
     "metadata": {},
     "output_type": "execute_result"
    }
   ],
   "source": [
    "isinstance(True, bool), isinstance(False, bool), isinstance(True, int)"
   ]
  },
  {
   "cell_type": "markdown",
   "metadata": {},
   "source": [
    "True a False je v podsta jen nalepka pro integer 1 a 0 s extra funkcionalitou."
   ]
  },
  {
   "cell_type": "markdown",
   "metadata": {},
   "source": [
    "Jelikoy true a false ma jen 1 a 0 maji porad stejnou hodnotu. Tzn. is a == jsou v tomto pripade shodne protoze hodnoty ani reference se nemeni."
   ]
  },
  {
   "cell_type": "code",
   "execution_count": 295,
   "metadata": {},
   "outputs": [
    {
     "data": {
      "text/plain": [
       "(1, 0)"
      ]
     },
     "execution_count": 295,
     "metadata": {},
     "output_type": "execute_result"
    }
   ],
   "source": [
    "int(True), int(False)"
   ]
  },
  {
   "cell_type": "markdown",
   "metadata": {},
   "source": [
    "True a 1 a False a 0 NEJSOU stejne objek. Tzn maji jine ID adress. "
   ]
  },
  {
   "cell_type": "code",
   "execution_count": 299,
   "metadata": {},
   "outputs": [
    {
     "name": "stderr",
     "output_type": "stream",
     "text": [
      "<>:1: SyntaxWarning: \"is\" with a literal. Did you mean \"==\"?\n",
      "<>:1: SyntaxWarning: \"is\" with a literal. Did you mean \"==\"?\n",
      "<>:1: SyntaxWarning: \"is\" with a literal. Did you mean \"==\"?\n",
      "<>:1: SyntaxWarning: \"is\" with a literal. Did you mean \"==\"?\n",
      "<ipython-input-299-be3389b51640>:1: SyntaxWarning: \"is\" with a literal. Did you mean \"==\"?\n",
      "  True == 1, True is 1, False is 0, False == 0\n",
      "<ipython-input-299-be3389b51640>:1: SyntaxWarning: \"is\" with a literal. Did you mean \"==\"?\n",
      "  True == 1, True is 1, False is 0, False == 0\n"
     ]
    },
    {
     "data": {
      "text/plain": [
       "(True, False, False, True)"
      ]
     },
     "execution_count": 299,
     "metadata": {},
     "output_type": "execute_result"
    }
   ],
   "source": [
    "True == 1, True is 1, False is 0, False == 0"
   ]
  },
  {
   "cell_type": "code",
   "execution_count": 300,
   "metadata": {},
   "outputs": [
    {
     "data": {
      "text/plain": [
       "True"
      ]
     },
     "execution_count": 300,
     "metadata": {},
     "output_type": "execute_result"
    }
   ],
   "source": [
    "True > False # trocha zabavz, "
   ]
  },
  {
   "cell_type": "code",
   "execution_count": 303,
   "metadata": {},
   "outputs": [
    {
     "data": {
      "text/plain": [
       "(True, True)"
      ]
     },
     "execution_count": 303,
     "metadata": {},
     "output_type": "execute_result"
    }
   ],
   "source": [
    "(1 == 2) == False, (1 == 2) == 0\n",
    "# prvni cats vyhodnoti jako False a False rovna se False takze True"
   ]
  },
  {
   "cell_type": "code",
   "execution_count": 304,
   "metadata": {},
   "outputs": [
    {
     "data": {
      "text/plain": [
       "3"
      ]
     },
     "execution_count": 304,
     "metadata": {},
     "output_type": "execute_result"
    }
   ],
   "source": [
    "True + True + True #opravdu hodne zabavne "
   ]
  },
  {
   "cell_type": "code",
   "execution_count": 305,
   "metadata": {},
   "outputs": [
    {
     "data": {
      "text/plain": [
       "-1"
      ]
     },
     "execution_count": 305,
     "metadata": {},
     "output_type": "execute_result"
    }
   ],
   "source": [
    "-True"
   ]
  },
  {
   "cell_type": "markdown",
   "metadata": {},
   "source": [
    "- Boolena constructor, bool(x), True pokud x je true a naopak\n",
    "- Kazda classa v pythonu ma Bool hodnotu - takze takto mohu volat True a False hodnotu pro nase objekty\n",
    "- Samozrejme to ma smyl zejmena pokud mam custom classy a chci je takto labelovat\n",
    "- Integer ma napriklad False pokud je 0 a jinak ma True"
   ]
  },
  {
   "cell_type": "code",
   "execution_count": 307,
   "metadata": {},
   "outputs": [
    {
     "data": {
      "text/plain": [
       "(False, True)"
      ]
     },
     "execution_count": 307,
     "metadata": {},
     "output_type": "execute_result"
    }
   ],
   "source": [
    "bool(0), bool(24) #jen 0 je false"
   ]
  },
  {
   "cell_type": "code",
   "execution_count": 309,
   "metadata": {},
   "outputs": [
    {
     "data": {
      "text/plain": [
       "(140709391161200, 140709391161168)"
      ]
     },
     "execution_count": 309,
     "metadata": {},
     "output_type": "execute_result"
    }
   ],
   "source": [
    "id(False),id(True)"
   ]
  },
  {
   "cell_type": "code",
   "execution_count": 310,
   "metadata": {},
   "outputs": [
    {
     "data": {
      "text/plain": [
       "bool"
      ]
     },
     "execution_count": 310,
     "metadata": {},
     "output_type": "execute_result"
    }
   ],
   "source": [
    "type(3<4)"
   ]
  },
  {
   "cell_type": "code",
   "execution_count": 312,
   "metadata": {},
   "outputs": [
    {
     "data": {
      "text/plain": [
       "140709391161168"
      ]
     },
     "execution_count": 312,
     "metadata": {},
     "output_type": "execute_result"
    }
   ],
   "source": [
    "id(3<4) #id je stejne jako id True protoze je to True \n",
    "#tzn False a True hodnoty maj jedny jasne adresy"
   ]
  },
  {
   "cell_type": "code",
   "execution_count": 315,
   "metadata": {},
   "outputs": [
    {
     "data": {
      "text/plain": [
       "(False, True, True, True)"
      ]
     },
     "execution_count": 315,
     "metadata": {},
     "output_type": "execute_result"
    }
   ],
   "source": [
    "bool(0), bool(1), bool(5),bool('lkjlk')\n",
    "#false mame zatim jen u  uvidime dale"
   ]
  },
  {
   "cell_type": "markdown",
   "metadata": {},
   "source": [
    "### Booleans True values teorie"
   ]
  },
  {
   "cell_type": "markdown",
   "metadata": {},
   "source": [
    "- vsechny objekty jsou vyhodnoceny jako True az na par vyjimek\n",
    "- None\n",
    "- False\n",
    "- 0\n",
    "- prazdne sekvence jako listy apod\n",
    "- prazdne dictionary apod\n",
    "- custom classy dle nasi implementace"
   ]
  },
  {
   "cell_type": "markdown",
   "metadata": {},
   "source": [
    "Pokud zavolame bool(x) tak python vola x.__bool__() dunder metodu a pokud ji nenajde tak __len__ metodu a pokud i tak nic nenajde tak navrati True. "
   ]
  },
  {
   "cell_type": "code",
   "execution_count": 316,
   "metadata": {},
   "outputs": [],
   "source": [
    "def __bool__(self):\n",
    "    return self != 0\n",
    "#nejak takto by mohla fungovat"
   ]
  },
  {
   "cell_type": "code",
   "execution_count": 319,
   "metadata": {},
   "outputs": [
    {
     "data": {
      "text/plain": [
       "(False, False, False, False)"
      ]
     },
     "execution_count": 319,
     "metadata": {},
     "output_type": "execute_result"
    }
   ],
   "source": [
    "bool([]), bool(None), bool(0), bool({})\n",
    "#zde to u listu a dt bere v potaz prave len"
   ]
  },
  {
   "cell_type": "code",
   "execution_count": 320,
   "metadata": {},
   "outputs": [],
   "source": [
    "from decimal import Decimal\n",
    "from fractions import Fraction"
   ]
  },
  {
   "cell_type": "code",
   "execution_count": 321,
   "metadata": {},
   "outputs": [
    {
     "data": {
      "text/plain": [
       "False"
      ]
     },
     "execution_count": 321,
     "metadata": {},
     "output_type": "execute_result"
    }
   ],
   "source": [
    "bool(Fraction(0,1)) #0 lomeno 1 je 0"
   ]
  },
  {
   "cell_type": "code",
   "execution_count": 322,
   "metadata": {},
   "outputs": [
    {
     "data": {
      "text/plain": [
       "True"
      ]
     },
     "execution_count": 322,
     "metadata": {},
     "output_type": "execute_result"
    }
   ],
   "source": [
    "bool(Decimal('10.5'))"
   ]
  },
  {
   "cell_type": "code",
   "execution_count": 323,
   "metadata": {},
   "outputs": [
    {
     "data": {
      "text/plain": [
       "True"
      ]
     },
     "execution_count": 323,
     "metadata": {},
     "output_type": "execute_result"
    }
   ],
   "source": [
    "bool('String je taktez sekvence a proto se resi pres len metodu')"
   ]
  },
  {
   "cell_type": "code",
   "execution_count": 324,
   "metadata": {},
   "outputs": [
    {
     "name": "stdout",
     "output_type": "stream",
     "text": [
      "1\n"
     ]
    }
   ],
   "source": [
    "a = [1,2,3]\n",
    "if a is not None and len(a) > 0:\n",
    "    print(a[0])\n",
    "else:\n",
    "    print('Nothing to see here')"
   ]
  },
  {
   "cell_type": "code",
   "execution_count": 327,
   "metadata": {},
   "outputs": [
    {
     "name": "stdout",
     "output_type": "stream",
     "text": [
      "Nothing to see here\n"
     ]
    }
   ],
   "source": [
    "a = None # nebo a = 0, ci a = []\n",
    "if bool(a):\n",
    "    print(a[0])\n",
    "else:\n",
    "    print('Nothing to see here')"
   ]
  },
  {
   "cell_type": "markdown",
   "metadata": {},
   "source": [
    "V podstate cela logika True a False je vyse zminena. Resi jestli to neni 0 nebo none a nebo jestli ma nejakou delku :)."
   ]
  },
  {
   "cell_type": "markdown",
   "metadata": {},
   "source": [
    "### Booleans Operator, precedence and short circuit evaluation"
   ]
  },
  {
   "cell_type": "markdown",
   "metadata": {},
   "source": [
    "Operátory jsou jasné NOT AND OR. Často se používá graf u obvodů - otevřený obvod FALSE, zavřený tzn průchozí TRUE. OR se zobrazuje jako dva switche paralerně. AND jsou dva switche za sebou a pokud nemají oba open neboli TRUE nic nejde skrz. "
   ]
  },
  {
   "cell_type": "markdown",
   "metadata": {},
   "source": [
    "- Precedence podle vlivu co nejdrive a co na zaver\n",
    "- ()\n",
    "- <> <= >= != in ins\n",
    "- not\n",
    "- and\n",
    "- or\n",
    "- Tohle je pomerne dobre si pamatovat :), na poradi zalezi, obecne spravne udavat zavorky je hlavni, kod bude vic readable"
   ]
  },
  {
   "cell_type": "code",
   "execution_count": 328,
   "metadata": {},
   "outputs": [],
   "source": [
    "#Short circuting ukazka:\n",
    "#if symbol in watch_list:\n",
    "#    if price(symbol) > threshold:\n",
    "#        do something\n",
    "#==> jede na dve faze narocnejsi kod\n",
    "#\n",
    "#V ramci short circuting - tzn utnuti na zacatku co to jde\n",
    "#\n",
    "#if symbol in watch_list and price(symbol) > threshold:\n",
    "#    do something\n",
    "#\n",
    "#==> druhy priklad je castecne zdatnejsi neprojede vse ale cast ukonci na zacatku a usetri tak cas"
   ]
  },
  {
   "cell_type": "code",
   "execution_count": 329,
   "metadata": {},
   "outputs": [],
   "source": [
    "# chceme provest akci kontrolovat zda prvni znak je digit\n",
    "# if name[0] in string.digits:\n",
    "#     do something\n",
    "# tento kod se rozbije pokud je jmeno None nebo prazdny string\n",
    "\n",
    "# spravne to je\n",
    "# if name and name[0] in string.digits:\n",
    "#           do something\n",
    "#NYNI to overuje zda je name true neboli zda neni none nebo ma len a pote prejde na druhou cast\n",
    "# a zacina to luxusne zapadat :)"
   ]
  },
  {
   "cell_type": "markdown",
   "metadata": {},
   "source": [
    "### Coding part"
   ]
  },
  {
   "cell_type": "markdown",
   "metadata": {},
   "source": [
    "not --> and --> or"
   ]
  },
  {
   "cell_type": "code",
   "execution_count": 330,
   "metadata": {},
   "outputs": [
    {
     "data": {
      "text/plain": [
       "True"
      ]
     },
     "execution_count": 330,
     "metadata": {},
     "output_type": "execute_result"
    }
   ],
   "source": [
    "True or True and False"
   ]
  },
  {
   "cell_type": "code",
   "execution_count": 331,
   "metadata": {},
   "outputs": [
    {
     "data": {
      "text/plain": [
       "True"
      ]
     },
     "execution_count": 331,
     "metadata": {},
     "output_type": "execute_result"
    }
   ],
   "source": [
    "True or (True and False)\n",
    "#takto to prehledneji..and se zde vzhodnotilo samo"
   ]
  },
  {
   "cell_type": "markdown",
   "metadata": {},
   "source": [
    "Short circuting"
   ]
  },
  {
   "cell_type": "markdown",
   "metadata": {},
   "source": [
    "Jakmile ukonci obvod nemusi vyhodnocovat dalsi casti a setrime cas"
   ]
  },
  {
   "cell_type": "code",
   "execution_count": 332,
   "metadata": {},
   "outputs": [
    {
     "name": "stdout",
     "output_type": "stream",
     "text": [
      "a is at least twice b\n"
     ]
    }
   ],
   "source": [
    "a = 10\n",
    "b = 2\n",
    "\n",
    "if a/b > 2:\n",
    "    print('a is at least twice b')"
   ]
  },
  {
   "cell_type": "code",
   "execution_count": 335,
   "metadata": {},
   "outputs": [],
   "source": [
    "b = 0\n",
    "if b and a/b >2:\n",
    "    print('do something')\n",
    "    \n",
    "#prvni priklad nad hodi chybu pokud delime 0\n",
    "#takto tomu ale predejdeme\n",
    "#nemam zadne podchycovani zerodivision apod..\n",
    "#dokonce poresim i problem s None\n",
    "#moc pekne :)"
   ]
  },
  {
   "cell_type": "code",
   "execution_count": 336,
   "metadata": {},
   "outputs": [],
   "source": [
    "import string"
   ]
  },
  {
   "cell_type": "code",
   "execution_count": 337,
   "metadata": {},
   "outputs": [
    {
     "data": {
      "text/plain": [
       "'ABCDEFGHIJKLMNOPQRSTUVWXYZ'"
      ]
     },
     "execution_count": 337,
     "metadata": {},
     "output_type": "execute_result"
    }
   ],
   "source": [
    "string.ascii_uppercase"
   ]
  },
  {
   "cell_type": "code",
   "execution_count": 338,
   "metadata": {},
   "outputs": [
    {
     "data": {
      "text/plain": [
       "'abcdefghijklmnopqrstuvwxyzABCDEFGHIJKLMNOPQRSTUVWXYZ'"
      ]
     },
     "execution_count": 338,
     "metadata": {},
     "output_type": "execute_result"
    }
   ],
   "source": [
    "string.ascii_letters"
   ]
  },
  {
   "cell_type": "code",
   "execution_count": 339,
   "metadata": {},
   "outputs": [
    {
     "data": {
      "text/plain": [
       "'0123456789'"
      ]
     },
     "execution_count": 339,
     "metadata": {},
     "output_type": "execute_result"
    }
   ],
   "source": [
    "string.digits"
   ]
  },
  {
   "cell_type": "markdown",
   "metadata": {},
   "source": [
    "Pouze ukazka sikovne knihovnicky se znaky."
   ]
  },
  {
   "cell_type": "code",
   "execution_count": 340,
   "metadata": {},
   "outputs": [
    {
     "ename": "IndexError",
     "evalue": "string index out of range",
     "output_type": "error",
     "traceback": [
      "\u001b[1;31m---------------------------------------------------------------------------\u001b[0m",
      "\u001b[1;31mIndexError\u001b[0m                                Traceback (most recent call last)",
      "\u001b[1;32m<ipython-input-340-188ac652abc2>\u001b[0m in \u001b[0;36m<module>\u001b[1;34m\u001b[0m\n\u001b[0;32m      1\u001b[0m \u001b[0mname\u001b[0m \u001b[1;33m=\u001b[0m \u001b[1;34m''\u001b[0m\u001b[1;33m\u001b[0m\u001b[1;33m\u001b[0m\u001b[0m\n\u001b[1;32m----> 2\u001b[1;33m \u001b[1;32mif\u001b[0m \u001b[0mname\u001b[0m\u001b[1;33m[\u001b[0m\u001b[1;36m0\u001b[0m\u001b[1;33m]\u001b[0m \u001b[1;32min\u001b[0m \u001b[0mstring\u001b[0m\u001b[1;33m.\u001b[0m\u001b[0mdigits\u001b[0m\u001b[1;33m:\u001b[0m\u001b[1;33m\u001b[0m\u001b[1;33m\u001b[0m\u001b[0m\n\u001b[0m\u001b[0;32m      3\u001b[0m     \u001b[0mprint\u001b[0m\u001b[1;33m(\u001b[0m\u001b[1;34m'Name cannon start with a digit'\u001b[0m\u001b[1;33m)\u001b[0m\u001b[1;33m\u001b[0m\u001b[1;33m\u001b[0m\u001b[0m\n",
      "\u001b[1;31mIndexError\u001b[0m: string index out of range"
     ]
    }
   ],
   "source": [
    "name = ''\n",
    "if name[0] in string.digits:\n",
    "    print('Name cannon start with a digit')"
   ]
  },
  {
   "cell_type": "markdown",
   "metadata": {},
   "source": [
    "Neumime pokyt prazdny string ani none spravne takto"
   ]
  },
  {
   "cell_type": "code",
   "execution_count": 341,
   "metadata": {},
   "outputs": [],
   "source": [
    "name = ''\n",
    "if name and name[0] in string.digits:\n",
    "    print('Name cannon start with a digit')"
   ]
  },
  {
   "cell_type": "markdown",
   "metadata": {},
   "source": [
    "Asi nejkrasnejsi dva radky za celou lekci. Konecne to dava perfektni smysl :)"
   ]
  },
  {
   "cell_type": "markdown",
   "metadata": {},
   "source": [
    "### Boolean Operator teorie 2"
   ]
  },
  {
   "cell_type": "markdown",
   "metadata": {},
   "source": [
    "Jelikoy kazdy objekt disponuje bool hodnotou muzeme vse porovnavat a nemusime ani formou bool(x) and bool(y) staci zapisovat formou X and Y, ale otazka je co zde ziskavame?"
   ]
  },
  {
   "cell_type": "markdown",
   "metadata": {},
   "source": [
    "Tohle je trochu zamotanejsi takze:"
   ]
  },
  {
   "cell_type": "markdown",
   "metadata": {},
   "source": [
    "- OR\n",
    "- if X je Tru navratime X nebo Y, povazujme hodnoty dale zapsane jako X,Y\n",
    "- 0 0 X je false vracime Y tedy 0\n",
    "- 0 1 X je false vracime Y tedy 0\n",
    "- 1 0 a 1 1 X je pravda vracime 1\n",
    "- jenze Y nemusime ani cist dokud X neni pravda\n",
    "- LEPSI JE TEDY:\n",
    "- POKUD JE X Pravda vrat X jinak vrat Y"
   ]
  },
  {
   "cell_type": "markdown",
   "metadata": {},
   "source": [
    "Nyni se presuneme na A"
   ]
  },
  {
   "cell_type": "markdown",
   "metadata": {},
   "source": [
    "- AND\n",
    "- IF X IS FALSZ returns X otherwise retunrs Y\n",
    "- 0 0 X je nepravda vracime X a tedy 0\n",
    "- 0 1 X je nepravda vracime X a tedy 0\n",
    "- 1 0 X je pravda vracime Y a tedy 0\n",
    "- 1 1 Y je pravda vracime Y a tedz 1\n",
    "- POKUD X JE NEPRAVDA VRAT X JINAK VRAT Y"
   ]
  },
  {
   "cell_type": "markdown",
   "metadata": {},
   "source": [
    "V podstate AND a OR logika je ted trochu jina. Zatimco pokud neco porovnavame mame trochu jina pravidla nez pokud porovnavame dva objekty ktere samy o sobe maji TRUE/FALSE hodnotu."
   ]
  },
  {
   "cell_type": "code",
   "execution_count": 343,
   "metadata": {},
   "outputs": [],
   "source": [
    "s1,s2,s3 = '','',''\n",
    "a = s1 or s2 or s3 or 'N/A'\n",
    "#Mame OR operatory a short circuit neboli \n",
    "#POKUD JE NECO PRAVDA VRATI TO JINAK JDE DAL\n",
    "#V TOMTO PRIPADE U OPERATORU Y LEVA DO PRAVA VZHODNOCUJEME\n",
    "#TAKZE COKOLIV CO BUDE PRAVDA JAKO PRVNI SE NAVRATI"
   ]
  },
  {
   "cell_type": "markdown",
   "metadata": {},
   "source": [
    "Takze tohle je pekne. Chceme obdrzet prvni znak ze jmena ci nic pokud chybi."
   ]
  },
  {
   "cell_type": "code",
   "execution_count": 346,
   "metadata": {},
   "outputs": [],
   "source": [
    "#if s:\n",
    "#    return s[0]\n",
    "#else:\n",
    "#    return ''\n",
    "#noobie zapis\n",
    "\n",
    "#return s and s[0]\n",
    "#profi zapis jelikoz mame and tak vrati s jen pokud bude falsy a tudiz none nebo bez delky\n",
    "#jinak navrati prvni znak\n",
    "# return (s and s[0]) or ''\n",
    "# tohle uz je tezka stylovka dokonce si urcime hodnotu kterou nam ma navratit pokud nastane none pripad"
   ]
  },
  {
   "cell_type": "markdown",
   "metadata": {},
   "source": [
    "NOT OPERATOR"
   ]
  },
  {
   "cell_type": "markdown",
   "metadata": {},
   "source": [
    "- not x \n",
    "- True if x is falsy\n",
    "- False if x is truthy\n",
    "- [] falsy -> not [] -> True ..jasne netreba resit"
   ]
  },
  {
   "cell_type": "markdown",
   "metadata": {},
   "source": [
    "### Coding Part"
   ]
  },
  {
   "cell_type": "markdown",
   "metadata": {},
   "source": [
    "X or Y: if X is truthy, returns X, otherwise evaluates Y and returns it"
   ]
  },
  {
   "cell_type": "code",
   "execution_count": 347,
   "metadata": {},
   "outputs": [
    {
     "data": {
      "text/plain": [
       "'a'"
      ]
     },
     "execution_count": 347,
     "metadata": {},
     "output_type": "execute_result"
    }
   ],
   "source": [
    "'a' or [1,2]#prvni je truthy navrati jej"
   ]
  },
  {
   "cell_type": "code",
   "execution_count": 348,
   "metadata": {},
   "outputs": [
    {
     "data": {
      "text/plain": [
       "[1, 2]"
      ]
     },
     "execution_count": 348,
     "metadata": {},
     "output_type": "execute_result"
    }
   ],
   "source": [
    "'' or [1,2] #nepravdive navrati to druhe"
   ]
  },
  {
   "cell_type": "code",
   "execution_count": 349,
   "metadata": {},
   "outputs": [
    {
     "data": {
      "text/plain": [
       "'a'"
      ]
     },
     "execution_count": 349,
     "metadata": {},
     "output_type": "execute_result"
    }
   ],
   "source": [
    "'' or '' or '' or 'a' # hehe"
   ]
  },
  {
   "cell_type": "code",
   "execution_count": 350,
   "metadata": {},
   "outputs": [
    {
     "data": {
      "text/plain": [
       "1"
      ]
     },
     "execution_count": 350,
     "metadata": {},
     "output_type": "execute_result"
    }
   ],
   "source": [
    "1 or 1/0 #nemam zerodivison error vyhodnoti prvne 1 a ukonci tzn. short circuting"
   ]
  },
  {
   "cell_type": "code",
   "execution_count": 351,
   "metadata": {},
   "outputs": [
    {
     "ename": "ZeroDivisionError",
     "evalue": "division by zero",
     "output_type": "error",
     "traceback": [
      "\u001b[1;31m---------------------------------------------------------------------------\u001b[0m",
      "\u001b[1;31mZeroDivisionError\u001b[0m                         Traceback (most recent call last)",
      "\u001b[1;32m<ipython-input-351-a7e2436e8887>\u001b[0m in \u001b[0;36m<module>\u001b[1;34m\u001b[0m\n\u001b[1;32m----> 1\u001b[1;33m \u001b[1;36m0\u001b[0m \u001b[1;32mor\u001b[0m \u001b[1;36m1\u001b[0m\u001b[1;33m/\u001b[0m\u001b[1;36m0\u001b[0m\u001b[1;33m\u001b[0m\u001b[1;33m\u001b[0m\u001b[0m\n\u001b[0m",
      "\u001b[1;31mZeroDivisionError\u001b[0m: division by zero"
     ]
    }
   ],
   "source": [
    "0 or 1/0  #nenastane pravda short circuting nenastane"
   ]
  },
  {
   "cell_type": "markdown",
   "metadata": {},
   "source": [
    "X and Y: if X is falsy, return X, otherwise evaluate Y and return it"
   ]
  },
  {
   "cell_type": "code",
   "execution_count": 353,
   "metadata": {},
   "outputs": [
    {
     "name": "stdout",
     "output_type": "stream",
     "text": [
      "None\n"
     ]
    }
   ],
   "source": [
    "print(None and 100)"
   ]
  },
  {
   "cell_type": "code",
   "execution_count": 354,
   "metadata": {},
   "outputs": [
    {
     "data": {
      "text/plain": [
       "[]"
      ]
     },
     "execution_count": 354,
     "metadata": {},
     "output_type": "execute_result"
    }
   ],
   "source": [
    "[] and [0]"
   ]
  },
  {
   "cell_type": "markdown",
   "metadata": {},
   "source": [
    "Mame zde mensi opak u and, v podstate obdrzujeme prvni false hodnotu"
   ]
  },
  {
   "cell_type": "markdown",
   "metadata": {},
   "source": [
    "OR POUZIJI POKUD CHCI VYDOLOVAT TRUTH HODNOTU A IGNOROVAT FALSE HODNOTY pokud ale nejsou truth ziskat FALSE"
   ]
  },
  {
   "cell_type": "markdown",
   "metadata": {},
   "source": [
    "AND POUZIJU POKUD CHCI VZDOLOVAT FALSE HODNOTU A IGNOROVAT TRUTH HODNOTY pokud ale nejsou FALSE ziskat TRUTH"
   ]
  },
  {
   "cell_type": "code",
   "execution_count": 355,
   "metadata": {},
   "outputs": [
    {
     "name": "stdout",
     "output_type": "stream",
     "text": [
      "0.5\n"
     ]
    }
   ],
   "source": [
    "a,b = 2,4\n",
    "if b == 0:\n",
    "    print(0)\n",
    "else:\n",
    "    print(a/b)"
   ]
  },
  {
   "cell_type": "markdown",
   "metadata": {},
   "source": [
    "A ted trochu styloveji."
   ]
  },
  {
   "cell_type": "code",
   "execution_count": 356,
   "metadata": {},
   "outputs": [
    {
     "name": "stdout",
     "output_type": "stream",
     "text": [
      "0\n"
     ]
    }
   ],
   "source": [
    "a = 2 \n",
    "b = 0\n",
    "print(b and a/b)"
   ]
  },
  {
   "cell_type": "markdown",
   "metadata": {},
   "source": [
    "Aneb zero divison error handling.."
   ]
  },
  {
   "cell_type": "code",
   "execution_count": 357,
   "metadata": {},
   "outputs": [],
   "source": [
    "s1, s2, s3 = None, '', 'abc'"
   ]
  },
  {
   "cell_type": "code",
   "execution_count": 361,
   "metadata": {},
   "outputs": [
    {
     "data": {
      "text/plain": [
       "('ok ', ' ', 'a')"
      ]
     },
     "execution_count": 361,
     "metadata": {},
     "output_type": "execute_result"
    }
   ],
   "source": [
    "((s1 and s1[0]) or 'ok '), ((s2 and s2[0]) or ' '), ((s3 and s3[0]) or ' ')"
   ]
  },
  {
   "cell_type": "markdown",
   "metadata": {},
   "source": [
    "Co asi dela tento krasny kod :]. \n",
    "- s1 and s1[0] - Pokud je prvni falsy navrati ji jinak navrati druhou\n",
    "- takze navrati None, None a pote abc\n",
    "- a nas or navrati prvni True hodnotu \n",
    "- tzn navrati abc protoze uz je true ale pro ostatni dve navrati bud true hodnotu nebo to co zbyde\n",
    "- proto v prvnim mam true hodnotu a v druhem false ale oboji se navrati"
   ]
  },
  {
   "cell_type": "code",
   "execution_count": 364,
   "metadata": {},
   "outputs": [
    {
     "data": {
      "text/plain": [
       "(False, True, False, False)"
      ]
     },
     "execution_count": 364,
     "metadata": {},
     "output_type": "execute_result"
    }
   ],
   "source": [
    "not True, not False, not bool('abc'), not ('abc')\n",
    "#v podstate ~ logic :]"
   ]
  },
  {
   "cell_type": "markdown",
   "metadata": {},
   "source": [
    "### Comparison Operators"
   ]
  },
  {
   "cell_type": "markdown",
   "metadata": {},
   "source": [
    "- binarni operatory napriklad + potrebuje A a B\n",
    "- identifikacni operatorz - is a is not\n",
    "- value comparisons == !=\n",
    "- ordering comparison > < >= >=\n",
    "- memebership operations - not a not in"
   ]
  },
  {
   "cell_type": "markdown",
   "metadata": {},
   "source": [
    "Muzu mezi sebou porovnavat napriklad float s decimal, integrem apod..Krome komplexnich cisel na ty je treba dat si bacha."
   ]
  },
  {
   "cell_type": "markdown",
   "metadata": {},
   "source": [
    "a == b == c je stejne jako a == b and b == c atd."
   ]
  },
  {
   "cell_type": "markdown",
   "metadata": {},
   "source": [
    "Trochu to zamotame"
   ]
  },
  {
   "cell_type": "markdown",
   "metadata": {},
   "source": [
    "1 < 10 > 4 < 5 --> 1 < 10 and 10 > 4 and 4 < 5..v podstate to jde poporade takze True "
   ]
  },
  {
   "cell_type": "code",
   "execution_count": 365,
   "metadata": {},
   "outputs": [
    {
     "name": "stderr",
     "output_type": "stream",
     "text": [
      "<>:1: SyntaxWarning: \"is\" with a literal. Did you mean \"==\"?\n",
      "<>:1: SyntaxWarning: \"is\" with a literal. Did you mean \"==\"?\n",
      "<ipython-input-365-aadb6322e9fe>:1: SyntaxWarning: \"is\" with a literal. Did you mean \"==\"?\n",
      "  0.1 is (3+4j)\n"
     ]
    },
    {
     "data": {
      "text/plain": [
       "False"
      ]
     },
     "execution_count": 365,
     "metadata": {},
     "output_type": "execute_result"
    }
   ],
   "source": [
    "0.1 is (3+4j) #jen ukazka ze nemam radi komplexni cisla"
   ]
  },
  {
   "cell_type": "code",
   "execution_count": 367,
   "metadata": {},
   "outputs": [],
   "source": [
    "import string"
   ]
  },
  {
   "cell_type": "code",
   "execution_count": 368,
   "metadata": {},
   "outputs": [
    {
     "data": {
      "text/plain": [
       "True"
      ]
     },
     "execution_count": 368,
     "metadata": {},
     "output_type": "execute_result"
    }
   ],
   "source": [
    "'A' < 'a' < 'z' > 'Z' in string.ascii_letters\n",
    "#sekvence charakteru - uupercase je dale nez lovercase\n",
    "#takze tak trochu pro zabavu - porovnavame i stringy"
   ]
  },
  {
   "cell_type": "markdown",
   "metadata": {},
   "source": [
    "Tak a to je vse k useku 4 o datovych typech. Vsechno velice prinosne ale nastesti zatim bez vetsich problemu v chapani."
   ]
  }
 ],
 "metadata": {
  "kernelspec": {
   "display_name": "Python 3",
   "language": "python",
   "name": "python3"
  },
  "language_info": {
   "codemirror_mode": {
    "name": "ipython",
    "version": 3
   },
   "file_extension": ".py",
   "mimetype": "text/x-python",
   "name": "python",
   "nbconvert_exporter": "python",
   "pygments_lexer": "ipython3",
   "version": "3.7.6"
  }
 },
 "nbformat": 4,
 "nbformat_minor": 4
}
