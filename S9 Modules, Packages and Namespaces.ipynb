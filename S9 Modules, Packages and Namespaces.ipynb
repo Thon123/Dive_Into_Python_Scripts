{
 "cells": [
  {
   "cell_type": "markdown",
   "metadata": {},
   "source": [
    "# Modules, Packages and Namespaces"
   ]
  },
  {
   "cell_type": "markdown",
   "metadata": {},
   "source": [
    "Bude zde více věcí spíš informativních, v Jupyteru některé věci nelze testovat a není až tak třeba vše zkoušet."
   ]
  },
  {
   "cell_type": "markdown",
   "metadata": {},
   "source": [
    "## Co je Modul?"
   ]
  },
  {
   "cell_type": "markdown",
   "metadata": {},
   "source": [
    "Modul je instance - modultype. Jasně prostě objekty z classy."
   ]
  },
  {
   "cell_type": "markdown",
   "metadata": {},
   "source": [
    "Namespaces v podstatě drží refrence na všechny možné věci"
   ]
  },
  {
   "cell_type": "code",
   "execution_count": 4,
   "metadata": {},
   "outputs": [],
   "source": [
    "def func():\n",
    "    print(\"Hello\")"
   ]
  },
  {
   "cell_type": "code",
   "execution_count": 3,
   "metadata": {},
   "outputs": [
    {
     "data": {
      "text/plain": [
       "{'__name__': '__main__',\n",
       " '__doc__': 'Automatically created module for IPython interactive environment',\n",
       " '__package__': None,\n",
       " '__loader__': None,\n",
       " '__spec__': None,\n",
       " '__builtin__': <module 'builtins' (built-in)>,\n",
       " '__builtins__': <module 'builtins' (built-in)>,\n",
       " '_ih': ['', 'globals()', 'def func():\\n    pass', 'globals()'],\n",
       " '_oh': {1: {...}},\n",
       " '_dh': ['C:\\\\Users\\\\rober\\\\Dive into Python P1'],\n",
       " 'In': ['', 'globals()', 'def func():\\n    pass', 'globals()'],\n",
       " 'Out': {1: {...}},\n",
       " 'get_ipython': <bound method InteractiveShell.get_ipython of <ipykernel.zmqshell.ZMQInteractiveShell object at 0x000002015D806A30>>,\n",
       " 'exit': <IPython.core.autocall.ZMQExitAutocall at 0x2015d8a07c0>,\n",
       " 'quit': <IPython.core.autocall.ZMQExitAutocall at 0x2015d8a07c0>,\n",
       " '_': {...},\n",
       " '__': '',\n",
       " '___': '',\n",
       " '_i': 'def func():\\n    pass',\n",
       " '_ii': 'globals()',\n",
       " '_iii': '',\n",
       " '_i1': 'globals()',\n",
       " '_1': {...},\n",
       " '_i2': 'def func():\\n    pass',\n",
       " 'func': <function __main__.func()>,\n",
       " '_i3': 'globals()'}"
      ]
     },
     "execution_count": 3,
     "metadata": {},
     "output_type": "execute_result"
    }
   ],
   "source": [
    "globals()"
   ]
  },
  {
   "cell_type": "markdown",
   "metadata": {},
   "source": [
    "- Globals v podstatě ukazuje namespaces - vše co zde máme. \n",
    "- Namespaces jsou diciotnaries"
   ]
  },
  {
   "cell_type": "code",
   "execution_count": 5,
   "metadata": {},
   "outputs": [
    {
     "data": {
      "text/plain": [
       "<function __main__.func()>"
      ]
     },
     "execution_count": 5,
     "metadata": {},
     "output_type": "execute_result"
    }
   ],
   "source": [
    "globals()['func']"
   ]
  },
  {
   "cell_type": "code",
   "execution_count": 6,
   "metadata": {},
   "outputs": [
    {
     "name": "stdout",
     "output_type": "stream",
     "text": [
      "Hello\n"
     ]
    }
   ],
   "source": [
    "globals()['func']()"
   ]
  },
  {
   "cell_type": "markdown",
   "metadata": {},
   "source": [
    "Volám z namespaces funkci :)). "
   ]
  },
  {
   "cell_type": "code",
   "execution_count": 10,
   "metadata": {},
   "outputs": [
    {
     "data": {
      "text/plain": [
       "True"
      ]
     },
     "execution_count": 10,
     "metadata": {},
     "output_type": "execute_result"
    }
   ],
   "source": [
    "locals() is globals()\n",
    "#protože mám stejný Scope - tak je to shodné"
   ]
  },
  {
   "cell_type": "code",
   "execution_count": 9,
   "metadata": {},
   "outputs": [],
   "source": [
    "a = 100 #v globals bude a = 100"
   ]
  },
  {
   "cell_type": "code",
   "execution_count": 16,
   "metadata": {},
   "outputs": [],
   "source": [
    "def func():\n",
    "    a = 10\n",
    "    b = 10\n",
    "    print(locals())\n",
    "    print(locals() is globals())"
   ]
  },
  {
   "cell_type": "code",
   "execution_count": 17,
   "metadata": {},
   "outputs": [
    {
     "name": "stdout",
     "output_type": "stream",
     "text": [
      "{'a': 10, 'b': 10}\n",
      "False\n"
     ]
    }
   ],
   "source": [
    "func()"
   ]
  },
  {
   "cell_type": "markdown",
   "metadata": {},
   "source": [
    "Ale zde máme už jen locals naší funkce, takže locals a globals se nerovná, viz i naše hodnoty."
   ]
  },
  {
   "cell_type": "markdown",
   "metadata": {},
   "source": [
    "Nyní se podíváme na moduly"
   ]
  },
  {
   "cell_type": "code",
   "execution_count": 18,
   "metadata": {},
   "outputs": [],
   "source": [
    "import math"
   ]
  },
  {
   "cell_type": "code",
   "execution_count": 23,
   "metadata": {},
   "outputs": [
    {
     "data": {
      "text/plain": [
       "<module 'math' (built-in)>"
      ]
     },
     "execution_count": 23,
     "metadata": {},
     "output_type": "execute_result"
    }
   ],
   "source": [
    "math #máme bult-in modul - tento je zabudovaný nemusí do knihovny - psáno v C"
   ]
  },
  {
   "cell_type": "code",
   "execution_count": 20,
   "metadata": {},
   "outputs": [],
   "source": [
    "import fractions"
   ]
  },
  {
   "cell_type": "code",
   "execution_count": 22,
   "metadata": {},
   "outputs": [
    {
     "data": {
      "text/plain": [
       "<module 'fractions' from 'C:\\\\Users\\\\rober\\\\anaconda3\\\\envs\\\\pandas_playground\\\\lib\\\\fractions.py'>"
      ]
     },
     "execution_count": 22,
     "metadata": {},
     "output_type": "execute_result"
    }
   ],
   "source": [
    "fractions #tento modul je ze standardní knihovny"
   ]
  },
  {
   "cell_type": "code",
   "execution_count": 24,
   "metadata": {},
   "outputs": [],
   "source": [
    "junk = math"
   ]
  },
  {
   "cell_type": "code",
   "execution_count": 25,
   "metadata": {},
   "outputs": [
    {
     "data": {
      "text/plain": [
       "True"
      ]
     },
     "execution_count": 25,
     "metadata": {},
     "output_type": "execute_result"
    }
   ],
   "source": [
    "junk is math"
   ]
  },
  {
   "cell_type": "code",
   "execution_count": 26,
   "metadata": {},
   "outputs": [
    {
     "data": {
      "text/plain": [
       "<module 'math' (built-in)>"
      ]
     },
     "execution_count": 26,
     "metadata": {},
     "output_type": "execute_result"
    }
   ],
   "source": [
    "globals()[\"math\"]"
   ]
  },
  {
   "cell_type": "markdown",
   "metadata": {},
   "source": [
    "Náš globals je prostě náš krásný namespaces, kde je všechno dění, všechny potřebné informace."
   ]
  },
  {
   "cell_type": "markdown",
   "metadata": {},
   "source": [
    "- moduly které se importují importují pouze reference\n",
    "- jsou uloženy v systém cash\n",
    "- import sys fičura"
   ]
  },
  {
   "cell_type": "code",
   "execution_count": 27,
   "metadata": {},
   "outputs": [],
   "source": [
    "import sys"
   ]
  },
  {
   "cell_type": "code",
   "execution_count": 28,
   "metadata": {},
   "outputs": [
    {
     "data": {
      "text/plain": [
       "dict"
      ]
     },
     "execution_count": 28,
     "metadata": {},
     "output_type": "execute_result"
    }
   ],
   "source": [
    "type(sys.modules)"
   ]
  },
  {
   "cell_type": "markdown",
   "metadata": {},
   "source": [
    "Dost stejný základ jako u globals prostě dictionary."
   ]
  },
  {
   "cell_type": "code",
   "execution_count": 29,
   "metadata": {},
   "outputs": [
    {
     "data": {
      "text/plain": [
       "<module 'math' (built-in)>"
      ]
     },
     "execution_count": 29,
     "metadata": {},
     "output_type": "execute_result"
    }
   ],
   "source": [
    "sys.modules[\"math\"]"
   ]
  },
  {
   "cell_type": "code",
   "execution_count": 30,
   "metadata": {},
   "outputs": [
    {
     "data": {
      "text/plain": [
       "(2204854076016, 2204854076016)"
      ]
     },
     "execution_count": 30,
     "metadata": {},
     "output_type": "execute_result"
    }
   ],
   "source": [
    "id(sys.modules[\"math\"]), id(math)"
   ]
  },
  {
   "cell_type": "markdown",
   "metadata": {},
   "source": [
    "Jde tedy, vidět že modul je prostě uložený v sys. Pokud jej importuji - globals obdrží pouze referenci ze sysu a je to :)."
   ]
  },
  {
   "cell_type": "code",
   "execution_count": 31,
   "metadata": {},
   "outputs": [
    {
     "data": {
      "text/plain": [
       "'math'"
      ]
     },
     "execution_count": 31,
     "metadata": {},
     "output_type": "execute_result"
    }
   ],
   "source": [
    "math.__name__"
   ]
  },
  {
   "cell_type": "code",
   "execution_count": 33,
   "metadata": {},
   "outputs": [
    {
     "data": {
      "text/plain": [
       "{'__name__': 'math',\n",
       " '__doc__': 'This module provides access to the mathematical functions\\ndefined by the C standard.',\n",
       " '__package__': '',\n",
       " '__loader__': _frozen_importlib.BuiltinImporter,\n",
       " '__spec__': ModuleSpec(name='math', loader=<class '_frozen_importlib.BuiltinImporter'>, origin='built-in'),\n",
       " 'acos': <function math.acos(x, /)>,\n",
       " 'acosh': <function math.acosh(x, /)>,\n",
       " 'asin': <function math.asin(x, /)>,\n",
       " 'asinh': <function math.asinh(x, /)>,\n",
       " 'atan': <function math.atan(x, /)>,\n",
       " 'atan2': <function math.atan2(y, x, /)>,\n",
       " 'atanh': <function math.atanh(x, /)>,\n",
       " 'ceil': <function math.ceil(x, /)>,\n",
       " 'copysign': <function math.copysign(x, y, /)>,\n",
       " 'cos': <function math.cos(x, /)>,\n",
       " 'cosh': <function math.cosh(x, /)>,\n",
       " 'degrees': <function math.degrees(x, /)>,\n",
       " 'dist': <function math.dist(p, q, /)>,\n",
       " 'erf': <function math.erf(x, /)>,\n",
       " 'erfc': <function math.erfc(x, /)>,\n",
       " 'exp': <function math.exp(x, /)>,\n",
       " 'expm1': <function math.expm1(x, /)>,\n",
       " 'fabs': <function math.fabs(x, /)>,\n",
       " 'factorial': <function math.factorial(x, /)>,\n",
       " 'floor': <function math.floor(x, /)>,\n",
       " 'fmod': <function math.fmod(x, y, /)>,\n",
       " 'frexp': <function math.frexp(x, /)>,\n",
       " 'fsum': <function math.fsum(seq, /)>,\n",
       " 'gamma': <function math.gamma(x, /)>,\n",
       " 'gcd': <function math.gcd(x, y, /)>,\n",
       " 'hypot': <function math.hypot>,\n",
       " 'isclose': <function math.isclose(a, b, *, rel_tol=1e-09, abs_tol=0.0)>,\n",
       " 'isfinite': <function math.isfinite(x, /)>,\n",
       " 'isinf': <function math.isinf(x, /)>,\n",
       " 'isnan': <function math.isnan(x, /)>,\n",
       " 'isqrt': <function math.isqrt(n, /)>,\n",
       " 'ldexp': <function math.ldexp(x, i, /)>,\n",
       " 'lgamma': <function math.lgamma(x, /)>,\n",
       " 'log': <function math.log>,\n",
       " 'log1p': <function math.log1p(x, /)>,\n",
       " 'log10': <function math.log10(x, /)>,\n",
       " 'log2': <function math.log2(x, /)>,\n",
       " 'modf': <function math.modf(x, /)>,\n",
       " 'pow': <function math.pow(x, y, /)>,\n",
       " 'radians': <function math.radians(x, /)>,\n",
       " 'remainder': <function math.remainder(x, y, /)>,\n",
       " 'sin': <function math.sin(x, /)>,\n",
       " 'sinh': <function math.sinh(x, /)>,\n",
       " 'sqrt': <function math.sqrt(x, /)>,\n",
       " 'tan': <function math.tan(x, /)>,\n",
       " 'tanh': <function math.tanh(x, /)>,\n",
       " 'trunc': <function math.trunc(x, /)>,\n",
       " 'prod': <function math.prod(iterable, /, *, start=1)>,\n",
       " 'perm': <function math.perm(n, k=None, /)>,\n",
       " 'comb': <function math.comb(n, k, /)>,\n",
       " 'pi': 3.141592653589793,\n",
       " 'e': 2.718281828459045,\n",
       " 'tau': 6.283185307179586,\n",
       " 'inf': inf,\n",
       " 'nan': nan}"
      ]
     },
     "execution_count": 33,
     "metadata": {},
     "output_type": "execute_result"
    }
   ],
   "source": [
    "math.__dict__ "
   ]
  },
  {
   "cell_type": "markdown",
   "metadata": {},
   "source": [
    "Tadáá mám všechno co máme v tomto modulu :)."
   ]
  },
  {
   "cell_type": "code",
   "execution_count": 34,
   "metadata": {},
   "outputs": [],
   "source": [
    "f = math.__dict__[\"sqrt\"]"
   ]
  },
  {
   "cell_type": "code",
   "execution_count": 35,
   "metadata": {},
   "outputs": [
    {
     "data": {
      "text/plain": [
       "<function math.sqrt(x, /)>"
      ]
     },
     "execution_count": 35,
     "metadata": {},
     "output_type": "execute_result"
    }
   ],
   "source": [
    "f"
   ]
  },
  {
   "cell_type": "code",
   "execution_count": 38,
   "metadata": {},
   "outputs": [
    {
     "data": {
      "text/plain": [
       "3.0"
      ]
     },
     "execution_count": 38,
     "metadata": {},
     "output_type": "execute_result"
    }
   ],
   "source": [
    "f(9) #a máme odmocninu :D ...moc pěkná introspekce"
   ]
  },
  {
   "cell_type": "code",
   "execution_count": 42,
   "metadata": {},
   "outputs": [],
   "source": [
    "import fractions"
   ]
  },
  {
   "cell_type": "code",
   "execution_count": 47,
   "metadata": {},
   "outputs": [
    {
     "data": {
      "text/plain": [
       "<module 'fractions' from 'C:\\\\Users\\\\rober\\\\anaconda3\\\\envs\\\\pandas_playground\\\\lib\\\\fractions.py'>"
      ]
     },
     "execution_count": 47,
     "metadata": {},
     "output_type": "execute_result"
    }
   ],
   "source": [
    "sys.modules[\"fractions\"] #už není built in je lokalizován"
   ]
  },
  {
   "cell_type": "code",
   "execution_count": 49,
   "metadata": {},
   "outputs": [
    {
     "data": {
      "text/plain": [
       "['Decimal',\n",
       " 'Fraction',\n",
       " '_PyHASH_INF',\n",
       " '_PyHASH_MODULUS',\n",
       " '_RATIONAL_FORMAT',\n",
       " '__all__',\n",
       " '__builtins__',\n",
       " '__cached__',\n",
       " '__doc__',\n",
       " '__file__',\n",
       " '__loader__',\n",
       " '__name__',\n",
       " '__package__',\n",
       " '__spec__',\n",
       " '_gcd',\n",
       " 'gcd',\n",
       " 'math',\n",
       " 'numbers',\n",
       " 'operator',\n",
       " 're',\n",
       " 'sys']"
      ]
     },
     "execution_count": 49,
     "metadata": {},
     "output_type": "execute_result"
    }
   ],
   "source": [
    "dir(fractions) #vydolujeme krásně takto"
   ]
  },
  {
   "cell_type": "code",
   "execution_count": 51,
   "metadata": {},
   "outputs": [],
   "source": [
    "#fractions.__dict__\n",
    "#_file__': 'C:\\\\Users\\\\rober\\\\anaconda3\\\\envs\\\\pandas_playground\\\\lib\\\\fractions.py\n",
    "#například cesta k fraction.py v mém jupyteru zajímavé"
   ]
  },
  {
   "cell_type": "markdown",
   "metadata": {},
   "source": [
    "- pokud nejsou built-in tak se prostě načítají ze souborů, z knihoven apod. nic extra ale je dobré to takto vnímat"
   ]
  },
  {
   "cell_type": "code",
   "execution_count": 52,
   "metadata": {},
   "outputs": [],
   "source": [
    "import types"
   ]
  },
  {
   "cell_type": "code",
   "execution_count": 54,
   "metadata": {},
   "outputs": [
    {
     "data": {
      "text/plain": [
       "True"
      ]
     },
     "execution_count": 54,
     "metadata": {},
     "output_type": "execute_result"
    }
   ],
   "source": [
    "isinstance(fractions, types.ModuleType)"
   ]
  },
  {
   "cell_type": "markdown",
   "metadata": {},
   "source": [
    "Můžeme vytvářet vlastní moduly, začíná být zajímavé."
   ]
  },
  {
   "cell_type": "code",
   "execution_count": 55,
   "metadata": {},
   "outputs": [],
   "source": [
    "mod = types.ModuleType(\"test\", \"This is a test modules\")"
   ]
  },
  {
   "cell_type": "code",
   "execution_count": 57,
   "metadata": {},
   "outputs": [
    {
     "data": {
      "text/plain": [
       "True"
      ]
     },
     "execution_count": 57,
     "metadata": {},
     "output_type": "execute_result"
    }
   ],
   "source": [
    "from types import ModuleType\n",
    "\n",
    "isinstance(mod, ModuleType)"
   ]
  },
  {
   "cell_type": "code",
   "execution_count": 58,
   "metadata": {},
   "outputs": [
    {
     "data": {
      "text/plain": [
       "{'__name__': 'test',\n",
       " '__doc__': 'This is a test modules',\n",
       " '__package__': None,\n",
       " '__loader__': None,\n",
       " '__spec__': None}"
      ]
     },
     "execution_count": 58,
     "metadata": {},
     "output_type": "execute_result"
    }
   ],
   "source": [
    "mod.__dict__"
   ]
  },
  {
   "cell_type": "markdown",
   "metadata": {},
   "source": [
    "Náš modul samozřejmě nic nedělá a nic neumí :)."
   ]
  },
  {
   "cell_type": "code",
   "execution_count": 60,
   "metadata": {},
   "outputs": [],
   "source": [
    "mod.pi = 3.14"
   ]
  },
  {
   "cell_type": "code",
   "execution_count": 61,
   "metadata": {},
   "outputs": [
    {
     "data": {
      "text/plain": [
       "{'__name__': 'test',\n",
       " '__doc__': 'This is a test modules',\n",
       " '__package__': None,\n",
       " '__loader__': None,\n",
       " '__spec__': None,\n",
       " 'pi': 3.14}"
      ]
     },
     "execution_count": 61,
     "metadata": {},
     "output_type": "execute_result"
    }
   ],
   "source": [
    "mod.__dict__"
   ]
  },
  {
   "cell_type": "markdown",
   "metadata": {},
   "source": [
    "Tadáá náš modul obsahuje pi."
   ]
  },
  {
   "cell_type": "code",
   "execution_count": 62,
   "metadata": {},
   "outputs": [],
   "source": [
    "mod.hello = lambda: \"Hello\""
   ]
  },
  {
   "cell_type": "code",
   "execution_count": 63,
   "metadata": {},
   "outputs": [
    {
     "data": {
      "text/plain": [
       "'Hello'"
      ]
     },
     "execution_count": 63,
     "metadata": {},
     "output_type": "execute_result"
    }
   ],
   "source": [
    "mod.hello()"
   ]
  },
  {
   "cell_type": "code",
   "execution_count": 64,
   "metadata": {},
   "outputs": [
    {
     "data": {
      "text/plain": [
       "{'__name__': 'test',\n",
       " '__doc__': 'This is a test modules',\n",
       " '__package__': None,\n",
       " '__loader__': None,\n",
       " '__spec__': None,\n",
       " 'pi': 3.14,\n",
       " 'hello': <function __main__.<lambda>()>}"
      ]
     },
     "execution_count": 64,
     "metadata": {},
     "output_type": "execute_result"
    }
   ],
   "source": [
    "mod.__dict__"
   ]
  },
  {
   "cell_type": "markdown",
   "metadata": {},
   "source": [
    "Náš modul momentálně obsahuje funkci hello."
   ]
  },
  {
   "cell_type": "markdown",
   "metadata": {},
   "source": [
    "## Jak Python importuje moduly?"
   ]
  },
  {
   "cell_type": "markdown",
   "metadata": {},
   "source": [
    "- pokud zadáme například import fractions\n",
    "- python si vše předpřipraví - musí vědět kde jsou moduly uloženy"
   ]
  },
  {
   "cell_type": "code",
   "execution_count": 65,
   "metadata": {},
   "outputs": [],
   "source": [
    "import sys"
   ]
  },
  {
   "cell_type": "code",
   "execution_count": 70,
   "metadata": {},
   "outputs": [
    {
     "data": {
      "text/plain": [
       "'C:\\\\Users\\\\rober\\\\anaconda3\\\\envs\\\\pandas_playground'"
      ]
     },
     "execution_count": 70,
     "metadata": {},
     "output_type": "execute_result"
    }
   ],
   "source": [
    "sys.prefix"
   ]
  },
  {
   "cell_type": "code",
   "execution_count": 72,
   "metadata": {},
   "outputs": [
    {
     "data": {
      "text/plain": [
       "'C:\\\\Users\\\\rober\\\\anaconda3\\\\envs\\\\pandas_playground'"
      ]
     },
     "execution_count": 72,
     "metadata": {},
     "output_type": "execute_result"
    }
   ],
   "source": [
    "sys.exec_prefix"
   ]
  },
  {
   "cell_type": "markdown",
   "metadata": {},
   "source": [
    "Kde je náš python a náš compiler - v tomto případě na virtuály od anacondy."
   ]
  },
  {
   "cell_type": "markdown",
   "metadata": {},
   "source": [
    "Kde Python hledá importy?"
   ]
  },
  {
   "cell_type": "code",
   "execution_count": 73,
   "metadata": {},
   "outputs": [
    {
     "data": {
      "text/plain": [
       "['C:\\\\Users\\\\rober\\\\Dive into Python P1',\n",
       " 'C:\\\\Users\\\\rober\\\\anaconda3\\\\envs\\\\pandas_playground\\\\python38.zip',\n",
       " 'C:\\\\Users\\\\rober\\\\anaconda3\\\\envs\\\\pandas_playground\\\\DLLs',\n",
       " 'C:\\\\Users\\\\rober\\\\anaconda3\\\\envs\\\\pandas_playground\\\\lib',\n",
       " 'C:\\\\Users\\\\rober\\\\anaconda3\\\\envs\\\\pandas_playground',\n",
       " '',\n",
       " 'C:\\\\Users\\\\rober\\\\anaconda3\\\\envs\\\\pandas_playground\\\\lib\\\\site-packages',\n",
       " 'C:\\\\Users\\\\rober\\\\anaconda3\\\\envs\\\\pandas_playground\\\\lib\\\\site-packages\\\\win32',\n",
       " 'C:\\\\Users\\\\rober\\\\anaconda3\\\\envs\\\\pandas_playground\\\\lib\\\\site-packages\\\\win32\\\\lib',\n",
       " 'C:\\\\Users\\\\rober\\\\anaconda3\\\\envs\\\\pandas_playground\\\\lib\\\\site-packages\\\\Pythonwin',\n",
       " 'C:\\\\Users\\\\rober\\\\anaconda3\\\\envs\\\\pandas_playground\\\\lib\\\\site-packages\\\\IPython\\\\extensions',\n",
       " 'C:\\\\Users\\\\rober\\\\.ipython']"
      ]
     },
     "execution_count": 73,
     "metadata": {},
     "output_type": "execute_result"
    }
   ],
   "source": [
    "sys.path"
   ]
  },
  {
   "cell_type": "markdown",
   "metadata": {},
   "source": [
    "Naše základní soubory. Python začne hledat module právě v těchto cestách. A dělá následující."
   ]
  },
  {
   "cell_type": "markdown",
   "metadata": {},
   "source": [
    "- zkontroluje sys.modules cahce - jestli už je importovaný, pokud ano jen použije referenci\n",
    "- vytvoří nový modul object - types.ModuleType\n",
    "- načte zdrojový kod ze souboru (nemusí vždy ze souboru)\n",
    "- dodá vstup do entry sys.modules\n",
    "- z kompiluje kod \n",
    "- v podstatě když importu např. jinej .py soubor - tak si ho prostě přečte předem\n",
    "- sys.modules[\"test\"] = lambda: \"Testing module caching\"\n",
    "- import test\n",
    "- test()\n",
    "- \"Testing module caching\"\n",
    "- nespouštím v jupyteru - jen ukázka že když se importuje modul hledá v DT - v sys.modules a pokud najde spustí jej"
   ]
  },
  {
   "cell_type": "markdown",
   "metadata": {},
   "source": [
    "Jak Python spouští module?"
   ]
  },
  {
   "cell_type": "markdown",
   "metadata": {},
   "source": [
    "- kompiluje kod - do python objektu\n",
    "- a poté se provede exekuce python objektu\n",
    "- řeší se zde na cca 20 minut já skippnu"
   ]
  },
  {
   "cell_type": "markdown",
   "metadata": {},
   "source": [
    "#### POKUD BYCH CHTĚL ŘEŠIT - PSANÍ VLASTNÍCH IMPORTŮ A VLASTNÍHO COMPILERU - TAK dodělat, prozatím spíše jako refrence"
   ]
  },
  {
   "cell_type": "markdown",
   "metadata": {},
   "source": [
    "## Import and importlib"
   ]
  },
  {
   "cell_type": "code",
   "execution_count": 75,
   "metadata": {},
   "outputs": [],
   "source": [
    "import sys"
   ]
  },
  {
   "cell_type": "code",
   "execution_count": 76,
   "metadata": {},
   "outputs": [
    {
     "data": {
      "text/plain": [
       "<module 'sys' (built-in)>"
      ]
     },
     "execution_count": 76,
     "metadata": {},
     "output_type": "execute_result"
    }
   ],
   "source": [
    "sys"
   ]
  },
  {
   "cell_type": "code",
   "execution_count": 77,
   "metadata": {},
   "outputs": [],
   "source": [
    "import collections"
   ]
  },
  {
   "cell_type": "markdown",
   "metadata": {},
   "source": [
    "V podstatě řešíme otázku, jak Python ví co má importovat?"
   ]
  },
  {
   "cell_type": "code",
   "execution_count": 79,
   "metadata": {},
   "outputs": [],
   "source": [
    "mod_name = \"math\""
   ]
  },
  {
   "cell_type": "code",
   "execution_count": 80,
   "metadata": {},
   "outputs": [
    {
     "ename": "ModuleNotFoundError",
     "evalue": "No module named 'mod_name'",
     "output_type": "error",
     "traceback": [
      "\u001b[1;31m---------------------------------------------------------------------------\u001b[0m",
      "\u001b[1;31mModuleNotFoundError\u001b[0m                       Traceback (most recent call last)",
      "\u001b[1;32m<ipython-input-80-f3656ea63d6a>\u001b[0m in \u001b[0;36m<module>\u001b[1;34m\u001b[0m\n\u001b[1;32m----> 1\u001b[1;33m \u001b[1;32mimport\u001b[0m \u001b[0mmod_name\u001b[0m\u001b[1;33m\u001b[0m\u001b[1;33m\u001b[0m\u001b[0m\n\u001b[0m",
      "\u001b[1;31mModuleNotFoundError\u001b[0m: No module named 'mod_name'"
     ]
    }
   ],
   "source": [
    "import mod_name"
   ]
  },
  {
   "cell_type": "markdown",
   "metadata": {},
   "source": [
    "Nemáme importovaíc funkci."
   ]
  },
  {
   "cell_type": "code",
   "execution_count": 81,
   "metadata": {},
   "outputs": [],
   "source": [
    "import importlib"
   ]
  },
  {
   "cell_type": "code",
   "execution_count": 82,
   "metadata": {},
   "outputs": [
    {
     "data": {
      "text/plain": [
       "<module 'math' (built-in)>"
      ]
     },
     "execution_count": 82,
     "metadata": {},
     "output_type": "execute_result"
    }
   ],
   "source": [
    "importlib.import_module(mod_name)"
   ]
  },
  {
   "cell_type": "markdown",
   "metadata": {},
   "source": [
    "Takže co se zde stane? Vezme to kod, zkompiluje, provede exekuci a uloží do sys modulu."
   ]
  },
  {
   "cell_type": "code",
   "execution_count": 83,
   "metadata": {},
   "outputs": [
    {
     "data": {
      "text/plain": [
       "True"
      ]
     },
     "execution_count": 83,
     "metadata": {},
     "output_type": "execute_result"
    }
   ],
   "source": [
    "\"math\" in sys.modules"
   ]
  },
  {
   "cell_type": "markdown",
   "metadata": {},
   "source": [
    "Takže to máme vesele zde."
   ]
  },
  {
   "cell_type": "code",
   "execution_count": 85,
   "metadata": {},
   "outputs": [],
   "source": [
    "math2 = sys.modules[\"math\"] #a nyní to dám do globals\n",
    "#v podstatě \n",
    "\n",
    "#TOHLE\n",
    "#mod_name = \"math\"\n",
    "#importlib.import_module(mod_name)\n",
    "#math2 = sys.modules[\"math\"]\n",
    "\n",
    "#JE STEJNÉ JAKO\n",
    "#import math as math2\n",
    "\n",
    "#nebo takto:\n",
    "#math2 = importlib.import_module(mod_name)"
   ]
  },
  {
   "cell_type": "code",
   "execution_count": 86,
   "metadata": {},
   "outputs": [
    {
     "data": {
      "text/plain": [
       "True"
      ]
     },
     "execution_count": 86,
     "metadata": {},
     "output_type": "execute_result"
    }
   ],
   "source": [
    "\"math2\" in globals()"
   ]
  },
  {
   "cell_type": "code",
   "execution_count": 87,
   "metadata": {},
   "outputs": [
    {
     "data": {
      "text/plain": [
       "(2204854076016, 2204854076016)"
      ]
     },
     "execution_count": 87,
     "metadata": {},
     "output_type": "execute_result"
    }
   ],
   "source": [
    "id(math2), id(sys.modules[\"math\"])"
   ]
  },
  {
   "cell_type": "markdown",
   "metadata": {},
   "source": [
    "Stejný objekt"
   ]
  },
  {
   "cell_type": "code",
   "execution_count": 88,
   "metadata": {},
   "outputs": [
    {
     "data": {
      "text/plain": [
       "3.0"
      ]
     },
     "execution_count": 88,
     "metadata": {},
     "output_type": "execute_result"
    }
   ],
   "source": [
    "math2.sqrt(9)"
   ]
  },
  {
   "cell_type": "markdown",
   "metadata": {},
   "source": [
    "V podstatě jsem si přejmenoval modul ff."
   ]
  },
  {
   "cell_type": "markdown",
   "metadata": {},
   "source": [
    "* finders --> hledá kde modul je a jaký loader použít\n",
    "* loaders --> a poté jej načte (klidně i ze zipu)\n",
    "* finder + loader == importer\n",
    "* velký fanda si může najít své vlastní finderu a loadery"
   ]
  },
  {
   "cell_type": "code",
   "execution_count": 89,
   "metadata": {},
   "outputs": [
    {
     "data": {
      "text/plain": [
       "ModuleSpec(name='fractions', loader=<_frozen_importlib_external.SourceFileLoader object at 0x000002015D8C97F0>, origin='C:\\\\Users\\\\rober\\\\anaconda3\\\\envs\\\\pandas_playground\\\\lib\\\\fractions.py')"
      ]
     },
     "execution_count": 89,
     "metadata": {},
     "output_type": "execute_result"
    }
   ],
   "source": [
    "fractions.__spec__"
   ]
  },
  {
   "cell_type": "markdown",
   "metadata": {},
   "source": [
    "Zde máme například loader jaký má být použitý."
   ]
  },
  {
   "cell_type": "code",
   "execution_count": 90,
   "metadata": {},
   "outputs": [
    {
     "data": {
      "text/plain": [
       "[_frozen_importlib.BuiltinImporter,\n",
       " _frozen_importlib.FrozenImporter,\n",
       " _frozen_importlib_external.PathFinder,\n",
       " <six._SixMetaPathImporter at 0x2015b7cc580>]"
      ]
     },
     "execution_count": 90,
     "metadata": {},
     "output_type": "execute_result"
    }
   ],
   "source": [
    "sys.meta_path"
   ]
  },
  {
   "cell_type": "markdown",
   "metadata": {},
   "source": [
    "Tohle jsou hledači, které python používá. Jeden po druhém je vyzkouší, něco ve stylu..Nevíš kde je X? ..Ne..tak se zeptá druhého..atd..dokud jej nenajde. Pathfinder například hledá naše soubory a moduly."
   ]
  },
  {
   "cell_type": "markdown",
   "metadata": {},
   "source": [
    "- hodně badass je tedy psaní vlastních finderu a loaderu pro rozšířenou funkcionalitu - rozhodně mimo můj potřebný rámec"
   ]
  },
  {
   "cell_type": "code",
   "execution_count": 93,
   "metadata": {},
   "outputs": [],
   "source": [
    "with open(\"module1.py\", \"w\") as code_file:\n",
    "    code_file.write('print(\"running module1.py\")')"
   ]
  },
  {
   "cell_type": "markdown",
   "metadata": {},
   "source": [
    "Tento kod, když nahodím tak bych ho mohl vidět v anacondě."
   ]
  },
  {
   "cell_type": "code",
   "execution_count": 94,
   "metadata": {},
   "outputs": [
    {
     "data": {
      "text/plain": [
       "ModuleSpec(name='module1', loader=<_frozen_importlib_external.SourceFileLoader object at 0x000002015D924580>, origin='C:\\\\Users\\\\rober\\\\Dive into Python P1\\\\module1.py')"
      ]
     },
     "execution_count": 94,
     "metadata": {},
     "output_type": "execute_result"
    }
   ],
   "source": [
    "importlib.util.find_spec(\"module1\")"
   ]
  },
  {
   "cell_type": "markdown",
   "metadata": {},
   "source": [
    "Jen ukázka, že najde náš module1."
   ]
  },
  {
   "cell_type": "code",
   "execution_count": 95,
   "metadata": {},
   "outputs": [
    {
     "name": "stdout",
     "output_type": "stream",
     "text": [
      "running module1.py\n"
     ]
    }
   ],
   "source": [
    "import module1"
   ]
  },
  {
   "cell_type": "markdown",
   "metadata": {},
   "source": [
    ":) Tadáá...po importu jej máme v namespace."
   ]
  },
  {
   "cell_type": "code",
   "execution_count": 96,
   "metadata": {},
   "outputs": [],
   "source": [
    "import os"
   ]
  },
  {
   "cell_type": "code",
   "execution_count": 98,
   "metadata": {},
   "outputs": [],
   "source": [
    "#windows domácí\n",
    "ext_module_path = os.environ[\"HOMEPATH\"]"
   ]
  },
  {
   "cell_type": "code",
   "execution_count": 99,
   "metadata": {},
   "outputs": [
    {
     "data": {
      "text/plain": [
       "'\\\\Users\\\\rober'"
      ]
     },
     "execution_count": 99,
     "metadata": {},
     "output_type": "execute_result"
    }
   ],
   "source": [
    "ext_module_path"
   ]
  },
  {
   "cell_type": "markdown",
   "metadata": {},
   "source": [
    "Jasné, mám naší domácí adresu."
   ]
  },
  {
   "cell_type": "code",
   "execution_count": 101,
   "metadata": {},
   "outputs": [],
   "source": [
    "file_abs_path = os.path.join(ext_module_path, \"module2.py\")\n",
    "with open(file_abs_path, \"w\") as code_file:\n",
    "    code_file.write('print(\"running module2.py\")')\n",
    "#takže ukládám modul jen do jiné složky - do naší homemade\n",
    "#module2 se mi uložil do homepath"
   ]
  },
  {
   "cell_type": "code",
   "execution_count": 102,
   "metadata": {},
   "outputs": [],
   "source": [
    "importlib.util.find_spec(\"module2\")"
   ]
  },
  {
   "cell_type": "code",
   "execution_count": 103,
   "metadata": {},
   "outputs": [
    {
     "ename": "ModuleNotFoundError",
     "evalue": "No module named 'module2'",
     "output_type": "error",
     "traceback": [
      "\u001b[1;31m---------------------------------------------------------------------------\u001b[0m",
      "\u001b[1;31mModuleNotFoundError\u001b[0m                       Traceback (most recent call last)",
      "\u001b[1;32m<ipython-input-103-6af63b0c12d1>\u001b[0m in \u001b[0;36m<module>\u001b[1;34m\u001b[0m\n\u001b[1;32m----> 1\u001b[1;33m \u001b[1;32mimport\u001b[0m \u001b[0mmodule2\u001b[0m\u001b[1;33m\u001b[0m\u001b[1;33m\u001b[0m\u001b[0m\n\u001b[0m",
      "\u001b[1;31mModuleNotFoundError\u001b[0m: No module named 'module2'"
     ]
    }
   ],
   "source": [
    "import module2"
   ]
  },
  {
   "cell_type": "markdown",
   "metadata": {},
   "source": [
    "Python jej neumí najít."
   ]
  },
  {
   "cell_type": "code",
   "execution_count": 104,
   "metadata": {},
   "outputs": [
    {
     "data": {
      "text/plain": [
       "['C:\\\\Users\\\\rober\\\\Dive into Python P1',\n",
       " 'C:\\\\Users\\\\rober\\\\anaconda3\\\\envs\\\\pandas_playground\\\\python38.zip',\n",
       " 'C:\\\\Users\\\\rober\\\\anaconda3\\\\envs\\\\pandas_playground\\\\DLLs',\n",
       " 'C:\\\\Users\\\\rober\\\\anaconda3\\\\envs\\\\pandas_playground\\\\lib',\n",
       " 'C:\\\\Users\\\\rober\\\\anaconda3\\\\envs\\\\pandas_playground',\n",
       " '',\n",
       " 'C:\\\\Users\\\\rober\\\\anaconda3\\\\envs\\\\pandas_playground\\\\lib\\\\site-packages',\n",
       " 'C:\\\\Users\\\\rober\\\\anaconda3\\\\envs\\\\pandas_playground\\\\lib\\\\site-packages\\\\win32',\n",
       " 'C:\\\\Users\\\\rober\\\\anaconda3\\\\envs\\\\pandas_playground\\\\lib\\\\site-packages\\\\win32\\\\lib',\n",
       " 'C:\\\\Users\\\\rober\\\\anaconda3\\\\envs\\\\pandas_playground\\\\lib\\\\site-packages\\\\Pythonwin',\n",
       " 'C:\\\\Users\\\\rober\\\\anaconda3\\\\envs\\\\pandas_playground\\\\lib\\\\site-packages\\\\IPython\\\\extensions',\n",
       " 'C:\\\\Users\\\\rober\\\\.ipython']"
      ]
     },
     "execution_count": 104,
     "metadata": {},
     "output_type": "execute_result"
    }
   ],
   "source": [
    "sys.path"
   ]
  },
  {
   "cell_type": "markdown",
   "metadata": {},
   "source": [
    "Ve svých cestách nemá naší homepath cestu, nemá jak modul najít."
   ]
  },
  {
   "cell_type": "code",
   "execution_count": 105,
   "metadata": {},
   "outputs": [],
   "source": [
    "sys.path.append(ext_module_path)"
   ]
  },
  {
   "cell_type": "markdown",
   "metadata": {},
   "source": [
    "Nyní jsme přidali cestu do sys path."
   ]
  },
  {
   "cell_type": "code",
   "execution_count": 106,
   "metadata": {},
   "outputs": [
    {
     "data": {
      "text/plain": [
       "['C:\\\\Users\\\\rober\\\\Dive into Python P1',\n",
       " 'C:\\\\Users\\\\rober\\\\anaconda3\\\\envs\\\\pandas_playground\\\\python38.zip',\n",
       " 'C:\\\\Users\\\\rober\\\\anaconda3\\\\envs\\\\pandas_playground\\\\DLLs',\n",
       " 'C:\\\\Users\\\\rober\\\\anaconda3\\\\envs\\\\pandas_playground\\\\lib',\n",
       " 'C:\\\\Users\\\\rober\\\\anaconda3\\\\envs\\\\pandas_playground',\n",
       " '',\n",
       " 'C:\\\\Users\\\\rober\\\\anaconda3\\\\envs\\\\pandas_playground\\\\lib\\\\site-packages',\n",
       " 'C:\\\\Users\\\\rober\\\\anaconda3\\\\envs\\\\pandas_playground\\\\lib\\\\site-packages\\\\win32',\n",
       " 'C:\\\\Users\\\\rober\\\\anaconda3\\\\envs\\\\pandas_playground\\\\lib\\\\site-packages\\\\win32\\\\lib',\n",
       " 'C:\\\\Users\\\\rober\\\\anaconda3\\\\envs\\\\pandas_playground\\\\lib\\\\site-packages\\\\Pythonwin',\n",
       " 'C:\\\\Users\\\\rober\\\\anaconda3\\\\envs\\\\pandas_playground\\\\lib\\\\site-packages\\\\IPython\\\\extensions',\n",
       " 'C:\\\\Users\\\\rober\\\\.ipython',\n",
       " '\\\\Users\\\\rober']"
      ]
     },
     "execution_count": 106,
     "metadata": {},
     "output_type": "execute_result"
    }
   ],
   "source": [
    "sys.path"
   ]
  },
  {
   "cell_type": "code",
   "execution_count": 107,
   "metadata": {},
   "outputs": [],
   "source": [
    "# \\\\Users\\\\rober' a vidíme že již cestu našel.."
   ]
  },
  {
   "cell_type": "code",
   "execution_count": 108,
   "metadata": {},
   "outputs": [
    {
     "name": "stdout",
     "output_type": "stream",
     "text": [
      "running module2.py\n"
     ]
    }
   ],
   "source": [
    "import module2"
   ]
  },
  {
   "cell_type": "markdown",
   "metadata": {},
   "source": [
    "A už nám module frčí. Poměrně zajímavé, under the hood. Pokud mám problémy s nějakým loadingem apod..vždy kouknout na sys.path, tzn. lze to řešit stejně jako se řešilo v djangu apod., samozřejmě nikoliv absolutně ale relativně"
   ]
  },
  {
   "cell_type": "markdown",
   "metadata": {},
   "source": [
    "## Import Variants and Misconceptions"
   ]
  },
  {
   "cell_type": "code",
   "execution_count": 110,
   "metadata": {},
   "outputs": [],
   "source": [
    "import sys"
   ]
  },
  {
   "cell_type": "code",
   "execution_count": 111,
   "metadata": {},
   "outputs": [
    {
     "data": {
      "text/plain": [
       "False"
      ]
     },
     "execution_count": 111,
     "metadata": {},
     "output_type": "execute_result"
    }
   ],
   "source": [
    "\"cmath\" in sys.modules"
   ]
  },
  {
   "cell_type": "code",
   "execution_count": 112,
   "metadata": {},
   "outputs": [
    {
     "data": {
      "text/plain": [
       "False"
      ]
     },
     "execution_count": 112,
     "metadata": {},
     "output_type": "execute_result"
    }
   ],
   "source": [
    "\"cmath\" in globals()"
   ]
  },
  {
   "cell_type": "markdown",
   "metadata": {},
   "source": [
    "Pouze kontrolujeme že cmath nikde není."
   ]
  },
  {
   "cell_type": "code",
   "execution_count": 113,
   "metadata": {},
   "outputs": [],
   "source": [
    "from cmath import exp"
   ]
  },
  {
   "cell_type": "code",
   "execution_count": 114,
   "metadata": {},
   "outputs": [
    {
     "data": {
      "text/plain": [
       "(False, True)"
      ]
     },
     "execution_count": 114,
     "metadata": {},
     "output_type": "execute_result"
    }
   ],
   "source": [
    "\"cmath\" in globals(), \"exp\" in globals()"
   ]
  },
  {
   "cell_type": "markdown",
   "metadata": {},
   "source": [
    "Nyní jsme cmath importovali - ale importovali jsme jen exp - takže cmath v globals není ale exp ano."
   ]
  },
  {
   "cell_type": "code",
   "execution_count": 115,
   "metadata": {},
   "outputs": [
    {
     "data": {
      "text/plain": [
       "True"
      ]
     },
     "execution_count": 115,
     "metadata": {},
     "output_type": "execute_result"
    }
   ],
   "source": [
    "\"cmath\" in sys.modules"
   ]
  },
  {
   "cell_type": "markdown",
   "metadata": {},
   "source": [
    "Jenže cmath je jako celek v sys.modules, tzn pokud importuji jen část zabere to stejně jako když importuji celek?"
   ]
  },
  {
   "cell_type": "code",
   "execution_count": 118,
   "metadata": {},
   "outputs": [],
   "source": [
    "cmath = sys.modules[\"cmath\"]"
   ]
  },
  {
   "cell_type": "code",
   "execution_count": 119,
   "metadata": {},
   "outputs": [
    {
     "data": {
      "text/plain": [
       "3.141592653589793"
      ]
     },
     "execution_count": 119,
     "metadata": {},
     "output_type": "execute_result"
    }
   ],
   "source": [
    "cmath.pi"
   ]
  },
  {
   "cell_type": "markdown",
   "metadata": {},
   "source": [
    "Pouze dokazujeme, že cmath je v sys modulu, že se naimprotoval. Ikdyž jsem přesně nenapsal ..from cmath import pi - dostanu se stejně na něj protože už je v sys modulu"
   ]
  },
  {
   "cell_type": "code",
   "execution_count": 120,
   "metadata": {},
   "outputs": [],
   "source": [
    "from cmath import * #nyní importuji vše"
   ]
  },
  {
   "cell_type": "code",
   "execution_count": 121,
   "metadata": {},
   "outputs": [
    {
     "data": {
      "text/plain": [
       "(3.4209548611170133-1.5093064853236156j)"
      ]
     },
     "execution_count": 121,
     "metadata": {},
     "output_type": "execute_result"
    }
   ],
   "source": [
    "sin(2+2j)"
   ]
  },
  {
   "cell_type": "code",
   "execution_count": 122,
   "metadata": {},
   "outputs": [],
   "source": [
    "from math import *"
   ]
  },
  {
   "cell_type": "markdown",
   "metadata": {},
   "source": [
    "Nyní pokud bych se podíval na Globals() - jelikož mám stejná jména, přepíšou se z cmath na math."
   ]
  },
  {
   "cell_type": "code",
   "execution_count": 123,
   "metadata": {},
   "outputs": [
    {
     "ename": "TypeError",
     "evalue": "can't convert complex to float",
     "output_type": "error",
     "traceback": [
      "\u001b[1;31m---------------------------------------------------------------------------\u001b[0m",
      "\u001b[1;31mTypeError\u001b[0m                                 Traceback (most recent call last)",
      "\u001b[1;32m<ipython-input-123-bf68684de58d>\u001b[0m in \u001b[0;36m<module>\u001b[1;34m\u001b[0m\n\u001b[1;32m----> 1\u001b[1;33m \u001b[0msin\u001b[0m\u001b[1;33m(\u001b[0m\u001b[1;36m2\u001b[0m\u001b[1;33m+\u001b[0m\u001b[1;36m2j\u001b[0m\u001b[1;33m)\u001b[0m\u001b[1;33m\u001b[0m\u001b[1;33m\u001b[0m\u001b[0m\n\u001b[0m",
      "\u001b[1;31mTypeError\u001b[0m: can't convert complex to float"
     ]
    }
   ],
   "source": [
    "sin(2+2j)"
   ]
  },
  {
   "cell_type": "markdown",
   "metadata": {},
   "source": [
    "A co je sranda :), cmath umí pracovat s iracionálními čísly ale math ne. "
   ]
  },
  {
   "cell_type": "markdown",
   "metadata": {},
   "source": [
    "TAKŽE POZOR NA VÍCE IMPORTŮ A NA SHODNÉ NÁZVY"
   ]
  },
  {
   "cell_type": "code",
   "execution_count": 125,
   "metadata": {},
   "outputs": [],
   "source": [
    "from cmath import sin\n",
    "from math import sin as r_sin \n",
    "#další důvod proč používat aliasy"
   ]
  },
  {
   "cell_type": "markdown",
   "metadata": {},
   "source": [
    "#### Efektivita"
   ]
  },
  {
   "cell_type": "code",
   "execution_count": 126,
   "metadata": {},
   "outputs": [],
   "source": [
    "def my_func(a):\n",
    "    import math\n",
    "    return math.sqrt(a)"
   ]
  },
  {
   "cell_type": "code",
   "execution_count": 127,
   "metadata": {},
   "outputs": [],
   "source": [
    "from time import perf_counter"
   ]
  },
  {
   "cell_type": "code",
   "execution_count": 129,
   "metadata": {},
   "outputs": [],
   "source": [
    "from collections import namedtuple"
   ]
  },
  {
   "cell_type": "code",
   "execution_count": 147,
   "metadata": {},
   "outputs": [],
   "source": [
    "Timings = namedtuple(\"Timings\", \"timing_1m timing_2 abs_diff rel_diff_perc\")\n",
    "#prostě jen named tuple o 4 hodnotách"
   ]
  },
  {
   "cell_type": "code",
   "execution_count": 148,
   "metadata": {},
   "outputs": [],
   "source": [
    "def compare_timings(timing1, timing2):\n",
    "    rel_diff = (timing2 - timing1) / timing1 *100\n",
    "    \n",
    "    timings = Timings(round(timing1, 1),\n",
    "                     round(timing2, 1),\n",
    "                     round(timing2 - timing1, 1),\n",
    "                     round(rel_diff, 2))\n",
    "    return timings\n",
    "#a zde pouze dodávám hodnoty do named tuple nic víc\n",
    "#více méně jen zaokrouhluji na celé hodnoty a počítám rozdíl\n",
    "#mezi oběmi hodnotami"
   ]
  },
  {
   "cell_type": "code",
   "execution_count": 146,
   "metadata": {},
   "outputs": [
    {
     "data": {
      "text/plain": [
       "Timings(timing_1m=1, timing_2=2, abs_diff=1, rel_diff_perc=100.0)"
      ]
     },
     "execution_count": 146,
     "metadata": {},
     "output_type": "execute_result"
    }
   ],
   "source": [
    "compare_timings(1,2)"
   ]
  },
  {
   "cell_type": "code",
   "execution_count": 160,
   "metadata": {},
   "outputs": [],
   "source": [
    "test_repeats = 10_000_000"
   ]
  },
  {
   "cell_type": "markdown",
   "metadata": {},
   "source": [
    "#### Časování importujeme pouze math"
   ]
  },
  {
   "cell_type": "code",
   "execution_count": 161,
   "metadata": {},
   "outputs": [
    {
     "name": "stdout",
     "output_type": "stream",
     "text": [
      "Elapsed 2.1762784000002284\n"
     ]
    }
   ],
   "source": [
    "import math\n",
    "\n",
    "start = perf_counter()\n",
    "\n",
    "for _ in range(test_repeats):\n",
    "    math.sqrt(2)\n",
    "    \n",
    "end = perf_counter()\n",
    "\n",
    "elapsed_fully_qualified = end - start\n",
    "print(f\"Elapsed {elapsed_fully_qualified}\")\n",
    "#jen provádím iterace a časuji je - jen import math"
   ]
  },
  {
   "cell_type": "markdown",
   "metadata": {},
   "source": [
    "#### Časování importujeme přímo sqrt"
   ]
  },
  {
   "cell_type": "code",
   "execution_count": 162,
   "metadata": {},
   "outputs": [
    {
     "name": "stdout",
     "output_type": "stream",
     "text": [
      "Elapsed 2.028711900000417\n"
     ]
    }
   ],
   "source": [
    "from math import sqrt\n",
    "\n",
    "start = perf_counter()\n",
    "\n",
    "for _ in range(test_repeats):\n",
    "    math.sqrt(2)\n",
    "    \n",
    "end = perf_counter()\n",
    "\n",
    "elapsed_direct_qualified = end - start\n",
    "print(f\"Elapsed {elapsed_direct_qualified}\")\n",
    "#to samé ale importuji přesně to co chci"
   ]
  },
  {
   "cell_type": "code",
   "execution_count": 163,
   "metadata": {},
   "outputs": [
    {
     "data": {
      "text/plain": [
       "Timings(timing_1m=2.2, timing_2=2.0, abs_diff=-0.1, rel_diff_perc=-6.78)"
      ]
     },
     "execution_count": 163,
     "metadata": {},
     "output_type": "execute_result"
    }
   ],
   "source": [
    "compare_timings(elapsed_fully_qualified, elapsed_direct_qualified)"
   ]
  },
  {
   "cell_type": "markdown",
   "metadata": {},
   "source": [
    "Na 10 milionu iterací - mám rozdíl 6,6% ...takže nic extra, rozdíl mezi import math nebo import přímo"
   ]
  },
  {
   "cell_type": "markdown",
   "metadata": {},
   "source": [
    "#### Časování pomocí import a funkce"
   ]
  },
  {
   "cell_type": "code",
   "execution_count": 174,
   "metadata": {},
   "outputs": [
    {
     "name": "stdout",
     "output_type": "stream",
     "text": [
      "Elapsed 3.1424834999997984\n"
     ]
    }
   ],
   "source": [
    "import math\n",
    "\n",
    "def func():\n",
    "    math.sqrt(2)\n",
    "    \n",
    "    \n",
    "start = perf_counter()\n",
    "\n",
    "for _ in range(test_repeats):\n",
    "    func()\n",
    "    \n",
    "end = perf_counter()\n",
    "\n",
    "elapsed_func__qualified = end - start\n",
    "print(f\"Elapsed {elapsed_func__qualified}\")"
   ]
  },
  {
   "cell_type": "markdown",
   "metadata": {},
   "source": [
    "Mám to o něco pomalejší ale nic extra."
   ]
  },
  {
   "cell_type": "markdown",
   "metadata": {},
   "source": [
    "#### Nested imports"
   ]
  },
  {
   "cell_type": "code",
   "execution_count": 176,
   "metadata": {},
   "outputs": [
    {
     "name": "stdout",
     "output_type": "stream",
     "text": [
      "Elapsed 3.4598697000001266\n"
     ]
    }
   ],
   "source": [
    "def func():\n",
    "    import math\n",
    "\n",
    "start = perf_counter()\n",
    "\n",
    "for _ in range(test_repeats):\n",
    "    func()\n",
    "    \n",
    "end = perf_counter()\n",
    "\n",
    "elapsed_nested__qualified = end - start\n",
    "print(f\"Elapsed {elapsed_nested__qualified}\")"
   ]
  },
  {
   "cell_type": "markdown",
   "metadata": {},
   "source": [
    "Jakmile mám import math mám zase mírně pomalejší ale stále nic extra."
   ]
  },
  {
   "cell_type": "code",
   "execution_count": 179,
   "metadata": {},
   "outputs": [
    {
     "name": "stdout",
     "output_type": "stream",
     "text": [
      "Elapsed 9.718756000000212\n"
     ]
    }
   ],
   "source": [
    "def func():\n",
    "    from math import sqrt\n",
    "    sqrt(2)\n",
    "        \n",
    "start = perf_counter()\n",
    "\n",
    "for _ in range(test_repeats):\n",
    "    func()\n",
    "    \n",
    "end = perf_counter()\n",
    "\n",
    "elapsed_nested2__qualified = end - start\n",
    "print(f\"Elapsed {elapsed_nested2__qualified}\")"
   ]
  },
  {
   "cell_type": "markdown",
   "metadata": {},
   "source": [
    "Nyní máme výrazné zpoždění. Takže mýtus, importuj číst a ne modul je v podstatě mimo."
   ]
  },
  {
   "cell_type": "markdown",
   "metadata": {},
   "source": [
    "## __main__"
   ]
  },
  {
   "cell_type": "markdown",
   "metadata": {},
   "source": [
    "V Jupyteru to nejde - takže zde dodáme pouze teorii."
   ]
  },
  {
   "cell_type": "markdown",
   "metadata": {},
   "source": [
    "- mám například run.py soubor - a pokud chci vytisknout __name__ ->\n",
    "- vypíše mi to main --> ikdyž mám run.py\n",
    "- jakmile založím druhý .py se stejným zápisem tak importovaný se z main změní na jméno svého souboru\n",
    "- tzn. soubor který spouští se vždy změní na main\n",
    "- exekuční soubor je tedy main"
   ]
  },
  {
   "cell_type": "code",
   "execution_count": 180,
   "metadata": {},
   "outputs": [],
   "source": [
    "#proto zapisujeme if __name__ = \"__main__\""
   ]
  },
  {
   "cell_type": "code",
   "execution_count": 181,
   "metadata": {},
   "outputs": [],
   "source": [
    "# import argparse --> umožňuje nám zapínat ze souboru určité části v příkazovém řádku\n",
    "# tzn. mohu poté napsat něco jako python timing.py \"code..something\""
   ]
  },
  {
   "cell_type": "markdown",
   "metadata": {},
   "source": [
    "V podstatě mohu dodat poté za to argument, neboli co se má dít pokud \"invokuji\" přesně ten daný soubor a naopak co se např. dít nemá."
   ]
  },
  {
   "cell_type": "code",
   "execution_count": 182,
   "metadata": {},
   "outputs": [],
   "source": [
    "## argparser je poměrně zajímavý dodatek \n",
    "#znovu spíše reference, něco ve stylu - tohle jde takto .."
   ]
  },
  {
   "cell_type": "markdown",
   "metadata": {},
   "source": [
    "V podstatě do if name = main - tak zde dodal právě informace, které se zobrazí v příkazovém řádků, protože tam na 100% spouštíme právě daný program a navíc se nám to neobjeví v klasickém compilátoru a nedělá to bordel. Tzn..zde si jako upgradnul skript o dodatečné info pro případ, že by skript někdo spouštěl v cmd."
   ]
  },
  {
   "cell_type": "markdown",
   "metadata": {},
   "source": [
    "#### SKRIPT JE MAIN POKUD JE SPUŠTĚN PŘÍMO - Z TOHO VZNIKÁ PÁKA KTERÁ MŮŽE DEFINOVAT PODMÍNKY - KDY SE NĚCO SPUSTÍ A KDY NE"
   ]
  },
  {
   "cell_type": "markdown",
   "metadata": {},
   "source": [
    "Další zajímavé využití je - když pojmenuji složku main. A spustím například v cmd prostě jen složku :). Tak spustí složku - tím že spustí právě main složku - viz. django a to samé že mohu pythonem volat takto zip soubory - pokud mají v sobě main"
   ]
  },
  {
   "cell_type": "code",
   "execution_count": 183,
   "metadata": {},
   "outputs": [],
   "source": [
    "# tzn. fakt že main je spouštěč dává svůj smysl"
   ]
  },
  {
   "cell_type": "markdown",
   "metadata": {},
   "source": [
    "## Packages"
   ]
  },
  {
   "cell_type": "markdown",
   "metadata": {},
   "source": [
    "- V podstatě balíčky modulů, vytvýří se nám hiearchie.\n",
    "- Moduly obsahující moduly a musí mít atribut path\n",
    "- Pokud disponuje atributem path je to package\n",
    "- Ani modul ani package nemusí bát soubor ale většinou jsou\n",
    "- pack1.mod apod....navíc se na sebe stackují ..\n",
    "- import pack1.pack1_1.module1 - 2 package a module\n",
    "- nedjříve importuje pack1 poté pack1_1 a poté module1\n",
    "- proto sys modul v podstatě naimportuje všechno ikdyž chceme něco posledního\n",
    "- ale namespace obsahuje jen pack1 (ale sys vše)\n",
    "- PEP302 zdroj \n",
    "- package cesta se vytváří klasicky - složky a soubory\n",
    "- abychom mohli definovat package musím v našem systému souborů mít\n",
    "- složku která je v podstatě název package a vní musí být soubor init.py\n",
    "- init.py v podstatě říká pythonu že se jedná o package\n",
    "- pokud nemáme init.py - python vytváří implicitní namespace package\n",
    "- app / pack1 / init.py, module1.py, module2.py \n",
    "- pokud chceme importujeme pack1 - získáme jej z init..\n",
    "- pack1 je přidán do namespace ale namísto od modulu má path atribut \n",
    "- kde path bude absolutní cesta právě k té složce kde je vše určeno\n",
    "- file property není teď jako u modulu složka modulu ale init\n",
    "- pokud máme nested packages -> musíme mít další init ...v podstatě co package to init"
   ]
  },
  {
   "cell_type": "markdown",
   "metadata": {},
   "source": [
    "### Proč packages?"
   ]
  },
  {
   "cell_type": "markdown",
   "metadata": {},
   "source": [
    "- prostě abychom měli správnou strcuturu - skládat vše postupně\n",
    "- jinak jsou větší projekty neuříditelné - tzn. jak máme scope v kodu\n",
    "- projektový scope je nezbytné - od shora ze spoda a je to ..snadné"
   ]
  },
  {
   "cell_type": "markdown",
   "metadata": {},
   "source": [
    "#### Struktura balíčků, Namespace balíčků a Import ze Zipu"
   ]
  },
  {
   "cell_type": "markdown",
   "metadata": {},
   "source": [
    "Pouze dodávám zpětnou referenci. Není prozatím třeba řešit - stačí mi znát základní logiku kodu."
   ]
  },
  {
   "cell_type": "markdown",
   "metadata": {},
   "source": [
    "## Závěr"
   ]
  },
  {
   "cell_type": "markdown",
   "metadata": {},
   "source": [
    "Velká část lekce byla již přeskočena, v podstatě info o packages již pro mě není aktuální důležité a jednalo by se o ztrátu času. Jako reference to ale poslouží skvěle, celá logika je zde velice dobře vysvětlená."
   ]
  }
 ],
 "metadata": {
  "kernelspec": {
   "display_name": "Python 3",
   "language": "python",
   "name": "python3"
  },
  "language_info": {
   "codemirror_mode": {
    "name": "ipython",
    "version": 3
   },
   "file_extension": ".py",
   "mimetype": "text/x-python",
   "name": "python",
   "nbconvert_exporter": "python",
   "pygments_lexer": "ipython3",
   "version": "3.8.2"
  }
 },
 "nbformat": 4,
 "nbformat_minor": 4
}
