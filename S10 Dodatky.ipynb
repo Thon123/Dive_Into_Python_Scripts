{
 "cells": [
  {
   "cell_type": "markdown",
   "metadata": {},
   "source": [
    "# Dodatky na závěr k CH1"
   ]
  },
  {
   "cell_type": "markdown",
   "metadata": {},
   "source": [
    "Tips and Tricks v podstatě"
   ]
  },
  {
   "cell_type": "markdown",
   "metadata": {},
   "source": [
    "## Dodatečné zdroje"
   ]
  },
  {
   "cell_type": "markdown",
   "metadata": {},
   "source": [
    "- oficinální dokumentace, v podstatě bible\n",
    "- PEP - Python Enchancement Proposals, né vše je v Pythonu ale i domítnuté části jsou přínosné\n",
    "- PEP8 - základ\n",
    "- PEP20 Zen of Python\n",
    "- PEP 484 - Type Hints\n",
    "- Obecně release schedule\n",
    "- Knihy pro doporučení:\n",
    "* Learning Python (1500s bible => od začátku do konce)\n",
    "* Fluent Python -> pokročilá četba\n",
    "* Python Cookbook - David Beazley \n",
    "* Effective Python 90 - Brett Slatkin\n",
    "* Python in a Nutshell - Marteli"
   ]
  },
  {
   "cell_type": "markdown",
   "metadata": {},
   "source": [
    "Přeskočeno:"
   ]
  },
  {
   "cell_type": "markdown",
   "metadata": {},
   "source": [
    "- 3.6 highlihgts\n",
    "- 3.6 f-string\n",
    "- 3.6 dict ordering\n",
    "- 3.6 order of kwargs a named tuple\n",
    "- V podstatě se jedná již o známá fakta z dřívějška. Lepší šetřit čas na zajímavější věci."
   ]
  },
  {
   "cell_type": "markdown",
   "metadata": {},
   "source": [
    "## Random Seeds"
   ]
  },
  {
   "cell_type": "markdown",
   "metadata": {},
   "source": [
    "- problém je obecně v tom, že máme vždy jiná čísla - nevíme jestli například nevzniká problém na základě určité kombinace apod.\n",
    "- nicméně lze je predikovat ačkoliv se jeví, že ne\n",
    "- například hod kostkou - při 10 milionu možností budeme mít +- stejnou četnost pro všechny hodnoty"
   ]
  },
  {
   "cell_type": "code",
   "execution_count": 2,
   "metadata": {},
   "outputs": [],
   "source": [
    "import random"
   ]
  },
  {
   "cell_type": "code",
   "execution_count": 3,
   "metadata": {},
   "outputs": [
    {
     "name": "stdout",
     "output_type": "stream",
     "text": [
      "18 0.31817793812273765\n",
      "20 0.27547648679860615\n",
      "18 0.35357213655116904\n",
      "14 0.4472696161815154\n",
      "11 0.642887386323512\n",
      "13 0.7879976268267834\n",
      "18 0.8809559994632897\n",
      "20 0.8918723537918591\n",
      "11 0.5193639764149933\n",
      "12 0.2567007559262735\n"
     ]
    }
   ],
   "source": [
    "for _ in range(10):\n",
    "    print(random.randint(10,20), random.random())\n",
    "    #randint generuje mezi 10-20 včetně\n",
    "    #ranbdom.random generuje float v rámci 1"
   ]
  },
  {
   "cell_type": "code",
   "execution_count": 4,
   "metadata": {},
   "outputs": [
    {
     "name": "stdout",
     "output_type": "stream",
     "text": [
      "11 0.597278761012794\n",
      "19 0.16970752236906417\n",
      "14 0.3785453919969759\n",
      "19 0.7007055903133372\n",
      "17 0.007795026124662541\n",
      "19 0.5797240427882889\n",
      "10 0.40448232836194264\n",
      "11 0.7902018312202078\n",
      "19 0.00894603163437313\n",
      "11 0.954605725351689\n"
     ]
    }
   ],
   "source": [
    "for _ in range(10):\n",
    "    print(random.randint(10,20), random.random())"
   ]
  },
  {
   "cell_type": "markdown",
   "metadata": {},
   "source": [
    "Vypadají náhodně."
   ]
  },
  {
   "cell_type": "code",
   "execution_count": 5,
   "metadata": {},
   "outputs": [],
   "source": [
    "random.seed(0)"
   ]
  },
  {
   "cell_type": "code",
   "execution_count": 6,
   "metadata": {},
   "outputs": [
    {
     "name": "stdout",
     "output_type": "stream",
     "text": [
      "16 0.7579544029403025\n",
      "16 0.04048437818077755\n",
      "18 0.48592769656281265\n",
      "14 0.9677999949201714\n",
      "15 0.5833820394550312\n",
      "13 0.5046868558173903\n",
      "14 0.1397457849666789\n",
      "11 0.6183689966753316\n",
      "14 0.9872592010330129\n",
      "18 0.9827854760376531\n"
     ]
    }
   ],
   "source": [
    "for _ in range(10):\n",
    "    print(random.randint(10,20), random.random())"
   ]
  },
  {
   "cell_type": "code",
   "execution_count": 7,
   "metadata": {},
   "outputs": [
    {
     "name": "stdout",
     "output_type": "stream",
     "text": [
      "19 0.9021659504395827\n",
      "14 0.09876334465914771\n",
      "11 0.8988382879679935\n",
      "20 0.33019721859799855\n",
      "18 0.1007012080683658\n",
      "16 0.31619669952159346\n",
      "20 0.9130110532378982\n",
      "18 0.47700977655271704\n",
      "18 0.2604923103919594\n",
      "18 0.9159944803568847\n"
     ]
    }
   ],
   "source": [
    "for _ in range(10):\n",
    "    print(random.randint(10,20), random.random())"
   ]
  },
  {
   "cell_type": "code",
   "execution_count": 8,
   "metadata": {},
   "outputs": [],
   "source": [
    "random.seed(0)"
   ]
  },
  {
   "cell_type": "code",
   "execution_count": 9,
   "metadata": {},
   "outputs": [
    {
     "name": "stdout",
     "output_type": "stream",
     "text": [
      "16 0.7579544029403025\n",
      "16 0.04048437818077755\n",
      "18 0.48592769656281265\n",
      "14 0.9677999949201714\n",
      "15 0.5833820394550312\n",
      "13 0.5046868558173903\n",
      "14 0.1397457849666789\n",
      "11 0.6183689966753316\n",
      "14 0.9872592010330129\n",
      "18 0.9827854760376531\n"
     ]
    }
   ],
   "source": [
    "for _ in range(10):\n",
    "    print(random.randint(10,20), random.random())"
   ]
  },
  {
   "cell_type": "markdown",
   "metadata": {},
   "source": [
    "Hmm a máme shodná čísla. Hodně jeté."
   ]
  },
  {
   "cell_type": "code",
   "execution_count": 16,
   "metadata": {},
   "outputs": [],
   "source": [
    "def generate_radon_stuff(seed=None):\n",
    "    random.seed(seed)\n",
    "    results = []\n",
    "    \n",
    "    for _ in range(5):\n",
    "        results.append(random.randint(0,5))\n",
    "        \n",
    "    characters = list(\"abc\")\n",
    "    random.shuffle(characters)\n",
    "    results.append(characters)\n",
    "    \n",
    "    for _ in range(5):\n",
    "        results.append(random.gauss(0,1))\n",
    "        \n",
    "    return results"
   ]
  },
  {
   "cell_type": "code",
   "execution_count": 26,
   "metadata": {
    "scrolled": true
   },
   "outputs": [
    {
     "data": {
      "text/plain": [
       "[1,\n",
       " 5,\n",
       " 0,\n",
       " 2,\n",
       " 3,\n",
       " ['c', 'b', 'a'],\n",
       " -2.7888376911727515,\n",
       " 0.03822692898884712,\n",
       " -0.4070867864841424,\n",
       " 1.8104429619713034,\n",
       " -0.1338724677130872]"
      ]
     },
     "execution_count": 26,
     "metadata": {},
     "output_type": "execute_result"
    }
   ],
   "source": [
    "generate_radon_stuff()"
   ]
  },
  {
   "cell_type": "markdown",
   "metadata": {},
   "source": [
    "Tento kod se mění pří spuštění."
   ]
  },
  {
   "cell_type": "code",
   "execution_count": 25,
   "metadata": {},
   "outputs": [
    {
     "data": {
      "text/plain": [
       "[3,\n",
       " 3,\n",
       " 0,\n",
       " 2,\n",
       " 4,\n",
       " ['a', 'c', 'b'],\n",
       " 1.6391095109274887,\n",
       " -0.9249345372119703,\n",
       " 0.9223306019157185,\n",
       " -0.1891931090669293,\n",
       " 0.5456115709634167]"
      ]
     },
     "execution_count": 25,
     "metadata": {},
     "output_type": "execute_result"
    }
   ],
   "source": [
    "generate_radon_stuff(0)"
   ]
  },
  {
   "cell_type": "markdown",
   "metadata": {},
   "source": [
    "Zde mám danou hodnotu seedu. Nicméně jakmile mám danou hodnotu seedu - nemám žádnou náhodnost. Už mám stále stejná data."
   ]
  },
  {
   "cell_type": "code",
   "execution_count": 27,
   "metadata": {},
   "outputs": [
    {
     "data": {
      "text/plain": [
       "[3,\n",
       " 3,\n",
       " 0,\n",
       " 2,\n",
       " 4,\n",
       " ['a', 'c', 'b'],\n",
       " 1.6391095109274887,\n",
       " -0.9249345372119703,\n",
       " 0.9223306019157185,\n",
       " -0.1891931090669293,\n",
       " 0.5456115709634167]"
      ]
     },
     "execution_count": 27,
     "metadata": {},
     "output_type": "execute_result"
    }
   ],
   "source": [
    "generate_radon_stuff(0)"
   ]
  },
  {
   "cell_type": "markdown",
   "metadata": {},
   "source": [
    "Seed mi zajistí konzistenci a vyruší náhodnost, pokud je stejný."
   ]
  },
  {
   "cell_type": "code",
   "execution_count": 28,
   "metadata": {},
   "outputs": [],
   "source": [
    "def freq_analysis(lst):\n",
    "    return {k: lst.count(k) for k in set(lst)}\n",
    "    #navrátíme co? dictionary comprehension\n",
    "    #kde klíč je k a jeho hodnota je počet z listu\n",
    "    #a to vše pro k z lst ale ve formě setu\n",
    "    "
   ]
  },
  {
   "cell_type": "code",
   "execution_count": 39,
   "metadata": {},
   "outputs": [],
   "source": [
    "lst = [random.randint(0,10) for _ in range(100)]\n",
    "#vytváříme prostě list o 100 hodnotách od 0-10"
   ]
  },
  {
   "cell_type": "code",
   "execution_count": 40,
   "metadata": {},
   "outputs": [
    {
     "name": "stdout",
     "output_type": "stream",
     "text": [
      "[10, 1, 1, 1, 3, 3, 0, 6, 0, 1, 6, 8, 8, 4, 7, 7, 9, 10, 3, 6, 1, 5, 3, 4, 9, 2, 6, 3, 5, 1, 1, 0, 8, 7, 10, 3, 1, 7, 6, 4, 3, 10, 0, 3, 9, 2, 1, 3, 7, 6, 5, 8, 2, 1, 9, 7, 2, 9, 6, 10, 10, 6, 8, 7, 10, 5, 7, 7, 10, 10, 3, 8, 9, 3, 0, 5, 5, 5, 0, 8, 2, 4, 9, 2, 6, 9, 4, 7, 1, 1, 8, 0, 1, 3, 2, 0, 4, 0, 7, 5]\n"
     ]
    }
   ],
   "source": [
    "print(lst) #ukázkově tiskneme"
   ]
  },
  {
   "cell_type": "code",
   "execution_count": 41,
   "metadata": {},
   "outputs": [
    {
     "data": {
      "text/plain": [
       "{0, 1, 2, 3, 4, 5, 6, 7, 8, 9, 10}"
      ]
     },
     "execution_count": 41,
     "metadata": {},
     "output_type": "execute_result"
    }
   ],
   "source": [
    "set(lst) #máme unikátní hodnoty"
   ]
  },
  {
   "cell_type": "code",
   "execution_count": 42,
   "metadata": {},
   "outputs": [
    {
     "data": {
      "text/plain": [
       "13"
      ]
     },
     "execution_count": 42,
     "metadata": {},
     "output_type": "execute_result"
    }
   ],
   "source": [
    "lst.count(1) #a zajímá nás kolikrát ty hodnoty máme - takto získáme jednu"
   ]
  },
  {
   "cell_type": "code",
   "execution_count": 43,
   "metadata": {},
   "outputs": [
    {
     "data": {
      "text/plain": [
       "{0: 9, 1: 13, 2: 7, 3: 12, 4: 6, 5: 8, 6: 9, 7: 11, 8: 8, 9: 8, 10: 9}"
      ]
     },
     "execution_count": 43,
     "metadata": {},
     "output_type": "execute_result"
    }
   ],
   "source": [
    "freq_analysis(lst)"
   ]
  },
  {
   "cell_type": "markdown",
   "metadata": {},
   "source": [
    "Prozatím nemáme moc vyrovnané hodnoty."
   ]
  },
  {
   "cell_type": "code",
   "execution_count": 46,
   "metadata": {},
   "outputs": [],
   "source": [
    "d = freq_analysis([random.randint(0,10) for _ in range(1_000_000)])"
   ]
  },
  {
   "cell_type": "code",
   "execution_count": 47,
   "metadata": {},
   "outputs": [
    {
     "data": {
      "text/plain": [
       "{0: 91248,\n",
       " 1: 91078,\n",
       " 2: 90660,\n",
       " 3: 90773,\n",
       " 4: 90572,\n",
       " 5: 91186,\n",
       " 6: 91013,\n",
       " 7: 90949,\n",
       " 8: 90441,\n",
       " 9: 90808,\n",
       " 10: 91272}"
      ]
     },
     "execution_count": 47,
     "metadata": {},
     "output_type": "execute_result"
    }
   ],
   "source": [
    "d"
   ]
  },
  {
   "cell_type": "markdown",
   "metadata": {},
   "source": [
    "A nyní vidíme co :) - všechny čísla jsou u 9000. Získáváme tak poměrně solidní distribuci."
   ]
  },
  {
   "cell_type": "code",
   "execution_count": 48,
   "metadata": {},
   "outputs": [],
   "source": [
    "total = sum(d.values())"
   ]
  },
  {
   "cell_type": "code",
   "execution_count": 49,
   "metadata": {},
   "outputs": [
    {
     "data": {
      "text/plain": [
       "1000000"
      ]
     },
     "execution_count": 49,
     "metadata": {},
     "output_type": "execute_result"
    }
   ],
   "source": [
    "total"
   ]
  },
  {
   "cell_type": "code",
   "execution_count": 50,
   "metadata": {},
   "outputs": [
    {
     "data": {
      "text/plain": [
       "{0: 9.1248,\n",
       " 1: 9.107800000000001,\n",
       " 2: 9.066,\n",
       " 3: 9.077300000000001,\n",
       " 4: 9.0572,\n",
       " 5: 9.1186,\n",
       " 6: 9.1013,\n",
       " 7: 9.0949,\n",
       " 8: 9.0441,\n",
       " 9: 9.0808,\n",
       " 10: 9.1272}"
      ]
     },
     "execution_count": 50,
     "metadata": {},
     "output_type": "execute_result"
    }
   ],
   "source": [
    "{k: v / total * 100 for k,v in d.items()}"
   ]
  },
  {
   "cell_type": "markdown",
   "metadata": {},
   "source": [
    "9,1% +- pro všechny ostatní."
   ]
  },
  {
   "cell_type": "code",
   "execution_count": 51,
   "metadata": {},
   "outputs": [],
   "source": [
    "from collections import Counter"
   ]
  },
  {
   "cell_type": "code",
   "execution_count": 52,
   "metadata": {},
   "outputs": [
    {
     "data": {
      "text/plain": [
       "Counter({18: 9316,\n",
       "         20: 9077,\n",
       "         15: 9128,\n",
       "         16: 9071,\n",
       "         11: 9029,\n",
       "         17: 9020,\n",
       "         12: 9118,\n",
       "         14: 9001,\n",
       "         10: 9034,\n",
       "         19: 9036,\n",
       "         13: 9170})"
      ]
     },
     "execution_count": 52,
     "metadata": {},
     "output_type": "execute_result"
    }
   ],
   "source": [
    "Counter([random.randint(10,20) for _ in range(100_000)])"
   ]
  },
  {
   "cell_type": "markdown",
   "metadata": {},
   "source": [
    "To samé jen s použitím Counter, poměrně zajímavá fičura."
   ]
  },
  {
   "cell_type": "markdown",
   "metadata": {},
   "source": [
    "## Random Choices"
   ]
  },
  {
   "cell_type": "markdown",
   "metadata": {},
   "source": [
    "Jak vybereme náhodný prvek například z listu?"
   ]
  },
  {
   "cell_type": "code",
   "execution_count": 54,
   "metadata": {},
   "outputs": [],
   "source": [
    "import random"
   ]
  },
  {
   "cell_type": "code",
   "execution_count": 55,
   "metadata": {},
   "outputs": [],
   "source": [
    "l = [10,20,30,40,50]"
   ]
  },
  {
   "cell_type": "code",
   "execution_count": 75,
   "metadata": {},
   "outputs": [
    {
     "data": {
      "text/plain": [
       "30"
      ]
     },
     "execution_count": 75,
     "metadata": {},
     "output_type": "execute_result"
    }
   ],
   "source": [
    "random_index = random.randrange(len(l))\n",
    "l[random_index]"
   ]
  },
  {
   "cell_type": "markdown",
   "metadata": {},
   "source": [
    "Přímočarej a poměrně jasný postup."
   ]
  },
  {
   "cell_type": "markdown",
   "metadata": {},
   "source": [
    "Nyní budeme chtít 5 náhodných elemntů"
   ]
  },
  {
   "cell_type": "code",
   "execution_count": 76,
   "metadata": {},
   "outputs": [],
   "source": [
    "l = list(range(1000))"
   ]
  },
  {
   "cell_type": "code",
   "execution_count": 78,
   "metadata": {},
   "outputs": [
    {
     "name": "stdout",
     "output_type": "stream",
     "text": [
      "[481, 839, 606, 202, 650]\n"
     ]
    }
   ],
   "source": [
    "randoms = []\n",
    "\n",
    "for _ in range(5):\n",
    "    randoms.append(l[random.randrange(len(l))])\n",
    "    \n",
    "print(randoms)"
   ]
  },
  {
   "cell_type": "markdown",
   "metadata": {},
   "source": [
    "Znovu poměrně přímoačé, stále používáme stejný postup, generujeme náhodné číslo z délky našich listů apod."
   ]
  },
  {
   "cell_type": "markdown",
   "metadata": {},
   "source": [
    "Není to však Pythonic?"
   ]
  },
  {
   "cell_type": "code",
   "execution_count": 82,
   "metadata": {},
   "outputs": [
    {
     "data": {
      "text/plain": [
       "819"
      ]
     },
     "execution_count": 82,
     "metadata": {},
     "output_type": "execute_result"
    }
   ],
   "source": [
    "random.choice(l) #tadá :) - prostě náhodně použije co potřebujeme"
   ]
  },
  {
   "cell_type": "code",
   "execution_count": 84,
   "metadata": {},
   "outputs": [
    {
     "name": "stdout",
     "output_type": "stream",
     "text": [
      "[214, 756, 921, 617, 20]\n"
     ]
    }
   ],
   "source": [
    "randoms = []\n",
    "\n",
    "for _ in range(5):\n",
    "    randoms.append(random.choice(l))\n",
    "    #takto snadněji pomocí random.choice\n",
    "    \n",
    "print(randoms)"
   ]
  },
  {
   "cell_type": "markdown",
   "metadata": {},
   "source": [
    "Nyní pomocí LH"
   ]
  },
  {
   "cell_type": "code",
   "execution_count": 87,
   "metadata": {},
   "outputs": [
    {
     "data": {
      "text/plain": [
       "[725, 916, 383, 450, 217]"
      ]
     },
     "execution_count": 87,
     "metadata": {},
     "output_type": "execute_result"
    }
   ],
   "source": [
    "randoms = [random.choice(l) for _ in range(5)]\n",
    "randoms\n",
    "# a ještě více Pythonic "
   ]
  },
  {
   "cell_type": "markdown",
   "metadata": {},
   "source": [
    "A ještě lepší řešení"
   ]
  },
  {
   "cell_type": "code",
   "execution_count": 89,
   "metadata": {},
   "outputs": [
    {
     "name": "stdout",
     "output_type": "stream",
     "text": [
      "[870, 820, 314, 907, 754]\n"
     ]
    }
   ],
   "source": [
    "randoms = random.choices(l, k=5)\n",
    "print(randoms)"
   ]
  },
  {
   "cell_type": "markdown",
   "metadata": {},
   "source": [
    "Takto je to ted nejsnadnější."
   ]
  },
  {
   "cell_type": "code",
   "execution_count": 90,
   "metadata": {},
   "outputs": [
    {
     "name": "stdout",
     "output_type": "stream",
     "text": [
      "[2, 3, 1, 1, 2, 3, 1, 2, 3, 2]\n"
     ]
    }
   ],
   "source": [
    "l = [1,2,3,4]\n",
    "\n",
    "randoms = [random.choice(l) for _ in range(10)]\n",
    "\n",
    "print(randoms)"
   ]
  },
  {
   "cell_type": "markdown",
   "metadata": {},
   "source": [
    "Zde je zajímavé, že vytváříme ze 4 elementů random volby o 10 elemntech. Tzn. znovu používá prvky, nevyndavá je pryč."
   ]
  },
  {
   "cell_type": "code",
   "execution_count": 91,
   "metadata": {},
   "outputs": [],
   "source": [
    "l = [\"a\",\"b\",\"c\"]"
   ]
  },
  {
   "cell_type": "code",
   "execution_count": 92,
   "metadata": {},
   "outputs": [
    {
     "name": "stdout",
     "output_type": "stream",
     "text": [
      "['b', 'b', 'b', 'a', 'a']\n",
      "['a', 'c', 'c', 'c', 'c']\n",
      "['c', 'c', 'c', 'c', 'b']\n",
      "['b', 'c', 'a', 'c', 'c']\n",
      "['c', 'a', 'b', 'b', 'a']\n",
      "['c', 'a', 'c', 'a', 'c']\n",
      "['c', 'b', 'c', 'b', 'a']\n",
      "['b', 'a', 'b', 'a', 'c']\n",
      "['c', 'a', 'b', 'b', 'a']\n",
      "['b', 'b', 'c', 'b', 'b']\n"
     ]
    }
   ],
   "source": [
    "for _ in range(10):\n",
    "    print(random.choices(l, k =5))"
   ]
  },
  {
   "cell_type": "markdown",
   "metadata": {},
   "source": [
    "10 vytváříme výběr o 5ti ze tří."
   ]
  },
  {
   "cell_type": "code",
   "execution_count": 93,
   "metadata": {},
   "outputs": [],
   "source": [
    "weights = [10,1,1]\n",
    "#váhy výběru jsou stejné - mohu ale nastavit co bude mít větší šanci výskytu"
   ]
  },
  {
   "cell_type": "code",
   "execution_count": 94,
   "metadata": {},
   "outputs": [
    {
     "name": "stdout",
     "output_type": "stream",
     "text": [
      "['a', 'a', 'a', 'c', 'b']\n",
      "['b', 'a', 'a', 'b', 'a']\n",
      "['a', 'a', 'a', 'a', 'b']\n",
      "['a', 'a', 'a', 'c', 'a']\n",
      "['a', 'a', 'c', 'a', 'a']\n",
      "['a', 'a', 'a', 'a', 'a']\n",
      "['b', 'a', 'a', 'a', 'a']\n",
      "['a', 'a', 'a', 'a', 'a']\n",
      "['a', 'a', 'a', 'a', 'a']\n",
      "['b', 'a', 'a', 'a', 'b']\n"
     ]
    }
   ],
   "source": [
    "for _ in range(10):\n",
    "    print(random.choices(l, k =5, weights = weights))"
   ]
  },
  {
   "cell_type": "markdown",
   "metadata": {},
   "source": [
    "A máme zde hromadu aček. Vše je poměrně jasné."
   ]
  },
  {
   "cell_type": "code",
   "execution_count": 96,
   "metadata": {},
   "outputs": [],
   "source": [
    "from collections import namedtuple\n",
    "\n",
    "Freq = namedtuple(\"Freq\", \"count freq\")"
   ]
  },
  {
   "cell_type": "code",
   "execution_count": 99,
   "metadata": {},
   "outputs": [],
   "source": [
    "def freq_counts(lst):\n",
    "    total = len(lst) #tohle je jasné\n",
    "    return {k: Freq(lst.count(k), 100 * lst.count(k) / total) for k in set(lst)}\n",
    "# dictionary je obecně k : namedtuple a to z kčen v setu z listu (unikátní hodnoty)\n",
    "#a named tuple je takto: Freq = namedtuple(\"Freq\", \"count freq\")\n",
    "#a hodnota pro count je: lst.count(k) - pročtě počet jasné\n",
    "#a hodnota pro freq je:  počet / total na %"
   ]
  },
  {
   "cell_type": "code",
   "execution_count": 100,
   "metadata": {},
   "outputs": [
    {
     "data": {
      "text/plain": [
       "{'a': Freq(count=326, freq=32.6),\n",
       " 'b': Freq(count=340, freq=34.0),\n",
       " 'c': Freq(count=334, freq=33.4)}"
      ]
     },
     "execution_count": 100,
     "metadata": {},
     "output_type": "execute_result"
    }
   ],
   "source": [
    "freq_counts(random.choices(l, k=1000))"
   ]
  },
  {
   "cell_type": "markdown",
   "metadata": {},
   "source": [
    "Nyní to otestujeme s našimi weights."
   ]
  },
  {
   "cell_type": "code",
   "execution_count": 102,
   "metadata": {},
   "outputs": [],
   "source": [
    "weights = [8,1,1] #očekáváme tak 80 10 10"
   ]
  },
  {
   "cell_type": "code",
   "execution_count": 104,
   "metadata": {},
   "outputs": [
    {
     "data": {
      "text/plain": [
       "{'c': Freq(count=92, freq=9.2),\n",
       " 'b': Freq(count=98, freq=9.8),\n",
       " 'a': Freq(count=810, freq=81.0)}"
      ]
     },
     "execution_count": 104,
     "metadata": {},
     "output_type": "execute_result"
    }
   ],
   "source": [
    "freq_counts(random.choices(l, k=1000, weights=weights))"
   ]
  },
  {
   "cell_type": "markdown",
   "metadata": {},
   "source": [
    "Vidíme, že weights fungují správně."
   ]
  },
  {
   "cell_type": "code",
   "execution_count": 106,
   "metadata": {},
   "outputs": [],
   "source": [
    "from time import perf_counter"
   ]
  },
  {
   "cell_type": "code",
   "execution_count": 107,
   "metadata": {},
   "outputs": [],
   "source": [
    "random.seed(0) #stabilní data"
   ]
  },
  {
   "cell_type": "code",
   "execution_count": 108,
   "metadata": {},
   "outputs": [],
   "source": [
    "denoms = random.choices([0, 1], k=10_000_000)\n",
    "#list 0 a 1"
   ]
  },
  {
   "cell_type": "code",
   "execution_count": 121,
   "metadata": {},
   "outputs": [
    {
     "name": "stdout",
     "output_type": "stream",
     "text": [
      "Avg elapsed time: 0.000000132225830\n"
     ]
    }
   ],
   "source": [
    "start = perf_counter()\n",
    "\n",
    "for d in denoms:\n",
    "    if d == 0:\n",
    "        continue\n",
    "    else:\n",
    "        10 / d\n",
    "end = perf_counter()\n",
    "\n",
    "print(f\"Avg elapsed time: {(end-start)/len(denoms):0.15f}\")\n",
    "#prostě jen dělím 10m hodnot a počítám jak dlouho to trvá\n",
    "#dávám podmínku aby přeskočil dělení 0"
   ]
  },
  {
   "cell_type": "markdown",
   "metadata": {},
   "source": [
    "A nyní s try"
   ]
  },
  {
   "cell_type": "code",
   "execution_count": 123,
   "metadata": {},
   "outputs": [
    {
     "name": "stdout",
     "output_type": "stream",
     "text": [
      "Avg elapsed time: 0.000000303325200\n"
     ]
    }
   ],
   "source": [
    "start = perf_counter()\n",
    "\n",
    "for d in denoms:\n",
    "    try:\n",
    "        10 / d\n",
    "    except ZeroDivisionError:\n",
    "        pass\n",
    "end = perf_counter()\n",
    "print(f\"Avg elapsed time: {(end-start)/len(denoms):0.15f}\")"
   ]
  },
  {
   "cell_type": "markdown",
   "metadata": {},
   "source": [
    "Trvá to výrazně víckrát."
   ]
  },
  {
   "cell_type": "code",
   "execution_count": 124,
   "metadata": {},
   "outputs": [],
   "source": [
    "denoms = random.choices([0, 1], k=10_000_000, weights=[1,9])\n",
    "#a o co jde - zde si pdomínkou tzn váhami vykryju menší výskyt hodnoty 0 a tudíž exception"
   ]
  },
  {
   "cell_type": "code",
   "execution_count": 125,
   "metadata": {},
   "outputs": [
    {
     "name": "stdout",
     "output_type": "stream",
     "text": [
      "Avg elapsed time: 0.000000160171360\n"
     ]
    }
   ],
   "source": [
    "start = perf_counter()\n",
    "\n",
    "for d in denoms:\n",
    "    try:\n",
    "        10 / d\n",
    "    except ZeroDivisionError:\n",
    "        pass\n",
    "end = perf_counter()\n",
    "print(f\"Avg elapsed time: {(end-start)/len(denoms):0.15f}\")"
   ]
  },
  {
   "cell_type": "markdown",
   "metadata": {},
   "source": [
    "A to samé ale za pomocí váhy je již výrazně kratší."
   ]
  },
  {
   "cell_type": "markdown",
   "metadata": {},
   "source": [
    "## Random Samples"
   ]
  },
  {
   "cell_type": "code",
   "execution_count": 126,
   "metadata": {},
   "outputs": [],
   "source": [
    "import random"
   ]
  },
  {
   "cell_type": "code",
   "execution_count": 127,
   "metadata": {},
   "outputs": [
    {
     "data": {
      "text/plain": [
       "['c', 'a', 'b', 'b', 'a', 'c', 'a', 'c', 'c', 'b']"
      ]
     },
     "execution_count": 127,
     "metadata": {},
     "output_type": "execute_result"
    }
   ],
   "source": [
    "random.choices(list(\"abc\"), k=10)"
   ]
  },
  {
   "cell_type": "markdown",
   "metadata": {},
   "source": [
    "Někdy ale chceme náhodnou selekci ze vzorce - tzn. chceme to s logikou - vytáhnu a už nepoužiji. Nemohli bych tak použít list o 3 pro 10 údajů."
   ]
  },
  {
   "cell_type": "code",
   "execution_count": 128,
   "metadata": {},
   "outputs": [
    {
     "name": "stdout",
     "output_type": "stream",
     "text": [
      "[0, 1, 2, 3, 4, 5, 6, 7, 8, 9]\n"
     ]
    }
   ],
   "source": [
    "l = list(range(10))\n",
    "print(l)"
   ]
  },
  {
   "cell_type": "code",
   "execution_count": 129,
   "metadata": {},
   "outputs": [
    {
     "data": {
      "text/plain": [
       "[0, 4, 8, 9, 4]"
      ]
     },
     "execution_count": 129,
     "metadata": {},
     "output_type": "execute_result"
    }
   ],
   "source": [
    "random.choices(l, k=5) #zde riskuji opakování"
   ]
  },
  {
   "cell_type": "code",
   "execution_count": 132,
   "metadata": {},
   "outputs": [
    {
     "ename": "ValueError",
     "evalue": "Sample larger than population or is negative",
     "output_type": "error",
     "traceback": [
      "\u001b[1;31m---------------------------------------------------------------------------\u001b[0m",
      "\u001b[1;31mValueError\u001b[0m                                Traceback (most recent call last)",
      "\u001b[1;32m<ipython-input-132-6f902f585b4d>\u001b[0m in \u001b[0;36m<module>\u001b[1;34m\u001b[0m\n\u001b[1;32m----> 1\u001b[1;33m \u001b[0mrandom\u001b[0m\u001b[1;33m.\u001b[0m\u001b[0msample\u001b[0m\u001b[1;33m(\u001b[0m\u001b[0ml\u001b[0m\u001b[1;33m,\u001b[0m \u001b[0mk\u001b[0m\u001b[1;33m=\u001b[0m\u001b[1;36m12\u001b[0m\u001b[1;33m)\u001b[0m\u001b[1;33m\u001b[0m\u001b[1;33m\u001b[0m\u001b[0m\n\u001b[0m\u001b[0;32m      2\u001b[0m \u001b[1;31m#takto mám sample - a vidím,že máme chybu protože nesmí být větší\u001b[0m\u001b[1;33m\u001b[0m\u001b[1;33m\u001b[0m\u001b[1;33m\u001b[0m\u001b[0m\n",
      "\u001b[1;32m~\\anaconda3\\envs\\pandas_playground\\lib\\random.py\u001b[0m in \u001b[0;36msample\u001b[1;34m(self, population, k)\u001b[0m\n\u001b[0;32m    361\u001b[0m         \u001b[0mn\u001b[0m \u001b[1;33m=\u001b[0m \u001b[0mlen\u001b[0m\u001b[1;33m(\u001b[0m\u001b[0mpopulation\u001b[0m\u001b[1;33m)\u001b[0m\u001b[1;33m\u001b[0m\u001b[1;33m\u001b[0m\u001b[0m\n\u001b[0;32m    362\u001b[0m         \u001b[1;32mif\u001b[0m \u001b[1;32mnot\u001b[0m \u001b[1;36m0\u001b[0m \u001b[1;33m<=\u001b[0m \u001b[0mk\u001b[0m \u001b[1;33m<=\u001b[0m \u001b[0mn\u001b[0m\u001b[1;33m:\u001b[0m\u001b[1;33m\u001b[0m\u001b[1;33m\u001b[0m\u001b[0m\n\u001b[1;32m--> 363\u001b[1;33m             \u001b[1;32mraise\u001b[0m \u001b[0mValueError\u001b[0m\u001b[1;33m(\u001b[0m\u001b[1;34m\"Sample larger than population or is negative\"\u001b[0m\u001b[1;33m)\u001b[0m\u001b[1;33m\u001b[0m\u001b[1;33m\u001b[0m\u001b[0m\n\u001b[0m\u001b[0;32m    364\u001b[0m         \u001b[0mresult\u001b[0m \u001b[1;33m=\u001b[0m \u001b[1;33m[\u001b[0m\u001b[1;32mNone\u001b[0m\u001b[1;33m]\u001b[0m \u001b[1;33m*\u001b[0m \u001b[0mk\u001b[0m\u001b[1;33m\u001b[0m\u001b[1;33m\u001b[0m\u001b[0m\n\u001b[0;32m    365\u001b[0m         \u001b[0msetsize\u001b[0m \u001b[1;33m=\u001b[0m \u001b[1;36m21\u001b[0m        \u001b[1;31m# size of a small set minus size of an empty list\u001b[0m\u001b[1;33m\u001b[0m\u001b[1;33m\u001b[0m\u001b[0m\n",
      "\u001b[1;31mValueError\u001b[0m: Sample larger than population or is negative"
     ]
    }
   ],
   "source": [
    "random.sample(l, k=12)\n",
    "#takto mám sample - a vidím,že máme chybu protože nesmí být větší"
   ]
  },
  {
   "cell_type": "code",
   "execution_count": 133,
   "metadata": {},
   "outputs": [
    {
     "data": {
      "text/plain": [
       "[8, 4, 9, 2, 1]"
      ]
     },
     "execution_count": 133,
     "metadata": {},
     "output_type": "execute_result"
    }
   ],
   "source": [
    "random.sample(l, k=5)"
   ]
  },
  {
   "cell_type": "markdown",
   "metadata": {},
   "source": [
    "Takže takto máme vše ok jak má být."
   ]
  },
  {
   "cell_type": "code",
   "execution_count": 135,
   "metadata": {},
   "outputs": [],
   "source": [
    "suits =  \"C\", \"D\", \"H\", \"S\"\n",
    "ranks = tuple(range(2,11)) + tuple(\"JQKA\")"
   ]
  },
  {
   "cell_type": "markdown",
   "metadata": {},
   "source": [
    "Tvořím si krabičku karet."
   ]
  },
  {
   "cell_type": "code",
   "execution_count": 136,
   "metadata": {},
   "outputs": [
    {
     "data": {
      "text/plain": [
       "(('C', 'D', 'H', 'S'), (2, 3, 4, 5, 6, 7, 8, 9, 10, 'J', 'Q', 'K', 'A'))"
      ]
     },
     "execution_count": 136,
     "metadata": {},
     "output_type": "execute_result"
    }
   ],
   "source": [
    "suits, ranks"
   ]
  },
  {
   "cell_type": "code",
   "execution_count": 137,
   "metadata": {},
   "outputs": [],
   "source": [
    "deck = []\n",
    "for suit in suits:\n",
    "    for rank in ranks:\n",
    "        deck.append(str(rank)+ suit)"
   ]
  },
  {
   "cell_type": "code",
   "execution_count": 139,
   "metadata": {},
   "outputs": [
    {
     "name": "stdout",
     "output_type": "stream",
     "text": [
      "['2C', '3C', '4C', '5C', '6C', '7C', '8C', '9C', '10C', 'JC', 'QC', 'KC', 'AC', '2D', '3D', '4D', '5D', '6D', '7D', '8D', '9D', '10D', 'JD', 'QD', 'KD', 'AD', '2H', '3H', '4H', '5H', '6H', '7H', '8H', '9H', '10H', 'JH', 'QH', 'KH', 'AH', '2S', '3S', '4S', '5S', '6S', '7S', '8S', '9S', '10S', 'JS', 'QS', 'KS', 'AS']\n"
     ]
    }
   ],
   "source": [
    "print(deck) #mám takto krabičku karet"
   ]
  },
  {
   "cell_type": "markdown",
   "metadata": {},
   "source": [
    "Lepší je ale pomocí LH."
   ]
  },
  {
   "cell_type": "code",
   "execution_count": 140,
   "metadata": {},
   "outputs": [],
   "source": [
    "deck = [str(rank) + suit for suit in suits for rank in ranks]"
   ]
  },
  {
   "cell_type": "code",
   "execution_count": 142,
   "metadata": {},
   "outputs": [
    {
     "name": "stdout",
     "output_type": "stream",
     "text": [
      "['2C', '3C', '4C', '5C', '6C', '7C', '8C', '9C', '10C', 'JC', 'QC', 'KC', 'AC', '2D', '3D', '4D', '5D', '6D', '7D', '8D', '9D', '10D', 'JD', 'QD', 'KD', 'AD', '2H', '3H', '4H', '5H', '6H', '7H', '8H', '9H', '10H', 'JH', 'QH', 'KH', 'AH', '2S', '3S', '4S', '5S', '6S', '7S', '8S', '9S', '10S', 'JS', 'QS', 'KS', 'AS']\n"
     ]
    }
   ],
   "source": [
    "print(deck)"
   ]
  },
  {
   "cell_type": "markdown",
   "metadata": {},
   "source": [
    "Mohu porovnat LH s klasickým zápisem. V podstatě konec klasického zápisu neboli CO TVOŘÍM je na začátku a z čeho to tvořím zapisuji již klasicky od shora. "
   ]
  },
  {
   "cell_type": "code",
   "execution_count": 145,
   "metadata": {},
   "outputs": [],
   "source": [
    "# PRO MĚ NEJLEPŠÍ NĚCO JAKO\n",
    "# pro barvu z barev a pro čísla z čísel chci formát čísla+barva\n",
    "# for suit in suits for rank in ranks str(rank)+suit\n",
    "#ale finální část musím dát nakonec :)"
   ]
  },
  {
   "cell_type": "markdown",
   "metadata": {},
   "source": [
    "LH si pamatovat logiku že koloběh je stejný tzn - nestíme postupně ale to co vkládáme tzn. to co apendíme na závěr tak dáváme na začátek - jinak se to nemění!"
   ]
  },
  {
   "cell_type": "code",
   "execution_count": 152,
   "metadata": {},
   "outputs": [],
   "source": [
    "s = (random.choices(deck, k=50))"
   ]
  },
  {
   "cell_type": "code",
   "execution_count": 151,
   "metadata": {},
   "outputs": [],
   "source": [
    "from collections import Counter"
   ]
  },
  {
   "cell_type": "code",
   "execution_count": 154,
   "metadata": {},
   "outputs": [
    {
     "name": "stdout",
     "output_type": "stream",
     "text": [
      "Counter({'4C': 4, 'KD': 4, '6S': 3, '8H': 2, '8S': 2, '8D': 2, '5D': 2, 'AC': 2, '6H': 2, '9H': 2, '10D': 2, '9S': 2, '4S': 2, '2S': 2, '10C': 1, '7H': 1, 'QC': 1, '4H': 1, '3C': 1, '7C': 1, '8C': 1, '5S': 1, '4D': 1, '9D': 1, 'JC': 1, 'QH': 1, 'JH': 1, '6C': 1, '7D': 1, 'KS': 1, '3H': 1})\n"
     ]
    }
   ],
   "source": [
    "print(Counter(s))"
   ]
  },
  {
   "cell_type": "markdown",
   "metadata": {},
   "source": [
    "Vidíme že máme opakování a to je špatně."
   ]
  },
  {
   "cell_type": "code",
   "execution_count": 156,
   "metadata": {},
   "outputs": [
    {
     "name": "stdout",
     "output_type": "stream",
     "text": [
      "Counter({'4C': 1, 'AC': 1, '10C': 1, '6H': 1, '8C': 1, 'KD': 1, '4H': 1, 'AD': 1, '10S': 1, '6C': 1, '7D': 1, '10H': 1, '3D': 1, '5H': 1, '3C': 1, '4D': 1, '3S': 1, '2S': 1, '7H': 1, '9C': 1, '9H': 1, 'QC': 1, '5S': 1, '5C': 1, '10D': 1, 'QS': 1, '8D': 1, '7S': 1, '6D': 1, '8S': 1, 'JC': 1, '2C': 1, '5D': 1, 'AS': 1, '4S': 1, 'JD': 1, '7C': 1, 'JS': 1, '3H': 1, '6S': 1, '9D': 1, 'JH': 1, 'QD': 1, '8H': 1, 'KH': 1, '2D': 1, '2H': 1, 'QH': 1, 'KS': 1, 'KC': 1, 'AH': 1, '9S': 1})\n"
     ]
    }
   ],
   "source": [
    "print(Counter(random.sample(deck, k=52)))"
   ]
  },
  {
   "cell_type": "markdown",
   "metadata": {},
   "source": [
    "A takto to mám dokonalé, vše unikátní."
   ]
  },
  {
   "cell_type": "markdown",
   "metadata": {},
   "source": [
    "## Časujeme pomocí Timeit!"
   ]
  },
  {
   "cell_type": "code",
   "execution_count": 163,
   "metadata": {},
   "outputs": [],
   "source": [
    "from timeit import timeit"
   ]
  },
  {
   "cell_type": "code",
   "execution_count": 164,
   "metadata": {},
   "outputs": [
    {
     "name": "stdout",
     "output_type": "stream",
     "text": [
      "Help on function timeit in module timeit:\n",
      "\n",
      "timeit(stmt='pass', setup='pass', timer=<built-in function perf_counter>, number=1000000, globals=None)\n",
      "    Convenience function to create Timer object and call timeit method.\n",
      "\n"
     ]
    }
   ],
   "source": [
    "help(timeit)"
   ]
  },
  {
   "cell_type": "markdown",
   "metadata": {},
   "source": [
    "Funkce potřebuje statement který bude časován. Dále potřebuje číslo  tzn. kolikrát bude testovat, výsledek je celková doba. Pozor timeit má svůj vlastní scope (tj. hodně divné :))"
   ]
  },
  {
   "cell_type": "code",
   "execution_count": 165,
   "metadata": {},
   "outputs": [
    {
     "data": {
      "text/plain": [
       "1.4142135623730951"
      ]
     },
     "execution_count": 165,
     "metadata": {},
     "output_type": "execute_result"
    }
   ],
   "source": [
    "import math\n",
    "math.sqrt(2)"
   ]
  },
  {
   "cell_type": "code",
   "execution_count": 166,
   "metadata": {},
   "outputs": [
    {
     "data": {
      "text/plain": [
       "1.4142135623730951"
      ]
     },
     "execution_count": 166,
     "metadata": {},
     "output_type": "execute_result"
    }
   ],
   "source": [
    "from math import sqrt\n",
    "sqrt(2)"
   ]
  },
  {
   "cell_type": "markdown",
   "metadata": {},
   "source": [
    "Budeme chtít řešit, který import je rychlejší."
   ]
  },
  {
   "cell_type": "code",
   "execution_count": 168,
   "metadata": {},
   "outputs": [
    {
     "data": {
      "text/plain": [
       "0.3086857999987842"
      ]
     },
     "execution_count": 168,
     "metadata": {},
     "output_type": "execute_result"
    }
   ],
   "source": [
    "timeit(stmt=\"import math\\nmath.sqrt(2)\")"
   ]
  },
  {
   "cell_type": "markdown",
   "metadata": {},
   "source": [
    "Statement obdržet dva řádky, nejdříve import math a poté na další řádku výpočet sqrt(2) a defaultně počít 1_000_000. Problém je, že i ten import dělá milionkrát (prvně a poté jej hledá)."
   ]
  },
  {
   "cell_type": "code",
   "execution_count": 170,
   "metadata": {},
   "outputs": [
    {
     "data": {
      "text/plain": [
       "0.16712899999765796"
      ]
     },
     "execution_count": 170,
     "metadata": {},
     "output_type": "execute_result"
    }
   ],
   "source": [
    "timeit(stmt=\"math.sqrt(2)\", setup=\"import math\")"
   ]
  },
  {
   "cell_type": "markdown",
   "metadata": {},
   "source": [
    "A máme to rychlejší, díky setup už importujem math jen jednou."
   ]
  },
  {
   "cell_type": "code",
   "execution_count": 173,
   "metadata": {},
   "outputs": [
    {
     "data": {
      "text/plain": [
       "0.12828169999920647"
      ]
     },
     "execution_count": 173,
     "metadata": {},
     "output_type": "execute_result"
    }
   ],
   "source": [
    "timeit(stmt=\"sqrt(2)\", setup=\"from math import sqrt\")"
   ]
  },
  {
   "cell_type": "markdown",
   "metadata": {},
   "source": [
    "A nyní pomocí konkrétního importu a vidíme, že máme mírně rychlejší. Ale směšný rozdíl, není to tak že by importy běželi milionkrát běžně a i tak není rozdíl."
   ]
  },
  {
   "cell_type": "code",
   "execution_count": 174,
   "metadata": {},
   "outputs": [
    {
     "data": {
      "text/plain": [
       "0.21178049999798532"
      ]
     },
     "execution_count": 174,
     "metadata": {},
     "output_type": "execute_result"
    }
   ],
   "source": [
    "timeit(stmt=\"math.sqrt(2)\", globals=globals())"
   ]
  },
  {
   "cell_type": "markdown",
   "metadata": {},
   "source": [
    "Tohle je velice zajímavý způsob, jelikož nemá globals() tak mu jej předáme a on si dohledá math právě v něm."
   ]
  },
  {
   "cell_type": "code",
   "execution_count": 180,
   "metadata": {},
   "outputs": [],
   "source": [
    "import random"
   ]
  },
  {
   "cell_type": "code",
   "execution_count": 181,
   "metadata": {},
   "outputs": [],
   "source": [
    "l = random.choices(list(\"python\"), k= 500)"
   ]
  },
  {
   "cell_type": "code",
   "execution_count": 183,
   "metadata": {},
   "outputs": [
    {
     "data": {
      "text/plain": [
       "True"
      ]
     },
     "execution_count": 183,
     "metadata": {},
     "output_type": "execute_result"
    }
   ],
   "source": [
    "\"l\" in globals()"
   ]
  },
  {
   "cell_type": "code",
   "execution_count": 184,
   "metadata": {},
   "outputs": [
    {
     "data": {
      "text/plain": [
       "0.6535904000011215"
      ]
     },
     "execution_count": 184,
     "metadata": {},
     "output_type": "execute_result"
    }
   ],
   "source": [
    "timeit(stmt=\"random.choice(l)\", setup=\"import random\", globals=globals())\n",
    "#jelikož neví co je l - musíme dávat globals ale jinak dáváme\n",
    "#jako setup import random"
   ]
  },
  {
   "cell_type": "code",
   "execution_count": 187,
   "metadata": {},
   "outputs": [
    {
     "data": {
      "text/plain": [
       "'n'"
      ]
     },
     "execution_count": 187,
     "metadata": {},
     "output_type": "execute_result"
    }
   ],
   "source": [
    "random.choice(l) #tzn. timoval jsem jen jak dlouho \n",
    "#mu trvá vzít jeden prvek.."
   ]
  },
  {
   "cell_type": "code",
   "execution_count": 198,
   "metadata": {},
   "outputs": [],
   "source": [
    "def pick_random():\n",
    "    randoms = random.choices(list(\"python\"), k= 500)\n",
    "    print(\"randoms\" in locals())\n",
    "    return timeit(stmt=\"random.choice(randoms)\", setup=\"import random\", \n",
    "           globals=globals())"
   ]
  },
  {
   "cell_type": "code",
   "execution_count": 199,
   "metadata": {},
   "outputs": [
    {
     "name": "stdout",
     "output_type": "stream",
     "text": [
      "True\n"
     ]
    },
    {
     "data": {
      "text/plain": [
       "0.6777871000012965"
      ]
     },
     "execution_count": 199,
     "metadata": {},
     "output_type": "execute_result"
    }
   ],
   "source": [
    "pick_random()"
   ]
  },
  {
   "cell_type": "markdown",
   "metadata": {},
   "source": [
    "Tak top byla zajímavá sonda pro timeit."
   ]
  },
  {
   "cell_type": "markdown",
   "metadata": {},
   "source": [
    "## Args a Kwargs kdy pojmenovávat a kdy ne"
   ]
  },
  {
   "cell_type": "code",
   "execution_count": 209,
   "metadata": {},
   "outputs": [],
   "source": [
    "def audit(func):\n",
    "    def inner(*args, **kwargs):\n",
    "        print(f\"Called {func.__name__}\")\n",
    "        return func(*args, **kwargs)\n",
    "    return inner\n",
    "#dekorátor je jasnej - spustí funkci jen vypíše jméno a provede funkci kterou dostane"
   ]
  },
  {
   "cell_type": "code",
   "execution_count": 210,
   "metadata": {},
   "outputs": [],
   "source": [
    "@audit\n",
    "def say_hello(name):\n",
    "    return f\"hello {name}\"\n",
    "\n",
    "from operator import mul\n",
    "from functools import reduce\n",
    "\n",
    "@audit\n",
    "def product(*values):\n",
    "    return reduce(mul, values)\n",
    "    #připomíjnka reduce je něco jako agregované funkce"
   ]
  },
  {
   "cell_type": "code",
   "execution_count": 207,
   "metadata": {},
   "outputs": [
    {
     "name": "stdout",
     "output_type": "stream",
     "text": [
      "Called say_hello\n"
     ]
    },
    {
     "data": {
      "text/plain": [
       "'hello Polly'"
      ]
     },
     "execution_count": 207,
     "metadata": {},
     "output_type": "execute_result"
    }
   ],
   "source": [
    "say_hello(name=\"Polly\")"
   ]
  },
  {
   "cell_type": "code",
   "execution_count": 208,
   "metadata": {},
   "outputs": [
    {
     "name": "stdout",
     "output_type": "stream",
     "text": [
      "Called product\n"
     ]
    },
    {
     "data": {
      "text/plain": [
       "120"
      ]
     },
     "execution_count": 208,
     "metadata": {},
     "output_type": "execute_result"
    }
   ],
   "source": [
    "product(1,2,3,4,5)"
   ]
  },
  {
   "cell_type": "markdown",
   "metadata": {},
   "source": [
    "O co zde tedy jde? Jen o to že decorátor může mtí args kwargs ale ostatní funkce mají své parametry a není v tom problém. Ba naopak název musí mít správný."
   ]
  },
  {
   "cell_type": "code",
   "execution_count": 215,
   "metadata": {},
   "outputs": [],
   "source": [
    "class Person:\n",
    "    def __init__(self, name, age, **custom_attributes):\n",
    "        self.name = name\n",
    "        self.age = age\n",
    "        for attr_name, attr_value in custom_attributes.items():\n",
    "            setattr(self, attr_name, attr_value)\n",
    "        #moc pěkný zápis více atributů, které obdrží classa"
   ]
  },
  {
   "cell_type": "markdown",
   "metadata": {},
   "source": [
    "A zde je naopak důležité naše pojmenování, tzn. že nedáváme kwargs ale custom_attributes protože nebudeme mít žádný dvojí význam, pouze jeden tak proč psát kwargs když můžu být více expresivní."
   ]
  },
  {
   "cell_type": "code",
   "execution_count": 216,
   "metadata": {},
   "outputs": [],
   "source": [
    "parrot = Person(\"Polly\", 101, status=\"stiff\", vooms=\"False\")"
   ]
  },
  {
   "cell_type": "code",
   "execution_count": 217,
   "metadata": {},
   "outputs": [
    {
     "name": "stdout",
     "output_type": "stream",
     "text": [
      "{'name': 'Polly', 'age': 101, 'status': 'stiff', 'vooms': 'False'}\n"
     ]
    }
   ],
   "source": [
    "print(vars(parrot))"
   ]
  },
  {
   "cell_type": "markdown",
   "metadata": {},
   "source": [
    "Pouze ukázka, že zde máme všechny parametry jak bylo třeba."
   ]
  },
  {
   "cell_type": "code",
   "execution_count": 218,
   "metadata": {},
   "outputs": [],
   "source": [
    "michael = Person(\"Palin\", 42, role=\"shopkeeper\", crooked=True)"
   ]
  },
  {
   "cell_type": "code",
   "execution_count": 219,
   "metadata": {},
   "outputs": [
    {
     "name": "stdout",
     "output_type": "stream",
     "text": [
      "{'name': 'Palin', 'age': 42, 'role': 'shopkeeper', 'crooked': True}\n"
     ]
    }
   ],
   "source": [
    "print(vars(michael))"
   ]
  },
  {
   "cell_type": "markdown",
   "metadata": {},
   "source": [
    "Pokud mám tedy jedibné použití pro args a kwargs - není třeba je tak pojmenovávat a dát jim pravý název. Pokud ale významů může být více poté je konvence args a kwargs na místě."
   ]
  },
  {
   "cell_type": "markdown",
   "metadata": {},
   "source": [
    "## CMD argumenty Arg Parser"
   ]
  },
  {
   "cell_type": "markdown",
   "metadata": {},
   "source": [
    "Jedná se o dodatečnou lekci na ARG PARSER - tzn. příkazový řádek a exekuce kodu v pythonu. Přeskakuji a poslouží pouze jako reference. Proč? Protože se nejedná o univerzální využití a je to více podobné 3RD party dodatku, který nemusím nikdy použít. Ideální je se jej učit AŽ v době kdy bude třeba."
   ]
  },
  {
   "cell_type": "markdown",
   "metadata": {},
   "source": [
    "## Sentinelové hodnoty pro Parametry (bariéry/ochrany?)"
   ]
  },
  {
   "cell_type": "code",
   "execution_count": 1,
   "metadata": {},
   "outputs": [],
   "source": [
    "def validate(a=None):\n",
    "    if a is not None:\n",
    "        print(\"argument was provided\")\n",
    "    else:\n",
    "        print(\"argument was not provided\")"
   ]
  },
  {
   "cell_type": "code",
   "execution_count": 2,
   "metadata": {},
   "outputs": [
    {
     "name": "stdout",
     "output_type": "stream",
     "text": [
      "argument was not provided\n"
     ]
    }
   ],
   "source": [
    "validate()"
   ]
  },
  {
   "cell_type": "code",
   "execution_count": 3,
   "metadata": {},
   "outputs": [
    {
     "name": "stdout",
     "output_type": "stream",
     "text": [
      "argument was provided\n"
     ]
    }
   ],
   "source": [
    "validate(10)"
   ]
  },
  {
   "cell_type": "code",
   "execution_count": 4,
   "metadata": {},
   "outputs": [
    {
     "name": "stdout",
     "output_type": "stream",
     "text": [
      "argument was not provided\n"
     ]
    }
   ],
   "source": [
    "validate(a=None)"
   ]
  },
  {
   "cell_type": "markdown",
   "metadata": {},
   "source": [
    "O co tady jde? Pokud mám hodnotu tak je řešení jasné - argument byl dodán a vše je v pořádku."
   ]
  },
  {
   "cell_type": "markdown",
   "metadata": {},
   "source": [
    "Pokud chci info za stavu kdy argument je None - nebyl dodán vše funguje jak má."
   ]
  },
  {
   "cell_type": "markdown",
   "metadata": {},
   "source": [
    "ALE CO KDYŽ CHCI MÍT NONE JAKO ARGUMENT? Používáme tzv. sentinel hodnoty"
   ]
  },
  {
   "cell_type": "code",
   "execution_count": 5,
   "metadata": {},
   "outputs": [],
   "source": [
    "a = object()"
   ]
  },
  {
   "cell_type": "code",
   "execution_count": 6,
   "metadata": {},
   "outputs": [
    {
     "data": {
      "text/plain": [
       "2273444660128"
      ]
     },
     "execution_count": 6,
     "metadata": {},
     "output_type": "execute_result"
    }
   ],
   "source": [
    "id(a)"
   ]
  },
  {
   "cell_type": "code",
   "execution_count": 7,
   "metadata": {},
   "outputs": [],
   "source": [
    "b = object()"
   ]
  },
  {
   "cell_type": "code",
   "execution_count": 8,
   "metadata": {},
   "outputs": [
    {
     "data": {
      "text/plain": [
       "2273444660272"
      ]
     },
     "execution_count": 8,
     "metadata": {},
     "output_type": "execute_result"
    }
   ],
   "source": [
    "id(b)"
   ]
  },
  {
   "cell_type": "markdown",
   "metadata": {},
   "source": [
    "Takže použiji id generovaného objektu jako parametru? Takže bdue vždy unikátní? :)"
   ]
  },
  {
   "cell_type": "code",
   "execution_count": 9,
   "metadata": {},
   "outputs": [],
   "source": [
    "_sentinel = object() #supposed to be private!"
   ]
  },
  {
   "cell_type": "code",
   "execution_count": 11,
   "metadata": {},
   "outputs": [],
   "source": [
    "def validate(a=_sentinel):\n",
    "    if a is not _sentinel:\n",
    "        print(\"argument was provided\")\n",
    "    else:\n",
    "        print(\"argument was not provided\")"
   ]
  },
  {
   "cell_type": "code",
   "execution_count": 12,
   "metadata": {},
   "outputs": [
    {
     "name": "stdout",
     "output_type": "stream",
     "text": [
      "argument was not provided\n",
      "argument was provided\n",
      "argument was provided\n"
     ]
    },
    {
     "data": {
      "text/plain": [
       "(None, None, None)"
      ]
     },
     "execution_count": 12,
     "metadata": {},
     "output_type": "execute_result"
    }
   ],
   "source": [
    "validate(), validate(10), validate(None)"
   ]
  },
  {
   "cell_type": "markdown",
   "metadata": {},
   "source": [
    "Takže takto nám to funguje krásně. Ale lepší inicializovat rovnou ve funkci? Musím to ale upravit jinak si neumí propojit object pokud jej budu čistě vytvářet."
   ]
  },
  {
   "cell_type": "code",
   "execution_count": 13,
   "metadata": {},
   "outputs": [],
   "source": [
    "def validate(a=object()):\n",
    "    default_a = validate.__defaults__[0]\n",
    "    #+- trochu divnější řešení ale funkční - moc nevím na co přesně se odkazuje\n",
    "    if a is not default_a:\n",
    "        print(\"argument was provided\")\n",
    "    else:\n",
    "        print(\"argument was not provided\")"
   ]
  },
  {
   "cell_type": "code",
   "execution_count": 27,
   "metadata": {},
   "outputs": [],
   "source": [
    "def validate(a=object(), b=object(),*, kw=object()):\n",
    "    \"\"\"validace více hodnot naráz\"\"\"\n",
    "    default_a = validate.__defaults__[0]\n",
    "    default_b = validate.__defaults__[1]\n",
    "    #defaults 0 a 1 - jsu odkazy na parametry funkce\n",
    "    default_kw = validate.__kwdefaults__[\"kw\"]\n",
    "    #další spešl dt kde získáme data - spíše vědět než chápat\n",
    "    #už by byla nutní introspekce\n",
    "    \n",
    "    print(default_a is default_b)\n",
    "    print(default_b is default_kw)\n",
    "    \n",
    "    if a is not default_a:\n",
    "        print(\"argument was provided - a\")\n",
    "    else:\n",
    "        print(\"argument was not provided-a\")\n",
    "        \n",
    "    if b is not default_b:\n",
    "        print(\"argument was provided-b\")\n",
    "    else:\n",
    "        print(\"argument was not provided-b\")\n",
    "        \n",
    "    if kw is not default_kw:\n",
    "        print(\"argument was provided-kw\")\n",
    "    else:\n",
    "        print(\"argument was not provided-kw\")"
   ]
  },
  {
   "cell_type": "code",
   "execution_count": 28,
   "metadata": {},
   "outputs": [
    {
     "name": "stdout",
     "output_type": "stream",
     "text": [
      "False\n",
      "False\n",
      "argument was provided - a\n",
      "argument was provided-b\n",
      "argument was provided-kw\n"
     ]
    }
   ],
   "source": [
    "validate(100,200,kw=None)"
   ]
  },
  {
   "cell_type": "code",
   "execution_count": 29,
   "metadata": {},
   "outputs": [
    {
     "name": "stdout",
     "output_type": "stream",
     "text": [
      "False\n",
      "False\n",
      "argument was provided - a\n",
      "argument was not provided-b\n",
      "argument was not provided-kw\n"
     ]
    }
   ],
   "source": [
    "validate (200)"
   ]
  },
  {
   "cell_type": "markdown",
   "metadata": {},
   "source": [
    "Vidíme, že to funguje i takto :)."
   ]
  },
  {
   "cell_type": "markdown",
   "metadata": {},
   "source": [
    "## Simulovaný Switch v Pythonu"
   ]
  },
  {
   "cell_type": "markdown",
   "metadata": {},
   "source": [
    "- Ve VBA něco ve stylu CASE1 CASE2 apod..tzn. na základě hodnoty - output\n",
    "- V jednoduché podobě to lze pomocí IF-ELIF .."
   ]
  },
  {
   "cell_type": "code",
   "execution_count": 35,
   "metadata": {},
   "outputs": [],
   "source": [
    "def dow_switch_fn(dow):\n",
    "    if dow ==1:\n",
    "        fn = lambda: print(\"Monday\")\n",
    "    elif dow == 2:\n",
    "        fn = lambda: print(\"Tuesday\")\n",
    "    elif dow == 3:\n",
    "        fn = lambda: print(\"Wensday\")\n",
    "    elif dow == 4:\n",
    "        fn = lambda: print(\"Thursday\")\n",
    "    elif dow == 5:\n",
    "        fn = lambda: print(\"Friday\")\n",
    "    elif dow == 6:\n",
    "        fn = lambda: print(\"Saturday\")\n",
    "    elif dow == 7:\n",
    "        fn = lambda: print(\"Sunday\")\n",
    "    else:\n",
    "        fn = lambda: print(\"Invalid day of week\")\n",
    "#pouze ukázka - že je to přesný ekvivalent Switch statemencu..case 1 ..case ..n\n",
    "#jinak by zápis mohl být lepší\n",
    "    return fn()\n",
    "#volání funkce není nutné ale aby to mohlo být více obecné"
   ]
  },
  {
   "cell_type": "code",
   "execution_count": 37,
   "metadata": {},
   "outputs": [
    {
     "name": "stdout",
     "output_type": "stream",
     "text": [
      "Thursday\n",
      "Invalid day of week\n"
     ]
    },
    {
     "data": {
      "text/plain": [
       "(None, None)"
      ]
     },
     "execution_count": 37,
     "metadata": {},
     "output_type": "execute_result"
    }
   ],
   "source": [
    "dow_switch_fn(4), dow_switch_fn(100)"
   ]
  },
  {
   "cell_type": "code",
   "execution_count": 44,
   "metadata": {},
   "outputs": [],
   "source": [
    "def dow_switch_dict(dow):\n",
    "    dow_dict = {\n",
    "        1: lambda: print(\"Monday\"),\n",
    "        2: lambda: print(\"Tuesday\"),\n",
    "        3: lambda: print(\"Wednesday\"),\n",
    "        4: lambda: print(\"Thursday\"),\n",
    "        5: lambda: print(\"Friday\"),\n",
    "        6: lambda: print(\"Saturday\"),\n",
    "        7: lambda: print(\"Sunday\"),\n",
    "        \"default\": lambda: print(\"Invalid day of week\")\n",
    "    }\n",
    "    \n",
    "    return dow_dict.get(dow, dow_dict[\"default\"])() \n",
    "    #používáme get - dovolí dám dodat default"
   ]
  },
  {
   "cell_type": "code",
   "execution_count": 46,
   "metadata": {},
   "outputs": [
    {
     "name": "stdout",
     "output_type": "stream",
     "text": [
      "Thursday\n",
      "Invalid day of week\n"
     ]
    },
    {
     "data": {
      "text/plain": [
       "(None, None)"
      ]
     },
     "execution_count": 46,
     "metadata": {},
     "output_type": "execute_result"
    }
   ],
   "source": [
    "dow_switch_fn(4), dow_switch_fn(100)"
   ]
  },
  {
   "cell_type": "markdown",
   "metadata": {},
   "source": [
    "A nyní pomocí našeho psycho dispatchingu."
   ]
  },
  {
   "cell_type": "code",
   "execution_count": 55,
   "metadata": {},
   "outputs": [],
   "source": [
    "def switcher(fn):\n",
    "    registry = dict()\n",
    "    registry[\"default\"] = fn\n",
    "    \n",
    "    def register(case):\n",
    "        def inner(fn):\n",
    "            registry[case] = fn\n",
    "            return fn #so we can stack register decorators\n",
    "        return inner\n",
    "\n",
    "    def decorator(case):\n",
    "        fn = registry.get(case, registry[\"default\"])\n",
    "        return fn\n",
    "    \n",
    "    decorator.register = register\n",
    "    return decorator\n",
    "    \n",
    "    "
   ]
  },
  {
   "cell_type": "code",
   "execution_count": 58,
   "metadata": {},
   "outputs": [
    {
     "data": {
      "text/plain": [
       "<function __main__.<lambda>()>"
      ]
     },
     "execution_count": 58,
     "metadata": {},
     "output_type": "execute_result"
    }
   ],
   "source": [
    "@switcher\n",
    "def dow():\n",
    "    return \"Invalid day of week\"\n",
    "#swticher dal funkci dow schopnost decorovat  \n",
    "\n",
    "@dow.register(1) #spouští registr-inner funkci - case 1\n",
    "def dow_1():\n",
    "    return \"Monday\"\n",
    "    \n",
    "dow.register(2)(lambda: \"Tuesday\")\n",
    "dow.register(3)(lambda: \"Wednesday\")\n",
    "dow.register(4)(lambda: \"Thursday\")\n",
    "dow.register(5)(lambda: \"Friday\")\n",
    "dow.register(6)(lambda: \"Saturday\")\n",
    "dow.register(7)(lambda: \"Sunday\")"
   ]
  },
  {
   "cell_type": "markdown",
   "metadata": {},
   "source": [
    "V podstatě mám tři switche. První EL-IF zvládne i cvičená opice. Druhý je stále ok, a třetí pomocí disptachingu - je na rozsáhlejší vstřebání. Obecně dispatching a deco v deco s deco factory - asi nejnáročnější látka z celé P1. AŽ se k dispatchingu dostanu v materiálech ideálně nakreslit."
   ]
  }
 ],
 "metadata": {
  "kernelspec": {
   "display_name": "Python 3",
   "language": "python",
   "name": "python3"
  },
  "language_info": {
   "codemirror_mode": {
    "name": "ipython",
    "version": 3
   },
   "file_extension": ".py",
   "mimetype": "text/x-python",
   "name": "python",
   "nbconvert_exporter": "python",
   "pygments_lexer": "ipython3",
   "version": "3.8.2"
  }
 },
 "nbformat": 4,
 "nbformat_minor": 4
}
