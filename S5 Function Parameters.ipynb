{
 "cells": [
  {
   "cell_type": "markdown",
   "metadata": {},
   "source": [
    "# Function Parameters"
   ]
  },
  {
   "cell_type": "markdown",
   "metadata": {},
   "source": [
    "## Argument vs parameters"
   ]
  },
  {
   "cell_type": "code",
   "execution_count": 2,
   "metadata": {},
   "outputs": [],
   "source": [
    "def my_func(a,b):\n",
    "    return a*b"
   ]
  },
  {
   "cell_type": "markdown",
   "metadata": {},
   "source": [
    "V tomto kontextu a a b jsou parametry funkce. Pokud ale funkci zavolam tzn my_func(x,y) jsou argumenty funkce."
   ]
  },
  {
   "cell_type": "markdown",
   "metadata": {},
   "source": [
    "- v podstate parametr je defaultni hodnota ktera se stane argumentem az v akci :]\n",
    "- argument je az u funkce co neco prebira\n",
    "- dulezite je brat v potaz ze nase parametry a pote argumenty - tak funkce obdrzi reference kde najde potrebne hodnoty"
   ]
  },
  {
   "cell_type": "markdown",
   "metadata": {},
   "source": [
    "## Positional and Keyword Arguments"
   ]
  },
  {
   "cell_type": "markdown",
   "metadata": {},
   "source": [
    "### Teorie"
   ]
  },
  {
   "cell_type": "markdown",
   "metadata": {},
   "source": [
    "- nejcastejsim stylem zadavanim argumentu je skrze poradi, pokud neurcim a zapisi pouze hodnoty tak si to funkce prebere sama\n",
    "- mohu specifikovat defaultni hodnoty, cimz znich vytvarim dobrovolne argumenty - pokud nespecifikuji vezme defaultni hodnotu\n",
    "- my_func(a, b = 100, c) - A JAK zapisi ted? Nejde, musel bych definovat i defaultne hodnotu c - JINAK RECENO - DEFAULTNI HODNOTY VZDY NA KONCI\n",
    "- Samozejme to lze resit ale skrze keyword argumenty - tzn definovat CO = CO :], tzn. keyword neboli named argument\n",
    "- Jakmile pouzivam keyword a named argumenty nepotrebuji dodrzovat poradi, samozrejme jakmile nejaky argument pojmenuji musim pojmenovat i dalsi - logicke ..porad je to jen komunikace, my_func(1,b=2,c=3) - funguje, plati ze do bodu dokud nezacnu pouzivat keyword ..takze po prvnim pojmenovani musim pojmenovvat dalsi"
   ]
  },
  {
   "cell_type": "markdown",
   "metadata": {},
   "source": [
    "### Code"
   ]
  },
  {
   "cell_type": "code",
   "execution_count": 4,
   "metadata": {},
   "outputs": [],
   "source": [
    "def my_func(a,b,c):\n",
    "    print (f'a={a}, b={b}, c={c}')"
   ]
  },
  {
   "cell_type": "code",
   "execution_count": 6,
   "metadata": {},
   "outputs": [
    {
     "name": "stdout",
     "output_type": "stream",
     "text": [
      "a=1, b=2, c=3\n"
     ]
    }
   ],
   "source": [
    "my_func(1,2,3)"
   ]
  },
  {
   "cell_type": "code",
   "execution_count": 7,
   "metadata": {},
   "outputs": [
    {
     "ename": "SyntaxError",
     "evalue": "non-default argument follows default argument (<ipython-input-7-ccd5d261afbc>, line 1)",
     "output_type": "error",
     "traceback": [
      "\u001b[1;36m  File \u001b[1;32m\"<ipython-input-7-ccd5d261afbc>\"\u001b[1;36m, line \u001b[1;32m1\u001b[0m\n\u001b[1;33m    def my_func(a,b=2,c):\u001b[0m\n\u001b[1;37m                ^\u001b[0m\n\u001b[1;31mSyntaxError\u001b[0m\u001b[1;31m:\u001b[0m non-default argument follows default argument\n"
     ]
    }
   ],
   "source": [
    "def my_func(a,b=2,c):\n",
    "    print (f'a={a}, b={b}, c={c}')\n",
    "#jasne a nefunkcni"
   ]
  },
  {
   "cell_type": "code",
   "execution_count": 9,
   "metadata": {},
   "outputs": [],
   "source": [
    "def my_func(a=10,b=20,c=30):\n",
    "    print (f'a={a}, b={b}, c={c}')"
   ]
  },
  {
   "cell_type": "code",
   "execution_count": 11,
   "metadata": {},
   "outputs": [
    {
     "name": "stdout",
     "output_type": "stream",
     "text": [
      "a=10, b=20, c=30\n"
     ]
    }
   ],
   "source": [
    "my_func() #vse defaultni nemusim zadavat nic "
   ]
  },
  {
   "cell_type": "code",
   "execution_count": 12,
   "metadata": {},
   "outputs": [],
   "source": [
    "def my_func(a,b=2,c):\n",
    "    print (f'a={a}, b={b}, c={c}')"
   ]
  },
  {
   "cell_type": "code",
   "execution_count": 15,
   "metadata": {},
   "outputs": [
    {
     "name": "stdout",
     "output_type": "stream",
     "text": [
      "a=4, b=4, c=8\n"
     ]
    }
   ],
   "source": [
    "my_func(b = 4, c = 8, a = 4) "
   ]
  },
  {
   "cell_type": "markdown",
   "metadata": {},
   "source": [
    "Zde pouzivam kezword argumenty. To uz je ciste na me. Poradi si muzu urcit. Jinak netreba resit vsechno je v teorii."
   ]
  },
  {
   "cell_type": "markdown",
   "metadata": {},
   "source": [
    "## Unpacking Iterables"
   ]
  },
  {
   "cell_type": "markdown",
   "metadata": {},
   "source": [
    "### Teorie P1"
   ]
  },
  {
   "cell_type": "markdown",
   "metadata": {},
   "source": [
    "- 1,2,3 je tuple\n",
    "- Jinymi slovy - zavorky netvori tuple\n",
    "- Pouze pokud chci vytvorit prazdny tuple pote staci ()\n",
    "- Nebo tuple() construktor"
   ]
  },
  {
   "cell_type": "code",
   "execution_count": 17,
   "metadata": {},
   "outputs": [
    {
     "data": {
      "text/plain": [
       "(1, 2, 3)"
      ]
     },
     "execution_count": 17,
     "metadata": {},
     "output_type": "execute_result"
    }
   ],
   "source": [
    "1,2,3 #tuple bez zavorek"
   ]
  },
  {
   "cell_type": "markdown",
   "metadata": {},
   "source": [
    "Packed Values"
   ]
  },
  {
   "cell_type": "markdown",
   "metadata": {},
   "source": [
    "- v podstate vse co lze iterovat je packed values..Listy, stringy, dictionaries apod..\n",
    "- unpackingem tak priradim hodnoty\n",
    "- a,b,c = [1,2,3] --> a1 b2 c3, poradi je postupne\n",
    "- a,b, c = 10, 20 , 'hello' --> v podstate 2 tupply co se spojujou \n",
    "- a,b, c = 'XYZ' aX bY cZ"
   ]
  },
  {
   "cell_type": "markdown",
   "metadata": {},
   "source": [
    "Swapping"
   ]
  },
  {
   "cell_type": "code",
   "execution_count": 19,
   "metadata": {},
   "outputs": [],
   "source": [
    "# tmp = a\n",
    "# a = b\n",
    "# b = tmp\n",
    "#Tahle logika je jasna ulozim si a do prechodne, prehodim a pote vratim"
   ]
  },
  {
   "cell_type": "markdown",
   "metadata": {},
   "source": [
    "Mame zde ale swapping v badass stylu"
   ]
  },
  {
   "cell_type": "markdown",
   "metadata": {},
   "source": [
    "- a,b = b,a\n",
    "- jede z pravda do leva v tomto pripade takze si vlevo vezme adresz pro a a b a pote je priradi pod nove nezname "
   ]
  },
  {
   "cell_type": "markdown",
   "metadata": {},
   "source": [
    "Unpacking Sets and Dictionaries"
   ]
  },
  {
   "cell_type": "markdown",
   "metadata": {},
   "source": [
    "Dictionaries and sets jsou unordered - ikdyz mozna uz to tak neplati? "
   ]
  },
  {
   "cell_type": "code",
   "execution_count": 34,
   "metadata": {},
   "outputs": [],
   "source": [
    "d = {'key1': 1,'key2': 2,'key3': 3}"
   ]
  },
  {
   "cell_type": "code",
   "execution_count": 35,
   "metadata": {},
   "outputs": [],
   "source": [
    "a,b,c = d"
   ]
  },
  {
   "cell_type": "code",
   "execution_count": 36,
   "metadata": {},
   "outputs": [
    {
     "data": {
      "text/plain": [
       "('key1', 'key2', 'key3')"
      ]
     },
     "execution_count": 36,
     "metadata": {},
     "output_type": "execute_result"
    }
   ],
   "source": [
    "a,b,c"
   ]
  },
  {
   "cell_type": "markdown",
   "metadata": {},
   "source": [
    "Zkusime tedy set"
   ]
  },
  {
   "cell_type": "code",
   "execution_count": 37,
   "metadata": {},
   "outputs": [],
   "source": [
    "s = {'a','b','c','d'}"
   ]
  },
  {
   "cell_type": "code",
   "execution_count": 38,
   "metadata": {},
   "outputs": [],
   "source": [
    "a,b,c,d = s"
   ]
  },
  {
   "cell_type": "code",
   "execution_count": 39,
   "metadata": {},
   "outputs": [
    {
     "data": {
      "text/plain": [
       "('a', 'c', 'd', 'b')"
      ]
     },
     "execution_count": 39,
     "metadata": {},
     "output_type": "execute_result"
    }
   ],
   "source": [
    "a,b,c,d"
   ]
  },
  {
   "cell_type": "markdown",
   "metadata": {},
   "source": [
    "Takze dictionaries jsou razeny nejspise? Ale sets jsou uz vice mimo."
   ]
  },
  {
   "cell_type": "markdown",
   "metadata": {},
   "source": [
    "### Coding P1"
   ]
  },
  {
   "cell_type": "code",
   "execution_count": 41,
   "metadata": {},
   "outputs": [
    {
     "data": {
      "text/plain": [
       "tuple"
      ]
     },
     "execution_count": 41,
     "metadata": {},
     "output_type": "execute_result"
    }
   ],
   "source": [
    "s = 1,2,3\n",
    "type(s) #jen mensi ukazka :]"
   ]
  },
  {
   "cell_type": "code",
   "execution_count": 42,
   "metadata": {},
   "outputs": [
    {
     "data": {
      "text/plain": [
       "int"
      ]
     },
     "execution_count": 42,
     "metadata": {},
     "output_type": "execute_result"
    }
   ],
   "source": [
    "a = (1)\n",
    "type(a) #na tohle pozor"
   ]
  },
  {
   "cell_type": "code",
   "execution_count": 43,
   "metadata": {},
   "outputs": [
    {
     "data": {
      "text/plain": [
       "tuple"
      ]
     },
     "execution_count": 43,
     "metadata": {},
     "output_type": "execute_result"
    }
   ],
   "source": [
    "a = (1,)\n",
    "type(a) #carka to je ten tvurci element"
   ]
  },
  {
   "cell_type": "code",
   "execution_count": 44,
   "metadata": {},
   "outputs": [
    {
     "data": {
      "text/plain": [
       "tuple"
      ]
     },
     "execution_count": 44,
     "metadata": {},
     "output_type": "execute_result"
    }
   ],
   "source": [
    "a = 100,\n",
    "type(a)"
   ]
  },
  {
   "cell_type": "code",
   "execution_count": 45,
   "metadata": {},
   "outputs": [
    {
     "data": {
      "text/plain": [
       "tuple"
      ]
     },
     "execution_count": 45,
     "metadata": {},
     "output_type": "execute_result"
    }
   ],
   "source": [
    "a = ()\n",
    "type(a) #a takto prazdny tuple"
   ]
  },
  {
   "cell_type": "code",
   "execution_count": 46,
   "metadata": {},
   "outputs": [
    {
     "data": {
      "text/plain": [
       "(['a', 'b'], {1, 2}, 10)"
      ]
     },
     "execution_count": 46,
     "metadata": {},
     "output_type": "execute_result"
    }
   ],
   "source": [
    "a, b, c = 10, {1,2}, ['a','b']\n",
    "c,b,a #mensi ukazka "
   ]
  },
  {
   "cell_type": "code",
   "execution_count": 47,
   "metadata": {},
   "outputs": [
    {
     "data": {
      "text/plain": [
       "(20, 10)"
      ]
     },
     "execution_count": 47,
     "metadata": {},
     "output_type": "execute_result"
    }
   ],
   "source": [
    "a, b = 10, 20\n",
    "a, b = b, a\n",
    "a, b #Nas perfektni swapping"
   ]
  },
  {
   "cell_type": "code",
   "execution_count": 48,
   "metadata": {},
   "outputs": [
    {
     "data": {
      "text/plain": [
       "('Z', 'Y', 'X')"
      ]
     },
     "execution_count": 48,
     "metadata": {},
     "output_type": "execute_result"
    }
   ],
   "source": [
    "a,b,c = 'XYZ'\n",
    "c,b,a"
   ]
  },
  {
   "cell_type": "code",
   "execution_count": 50,
   "metadata": {},
   "outputs": [
    {
     "data": {
      "text/plain": [
       "(1, 2, 3)"
      ]
     },
     "execution_count": 50,
     "metadata": {},
     "output_type": "execute_result"
    }
   ],
   "source": [
    "d = {'key1': 1,'key2': 2,'key3': 3}\n",
    "a,b,c = d.values()\n",
    "a,b,c\n",
    "#tohle je mensi ukazka ze lze unpuckovat i takto"
   ]
  },
  {
   "cell_type": "code",
   "execution_count": 51,
   "metadata": {},
   "outputs": [
    {
     "data": {
      "text/plain": [
       "(('key1', 1), ('key2', 2), ('key3', 3))"
      ]
     },
     "execution_count": 51,
     "metadata": {},
     "output_type": "execute_result"
    }
   ],
   "source": [
    "d = {'key1': 1,'key2': 2,'key3': 3}\n",
    "a,b,c = d.items()\n",
    "a,b,c"
   ]
  },
  {
   "cell_type": "markdown",
   "metadata": {},
   "source": [
    "Pokud unpackuji dicitonarlne dostanu klice, pokud pres values obdrzime hodnoty, pres items dostaneme tuple"
   ]
  },
  {
   "cell_type": "code",
   "execution_count": 52,
   "metadata": {},
   "outputs": [
    {
     "data": {
      "text/plain": [
       "3"
      ]
     },
     "execution_count": 52,
     "metadata": {},
     "output_type": "execute_result"
    }
   ],
   "source": [
    "d = {'key1': 1,'key2': 2,'key3': 3}\n",
    "(a,b),(c,d),(e,f)= d.items()\n",
    "f #tada kompletni tuple unpacking"
   ]
  },
  {
   "cell_type": "markdown",
   "metadata": {},
   "source": [
    "### Unpacking teorie P2"
   ]
  },
  {
   "cell_type": "markdown",
   "metadata": {},
   "source": [
    "OPERATOR *"
   ]
  },
  {
   "cell_type": "markdown",
   "metadata": {},
   "source": [
    "- nekdy chceme unpackovat pouze cast a ne vse a nebo cast a vse apod. na to mame *\n",
    "- l = [1,2,3,4,5,6]\n",
    "- a, b = l[0], l[1:] --> prvni a zbytek a pouze jen u sekvence co lze slicovat lepsi je takto\n",
    "- a, *b = l --> v tomto pripade prvni a zbytek\n",
    "- a, b, *c --> tez funkcni tzn.. *znak je v podstate zbytek\n",
    "- a, b*, c ---> PRVNI - VSE KROME - POSLEDNI :]\n",
    "- a*,b* nelze zapsat \n",
    "- tez mohu diky tomuto rozbalovat vice veci naraz\n",
    "- l = [a*,b*] -- a = [1,2,3], b = [4,5,6], l = [1,2,3,4,5,6]\n",
    "- * operator funguje i u setu a dictionary - ale zde mame vetsi problem s presnosti..tzn. nevime vysledek (u dicionary mozna ano)\n",
    "- mohu ale vyuzit stejne jako u listu tzn na prave strane unpackovat veci do veci "
   ]
  },
  {
   "cell_type": "markdown",
   "metadata": {},
   "source": [
    "OPERATOR **"
   ]
  },
  {
   "cell_type": "markdown",
   "metadata": {},
   "source": [
    "- ** nelze pouzivat na leve strane\n",
    "- ale mohu je pouzit napriklad pro merge dictionaries, posledni hodnoty prepisuji, vyhoda i nevyhoda - skvele pro prepisovani hodnot"
   ]
  },
  {
   "cell_type": "markdown",
   "metadata": {},
   "source": [
    "NESTED UNPACKING"
   ]
  },
  {
   "cell_type": "markdown",
   "metadata": {},
   "source": [
    "- l - [1,2[3,4]], a, b, c = l --> a = 1, b =, c = [3,4]\n",
    "- badass unpacking je a, b, (c, d)"
   ]
  },
  {
   "cell_type": "markdown",
   "metadata": {},
   "source": [
    "a, *b, (c, *d), = [1,2,3,'python'], a = 1, b = [2,3], c = 'p', d = ['y't'h'o'n]"
   ]
  },
  {
   "cell_type": "markdown",
   "metadata": {},
   "source": [
    "To je perlicka na zaver. Pomoci slicingu by to slo o neco hure. Nicmene hlavni bod je jasny, lze pouzit vickrat * pokud je to pro sve celky"
   ]
  },
  {
   "cell_type": "markdown",
   "metadata": {},
   "source": [
    "### Coding P2"
   ]
  },
  {
   "cell_type": "markdown",
   "metadata": {},
   "source": [
    "Zaklady unpackingu jiz znam takze tolik neresim a projedu rychleji."
   ]
  },
  {
   "cell_type": "code",
   "execution_count": 83,
   "metadata": {},
   "outputs": [],
   "source": [
    "l = [1,2,3,4,5,6]"
   ]
  },
  {
   "cell_type": "code",
   "execution_count": 86,
   "metadata": {},
   "outputs": [
    {
     "data": {
      "text/plain": [
       "(1, [2, 3, 4, 5, 6])"
      ]
     },
     "execution_count": 86,
     "metadata": {},
     "output_type": "execute_result"
    }
   ],
   "source": [
    "a, b  = l[0], l[1:]\n",
    "a,b"
   ]
  },
  {
   "cell_type": "code",
   "execution_count": 88,
   "metadata": {},
   "outputs": [
    {
     "data": {
      "text/plain": [
       "[2, 3, 4, 5, 6]"
      ]
     },
     "execution_count": 88,
     "metadata": {},
     "output_type": "execute_result"
    }
   ],
   "source": [
    "a, *b = l\n",
    "b"
   ]
  },
  {
   "cell_type": "code",
   "execution_count": 93,
   "metadata": {},
   "outputs": [
    {
     "data": {
      "text/plain": [
       "['y', 't', 'h', 'o']"
      ]
     },
     "execution_count": 93,
     "metadata": {},
     "output_type": "execute_result"
    }
   ],
   "source": [
    "s = 'python'\n",
    "a, *b, c = s\n",
    "b"
   ]
  },
  {
   "cell_type": "code",
   "execution_count": 94,
   "metadata": {},
   "outputs": [
    {
     "data": {
      "text/plain": [
       "('p', 'y', 'tho', 'n')"
      ]
     },
     "execution_count": 94,
     "metadata": {},
     "output_type": "execute_result"
    }
   ],
   "source": [
    "a, b, c, d = s[0], s[1], s[2:-1], s[-1]\n",
    "a,b,c,d"
   ]
  },
  {
   "cell_type": "code",
   "execution_count": 95,
   "metadata": {},
   "outputs": [],
   "source": [
    "*s, = s"
   ]
  },
  {
   "cell_type": "code",
   "execution_count": 96,
   "metadata": {},
   "outputs": [
    {
     "data": {
      "text/plain": [
       "['p', 'y', 't', 'h', 'o', 'n']"
      ]
     },
     "execution_count": 96,
     "metadata": {},
     "output_type": "execute_result"
    }
   ],
   "source": [
    "s"
   ]
  },
  {
   "cell_type": "markdown",
   "metadata": {},
   "source": [
    "Tohle je moc pekny zpusob jak vytvaret list :]"
   ]
  },
  {
   "cell_type": "code",
   "execution_count": 98,
   "metadata": {},
   "outputs": [],
   "source": [
    "l1, l2 = [1,2,3],[4,5,6]"
   ]
  },
  {
   "cell_type": "code",
   "execution_count": 99,
   "metadata": {},
   "outputs": [
    {
     "data": {
      "text/plain": [
       "[1, 2, 3, 4, 5, 6]"
      ]
     },
     "execution_count": 99,
     "metadata": {},
     "output_type": "execute_result"
    }
   ],
   "source": [
    "l = [*l1, *l2]\n",
    "l #moc pekny zpusob pro spojeni dvou listu"
   ]
  },
  {
   "cell_type": "code",
   "execution_count": 101,
   "metadata": {},
   "outputs": [
    {
     "data": {
      "text/plain": [
       "[1, 2, 3, 8, 9, 7]"
      ]
     },
     "execution_count": 101,
     "metadata": {},
     "output_type": "execute_result"
    }
   ],
   "source": [
    "s1 = {9,8,7}\n",
    "[*l1, *s1] #set uz nedrzi poradi"
   ]
  },
  {
   "cell_type": "code",
   "execution_count": 103,
   "metadata": {},
   "outputs": [
    {
     "data": {
      "text/plain": [
       "{'a', 'b', 'c', 'd', 'e'}"
      ]
     },
     "execution_count": 103,
     "metadata": {},
     "output_type": "execute_result"
    }
   ],
   "source": [
    "s1, s2 = 'abc', 'cde'\n",
    "s3 = {*s1,*s2} #je v podstate jedno kam unpackuji\n",
    "s3"
   ]
  },
  {
   "cell_type": "code",
   "execution_count": 104,
   "metadata": {},
   "outputs": [
    {
     "data": {
      "text/plain": [
       "['b', 'c', 'd', 'e', 'a']"
      ]
     },
     "execution_count": 104,
     "metadata": {},
     "output_type": "execute_result"
    }
   ],
   "source": [
    "*c, = s3\n",
    "c"
   ]
  },
  {
   "cell_type": "markdown",
   "metadata": {},
   "source": [
    "Propojeni setu"
   ]
  },
  {
   "cell_type": "code",
   "execution_count": 109,
   "metadata": {},
   "outputs": [],
   "source": [
    "s1 = {1,2,3,4,5}\n",
    "s2 = {5,6,7,8,9}"
   ]
  },
  {
   "cell_type": "code",
   "execution_count": 107,
   "metadata": {},
   "outputs": [
    {
     "ename": "TypeError",
     "evalue": "unsupported operand type(s) for +: 'set' and 'set'",
     "output_type": "error",
     "traceback": [
      "\u001b[1;31m---------------------------------------------------------------------------\u001b[0m",
      "\u001b[1;31mTypeError\u001b[0m                                 Traceback (most recent call last)",
      "\u001b[1;32m<ipython-input-107-733b5be4ba18>\u001b[0m in \u001b[0;36m<module>\u001b[1;34m\u001b[0m\n\u001b[1;32m----> 1\u001b[1;33m \u001b[0ms1\u001b[0m\u001b[1;33m+\u001b[0m\u001b[0ms2\u001b[0m \u001b[1;31m#takto nejde\u001b[0m\u001b[1;33m\u001b[0m\u001b[1;33m\u001b[0m\u001b[0m\n\u001b[0m",
      "\u001b[1;31mTypeError\u001b[0m: unsupported operand type(s) for +: 'set' and 'set'"
     ]
    }
   ],
   "source": [
    "s1+s2 #takto nejde"
   ]
  },
  {
   "cell_type": "code",
   "execution_count": 110,
   "metadata": {},
   "outputs": [
    {
     "data": {
      "text/plain": [
       "{1, 2, 3, 4, 5, 6, 7, 8, 9}"
      ]
     },
     "execution_count": 110,
     "metadata": {},
     "output_type": "execute_result"
    }
   ],
   "source": [
    "{*s1, *s2} #takto jde - prepisuji se shody"
   ]
  },
  {
   "cell_type": "code",
   "execution_count": 111,
   "metadata": {},
   "outputs": [
    {
     "data": {
      "text/plain": [
       "{1, 2, 3, 4, 5, 6, 7, 8, 9}"
      ]
     },
     "execution_count": 111,
     "metadata": {},
     "output_type": "execute_result"
    }
   ],
   "source": [
    "s1.union(s2) #lze tez ale proc..takto to jde lepe muzu si i vybirat"
   ]
  },
  {
   "cell_type": "code",
   "execution_count": 112,
   "metadata": {},
   "outputs": [],
   "source": [
    "d1 = {'key1' :1,'key2' :2}\n",
    "d2 = {'key2' :3,'key4' :4}"
   ]
  },
  {
   "cell_type": "code",
   "execution_count": 113,
   "metadata": {},
   "outputs": [
    {
     "data": {
      "text/plain": [
       "{'key1', 'key2', 'key4'}"
      ]
     },
     "execution_count": 113,
     "metadata": {},
     "output_type": "execute_result"
    }
   ],
   "source": [
    "{*d1,*d2} #tohle zrovna nechci "
   ]
  },
  {
   "cell_type": "code",
   "execution_count": 115,
   "metadata": {},
   "outputs": [
    {
     "data": {
      "text/plain": [
       "{'key1': 1, 'key2': 3, 'key4': 4}"
      ]
     },
     "execution_count": 115,
     "metadata": {},
     "output_type": "execute_result"
    }
   ],
   "source": [
    "{**d1,**d2} # tadaaa :]\n",
    "#key 2 nam to prepsal klasika"
   ]
  },
  {
   "cell_type": "markdown",
   "metadata": {},
   "source": [
    "V podstate cil je mergovat v poradi v jakem potrebuji prepisovat - aktualnejsi informace az pote."
   ]
  },
  {
   "cell_type": "code",
   "execution_count": 116,
   "metadata": {},
   "outputs": [],
   "source": [
    "a, *b,(c,*d)  = [1,2,3,4,'python']"
   ]
  },
  {
   "cell_type": "code",
   "execution_count": 119,
   "metadata": {},
   "outputs": [
    {
     "data": {
      "text/plain": [
       "(1, [2, 3, 4], 'p', ['y', 't', 'h', 'o', 'n'])"
      ]
     },
     "execution_count": 119,
     "metadata": {},
     "output_type": "execute_result"
    }
   ],
   "source": [
    "a, b, c, d"
   ]
  },
  {
   "cell_type": "markdown",
   "metadata": {},
   "source": [
    "Nested unpacking, tez jsem pomerne obeznamen."
   ]
  },
  {
   "cell_type": "markdown",
   "metadata": {},
   "source": [
    "## * ARGS"
   ]
  },
  {
   "cell_type": "markdown",
   "metadata": {},
   "source": [
    "### Args teorie"
   ]
  },
  {
   "cell_type": "markdown",
   "metadata": {},
   "source": [
    "- v podstate args parametr funguje na stejne logice jako unpacking s hvezdickou\n",
    "- *args je bezna konvence - podle me lepsi normal jmeno pokud plni nejaky presny ucel\n",
    "- *args vycerpa vsechny parametry - tzn. musi byt vzdy vedena jako posledni"
   ]
  },
  {
   "cell_type": "markdown",
   "metadata": {},
   "source": [
    "- def func1(a,b,c), l = [10,20,30]\n",
    "- func1(l) -> nefunguje\n",
    "- func(*l) -> funguje"
   ]
  },
  {
   "cell_type": "markdown",
   "metadata": {},
   "source": [
    "### Code"
   ]
  },
  {
   "cell_type": "code",
   "execution_count": null,
   "metadata": {},
   "outputs": [],
   "source": [
    "a, b, *c = 10,20, 'a', 'b'"
   ]
  },
  {
   "cell_type": "code",
   "execution_count": 121,
   "metadata": {},
   "outputs": [],
   "source": [
    "def func1(a, b, *c):\n",
    "    print(a)\n",
    "    print(b)\n",
    "    print(c)"
   ]
  },
  {
   "cell_type": "code",
   "execution_count": 122,
   "metadata": {},
   "outputs": [
    {
     "name": "stdout",
     "output_type": "stream",
     "text": [
      "10\n",
      "20\n",
      "(1, 2, 3, 4, 5, 6)\n"
     ]
    }
   ],
   "source": [
    "func1(10,20,1,2,3,4,5,6)"
   ]
  },
  {
   "cell_type": "markdown",
   "metadata": {},
   "source": [
    "V podstate si args argument prevzal vice hodnot a vytiskl jako tuple. Takze vse ok."
   ]
  },
  {
   "cell_type": "code",
   "execution_count": 128,
   "metadata": {},
   "outputs": [],
   "source": [
    "#jednoducha funkce pro prumer\n",
    "def avg(*args):\n",
    "    count = len(args)\n",
    "    total = sum(args)\n",
    "    return total / count\n",
    "#neumi resit 0"
   ]
  },
  {
   "cell_type": "code",
   "execution_count": 130,
   "metadata": {},
   "outputs": [
    {
     "data": {
      "text/plain": [
       "9.0"
      ]
     },
     "execution_count": 130,
     "metadata": {},
     "output_type": "execute_result"
    }
   ],
   "source": [
    "avg(10,20,4,5,6)"
   ]
  },
  {
   "cell_type": "code",
   "execution_count": 131,
   "metadata": {},
   "outputs": [],
   "source": [
    "def avg(*args):\n",
    "    count = len(args)\n",
    "    total = sum(args)\n",
    "    if count == 0:\n",
    "        return 0\n",
    "    else:\n",
    "        return total / count\n",
    "#slabsi ale funkcni reseni    "
   ]
  },
  {
   "cell_type": "code",
   "execution_count": 132,
   "metadata": {},
   "outputs": [
    {
     "data": {
      "text/plain": [
       "0.0"
      ]
     },
     "execution_count": 132,
     "metadata": {},
     "output_type": "execute_result"
    }
   ],
   "source": [
    "avg(0)"
   ]
  },
  {
   "cell_type": "code",
   "execution_count": 133,
   "metadata": {},
   "outputs": [],
   "source": [
    "def avg(*args):\n",
    "    count = len(args)\n",
    "    total = sum(args)\n",
    "    return count and total/count\n",
    "    #nase short circuit ficura"
   ]
  },
  {
   "cell_type": "code",
   "execution_count": 134,
   "metadata": {},
   "outputs": [
    {
     "data": {
      "text/plain": [
       "0.0"
      ]
     },
     "execution_count": 134,
     "metadata": {},
     "output_type": "execute_result"
    }
   ],
   "source": [
    "avg(0)"
   ]
  },
  {
   "cell_type": "code",
   "execution_count": 135,
   "metadata": {},
   "outputs": [],
   "source": [
    "#obejdu 0 tim ze donutim urcit aspon jeden parametr\n",
    "def avg(a, *args):\n",
    "    count = len(args) +1\n",
    "    total = sum(args) +a\n",
    "    return total / count"
   ]
  },
  {
   "cell_type": "code",
   "execution_count": 137,
   "metadata": {},
   "outputs": [],
   "source": [
    "def func1(a, b, c):\n",
    "    print(a)\n",
    "    print(b)\n",
    "    print(c)"
   ]
  },
  {
   "cell_type": "code",
   "execution_count": 138,
   "metadata": {},
   "outputs": [],
   "source": [
    "l = [10,20,30]"
   ]
  },
  {
   "cell_type": "code",
   "execution_count": 141,
   "metadata": {},
   "outputs": [
    {
     "name": "stdout",
     "output_type": "stream",
     "text": [
      "10\n",
      "20\n",
      "30\n"
     ]
    }
   ],
   "source": [
    "func1(*l) #tohle je moc pekne :]"
   ]
  },
  {
   "cell_type": "markdown",
   "metadata": {},
   "source": [
    "Unpacknu hodnoty a prebere si to krasne."
   ]
  },
  {
   "cell_type": "code",
   "execution_count": 142,
   "metadata": {},
   "outputs": [],
   "source": [
    "l = [10,20,30,40,50]"
   ]
  },
  {
   "cell_type": "code",
   "execution_count": 143,
   "metadata": {},
   "outputs": [],
   "source": [
    "def func1(a, b, c, *args):\n",
    "    print(a)\n",
    "    print(b)\n",
    "    print(c)\n",
    "    print(args)"
   ]
  },
  {
   "cell_type": "code",
   "execution_count": 144,
   "metadata": {},
   "outputs": [
    {
     "name": "stdout",
     "output_type": "stream",
     "text": [
      "10\n",
      "20\n",
      "30\n",
      "(40, 50)\n"
     ]
    }
   ],
   "source": [
    "func1(*l)"
   ]
  },
  {
   "cell_type": "markdown",
   "metadata": {},
   "source": [
    "A tohle je jeste hezci unpacking."
   ]
  },
  {
   "cell_type": "markdown",
   "metadata": {},
   "source": [
    "## Keyword arguments"
   ]
  },
  {
   "cell_type": "markdown",
   "metadata": {},
   "source": [
    "### Teorie + coding"
   ]
  },
  {
   "cell_type": "markdown",
   "metadata": {},
   "source": [
    "- povinny keyword argument lze nadefinovat skrze *args - po *args musi byt kezword argument nebo nam nebude rovnice fungovat"
   ]
  },
  {
   "cell_type": "code",
   "execution_count": 145,
   "metadata": {},
   "outputs": [],
   "source": [
    "def func(a,b,c):\n",
    "    print(a,b,c)"
   ]
  },
  {
   "cell_type": "code",
   "execution_count": 146,
   "metadata": {},
   "outputs": [
    {
     "name": "stdout",
     "output_type": "stream",
     "text": [
      "1 2 3\n"
     ]
    }
   ],
   "source": [
    "func(1,2,3)"
   ]
  },
  {
   "cell_type": "code",
   "execution_count": 147,
   "metadata": {},
   "outputs": [
    {
     "name": "stdout",
     "output_type": "stream",
     "text": [
      "1 2 3\n"
     ]
    }
   ],
   "source": [
    "func(1, c=3, b=2)"
   ]
  },
  {
   "cell_type": "code",
   "execution_count": 150,
   "metadata": {},
   "outputs": [],
   "source": [
    "def func1(a, b, *args):\n",
    "    print(a,b, args)"
   ]
  },
  {
   "cell_type": "code",
   "execution_count": 151,
   "metadata": {},
   "outputs": [
    {
     "name": "stdout",
     "output_type": "stream",
     "text": [
      "1 2 (3, 4)\n"
     ]
    }
   ],
   "source": [
    "func1(1,2,3,4) #jasne args vyuzije zbytek parametru"
   ]
  },
  {
   "cell_type": "code",
   "execution_count": 152,
   "metadata": {},
   "outputs": [],
   "source": [
    "def func1(a, b, *args, d):\n",
    "    print(a,b, args, d)"
   ]
  },
  {
   "cell_type": "code",
   "execution_count": 161,
   "metadata": {},
   "outputs": [],
   "source": [
    "def func1(*args, d):\n",
    "    print(args, d)"
   ]
  },
  {
   "cell_type": "code",
   "execution_count": 162,
   "metadata": {},
   "outputs": [
    {
     "name": "stdout",
     "output_type": "stream",
     "text": [
      "(1, 2, 3) a\n"
     ]
    }
   ],
   "source": [
    "func1(1,2,3, d=\"a\")"
   ]
  },
  {
   "cell_type": "code",
   "execution_count": null,
   "metadata": {},
   "outputs": [],
   "source": [
    "#můžu takto zavolat"
   ]
  },
  {
   "cell_type": "code",
   "execution_count": 165,
   "metadata": {},
   "outputs": [
    {
     "name": "stdout",
     "output_type": "stream",
     "text": [
      "() a\n"
     ]
    }
   ],
   "source": [
    "func1(d=\"a\")"
   ]
  },
  {
   "cell_type": "code",
   "execution_count": null,
   "metadata": {},
   "outputs": [],
   "source": [
    "#tak a pokud chci abych nemohl zadávat žádní positional argumenty můžu takto:"
   ]
  },
  {
   "cell_type": "code",
   "execution_count": 166,
   "metadata": {},
   "outputs": [],
   "source": [
    "def func(*, d):\n",
    "    print(d)"
   ]
  },
  {
   "cell_type": "code",
   "execution_count": 168,
   "metadata": {},
   "outputs": [
    {
     "name": "stdout",
     "output_type": "stream",
     "text": [
      "100\n"
     ]
    }
   ],
   "source": [
    "func(d=100) #v tomtp případě musím dodat povinně parametr"
   ]
  },
  {
   "cell_type": "code",
   "execution_count": 169,
   "metadata": {},
   "outputs": [],
   "source": [
    "def func(a,b,*,d):\n",
    "    print(a,b,d)\n",
    "#v podsattě tím říkám jedno - můžeš zadat dvě volné hodnoty\n",
    "#a třetí musí být keyword"
   ]
  },
  {
   "cell_type": "code",
   "execution_count": 170,
   "metadata": {},
   "outputs": [
    {
     "name": "stdout",
     "output_type": "stream",
     "text": [
      "1 2 4\n"
     ]
    }
   ],
   "source": [
    "func(1,2, d=4) #takto mohu"
   ]
  },
  {
   "cell_type": "code",
   "execution_count": 171,
   "metadata": {},
   "outputs": [],
   "source": [
    "def func(a, b=2, *args, d):\n",
    "    print(a,b,args,d)"
   ]
  },
  {
   "cell_type": "code",
   "execution_count": 173,
   "metadata": {},
   "outputs": [
    {
     "name": "stdout",
     "output_type": "stream",
     "text": [
      "1 5 (3, 4, 6) a\n"
     ]
    }
   ],
   "source": [
    "func(1,5,3,4,6, d=\"a\")\n",
    "#trochu bordel jak vím kdy chci zadat b a kdy ne?"
   ]
  },
  {
   "cell_type": "code",
   "execution_count": 174,
   "metadata": {},
   "outputs": [],
   "source": [
    "def func(a,b =20, *args, d=0, e):\n",
    "    print(a,b,args,d,e)"
   ]
  },
  {
   "cell_type": "code",
   "execution_count": 176,
   "metadata": {},
   "outputs": [
    {
     "name": "stdout",
     "output_type": "stream",
     "text": [
      "5 4 (3, 2, 1) 0 all engines running\n"
     ]
    }
   ],
   "source": [
    "func(5,4,3,2,1, e = \"all engines running\")\n",
    "#v podstate jsem urcil ze e - musí být povinně zadáno, d je defaultn a je ignorovano pokud jej nebudu definovat"
   ]
  },
  {
   "cell_type": "code",
   "execution_count": 178,
   "metadata": {},
   "outputs": [
    {
     "name": "stdout",
     "output_type": "stream",
     "text": [
      "0 600 () good morning python\n"
     ]
    }
   ],
   "source": [
    "func( 0, 600, d=\"good morning\", e=\"python\")\n",
    "#zde jsem vynechal args - takze zde neni"
   ]
  },
  {
   "cell_type": "code",
   "execution_count": 180,
   "metadata": {},
   "outputs": [
    {
     "name": "stdout",
     "output_type": "stream",
     "text": [
      "11 m/s (24, 'mph') unladen swallow\n"
     ]
    }
   ],
   "source": [
    "func(11, \"m/s\", 24, \"mph\", d=\"unladen\", e=\"swallow\")\n",
    "#nyní mám dvě dané, poté args a poté určené - obecně je to docela bordel"
   ]
  },
  {
   "cell_type": "markdown",
   "metadata": {},
   "source": [
    "Tohle je obecně docela ghulas. Takže je nezbytné to dát řádně dokupy."
   ]
  },
  {
   "cell_type": "markdown",
   "metadata": {},
   "source": [
    "### **kwargs"
   ]
  },
  {
   "cell_type": "markdown",
   "metadata": {},
   "source": [
    "U funkce je to jasné, * pro positional argumenty a ** pro keyword argumenty."
   ]
  },
  {
   "cell_type": "markdown",
   "metadata": {},
   "source": [
    "- po ** kwarfs už nesmí být žádné parametry\n",
    "- def func(*, d, **kwargs): --> rikáme tedy ze nemáme žádné positional arguemnty, a že náš d je povinný k zadání, a poté máme zbytek ve formě dictionary\n",
    "- def func(**kwargs): --> zadavama proste dt\n",
    "- def func(*args,**kwargs): --> nejsou povinne, ale mohu takto func(4,5,a=50,b=60)\n",
    "- v podstatě je sranda že já si pamratery u kwargs definuji až potom"
   ]
  },
  {
   "cell_type": "code",
   "execution_count": 182,
   "metadata": {},
   "outputs": [],
   "source": [
    "def func(**others):\n",
    "    print(others)"
   ]
  },
  {
   "cell_type": "code",
   "execution_count": 183,
   "metadata": {},
   "outputs": [
    {
     "name": "stdout",
     "output_type": "stream",
     "text": [
      "{'a': 1, 'b': 2, 'c': 3}\n"
     ]
    }
   ],
   "source": [
    "func(a=1, b=2, c=3)"
   ]
  },
  {
   "cell_type": "code",
   "execution_count": 184,
   "metadata": {},
   "outputs": [],
   "source": [
    "def func(*args, **kwargs):\n",
    "    print(args)\n",
    "    print(kwargs)"
   ]
  },
  {
   "cell_type": "code",
   "execution_count": 185,
   "metadata": {},
   "outputs": [
    {
     "name": "stdout",
     "output_type": "stream",
     "text": [
      "(1, 2)\n",
      "{'x': 100, 'y': 200}\n"
     ]
    }
   ],
   "source": [
    "func(1, 2, x=100, y = 200)"
   ]
  },
  {
   "cell_type": "code",
   "execution_count": 187,
   "metadata": {},
   "outputs": [
    {
     "ename": "SyntaxError",
     "evalue": "named arguments must follow bare * (<ipython-input-187-f3eb126a4eb1>, line 1)",
     "output_type": "error",
     "traceback": [
      "\u001b[1;36m  File \u001b[1;32m\"<ipython-input-187-f3eb126a4eb1>\"\u001b[1;36m, line \u001b[1;32m1\u001b[0m\n\u001b[1;33m    def func(a,b, *, **kwargs):\u001b[0m\n\u001b[1;37m                     ^\u001b[0m\n\u001b[1;31mSyntaxError\u001b[0m\u001b[1;31m:\u001b[0m named arguments must follow bare *\n"
     ]
    }
   ],
   "source": [
    "def func(a,b, *, **kwargs):\n",
    "    print(a)\n",
    "    print(b)\n",
    "    print(kwargs)\n",
    "    #nebude fungovat "
   ]
  },
  {
   "cell_type": "markdown",
   "metadata": {},
   "source": [
    "Pouze pokud bych měl za * named argument."
   ]
  },
  {
   "cell_type": "code",
   "execution_count": 191,
   "metadata": {},
   "outputs": [],
   "source": [
    "def func(a,b, **kwargs):\n",
    "    print(a)\n",
    "    print(b)\n",
    "    print(kwargs)\n"
   ]
  },
  {
   "cell_type": "code",
   "execution_count": 192,
   "metadata": {},
   "outputs": [
    {
     "name": "stdout",
     "output_type": "stream",
     "text": [
      "1\n",
      "2\n",
      "{'x': 100, 'y': 200}\n"
     ]
    }
   ],
   "source": [
    "func(1,2,x=100,y=200)"
   ]
  },
  {
   "cell_type": "markdown",
   "metadata": {},
   "source": [
    "V podstatě kwargs jsou keyword arguemnty."
   ]
  },
  {
   "cell_type": "markdown",
   "metadata": {},
   "source": [
    "### Putting it all together teorie"
   ]
  },
  {
   "cell_type": "markdown",
   "metadata": {},
   "source": [
    "- a,b c = 10, args, hvezdicka , kw1, kw2 = 100, kwargs\n",
    "- a,b musí být zadány, c má defaultní hodnotu nemusí být\n",
    "- po args sbíráme další arguemnty\n",
    "- hvezdicka ukončuje všechny postiional arguemnty\n",
    "- poté následují keyword only arguemnty - znovu mohou mít defaultní hodnotu\n",
    "- tzn. kw1 je povinný musíme zadat, kw2 ne díky defaultní hodnotě\n",
    "- kwargs posbírá dodatečný kw hodnoty\n",
    "- abych mohl přejít na kw arguemnty musím nejdříve vyčerpat positional \n",
    "- tedy přimu vše co tam je pomocí args a nebo je vyčerpám hvezdickou\n",
    "\n",
    "- def func(a, b = 10, hvezdicka, kw1, kw2=100)\n",
    "- def func(a, b, args, kw1, kw2=100)\n",
    "- defaultní b u * může být ale pokud mám *agrs\n",
    "- nemůžu ukončovat positional pomocí *args defaultní hodnotou zmatu python\n",
    "- def func(a, b=10, *, kw1, kw2=100, kwargs)\n",
    "- def func(args)\n",
    "- def func(kwargs)\n",
    "- def func(args, kwargs)\n",
    "- pouze příklady jak lze definovat funkce\n",
    "\n",
    "- Positional arguments\n",
    "- mohou mít ale nemusí defaultní hodnoty\n",
    "- args posbírá a vyčerpá zbývající positional arguemnty\n",
    "\n",
    "- Keyword only argument\n",
    "- Musí zadat klíč i hodnotu, a vždy po vyčerpání positional\n",
    "- kwargs stejné jako pro args jen pro key-value argumenty\n",
    "- hvezdicka indikuji konec positional argumentů\n"
   ]
  },
  {
   "cell_type": "markdown",
   "metadata": {},
   "source": [
    "### Putting it all together Code"
   ]
  },
  {
   "cell_type": "code",
   "execution_count": 1,
   "metadata": {},
   "outputs": [],
   "source": [
    "def func(a,b, *args):\n",
    "    print(a,b,args)"
   ]
  },
  {
   "cell_type": "code",
   "execution_count": 2,
   "metadata": {},
   "outputs": [
    {
     "name": "stdout",
     "output_type": "stream",
     "text": [
      "1 2 ('x', 'y', 'z')\n"
     ]
    }
   ],
   "source": [
    "func(1,2,\"x\",\"y\",\"z\")"
   ]
  },
  {
   "cell_type": "code",
   "execution_count": 3,
   "metadata": {},
   "outputs": [
    {
     "ename": "SyntaxError",
     "evalue": "positional argument follows keyword argument (<ipython-input-3-dbc1c2f9fdd0>, line 1)",
     "output_type": "error",
     "traceback": [
      "\u001b[1;36m  File \u001b[1;32m\"<ipython-input-3-dbc1c2f9fdd0>\"\u001b[1;36m, line \u001b[1;32m1\u001b[0m\n\u001b[1;33m    func(a=1,b=2,\"x\",\"y\",\"z\")\u001b[0m\n\u001b[1;37m                ^\u001b[0m\n\u001b[1;31mSyntaxError\u001b[0m\u001b[1;31m:\u001b[0m positional argument follows keyword argument\n"
     ]
    }
   ],
   "source": [
    "func(a=1,b=2,\"x\",\"y\",\"z\")"
   ]
  },
  {
   "cell_type": "markdown",
   "metadata": {},
   "source": [
    "Jakmile mám args nemohu tam nacpat zápis takto."
   ]
  },
  {
   "cell_type": "code",
   "execution_count": 9,
   "metadata": {},
   "outputs": [],
   "source": [
    "def func(a,b=2,c=3,*args):\n",
    "    print(a,b,c,args)"
   ]
  },
  {
   "cell_type": "code",
   "execution_count": 5,
   "metadata": {},
   "outputs": [
    {
     "ename": "SyntaxError",
     "evalue": "positional argument follows keyword argument (<ipython-input-5-912dec912bcc>, line 1)",
     "output_type": "error",
     "traceback": [
      "\u001b[1;36m  File \u001b[1;32m\"<ipython-input-5-912dec912bcc>\"\u001b[1;36m, line \u001b[1;32m1\u001b[0m\n\u001b[1;33m    func(1,c=5,\"x\",\"y\")\u001b[0m\n\u001b[1;37m              ^\u001b[0m\n\u001b[1;31mSyntaxError\u001b[0m\u001b[1;31m:\u001b[0m positional argument follows keyword argument\n"
     ]
    }
   ],
   "source": [
    "func(1,c=5,\"x\",\"y\")"
   ]
  },
  {
   "cell_type": "markdown",
   "metadata": {},
   "source": [
    "V podstatě jakmile nastavím defaultní hodnoty a nastavím *args ztrácím možnost použít defaultní hodnoty."
   ]
  },
  {
   "cell_type": "code",
   "execution_count": 11,
   "metadata": {},
   "outputs": [],
   "source": [
    "def func(a,b=2,*args, c=3, d):\n",
    "    print(a,b,args,c,d)"
   ]
  },
  {
   "cell_type": "code",
   "execution_count": 12,
   "metadata": {},
   "outputs": [
    {
     "name": "stdout",
     "output_type": "stream",
     "text": [
      "10 20 ('x', 'y', 'z') 4 1\n"
     ]
    }
   ],
   "source": [
    "func(10,20,\"x\",\"y\",\"z\", c = 4, d=1)"
   ]
  },
  {
   "cell_type": "code",
   "execution_count": 13,
   "metadata": {},
   "outputs": [
    {
     "ename": "TypeError",
     "evalue": "func() got multiple values for argument 'b'",
     "output_type": "error",
     "traceback": [
      "\u001b[1;31m---------------------------------------------------------------------------\u001b[0m",
      "\u001b[1;31mTypeError\u001b[0m                                 Traceback (most recent call last)",
      "\u001b[1;32m<ipython-input-13-b73bbc4e3900>\u001b[0m in \u001b[0;36m<module>\u001b[1;34m\u001b[0m\n\u001b[1;32m----> 1\u001b[1;33m \u001b[0mfunc\u001b[0m\u001b[1;33m(\u001b[0m\u001b[1;36m1\u001b[0m\u001b[1;33m,\u001b[0m \u001b[1;34m\"x\"\u001b[0m\u001b[1;33m,\u001b[0m\u001b[1;34m\"y\"\u001b[0m\u001b[1;33m,\u001b[0m\u001b[1;34m\"z\"\u001b[0m\u001b[1;33m,\u001b[0m \u001b[0mb\u001b[0m\u001b[1;33m=\u001b[0m\u001b[1;36m4\u001b[0m\u001b[1;33m,\u001b[0m \u001b[0md\u001b[0m \u001b[1;33m=\u001b[0m \u001b[1;36m10\u001b[0m\u001b[1;33m)\u001b[0m\u001b[1;33m\u001b[0m\u001b[1;33m\u001b[0m\u001b[0m\n\u001b[0m",
      "\u001b[1;31mTypeError\u001b[0m: func() got multiple values for argument 'b'"
     ]
    }
   ],
   "source": [
    "func(1, \"x\",\"y\",\"z\", b=4, d = 10)"
   ]
  },
  {
   "cell_type": "markdown",
   "metadata": {},
   "source": [
    "Zde si myslí že x,y,z je b též."
   ]
  },
  {
   "cell_type": "code",
   "execution_count": 15,
   "metadata": {},
   "outputs": [],
   "source": [
    "def func(a,b,*args, c=10, d=20, **kwargs):\n",
    "    print(a,b,args,c,d,kwargs)"
   ]
  },
  {
   "cell_type": "code",
   "execution_count": 16,
   "metadata": {},
   "outputs": [
    {
     "name": "stdout",
     "output_type": "stream",
     "text": [
      "1 2 ('x', 'y', 'z') 100 200 {'x': 0.1, 'y': 0.2}\n"
     ]
    }
   ],
   "source": [
    "func(1,2,\"x\",\"y\",\"z\", c=100, d=200, x=0.1, y=0.2)"
   ]
  },
  {
   "cell_type": "markdown",
   "metadata": {},
   "source": [
    "Kwargs je docela stylovka prostě funkce s parametrem a hodnotou zároveň."
   ]
  },
  {
   "cell_type": "markdown",
   "metadata": {},
   "source": [
    "Menší ukázka proč je vhodné chápat argumenty u funkcí a že hodně častých funkcí má v sobě mnoho defaultních funkcí"
   ]
  },
  {
   "cell_type": "code",
   "execution_count": 28,
   "metadata": {
    "scrolled": true
   },
   "outputs": [
    {
     "name": "stdout",
     "output_type": "stream",
     "text": [
      "1 2 3\n",
      "4 5 6\n"
     ]
    }
   ],
   "source": [
    "print(1,2,3)\n",
    "print(4,5,6)"
   ]
  },
  {
   "cell_type": "code",
   "execution_count": 30,
   "metadata": {},
   "outputs": [
    {
     "name": "stdout",
     "output_type": "stream",
     "text": [
      "1-2-3\n",
      "4-5-6\n"
     ]
    }
   ],
   "source": [
    "print(1,2,3, sep = \"-\")\n",
    "print(4,5,6, sep=\"-\")"
   ]
  },
  {
   "cell_type": "code",
   "execution_count": 31,
   "metadata": {},
   "outputs": [
    {
     "name": "stdout",
     "output_type": "stream",
     "text": [
      "4-5-6***"
     ]
    }
   ],
   "source": [
    "print(4,5,6, sep=\"-\", end=\"***\")"
   ]
  },
  {
   "cell_type": "code",
   "execution_count": 32,
   "metadata": {},
   "outputs": [],
   "source": [
    "def calc_hi_lo_avg(*args, log_to_console=False):\n",
    "    hi = int(bool(args)) and max(args)\n",
    "    #args může být prázdný jak když nic nezadají? Jak zadat 0\n",
    "    #provedu luxusní bol zápis args and :D ..\n",
    "    #vezmu args hodnotu v bool - zda je True nebo False a to převedu na int\n",
    "    #tzn. pokud nebudu mít hodnotu - mám false, a tím pádem mám bool hodnotu 0 a tudíž mám průměr 0\n",
    "    if len(args) == 0:\n",
    "        lo = 0\n",
    "    else:\n",
    "        lo = min(args)\n",
    "    #ekvivaleltní low hodnota pro hi nahoře - jen jiný zápis\n",
    "    #pro mě docela mindfuck\n",
    "    #lo = min(args) if len(args) > 0 else 0 \n",
    "    avg = ( hi + lo) / 2\n",
    "    if log_to_console:\n",
    "        print(f\"high={hi}, low={lo}, avg={avg}\")\n",
    "    return avg"
   ]
  },
  {
   "cell_type": "code",
   "execution_count": 33,
   "metadata": {},
   "outputs": [
    {
     "name": "stdout",
     "output_type": "stream",
     "text": [
      "high=5, low=1, avg=3.0\n"
     ]
    }
   ],
   "source": [
    "avg = calc_hi_lo_avg(1,2,3,4,5, log_to_console=True)"
   ]
  },
  {
   "cell_type": "markdown",
   "metadata": {},
   "source": [
    "Jasné moje funkce vrací jen average pokud neurčím defaultně jinak, poté mi vyhodí všechny hodnoty, tj moc pěkné použití."
   ]
  },
  {
   "cell_type": "markdown",
   "metadata": {},
   "source": [
    "### Application - A Simple Function Timer"
   ]
  },
  {
   "cell_type": "markdown",
   "metadata": {},
   "source": [
    "Budeme chtít napsat funkci, která umí měřit jak dlouho to dané funkci trvá."
   ]
  },
  {
   "cell_type": "code",
   "execution_count": 34,
   "metadata": {},
   "outputs": [],
   "source": [
    "import time"
   ]
  },
  {
   "cell_type": "code",
   "execution_count": 35,
   "metadata": {},
   "outputs": [],
   "source": [
    "def time_it(fn, *args, **kwargs):\n",
    "    print(args, kwargs)"
   ]
  },
  {
   "cell_type": "code",
   "execution_count": 36,
   "metadata": {},
   "outputs": [
    {
     "name": "stdout",
     "output_type": "stream",
     "text": [
      "(1, 2, 3) {'sep': ' - ', 'end': ' **** '}\n"
     ]
    }
   ],
   "source": [
    "time_it(print, 1, 2, 3, sep = \" - \", end = \" **** \")"
   ]
  },
  {
   "cell_type": "markdown",
   "metadata": {},
   "source": [
    "V podstatě mám funkci, která nám něco posbírá a jen vyplivne."
   ]
  },
  {
   "cell_type": "code",
   "execution_count": 37,
   "metadata": {},
   "outputs": [],
   "source": [
    "def time_it(fn, *args, **kwargs):\n",
    "    fn(args, kwargs)"
   ]
  },
  {
   "cell_type": "code",
   "execution_count": 38,
   "metadata": {},
   "outputs": [
    {
     "name": "stdout",
     "output_type": "stream",
     "text": [
      "(1, 2, 3) {'sep': ' - ', 'end': ' **** '}\n"
     ]
    }
   ],
   "source": [
    "time_it(print, 1, 2, 3, sep = \" - \", end = \" **** \")"
   ]
  },
  {
   "cell_type": "markdown",
   "metadata": {},
   "source": [
    "Proč to nefunguje? "
   ]
  },
  {
   "cell_type": "markdown",
   "metadata": {},
   "source": [
    "- v prvním případě to dělá co chceme jen tiskneme a nic nevoláme\n",
    "- v druhém ale chceme volat funkci s parametry args a kwargs\n",
    "- jenže naše volání funkce lze přepsat takto\n",
    "- fn(args,kwargs) = print(args, kwargs)\n",
    "- ALE FUNKCE FUNGUJE NA * a ** - tzn musíme zadat i zde"
   ]
  },
  {
   "cell_type": "code",
   "execution_count": 43,
   "metadata": {},
   "outputs": [],
   "source": [
    "def time_it(fn, *args, **kwargs):\n",
    "    fn(*args, **kwargs)"
   ]
  },
  {
   "cell_type": "code",
   "execution_count": 44,
   "metadata": {},
   "outputs": [
    {
     "name": "stdout",
     "output_type": "stream",
     "text": [
      "1 - 2 - 3 **** "
     ]
    }
   ],
   "source": [
    "time_it(print, 1, 2, 3, sep = \" - \", end = \" **** \")"
   ]
  },
  {
   "cell_type": "markdown",
   "metadata": {},
   "source": [
    "A nyní nám to funguje :). Funkce co volá funkci nic víc."
   ]
  },
  {
   "cell_type": "code",
   "execution_count": 49,
   "metadata": {},
   "outputs": [],
   "source": [
    "def time_it(fn, *args,rep=1, **kwargs):\n",
    "    for i in range(rep):\n",
    "        fn(*args, **kwargs)\n",
    "    #nově dodávám rep abych mohl zadat kolikrát chci aby se funkce opakovala"
   ]
  },
  {
   "cell_type": "code",
   "execution_count": 50,
   "metadata": {},
   "outputs": [
    {
     "name": "stdout",
     "output_type": "stream",
     "text": [
      "1 - 2 - 3 **** 1 - 2 - 3 **** 1 - 2 - 3 **** 1 - 2 - 3 **** 1 - 2 - 3 **** "
     ]
    }
   ],
   "source": [
    "time_it(print, 1, 2, 3, sep = \" - \", end = \" **** \", rep = 5)"
   ]
  },
  {
   "cell_type": "markdown",
   "metadata": {},
   "source": [
    "Naše krásná funkce co volá funkci a ještě jí dodává parametry pff.."
   ]
  },
  {
   "cell_type": "code",
   "execution_count": 53,
   "metadata": {},
   "outputs": [],
   "source": [
    "def time_it(fn, *args,rep=1, **kwargs):\n",
    "    start = time.perf_counter()\n",
    "    for i in range(rep):\n",
    "        fn(*args, **kwargs)\n",
    "    end = time.perf_counter()\n",
    "    return (end - start) / rep"
   ]
  },
  {
   "cell_type": "code",
   "execution_count": 54,
   "metadata": {},
   "outputs": [
    {
     "name": "stdout",
     "output_type": "stream",
     "text": [
      "1 - 2 - 3 **** 1 - 2 - 3 **** 1 - 2 - 3 **** 1 - 2 - 3 **** 1 - 2 - 3 **** "
     ]
    },
    {
     "data": {
      "text/plain": [
       "0.0005012600000554812"
      ]
     },
     "execution_count": 54,
     "metadata": {},
     "output_type": "execute_result"
    }
   ],
   "source": [
    "time_it(print, 1, 2, 3, sep = \" - \", end = \" **** \", rep = 5)"
   ]
  },
  {
   "cell_type": "markdown",
   "metadata": {},
   "source": [
    "Nyní naše skvělá funkce ještě měří čas."
   ]
  },
  {
   "cell_type": "markdown",
   "metadata": {},
   "source": [
    "Nyní trochu funkce co zaberou delší čas"
   ]
  },
  {
   "cell_type": "code",
   "execution_count": 66,
   "metadata": {},
   "outputs": [],
   "source": [
    "def computer_power_1(n, *, start=1, end):\n",
    "    #using a for loop\n",
    "    results = []\n",
    "    for i in range(start, end):\n",
    "        results.append(n**i)\n",
    "    return results\n",
    "#nic extra prostě jen obrždí n - začátek a konec\n",
    "#a dává na druhou podle i a háže do listu"
   ]
  },
  {
   "cell_type": "code",
   "execution_count": 59,
   "metadata": {},
   "outputs": [
    {
     "data": {
      "text/plain": [
       "[2, 4, 8, 16]"
      ]
     },
     "execution_count": 59,
     "metadata": {},
     "output_type": "execute_result"
    }
   ],
   "source": [
    "computer_power_1(2, end=5)"
   ]
  },
  {
   "cell_type": "code",
   "execution_count": 65,
   "metadata": {},
   "outputs": [],
   "source": [
    "def computer_power_2(n, *, start=1, end):\n",
    "    #using a list comprehension\n",
    "    return [n**i for i in range(start, end)]\n",
    "    #jen jiný zápis"
   ]
  },
  {
   "cell_type": "code",
   "execution_count": 67,
   "metadata": {},
   "outputs": [
    {
     "data": {
      "text/plain": [
       "[2, 4, 8, 16]"
      ]
     },
     "execution_count": 67,
     "metadata": {},
     "output_type": "execute_result"
    }
   ],
   "source": [
    "computer_power_2(2, end=5)"
   ]
  },
  {
   "cell_type": "code",
   "execution_count": 69,
   "metadata": {},
   "outputs": [],
   "source": [
    "def computer_power_3(n, *, start=1, end):\n",
    "    #using generators expression\n",
    "    return (n**i for i in range(start, end))\n",
    "#pomocí generátoru tedy"
   ]
  },
  {
   "cell_type": "code",
   "execution_count": 73,
   "metadata": {},
   "outputs": [
    {
     "data": {
      "text/plain": [
       "[2, 4, 8, 16]"
      ]
     },
     "execution_count": 73,
     "metadata": {},
     "output_type": "execute_result"
    }
   ],
   "source": [
    "list(computer_power_3(2, end = 5))\n",
    "#zajímavé generátor má změnu oropoti comprehension že je v kulatých závorkách\n",
    "#a dále, že odkazuje na objekt takže abych jej vytiskl musím jej převést na list při volání"
   ]
  },
  {
   "cell_type": "markdown",
   "metadata": {},
   "source": [
    "Teď je budeme časovat a zjištovat která je nejryhclejší."
   ]
  },
  {
   "cell_type": "code",
   "execution_count": 79,
   "metadata": {},
   "outputs": [
    {
     "data": {
      "text/plain": [
       "0.5064703000000008"
      ]
     },
     "execution_count": 79,
     "metadata": {},
     "output_type": "execute_result"
    }
   ],
   "source": [
    "time_it(computer_power_1, 2, start=0, end=20000, rep=5)"
   ]
  },
  {
   "cell_type": "code",
   "execution_count": 80,
   "metadata": {},
   "outputs": [
    {
     "data": {
      "text/plain": [
       "0.49456472000001667"
      ]
     },
     "execution_count": 80,
     "metadata": {},
     "output_type": "execute_result"
    }
   ],
   "source": [
    "time_it(computer_power_2, 2, start=0, end=20000, rep=5)"
   ]
  },
  {
   "cell_type": "code",
   "execution_count": 81,
   "metadata": {},
   "outputs": [
    {
     "data": {
      "text/plain": [
       "3.899999956047395e-06"
      ]
     },
     "execution_count": 81,
     "metadata": {},
     "output_type": "execute_result"
    }
   ],
   "source": [
    "time_it(computer_power_3, 2, start=0, end=20000, rep=5)"
   ]
  },
  {
   "cell_type": "markdown",
   "metadata": {},
   "source": [
    "Tohle je moc pěkná funkce obecně pro časování. Funkce poslední však jen vytváří generátor nevrací stejná data proto tak rychle."
   ]
  },
  {
   "cell_type": "markdown",
   "metadata": {},
   "source": [
    "Musel bych vracet list generátoru"
   ]
  },
  {
   "cell_type": "code",
   "execution_count": 83,
   "metadata": {},
   "outputs": [],
   "source": [
    "def computer_power_4(n, *, start=1, end):\n",
    "    #using generators expression\n",
    "    return list((n**i for i in range(start, end)))"
   ]
  },
  {
   "cell_type": "code",
   "execution_count": 84,
   "metadata": {
    "scrolled": true
   },
   "outputs": [
    {
     "data": {
      "text/plain": [
       "0.4098143000001073"
      ]
     },
     "execution_count": 84,
     "metadata": {},
     "output_type": "execute_result"
    }
   ],
   "source": [
    "time_it(computer_power_4, 2, start=0, end=20000, rep=5)"
   ]
  },
  {
   "cell_type": "markdown",
   "metadata": {},
   "source": [
    "Jsem o chlup rychlejší ale už né tak moc."
   ]
  },
  {
   "cell_type": "markdown",
   "metadata": {},
   "source": [
    "### Parameter Defaults - Beware!"
   ]
  },
  {
   "cell_type": "markdown",
   "metadata": {},
   "source": [
    "Řešíme problém, když máme parametry které se načtou do paměti a při volání je nepřegenrují ale pouze zavolají. Typickí příklad je s časem, kdy máme stále stejný čas. Proto je vhodné dávat defaultně None hodnoty pro tyto druhy parametrů a pokud nejsou non tak je volat."
   ]
  },
  {
   "cell_type": "code",
   "execution_count": 85,
   "metadata": {},
   "outputs": [],
   "source": [
    "from datetime import datetime"
   ]
  },
  {
   "cell_type": "code",
   "execution_count": 88,
   "metadata": {},
   "outputs": [
    {
     "name": "stdout",
     "output_type": "stream",
     "text": [
      "2020-05-05 17:13:00.797579\n"
     ]
    }
   ],
   "source": [
    "print(datetime.utcnow())"
   ]
  },
  {
   "cell_type": "code",
   "execution_count": 90,
   "metadata": {},
   "outputs": [
    {
     "name": "stdout",
     "output_type": "stream",
     "text": [
      "2020-05-05 17:13:16.059331\n"
     ]
    }
   ],
   "source": [
    "print(datetime.utcnow()) #vidíme, že čas se mění"
   ]
  },
  {
   "cell_type": "code",
   "execution_count": 97,
   "metadata": {},
   "outputs": [],
   "source": [
    "def log(msg, *, dt=datetime.utcnow()):\n",
    "    print(f\"{dt} and {msg}\")"
   ]
  },
  {
   "cell_type": "code",
   "execution_count": 98,
   "metadata": {},
   "outputs": [
    {
     "name": "stdout",
     "output_type": "stream",
     "text": [
      "2001-01-01 ... and message 1\n"
     ]
    }
   ],
   "source": [
    "log(\"message 1\", dt=\"2001-01-01 ...\")"
   ]
  },
  {
   "cell_type": "markdown",
   "metadata": {},
   "source": [
    "Jasná funkce a něco plodíme, čas jsem si zadal svůj takže je vše ok."
   ]
  },
  {
   "cell_type": "code",
   "execution_count": 99,
   "metadata": {},
   "outputs": [
    {
     "name": "stdout",
     "output_type": "stream",
     "text": [
      "2020-05-05 17:14:55.640335 and message 2\n"
     ]
    }
   ],
   "source": [
    "log(\"message 2\")"
   ]
  },
  {
   "cell_type": "markdown",
   "metadata": {},
   "source": [
    "Nyní vidíme, že když nezadáme datetime použijeme funkci."
   ]
  },
  {
   "cell_type": "code",
   "execution_count": 100,
   "metadata": {},
   "outputs": [
    {
     "name": "stdout",
     "output_type": "stream",
     "text": [
      "2020-05-05 17:14:55.640335 and message 3\n"
     ]
    }
   ],
   "source": [
    "log(\"message 3\")"
   ]
  },
  {
   "cell_type": "markdown",
   "metadata": {},
   "source": [
    "#### A TO JE NÁŠ PROBLÉM - ČAS SE NEZMĚNIL"
   ]
  },
  {
   "cell_type": "markdown",
   "metadata": {},
   "source": [
    "2020-05-05 17:14:55.64033, 2020-05-05 17:14:55.64033"
   ]
  },
  {
   "cell_type": "markdown",
   "metadata": {},
   "source": [
    "Defaultní hodnota totiž byla vytvořena v čtverci IN[97] - pokud bych jí znovu spustil a přehrál funkce, mám zase 2 stejné časy, jen jiné."
   ]
  },
  {
   "cell_type": "markdown",
   "metadata": {},
   "source": [
    "Zkusíme to tedy vyřešit skrze None hodnotu"
   ]
  },
  {
   "cell_type": "code",
   "execution_count": 102,
   "metadata": {},
   "outputs": [],
   "source": [
    "def log(msg, *, dt=None):\n",
    "    if not dt:\n",
    "    #pokud dt je falsy - pokud jsem jej nezadal tak načtu dle funkce\n",
    "        dt = datetime.utcnow()\n",
    "    print(f\"{dt} and {msg}\")"
   ]
  },
  {
   "cell_type": "code",
   "execution_count": 105,
   "metadata": {},
   "outputs": [
    {
     "name": "stdout",
     "output_type": "stream",
     "text": [
      "2020-05-05 17:18:32.764441 and message 4\n"
     ]
    }
   ],
   "source": [
    "log(\"message 4\")"
   ]
  },
  {
   "cell_type": "code",
   "execution_count": 106,
   "metadata": {},
   "outputs": [
    {
     "name": "stdout",
     "output_type": "stream",
     "text": [
      "2020-05-05 17:18:33.354833 and message 4\n"
     ]
    }
   ],
   "source": [
    "log(\"message 4\")"
   ]
  },
  {
   "cell_type": "markdown",
   "metadata": {},
   "source": [
    "A nyní krásně vidím, že mám vše v pořádku :). Ale lepší zápis."
   ]
  },
  {
   "cell_type": "code",
   "execution_count": 108,
   "metadata": {},
   "outputs": [],
   "source": [
    "def log(msg, *, dt=None):\n",
    "    dt = dt or datetime.utcnow()\n",
    "    # pokud dt má hodnotu použije dt \n",
    "    # nebo použije datetime.utcnow() :)\n",
    "    print(f\"{dt} and {msg}\")"
   ]
  },
  {
   "cell_type": "markdown",
   "metadata": {},
   "source": [
    "Teď trochu z jiného soudku"
   ]
  },
  {
   "cell_type": "code",
   "execution_count": 109,
   "metadata": {},
   "outputs": [],
   "source": [
    "my_list = [1,2,3]\n",
    "\n",
    "def func(a=my_list):\n",
    "    print(a)"
   ]
  },
  {
   "cell_type": "code",
   "execution_count": 110,
   "metadata": {},
   "outputs": [
    {
     "name": "stdout",
     "output_type": "stream",
     "text": [
      "[1, 2, 3]\n"
     ]
    }
   ],
   "source": [
    "func()"
   ]
  },
  {
   "cell_type": "code",
   "execution_count": 111,
   "metadata": {},
   "outputs": [
    {
     "name": "stdout",
     "output_type": "stream",
     "text": [
      "['a', 'b']\n"
     ]
    }
   ],
   "source": [
    "func([\"a\",\"b\"])"
   ]
  },
  {
   "cell_type": "code",
   "execution_count": 112,
   "metadata": {},
   "outputs": [],
   "source": [
    "my_list.append(4)"
   ]
  },
  {
   "cell_type": "code",
   "execution_count": 113,
   "metadata": {},
   "outputs": [
    {
     "data": {
      "text/plain": [
       "[1, 2, 3, 4]"
      ]
     },
     "execution_count": 113,
     "metadata": {},
     "output_type": "execute_result"
    }
   ],
   "source": [
    "my_list"
   ]
  },
  {
   "cell_type": "code",
   "execution_count": 114,
   "metadata": {},
   "outputs": [
    {
     "name": "stdout",
     "output_type": "stream",
     "text": [
      "[1, 2, 3, 4]\n"
     ]
    }
   ],
   "source": [
    "func()"
   ]
  },
  {
   "cell_type": "markdown",
   "metadata": {},
   "source": [
    "Jaký je zde problém? Mám ve funkci odkaz na objekt mimo. Pokud tedy nechci aby nedošlo ke změně je lepší použít tuple."
   ]
  },
  {
   "cell_type": "markdown",
   "metadata": {},
   "source": [
    "### Parameter Default Beware Again"
   ]
  },
  {
   "cell_type": "code",
   "execution_count": 116,
   "metadata": {},
   "outputs": [],
   "source": [
    "def add_item(name, quantity, unit, grocery_list):\n",
    "    grocery_list.append(f\"{name}, {quantity}, {unit}\")\n",
    "    return grocery_list"
   ]
  },
  {
   "cell_type": "code",
   "execution_count": 117,
   "metadata": {},
   "outputs": [],
   "source": [
    "store1, store2 = [], []"
   ]
  },
  {
   "cell_type": "code",
   "execution_count": 118,
   "metadata": {},
   "outputs": [
    {
     "data": {
      "text/plain": [
       "['banana, 2, units', 'milk, 1, liter']"
      ]
     },
     "execution_count": 118,
     "metadata": {},
     "output_type": "execute_result"
    }
   ],
   "source": [
    "add_item(\"banana\", 2, \"units\", store1)\n",
    "add_item(\"milk\", 1, \"liter\", store1)"
   ]
  },
  {
   "cell_type": "code",
   "execution_count": 120,
   "metadata": {},
   "outputs": [
    {
     "data": {
      "text/plain": [
       "['python, 1, medium-rare']"
      ]
     },
     "execution_count": 120,
     "metadata": {},
     "output_type": "execute_result"
    }
   ],
   "source": [
    "add_item(\"python\", 1, \"medium-rare\", store2)"
   ]
  },
  {
   "cell_type": "markdown",
   "metadata": {},
   "source": [
    "Prostě mám jen funkci o jméně množství jednotce a listu a vkládám do lsitu nic víc"
   ]
  },
  {
   "cell_type": "code",
   "execution_count": 121,
   "metadata": {},
   "outputs": [],
   "source": [
    "#nyní si ve funcki zakládám list sám, abych je nemusel definovat\n",
    "def add_item(name, quantity, unit, grocery_list=[]):\n",
    "    grocery_list.append(f\"{name}, {quantity}, {unit}\")\n",
    "    return grocery_list"
   ]
  },
  {
   "cell_type": "code",
   "execution_count": 123,
   "metadata": {},
   "outputs": [],
   "source": [
    "del store1\n",
    "del store2"
   ]
  },
  {
   "cell_type": "code",
   "execution_count": 124,
   "metadata": {},
   "outputs": [
    {
     "data": {
      "text/plain": [
       "['banana, 2, units', 'milk, 1, liter']"
      ]
     },
     "execution_count": 124,
     "metadata": {},
     "output_type": "execute_result"
    }
   ],
   "source": [
    "store1 = add_item(\"banana\", 2, \"units\") #vytvoří nový list\n",
    "add_item(\"milk\", 1, \"liter\", store1)# je vytvořený tak jej použije"
   ]
  },
  {
   "cell_type": "markdown",
   "metadata": {},
   "source": [
    "Tohle je hodně zajímavé :D"
   ]
  },
  {
   "cell_type": "code",
   "execution_count": 125,
   "metadata": {},
   "outputs": [],
   "source": [
    "store2 = add_item(\"python\", 1, \"medium-rare\") #nový list store 2"
   ]
  },
  {
   "cell_type": "code",
   "execution_count": 126,
   "metadata": {},
   "outputs": [
    {
     "name": "stdout",
     "output_type": "stream",
     "text": [
      "['banana, 2, units', 'milk, 1, liter', 'python, 1, medium-rare']\n"
     ]
    }
   ],
   "source": [
    "print(store2)"
   ]
  },
  {
   "cell_type": "code",
   "execution_count": 127,
   "metadata": {},
   "outputs": [
    {
     "data": {
      "text/plain": [
       "True"
      ]
     },
     "execution_count": 127,
     "metadata": {},
     "output_type": "execute_result"
    }
   ],
   "source": [
    "store1 is store2"
   ]
  },
  {
   "cell_type": "markdown",
   "metadata": {},
   "source": [
    "HMM nastal nám problém. Podle všeho naše supr tvorba listu není nijak přiřazená takže return glocery list se stackuje - jedno co si napíšu předtím."
   ]
  },
  {
   "cell_type": "markdown",
   "metadata": {},
   "source": [
    "Náš default [] není žádná extra tvorba listu ale má stejnou adresu a proto nám nastává problém."
   ]
  },
  {
   "cell_type": "markdown",
   "metadata": {},
   "source": [
    "Jak to pořešíme?"
   ]
  },
  {
   "cell_type": "code",
   "execution_count": 129,
   "metadata": {},
   "outputs": [],
   "source": [
    "def add_item(name, quantity, unit, grocery_list=None):\n",
    "    if not grocery_list:\n",
    "        grocery_list = []\n",
    "    #pokud neuvedeme přesěn list a máme None tak vytvoříme nový\n",
    "    grocery_list.append(f\"{name}, {quantity}, {unit}\")\n",
    "    return grocery_list"
   ]
  },
  {
   "cell_type": "markdown",
   "metadata": {},
   "source": [
    "Nyní s None by naše fičura se store1 a store 2 fungovala."
   ]
  },
  {
   "cell_type": "code",
   "execution_count": 130,
   "metadata": {},
   "outputs": [],
   "source": [
    "store1 = add_item(\"banana\", 2, \"units\") #vytvoří nový list\n",
    "add_item(\"milk\", 1, \"liter\", store1)# je vytvořený tak jej použije\n",
    "store2 = add_item(\"python\", 1, \"medium-rare\") #nový list store 2"
   ]
  },
  {
   "cell_type": "code",
   "execution_count": 131,
   "metadata": {},
   "outputs": [
    {
     "name": "stdout",
     "output_type": "stream",
     "text": [
      "['banana, 2, units', 'milk, 1, liter']\n"
     ]
    }
   ],
   "source": [
    "print(store1)"
   ]
  },
  {
   "cell_type": "code",
   "execution_count": 132,
   "metadata": {},
   "outputs": [
    {
     "name": "stdout",
     "output_type": "stream",
     "text": [
      "['python, 1, medium-rare']\n"
     ]
    }
   ],
   "source": [
    "print(store2)"
   ]
  },
  {
   "cell_type": "code",
   "execution_count": 133,
   "metadata": {},
   "outputs": [
    {
     "data": {
      "text/plain": [
       "False"
      ]
     },
     "execution_count": 133,
     "metadata": {},
     "output_type": "execute_result"
    }
   ],
   "source": [
    "store1 is store2"
   ]
  },
  {
   "cell_type": "markdown",
   "metadata": {},
   "source": [
    "Nyní je vše v pořádku. Takže pozor na jaké úrovni vytváříme listy a obecně mutable objekty."
   ]
  },
  {
   "cell_type": "markdown",
   "metadata": {},
   "source": [
    "A NYNÍ NOVÝ SOUDEK"
   ]
  },
  {
   "cell_type": "code",
   "execution_count": 134,
   "metadata": {},
   "outputs": [],
   "source": [
    "def factorial(n):\n",
    "    if n < 1:\n",
    "        return 1\n",
    "    else:\n",
    "        print(f\"calculating{n}\")\n",
    "        return n* factorial(n-1)"
   ]
  },
  {
   "cell_type": "code",
   "execution_count": 135,
   "metadata": {
    "scrolled": true
   },
   "outputs": [
    {
     "name": "stdout",
     "output_type": "stream",
     "text": [
      "calculating3\n",
      "calculating2\n",
      "calculating1\n"
     ]
    },
    {
     "data": {
      "text/plain": [
       "6"
      ]
     },
     "execution_count": 135,
     "metadata": {},
     "output_type": "execute_result"
    }
   ],
   "source": [
    "factorial(3)"
   ]
  },
  {
   "cell_type": "markdown",
   "metadata": {},
   "source": [
    "Když bych se opravdu nudil mohu dodělat poslední funkci"
   ]
  },
  {
   "cell_type": "markdown",
   "metadata": {},
   "source": [
    "OBECNĚ JE OPRAVDU NEZBYTNÉ TO VŠE ZNOVU ČÍST A STUDOVAT - JE TO DOCELA FUŠKA A JE NUTNÉ DOSTAT VŠE POD KŮŽI"
   ]
  }
 ],
 "metadata": {
  "kernelspec": {
   "display_name": "Python 3",
   "language": "python",
   "name": "python3"
  },
  "language_info": {
   "codemirror_mode": {
    "name": "ipython",
    "version": 3
   },
   "file_extension": ".py",
   "mimetype": "text/x-python",
   "name": "python",
   "nbconvert_exporter": "python",
   "pygments_lexer": "ipython3",
   "version": "3.7.6"
  }
 },
 "nbformat": 4,
 "nbformat_minor": 4
}
