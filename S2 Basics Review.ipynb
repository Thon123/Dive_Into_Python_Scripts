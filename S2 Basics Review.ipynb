{
 "cells": [
  {
   "cell_type": "markdown",
   "metadata": {},
   "source": [
    "# Basics Review"
   ]
  },
  {
   "cell_type": "markdown",
   "metadata": {},
   "source": [
    "## Type Hiearchy"
   ]
  },
  {
   "cell_type": "markdown",
   "metadata": {},
   "source": [
    "Numbers"
   ]
  },
  {
   "cell_type": "markdown",
   "metadata": {},
   "source": [
    "- Integral: integeres, booleans\n",
    "- Non-Integral: Floats, Complex, Decimals, Fractions (třetina apod)"
   ]
  },
  {
   "cell_type": "markdown",
   "metadata": {},
   "source": [
    "Collections"
   ]
  },
  {
   "cell_type": "markdown",
   "metadata": {},
   "source": [
    "Sequences"
   ]
  },
  {
   "cell_type": "markdown",
   "metadata": {},
   "source": [
    "- Mutable: Lists\n",
    "- Immutable: Tuples, Strings"
   ]
  },
  {
   "cell_type": "markdown",
   "metadata": {},
   "source": [
    "Sets: mutable - Sets, immutable - Frozen Sets, Mapping - dictionaries"
   ]
  },
  {
   "cell_type": "markdown",
   "metadata": {},
   "source": [
    "Callables:"
   ]
  },
  {
   "cell_type": "markdown",
   "metadata": {},
   "source": [
    "- functions\n",
    "- generators\n",
    "- Classes\n",
    "- Instance Methods (functions inside the class)\n",
    "- Class Instances (__call__())\n",
    "- Bult-in Functions (len())\n",
    "- Built-in Methods (e.g.. my_list.append(x))"
   ]
  },
  {
   "cell_type": "markdown",
   "metadata": {},
   "source": [
    "Singletons"
   ]
  },
  {
   "cell_type": "markdown",
   "metadata": {},
   "source": [
    "- None\n",
    "- Notimplemented\n",
    "- Elipsis"
   ]
  },
  {
   "cell_type": "markdown",
   "metadata": {},
   "source": [
    "## Multi-Line Statements and Strings"
   ]
  },
  {
   "cell_type": "markdown",
   "metadata": {},
   "source": [
    "Kapitola se zabývá logikou, kde lze či nelze a jak psát na více řádků."
   ]
  },
  {
   "cell_type": "markdown",
   "metadata": {},
   "source": [
    "Impliciní ukončení je například [], (), {}, funkční argumenty, uvnitř funkcí apod.."
   ]
  },
  {
   "cell_type": "markdown",
   "metadata": {},
   "source": [
    "Explicitní už je horší musíme pouze takto:"
   ]
  },
  {
   "cell_type": "code",
   "execution_count": 4,
   "metadata": {},
   "outputs": [],
   "source": [
    "# if a \n",
    "#    and b\n",
    "#    and c\n",
    "#=> nefunguje"
   ]
  },
  {
   "cell_type": "code",
   "execution_count": 7,
   "metadata": {},
   "outputs": [],
   "source": [
    "#if a \\\n",
    "#    and b \\\n",
    "#    and c:\n",
    "#musíme takto"
   ]
  },
  {
   "cell_type": "code",
   "execution_count": 8,
   "metadata": {},
   "outputs": [
    {
     "data": {
      "text/plain": [
       "' tohle není komentář - lze je tak používa'"
      ]
     },
     "execution_count": 8,
     "metadata": {},
     "output_type": "execute_result"
    }
   ],
   "source": [
    "# tohle je komentář\n",
    "\"\"\" tohle není komentář - lze je tak používa\"\"\"\n",
    "#rozdíl je ten že komentáře python ignoruje, ale obsah v \"\"\"bere v potaz \"\"\"\n",
    "#právě například pro docstring"
   ]
  },
  {
   "cell_type": "markdown",
   "metadata": {},
   "source": [
    ":)) tady krásně vidíme rozdíl - #nemá output ale \"\"\" output má \"\"\""
   ]
  },
  {
   "cell_type": "code",
   "execution_count": 9,
   "metadata": {},
   "outputs": [],
   "source": [
    "a = [1,2,3]"
   ]
  },
  {
   "cell_type": "code",
   "execution_count": 12,
   "metadata": {},
   "outputs": [],
   "source": [
    "a = [1,2,\n",
    "    3,4, #můžu komentovat\n",
    "    5]\n",
    "#prostě můžu psát v multiline"
   ]
  },
  {
   "cell_type": "code",
   "execution_count": 13,
   "metadata": {},
   "outputs": [
    {
     "ename": "SyntaxError",
     "evalue": "unexpected EOF while parsing (<ipython-input-13-67923378cacf>, line 1)",
     "output_type": "error",
     "traceback": [
      "\u001b[1;36m  File \u001b[1;32m\"<ipython-input-13-67923378cacf>\"\u001b[1;36m, line \u001b[1;32m1\u001b[0m\n\u001b[1;33m    a = [1 #item1,] #nejde\u001b[0m\n\u001b[1;37m                          ^\u001b[0m\n\u001b[1;31mSyntaxError\u001b[0m\u001b[1;31m:\u001b[0m unexpected EOF while parsing\n"
     ]
    }
   ],
   "source": [
    "a = [1 #item1,] #nejde"
   ]
  },
  {
   "cell_type": "code",
   "execution_count": 15,
   "metadata": {},
   "outputs": [],
   "source": [
    "a = (1,\n",
    "    2, #též lze\n",
    "    3)"
   ]
  },
  {
   "cell_type": "code",
   "execution_count": 16,
   "metadata": {},
   "outputs": [],
   "source": [
    "a = (1,2,3)"
   ]
  },
  {
   "cell_type": "code",
   "execution_count": 19,
   "metadata": {},
   "outputs": [],
   "source": [
    "a = {\"key1\" : 1,\n",
    "    \"key2\" : 2}\n",
    "b = {\"key1\": 1, \"key2\" : 2}\n",
    "c = {\"key1\" : 1,\n",
    "    \"key2\" : 2#pokud dám komentář\n",
    "    } #závorka musí ukončit na novém řádku"
   ]
  },
  {
   "cell_type": "code",
   "execution_count": 22,
   "metadata": {},
   "outputs": [],
   "source": [
    "def my_func(a, #a nebo rozepsat parametry\n",
    "            b, #též si můžu komentovat\n",
    "            c):\n",
    "    print(a,b,c,)"
   ]
  },
  {
   "cell_type": "code",
   "execution_count": 23,
   "metadata": {},
   "outputs": [
    {
     "name": "stdout",
     "output_type": "stream",
     "text": [
      "10 20 30\n"
     ]
    }
   ],
   "source": [
    "my_func(10,20,30)"
   ]
  },
  {
   "cell_type": "code",
   "execution_count": 24,
   "metadata": {},
   "outputs": [
    {
     "name": "stdout",
     "output_type": "stream",
     "text": [
      "10 20 30\n"
     ]
    }
   ],
   "source": [
    "my_func(10,\n",
    "       20, #comment\n",
    "       30)"
   ]
  },
  {
   "cell_type": "code",
   "execution_count": 25,
   "metadata": {},
   "outputs": [],
   "source": [
    "a = 10\n",
    "b = 20\n",
    "c = 30"
   ]
  },
  {
   "cell_type": "code",
   "execution_count": 27,
   "metadata": {},
   "outputs": [
    {
     "name": "stdout",
     "output_type": "stream",
     "text": [
      "yes\n"
     ]
    }
   ],
   "source": [
    "if a > 5 and b > 10 and c > 20:\n",
    "    print(\"yes\")\n",
    "#funguje bez problémů"
   ]
  },
  {
   "cell_type": "code",
   "execution_count": 28,
   "metadata": {},
   "outputs": [
    {
     "name": "stdout",
     "output_type": "stream",
     "text": [
      "yes\n"
     ]
    }
   ],
   "source": [
    "#v delších podmínkách můžeme potřebovat více řádků\n",
    "#pro zajištění větší readability\n",
    "\n",
    "if a > 5 \\\n",
    "and b > 10 \\\n",
    "and c > 20:\n",
    "    print(\"yes\")\n",
    "#tak musím takto :)"
   ]
  },
  {
   "cell_type": "code",
   "execution_count": 29,
   "metadata": {},
   "outputs": [
    {
     "name": "stdout",
     "output_type": "stream",
     "text": [
      "yes\n"
     ]
    }
   ],
   "source": [
    "if a > 5 \\\n",
    "    and b > 10 \\\n",
    "        and c > 20:\n",
    "    print(\"yes\")\n",
    "#odsadit si je můžu už podle libosti"
   ]
  },
  {
   "cell_type": "code",
   "execution_count": 30,
   "metadata": {},
   "outputs": [],
   "source": [
    "a = \"\"\" this is \n",
    "a string\"\"\""
   ]
  },
  {
   "cell_type": "code",
   "execution_count": 31,
   "metadata": {
    "scrolled": true
   },
   "outputs": [
    {
     "data": {
      "text/plain": [
       "' this is \\na string'"
      ]
     },
     "execution_count": 31,
     "metadata": {},
     "output_type": "execute_result"
    }
   ],
   "source": [
    "a"
   ]
  },
  {
   "cell_type": "code",
   "execution_count": 33,
   "metadata": {},
   "outputs": [
    {
     "name": "stdout",
     "output_type": "stream",
     "text": [
      " this is \n",
      "a string\n"
     ]
    }
   ],
   "source": [
    "print(a)"
   ]
  },
  {
   "cell_type": "code",
   "execution_count": 32,
   "metadata": {},
   "outputs": [
    {
     "ename": "SyntaxError",
     "evalue": "invalid syntax (<ipython-input-32-23a8795e1743>, line 1)",
     "output_type": "error",
     "traceback": [
      "\u001b[1;36m  File \u001b[1;32m\"<ipython-input-32-23a8795e1743>\"\u001b[1;36m, line \u001b[1;32m1\u001b[0m\n\u001b[1;33m    b = #this is a comment\u001b[0m\n\u001b[1;37m        ^\u001b[0m\n\u001b[1;31mSyntaxError\u001b[0m\u001b[1;31m:\u001b[0m invalid syntax\n"
     ]
    }
   ],
   "source": [
    "b = #this is a comment"
   ]
  },
  {
   "cell_type": "markdown",
   "metadata": {},
   "source": [
    "Trocha hlubšího porozumění základních věcí."
   ]
  },
  {
   "cell_type": "code",
   "execution_count": 34,
   "metadata": {},
   "outputs": [],
   "source": [
    "def my_func():\n",
    "    a = \"\"\"a multi-line string\n",
    "    that is indented in the second line\"\"\"\n",
    "    return a"
   ]
  },
  {
   "cell_type": "code",
   "execution_count": 36,
   "metadata": {},
   "outputs": [
    {
     "name": "stdout",
     "output_type": "stream",
     "text": [
      "a multi-line string\n",
      "    that is indented in the second line\n"
     ]
    }
   ],
   "source": [
    "print(my_func())"
   ]
  },
  {
   "cell_type": "code",
   "execution_count": 38,
   "metadata": {},
   "outputs": [],
   "source": [
    "def my_func():\n",
    "    a = \"\"\"a multi-line string\n",
    "that is indented in the second line\"\"\"\n",
    "    return a"
   ]
  },
  {
   "cell_type": "code",
   "execution_count": 39,
   "metadata": {},
   "outputs": [
    {
     "name": "stdout",
     "output_type": "stream",
     "text": [
      "a multi-line string\n",
      "that is indented in the second line\n"
     ]
    }
   ],
   "source": [
    "print(my_func())"
   ]
  },
  {
   "cell_type": "code",
   "execution_count": 37,
   "metadata": {
    "scrolled": true
   },
   "outputs": [
    {
     "data": {
      "text/plain": [
       "'a multi-line string\\n    that is indented in the second line'"
      ]
     },
     "execution_count": 37,
     "metadata": {},
     "output_type": "execute_result"
    }
   ],
   "source": [
    "my_func()"
   ]
  },
  {
   "cell_type": "markdown",
   "metadata": {},
   "source": [
    "## Identifier Names"
   ]
  },
  {
   "cell_type": "markdown",
   "metadata": {},
   "source": [
    "Zažitá pravidla a konvence"
   ]
  },
  {
   "cell_type": "markdown",
   "metadata": {},
   "source": [
    "- Identifier jsou case sensitive, my_var != my_Var.\n",
    "- mají začínat _ nebo a-z\n",
    "- pokračovat mobou _, a-z, 0-9\n",
    "- nesmí začít číslem\n",
    "- var, my_var, index1, index_1 - ok\n",
    "- _var, __var, __lt__ - ok\n",
    "- nesmí obsahovat \"Python\" slova - rezervovaná"
   ]
  },
  {
   "cell_type": "markdown",
   "metadata": {},
   "source": [
    "A další konvence"
   ]
  },
  {
   "cell_type": "markdown",
   "metadata": {},
   "source": [
    "- _my_var => pokud začínám _ - označuji to jako interní, privátní objekt\n",
    "- takže pokud zadám například from module import * - python ji vynechá\n",
    "- __my_var - pro mangle jména, pokud mám dvě shodná jména\n",
    "- __myvar__ - dunder metody - nepoužívat je \n",
    "- příklad dunder - x < y ---> x.__lt__(y) :)\n",
    "- PEP8 pro podobrnější conventions\n",
    "- Packages - krátké, lowercase a žádné underscore - utilites\n",
    "- Modules - krátké a lower, db_utils\n",
    "- Classes - BankAccount - slova v sobě ale začátky velkým\n",
    "- Functions - lower a undersoce --> open_account\n",
    "- Constants - MIN_APR - upper a underscore"
   ]
  },
  {
   "cell_type": "markdown",
   "metadata": {},
   "source": [
    "## Conditionals"
   ]
  },
  {
   "cell_type": "markdown",
   "metadata": {},
   "source": [
    "Komentovat budu pouze něco nového - jakmile není komentář netřeba řešit."
   ]
  },
  {
   "cell_type": "code",
   "execution_count": 40,
   "metadata": {},
   "outputs": [
    {
     "name": "stdout",
     "output_type": "stream",
     "text": [
      "a>=5\n"
     ]
    }
   ],
   "source": [
    "a = 6\n",
    "\n",
    "if a < 5:\n",
    "    print(\"a<5\")\n",
    "else:\n",
    "    print(\"a>=5\")"
   ]
  },
  {
   "cell_type": "code",
   "execution_count": 41,
   "metadata": {},
   "outputs": [
    {
     "name": "stdout",
     "output_type": "stream",
     "text": [
      "tuduu\n"
     ]
    }
   ],
   "source": [
    "a = 10\n",
    "\n",
    "if a < 5:\n",
    "    print(\"a < 5\")\n",
    "else:\n",
    "    if a < 10:\n",
    "        print(\"5 <= 7\")\n",
    "    else:\n",
    "        print(\"tuduu\")"
   ]
  },
  {
   "cell_type": "code",
   "execution_count": 42,
   "metadata": {},
   "outputs": [
    {
     "name": "stdout",
     "output_type": "stream",
     "text": [
      "okay\n"
     ]
    }
   ],
   "source": [
    "a = 30\n",
    "\n",
    "if a < 5:\n",
    "    print(\"a<5\")\n",
    "elif a < 10:\n",
    "    print(\"tudu\")\n",
    "elif a < 15:\n",
    "    print(\"tuduuu2\")\n",
    "else:\n",
    "    print(\"okay\")"
   ]
  },
  {
   "cell_type": "markdown",
   "metadata": {},
   "source": [
    "X if (condition is true) else Y"
   ]
  },
  {
   "cell_type": "code",
   "execution_count": 43,
   "metadata": {},
   "outputs": [],
   "source": [
    "b = \"a < 5\" if a > 5 else \"a>=5\""
   ]
  },
  {
   "cell_type": "code",
   "execution_count": 44,
   "metadata": {},
   "outputs": [
    {
     "name": "stdout",
     "output_type": "stream",
     "text": [
      "a>=5\n"
     ]
    }
   ],
   "source": [
    "print(b)"
   ]
  },
  {
   "cell_type": "markdown",
   "metadata": {},
   "source": [
    "Tohle je poměrně zajímavé"
   ]
  },
  {
   "cell_type": "code",
   "execution_count": 45,
   "metadata": {},
   "outputs": [],
   "source": [
    "a = 20"
   ]
  },
  {
   "cell_type": "code",
   "execution_count": 46,
   "metadata": {},
   "outputs": [],
   "source": [
    "b = \"a < 5\" if a > 5 else \"a>=5\""
   ]
  },
  {
   "cell_type": "code",
   "execution_count": 47,
   "metadata": {},
   "outputs": [
    {
     "name": "stdout",
     "output_type": "stream",
     "text": [
      "a < 5\n"
     ]
    }
   ],
   "source": [
    "print(b)"
   ]
  },
  {
   "cell_type": "markdown",
   "metadata": {},
   "source": [
    "Nehodnotí to block kodu. Takže spíše informativní."
   ]
  },
  {
   "cell_type": "markdown",
   "metadata": {},
   "source": [
    "## Functions"
   ]
  },
  {
   "cell_type": "markdown",
   "metadata": {},
   "source": [
    "Trochu lepší logika. Napíši pouze to co bude pro mě nové."
   ]
  },
  {
   "cell_type": "code",
   "execution_count": 50,
   "metadata": {},
   "outputs": [],
   "source": [
    "def func_2 (a: int, b: int):\n",
    "    return a* b\n",
    "#a: int je pouze dokumentace nemá vliv\n",
    "#python nemá typy v podstatě"
   ]
  },
  {
   "cell_type": "code",
   "execution_count": 52,
   "metadata": {
    "scrolled": true
   },
   "outputs": [
    {
     "data": {
      "text/plain": [
       "'aaa'"
      ]
     },
     "execution_count": 52,
     "metadata": {},
     "output_type": "execute_result"
    }
   ],
   "source": [
    "func_2(\"a\",3)"
   ]
  },
  {
   "cell_type": "code",
   "execution_count": 53,
   "metadata": {
    "scrolled": true
   },
   "outputs": [
    {
     "data": {
      "text/plain": [
       "[1, 2, 1, 2, 1, 2]"
      ]
     },
     "execution_count": 53,
     "metadata": {},
     "output_type": "execute_result"
    }
   ],
   "source": [
    "func_2([1,2],3)"
   ]
  },
  {
   "cell_type": "code",
   "execution_count": 54,
   "metadata": {},
   "outputs": [],
   "source": [
    "#ve výsledku je pythonu jedno že jsem si evidoval a jako int :)"
   ]
  },
  {
   "cell_type": "code",
   "execution_count": 56,
   "metadata": {},
   "outputs": [
    {
     "data": {
      "text/plain": [
       "<function __main__.func_2(a: int, b: int)>"
      ]
     },
     "execution_count": 56,
     "metadata": {},
     "output_type": "execute_result"
    }
   ],
   "source": [
    "func_2 #pouze objekt"
   ]
  },
  {
   "cell_type": "code",
   "execution_count": 57,
   "metadata": {},
   "outputs": [],
   "source": [
    "def func_3():\n",
    "    return func_4()\n",
    "\n",
    "#nevadí mu že v podstatě ještě func_4 není vytvořená\n",
    "#tvořím objekt který není ještě volaný\n",
    "\n",
    "def func_4():\n",
    "    return \"running func_4\""
   ]
  },
  {
   "cell_type": "code",
   "execution_count": 58,
   "metadata": {},
   "outputs": [
    {
     "data": {
      "text/plain": [
       "'running func_4'"
      ]
     },
     "execution_count": 58,
     "metadata": {},
     "output_type": "execute_result"
    }
   ],
   "source": [
    "func_3()"
   ]
  },
  {
   "cell_type": "code",
   "execution_count": 59,
   "metadata": {},
   "outputs": [
    {
     "ename": "NameError",
     "evalue": "name 'func_6' is not defined",
     "output_type": "error",
     "traceback": [
      "\u001b[1;31m---------------------------------------------------------------------------\u001b[0m",
      "\u001b[1;31mNameError\u001b[0m                                 Traceback (most recent call last)",
      "\u001b[1;32m<ipython-input-59-7fe2e4da9cd2>\u001b[0m in \u001b[0;36m<module>\u001b[1;34m\u001b[0m\n\u001b[0;32m      2\u001b[0m     \u001b[1;32mreturn\u001b[0m \u001b[0mfunc_6\u001b[0m\u001b[1;33m\u001b[0m\u001b[1;33m\u001b[0m\u001b[0m\n\u001b[0;32m      3\u001b[0m \u001b[1;33m\u001b[0m\u001b[0m\n\u001b[1;32m----> 4\u001b[1;33m \u001b[0mfunc_5\u001b[0m\u001b[1;33m(\u001b[0m\u001b[1;33m)\u001b[0m\u001b[1;33m\u001b[0m\u001b[1;33m\u001b[0m\u001b[0m\n\u001b[0m\u001b[0;32m      5\u001b[0m \u001b[1;33m\u001b[0m\u001b[0m\n\u001b[0;32m      6\u001b[0m \u001b[1;32mdef\u001b[0m \u001b[0mfunc_6\u001b[0m\u001b[1;33m(\u001b[0m\u001b[1;33m)\u001b[0m\u001b[1;33m:\u001b[0m\u001b[1;33m\u001b[0m\u001b[1;33m\u001b[0m\u001b[0m\n",
      "\u001b[1;32m<ipython-input-59-7fe2e4da9cd2>\u001b[0m in \u001b[0;36mfunc_5\u001b[1;34m()\u001b[0m\n\u001b[0;32m      1\u001b[0m \u001b[1;32mdef\u001b[0m \u001b[0mfunc_5\u001b[0m\u001b[1;33m(\u001b[0m\u001b[1;33m)\u001b[0m\u001b[1;33m:\u001b[0m\u001b[1;33m\u001b[0m\u001b[1;33m\u001b[0m\u001b[0m\n\u001b[1;32m----> 2\u001b[1;33m     \u001b[1;32mreturn\u001b[0m \u001b[0mfunc_6\u001b[0m\u001b[1;33m\u001b[0m\u001b[1;33m\u001b[0m\u001b[0m\n\u001b[0m\u001b[0;32m      3\u001b[0m \u001b[1;33m\u001b[0m\u001b[0m\n\u001b[0;32m      4\u001b[0m \u001b[0mfunc_5\u001b[0m\u001b[1;33m(\u001b[0m\u001b[1;33m)\u001b[0m\u001b[1;33m\u001b[0m\u001b[1;33m\u001b[0m\u001b[0m\n\u001b[0;32m      5\u001b[0m \u001b[1;33m\u001b[0m\u001b[0m\n",
      "\u001b[1;31mNameError\u001b[0m: name 'func_6' is not defined"
     ]
    }
   ],
   "source": [
    "def func_5():\n",
    "    return func_6\n",
    "\n",
    "func_5()\n",
    "#ještě není evidováno\n",
    "def func_6():\n",
    "    return \"running func_5\"\n"
   ]
  },
  {
   "cell_type": "code",
   "execution_count": 60,
   "metadata": {},
   "outputs": [
    {
     "data": {
      "text/plain": [
       "function"
      ]
     },
     "execution_count": 60,
     "metadata": {},
     "output_type": "execute_result"
    }
   ],
   "source": [
    "type(func_4) #náš objekt "
   ]
  },
  {
   "cell_type": "code",
   "execution_count": 61,
   "metadata": {},
   "outputs": [],
   "source": [
    "my_func = func_4"
   ]
  },
  {
   "cell_type": "code",
   "execution_count": 62,
   "metadata": {},
   "outputs": [
    {
     "data": {
      "text/plain": [
       "'running func_4'"
      ]
     },
     "execution_count": 62,
     "metadata": {},
     "output_type": "execute_result"
    }
   ],
   "source": [
    "func_4()"
   ]
  },
  {
   "cell_type": "code",
   "execution_count": 63,
   "metadata": {},
   "outputs": [
    {
     "data": {
      "text/plain": [
       "'running func_4'"
      ]
     },
     "execution_count": 63,
     "metadata": {},
     "output_type": "execute_result"
    }
   ],
   "source": [
    "my_func()"
   ]
  },
  {
   "cell_type": "markdown",
   "metadata": {},
   "source": [
    "Pouze prokazování, že se nám jedná o objekt."
   ]
  },
  {
   "cell_type": "code",
   "execution_count": 64,
   "metadata": {},
   "outputs": [
    {
     "data": {
      "text/plain": [
       "<function __main__.<lambda>(x)>"
      ]
     },
     "execution_count": 64,
     "metadata": {},
     "output_type": "execute_result"
    }
   ],
   "source": [
    "lambda x: x**2"
   ]
  },
  {
   "cell_type": "code",
   "execution_count": 65,
   "metadata": {},
   "outputs": [],
   "source": [
    "fn1 = lambda x: x**2"
   ]
  },
  {
   "cell_type": "code",
   "execution_count": 66,
   "metadata": {},
   "outputs": [
    {
     "data": {
      "text/plain": [
       "4"
      ]
     },
     "execution_count": 66,
     "metadata": {},
     "output_type": "execute_result"
    }
   ],
   "source": [
    "fn1(2)"
   ]
  },
  {
   "cell_type": "markdown",
   "metadata": {},
   "source": [
    "Většinou lamdám jméno nedáváme ale jsou stále objekty, lze je pojmenovat a využívat."
   ]
  },
  {
   "cell_type": "markdown",
   "metadata": {},
   "source": [
    "## While Loop"
   ]
  },
  {
   "cell_type": "markdown",
   "metadata": {},
   "source": [
    "Pokračuji v mé konvenvci, evidovat to zajímavé a neznámé."
   ]
  },
  {
   "cell_type": "code",
   "execution_count": 68,
   "metadata": {},
   "outputs": [
    {
     "name": "stdout",
     "output_type": "stream",
     "text": [
      "5\n"
     ]
    }
   ],
   "source": [
    "i = 5\n",
    "\n",
    "while True: #nekonečná smyčka\n",
    "    print(i)\n",
    "    if i>=5:\n",
    "        break #ale můžeme jí ukončit takto\n",
    "        print(\"this will never run\")"
   ]
  },
  {
   "cell_type": "code",
   "execution_count": 74,
   "metadata": {},
   "outputs": [
    {
     "name": "stdout",
     "output_type": "stream",
     "text": [
      "Please enter your name:robert\n",
      "Hello robert\n"
     ]
    }
   ],
   "source": [
    "min_length = 2\n",
    "name = input(\"Please enter your name:\")\n",
    "\n",
    "while not(len(name) >= min_length and name.isprintable() and name.isalpha()):\n",
    "    name = input(\"Please enter your name:\")\n",
    "\n",
    "print(f\"Hello {name}\")\n",
    "\n",
    "#tak a ted správně"
   ]
  },
  {
   "cell_type": "code",
   "execution_count": 77,
   "metadata": {},
   "outputs": [
    {
     "name": "stdout",
     "output_type": "stream",
     "text": [
      "Please enter your name:robert\n",
      "Hello robert\n"
     ]
    }
   ],
   "source": [
    "#Takto je to správně neopakuji se\n",
    "min_length = 2\n",
    "\n",
    "while True:\n",
    "    name = input(\"Please enter your name:\")\n",
    "    if (len(name) >= min_length and name.isprintable() and name.isalpha()):\n",
    "        break\n",
    "\n",
    "print(f\"Hello {name}\")\n",
    "    "
   ]
  },
  {
   "cell_type": "code",
   "execution_count": 79,
   "metadata": {},
   "outputs": [
    {
     "name": "stdout",
     "output_type": "stream",
     "text": [
      "1\n",
      "3\n",
      "5\n",
      "7\n",
      "9\n"
     ]
    }
   ],
   "source": [
    "a = 0\n",
    "b = 2\n",
    "\n",
    "while a < 10:\n",
    "    a+= 1\n",
    "    if a % 2 == 0:\n",
    "        continue\n",
    "    print(a)\n",
    "#a se nevytiskne \n",
    "#continue neříká že má dodělat zbytek :)\n",
    "#ale že mu dovolí dokončit"
   ]
  },
  {
   "cell_type": "code",
   "execution_count": 81,
   "metadata": {},
   "outputs": [
    {
     "name": "stdout",
     "output_type": "stream",
     "text": [
      "[1, 2, 3, 10]\n"
     ]
    }
   ],
   "source": [
    "l = [1,2,3]\n",
    "val = 10\n",
    "\n",
    "found = False\n",
    "idx = 0\n",
    "\n",
    "while idx < len(l):\n",
    "    if l[idx] == val:\n",
    "        found = True\n",
    "        break\n",
    "    idx += 1\n",
    "\n",
    "if not found:\n",
    "    l.append(val)\n",
    "    \n",
    "print(l)\n",
    "\n",
    "#while smyčka nic nenajde \n",
    "#nenastaví found na True\n",
    "#a tudíž nám přidá 10ku"
   ]
  },
  {
   "cell_type": "code",
   "execution_count": 83,
   "metadata": {},
   "outputs": [
    {
     "name": "stdout",
     "output_type": "stream",
     "text": [
      "[1, 2, 3, 10]\n"
     ]
    }
   ],
   "source": [
    "l = [1,2,3]\n",
    "val = 10\n",
    "idx = 0\n",
    "while idx < len(l):\n",
    "    if l[idx] == val:\n",
    "        break\n",
    "    idx +=1\n",
    "else:\n",
    "    l.append(val)\n",
    "    \n",
    "print(l)\n",
    "#while - else moc zajímavé\n",
    "#v podstatě projede cyklus a pokud nedá break\n",
    "#přejde na else \n",
    "#máme tedy while-else clause"
   ]
  },
  {
   "cell_type": "markdown",
   "metadata": {},
   "source": [
    "## Break, Continue and the Try Statement"
   ]
  },
  {
   "cell_type": "markdown",
   "metadata": {},
   "source": [
    "Chceme řešit try statement ve smyčce."
   ]
  },
  {
   "cell_type": "code",
   "execution_count": null,
   "metadata": {},
   "outputs": [],
   "source": [
    "# try - except - finally (běží vždy děj se co děj)"
   ]
  },
  {
   "cell_type": "code",
   "execution_count": 85,
   "metadata": {},
   "outputs": [
    {
     "name": "stdout",
     "output_type": "stream",
     "text": [
      "division by 0\n",
      "this always executes\n"
     ]
    }
   ],
   "source": [
    "a = 10\n",
    "b = 0\n",
    "try:\n",
    "    a/b\n",
    "except ZeroDivisionError:\n",
    "    print(\"division by 0\")\n",
    "finally:\n",
    "    print(\"this always executes\")\n",
    "#praktická ukázka zde"
   ]
  },
  {
   "cell_type": "code",
   "execution_count": 86,
   "metadata": {},
   "outputs": [
    {
     "name": "stdout",
     "output_type": "stream",
     "text": [
      "----------------\n",
      "1,1 - always executes\n",
      "1,1 - main loop\n",
      "----------------\n",
      "2/0 not possible\n",
      "2,0 - always executes\n",
      "----------------\n",
      "3,-1 - always executes\n",
      "3,-1 - main loop\n",
      "----------------\n",
      "4,-2 - always executes\n",
      "4,-2 - main loop\n"
     ]
    }
   ],
   "source": [
    "a = 0\n",
    "b = 2\n",
    "\n",
    "while a < 4:\n",
    "    print(\"----------------\")\n",
    "    a += 1\n",
    "    b -= 1\n",
    "    \n",
    "    try:\n",
    "        a / b\n",
    "    except ZeroDivisionError:\n",
    "        print(f\"{a}/{b} not possible\")\n",
    "        continue\n",
    "    finally:\n",
    "        print(f\"{a},{b} - always executes\")\n",
    "    print(f\"{a},{b} - main loop\")"
   ]
  },
  {
   "cell_type": "markdown",
   "metadata": {},
   "source": [
    "Tohle je menší magic. Finally se vytiskne vždy. Main loop se vytiskne 3x a v bodě kdy dělíme 2/0. Tak se nám vytiskne error pro dělení 0 ale i tak se projede číst kodu finally. ALE jelikož naskočí continue - nedostaneme se nakonec, nedojde k main loop situaci."
   ]
  },
  {
   "cell_type": "markdown",
   "metadata": {},
   "source": [
    "- continue vyruší kod ale proběhně do konce - a proběhne finally\n",
    "- pokud neproběhne vyjímka - neproběhne continue - proběhne finally a main loop"
   ]
  },
  {
   "cell_type": "code",
   "execution_count": 88,
   "metadata": {},
   "outputs": [
    {
     "name": "stdout",
     "output_type": "stream",
     "text": [
      "----------------\n",
      "1,1 - always executes\n",
      "1,1 - main loop\n",
      "----------------\n",
      "2/0 not possible\n",
      "2,0 - always executes\n"
     ]
    }
   ],
   "source": [
    "a = 0\n",
    "b = 2\n",
    "\n",
    "while a < 4:\n",
    "    print(\"----------------\")\n",
    "    a += 1\n",
    "    b -= 1\n",
    "    \n",
    "    try:\n",
    "        a / b\n",
    "    except ZeroDivisionError:\n",
    "        print(f\"{a}/{b} not possible\")\n",
    "        break\n",
    "    finally:\n",
    "        print(f\"{a},{b} - always executes\")\n",
    "    print(f\"{a},{b} - main loop\")\n",
    "else:\n",
    "    print(\"Code executed without a zero divison error\")"
   ]
  },
  {
   "cell_type": "markdown",
   "metadata": {},
   "source": [
    "- pokud použijeme break => ukončíme program\n",
    "- zatímco continue ukončí iterace + finally\n",
    "- zde break ukončí iteraci u 2 bodu a další už neběží\n",
    "- pokud nastavím else a nenastane zero divison error tak nenastane break a tudíž propběhne smyška a poté else"
   ]
  },
  {
   "cell_type": "markdown",
   "metadata": {},
   "source": [
    "## The For Loop"
   ]
  },
  {
   "cell_type": "code",
   "execution_count": 89,
   "metadata": {},
   "outputs": [
    {
     "name": "stdout",
     "output_type": "stream",
     "text": [
      "a\n",
      "b\n",
      "c\n",
      "d\n",
      "1\n"
     ]
    }
   ],
   "source": [
    "for x in (\"a\",\"b\",\"c\",\"d\",1):\n",
    "    print(x)\n",
    "          "
   ]
  },
  {
   "cell_type": "code",
   "execution_count": 90,
   "metadata": {},
   "outputs": [],
   "source": [
    "#vytisknu vše samozřejmě"
   ]
  },
  {
   "cell_type": "code",
   "execution_count": 92,
   "metadata": {},
   "outputs": [
    {
     "name": "stdout",
     "output_type": "stream",
     "text": [
      "(1, 2)\n",
      "(3, 4)\n",
      "(5, 6)\n"
     ]
    }
   ],
   "source": [
    "for i in [(1,2),(3,4),(5,6)]:\n",
    "    print(i)"
   ]
  },
  {
   "cell_type": "code",
   "execution_count": 93,
   "metadata": {},
   "outputs": [
    {
     "name": "stdout",
     "output_type": "stream",
     "text": [
      "1 2\n",
      "3 4\n",
      "5 6\n"
     ]
    }
   ],
   "source": [
    "for x,y in [(1,2),(3,4),(5,6)]:\n",
    "    print(x,y)"
   ]
  },
  {
   "cell_type": "code",
   "execution_count": 94,
   "metadata": {},
   "outputs": [],
   "source": [
    "#jasné unpacking v akci"
   ]
  },
  {
   "cell_type": "code",
   "execution_count": 95,
   "metadata": {},
   "outputs": [
    {
     "name": "stdout",
     "output_type": "stream",
     "text": [
      "0\n",
      "1\n",
      "2\n",
      "4\n"
     ]
    }
   ],
   "source": [
    "for i in range(5):\n",
    "    if i == 3:\n",
    "        continue\n",
    "    print(i)"
   ]
  },
  {
   "cell_type": "code",
   "execution_count": 96,
   "metadata": {},
   "outputs": [
    {
     "name": "stdout",
     "output_type": "stream",
     "text": [
      "0\n",
      "1\n",
      "2\n"
     ]
    }
   ],
   "source": [
    "for i in range(5):\n",
    "    if i == 3:\n",
    "        break\n",
    "    print(i)"
   ]
  },
  {
   "cell_type": "markdown",
   "metadata": {},
   "source": [
    "Ukázka continue a break rozdílu"
   ]
  },
  {
   "cell_type": "code",
   "execution_count": 97,
   "metadata": {},
   "outputs": [
    {
     "name": "stdout",
     "output_type": "stream",
     "text": [
      "1\n",
      "2\n",
      "3\n",
      "4\n",
      "no multiples of 7 in the range\n"
     ]
    }
   ],
   "source": [
    "for i in range(1,5):\n",
    "    print(i)\n",
    "    if i % 7 == 0:\n",
    "        print(\"multiple of 7 found\")\n",
    "        break\n",
    "else:\n",
    "    #pokud netrefíme break nastane else\n",
    "    #tzn máme for - else pff :D\n",
    "    print(\"no multiples of 7 in the range\")"
   ]
  },
  {
   "cell_type": "markdown",
   "metadata": {},
   "source": [
    "Loop jsme vyčerpali takže nenastane if podmínka ale nastane else podmínka."
   ]
  },
  {
   "cell_type": "code",
   "execution_count": 99,
   "metadata": {},
   "outputs": [
    {
     "name": "stdout",
     "output_type": "stream",
     "text": [
      "------------------\n",
      "always run\n",
      "0\n",
      "------------------\n",
      "always run\n",
      "1\n",
      "------------------\n",
      "always run\n",
      "2\n",
      "------------------\n",
      "divided by zero\n",
      "always run\n",
      "------------------\n",
      "always run\n",
      "4\n"
     ]
    }
   ],
   "source": [
    "for i in range(5):\n",
    "    print(\"------------------\")\n",
    "    try: \n",
    "        10 / (i-3)\n",
    "    except ZeroDivisionError:\n",
    "        print(\"divided by zero\")\n",
    "        continue\n",
    "    finally:\n",
    "        print(\"always run\")\n",
    "    print(i)"
   ]
  },
  {
   "cell_type": "markdown",
   "metadata": {},
   "source": [
    "Ukázka je jasná, u zero division nemáme i nastane error a ten řešíme."
   ]
  },
  {
   "cell_type": "code",
   "execution_count": 100,
   "metadata": {},
   "outputs": [
    {
     "name": "stdout",
     "output_type": "stream",
     "text": [
      "0 h\n",
      "1 e\n",
      "2 l\n",
      "3 l\n",
      "4 o\n"
     ]
    }
   ],
   "source": [
    "s = \"hello\"\n",
    "i = 0\n",
    "for c in s:\n",
    "    print(i,c)\n",
    "    i += 1\n",
    "#homemade index"
   ]
  },
  {
   "cell_type": "code",
   "execution_count": 101,
   "metadata": {},
   "outputs": [
    {
     "name": "stdout",
     "output_type": "stream",
     "text": [
      "0 h\n",
      "1 e\n",
      "2 l\n",
      "3 l\n",
      "4 o\n"
     ]
    }
   ],
   "source": [
    "s = \"hello\"\n",
    "\n",
    "for i in range(len(s)):\n",
    "    print(i,s[i])\n",
    "#homemade index v2\n",
    "#tohle neznám!"
   ]
  },
  {
   "cell_type": "code",
   "execution_count": 102,
   "metadata": {},
   "outputs": [
    {
     "name": "stdout",
     "output_type": "stream",
     "text": [
      "0 h\n",
      "1 e\n",
      "2 l\n",
      "3 l\n",
      "4 o\n"
     ]
    }
   ],
   "source": [
    "s = \"hello\"\n",
    "\n",
    "for i,c in enumerate(s):\n",
    "    print(i,c)\n",
    "#nejčistčí verze\n",
    "#returní tuple a zněj vytáhneme data\n",
    "#standardní funkce - nikdo neřeší a hned víc o co jde"
   ]
  },
  {
   "cell_type": "markdown",
   "metadata": {},
   "source": [
    "## Classes"
   ]
  },
  {
   "cell_type": "code",
   "execution_count": 123,
   "metadata": {},
   "outputs": [],
   "source": [
    "class Rectangle:\n",
    "    #první argument je objekt samotný\n",
    "    def __init__(self, width, heigth):\n",
    "        self.width = width\n",
    "        self.heigth = heigth\n",
    "        #v podstatě šířka je jeho šířka atd:)\n",
    "        \n",
    "    def area(self):\n",
    "        return self.width * self.heigth\n",
    "    \n",
    "    def perimeter(self):\n",
    "        return 2* (self.width + self.heigth)\n",
    "#self může být zapsáno jinak - něco, tvorba apod..\n",
    "#je to jen odkaz na sebe sama"
   ]
  },
  {
   "cell_type": "code",
   "execution_count": 107,
   "metadata": {},
   "outputs": [],
   "source": [
    "r1 = Rectangle(10,20)"
   ]
  },
  {
   "cell_type": "code",
   "execution_count": 108,
   "metadata": {},
   "outputs": [
    {
     "data": {
      "text/plain": [
       "10"
      ]
     },
     "execution_count": 108,
     "metadata": {},
     "output_type": "execute_result"
    }
   ],
   "source": [
    "r1.width"
   ]
  },
  {
   "cell_type": "code",
   "execution_count": 109,
   "metadata": {},
   "outputs": [],
   "source": [
    "r1.width = 100"
   ]
  },
  {
   "cell_type": "code",
   "execution_count": 111,
   "metadata": {},
   "outputs": [
    {
     "data": {
      "text/plain": [
       "100"
      ]
     },
     "execution_count": 111,
     "metadata": {},
     "output_type": "execute_result"
    }
   ],
   "source": [
    "r1.width"
   ]
  },
  {
   "cell_type": "code",
   "execution_count": 125,
   "metadata": {},
   "outputs": [],
   "source": [
    "r2 = Rectangle(10,20)"
   ]
  },
  {
   "cell_type": "code",
   "execution_count": 126,
   "metadata": {},
   "outputs": [
    {
     "data": {
      "text/plain": [
       "200"
      ]
     },
     "execution_count": 126,
     "metadata": {},
     "output_type": "execute_result"
    }
   ],
   "source": [
    "r2.area()"
   ]
  },
  {
   "cell_type": "code",
   "execution_count": 128,
   "metadata": {},
   "outputs": [
    {
     "data": {
      "text/plain": [
       "60"
      ]
     },
     "execution_count": 128,
     "metadata": {},
     "output_type": "execute_result"
    }
   ],
   "source": [
    "r2.perimeter()"
   ]
  },
  {
   "cell_type": "markdown",
   "metadata": {},
   "source": [
    "Tohle je prozatím opáčko ale OOP jsem nijak nejel tak je to nezbytné."
   ]
  },
  {
   "cell_type": "code",
   "execution_count": 129,
   "metadata": {},
   "outputs": [
    {
     "data": {
      "text/plain": [
       "'<__main__.Rectangle object at 0x0000019DDBEFAE80>'"
      ]
     },
     "execution_count": 129,
     "metadata": {},
     "output_type": "execute_result"
    }
   ],
   "source": [
    "str(r2) #rectangle object a memory adresa"
   ]
  },
  {
   "cell_type": "code",
   "execution_count": 130,
   "metadata": {},
   "outputs": [
    {
     "data": {
      "text/plain": [
       "'0x19ddbefae80'"
      ]
     },
     "execution_count": 130,
     "metadata": {},
     "output_type": "execute_result"
    }
   ],
   "source": [
    "hex(id(r2)) #hex je zde podobná"
   ]
  },
  {
   "cell_type": "code",
   "execution_count": 190,
   "metadata": {},
   "outputs": [],
   "source": [
    "class Rectangle:\n",
    "    #první argument je objekt samotný\n",
    "    def __init__(self, width, heigth):\n",
    "        self.width = width\n",
    "        self.heigth = heigth\n",
    "        #v podstatě šířka je jeho šířka atd:)\n",
    "        \n",
    "    def area(self):\n",
    "        return self.width * self.heigth\n",
    "    \n",
    "    def perimeter(self):\n",
    "        return 2* (self.width + self.heigth)\n",
    "    \n",
    "    def to_string(self):\n",
    "        return (f\"Rectangle: width={self.width}, height={self.heigth}\")\n",
    "    \n",
    "    def __str__(self):\n",
    "        return(\"Here i am\")\n",
    "    \n",
    "    def __repr__(self):\n",
    "        return (\"I am back and better!\")\n",
    "        \n",
    "        \n",
    "#self může být zapsáno jinak - něco, tvorba apod..\n",
    "#je to jen odkaz na sebe sama"
   ]
  },
  {
   "cell_type": "code",
   "execution_count": 191,
   "metadata": {},
   "outputs": [],
   "source": [
    "r1 = Rectangle(10,20)"
   ]
  },
  {
   "cell_type": "code",
   "execution_count": 192,
   "metadata": {},
   "outputs": [
    {
     "data": {
      "text/plain": [
       "'Here i am'"
      ]
     },
     "execution_count": 192,
     "metadata": {},
     "output_type": "execute_result"
    }
   ],
   "source": [
    "str(r1) #použije str metodu"
   ]
  },
  {
   "cell_type": "code",
   "execution_count": 187,
   "metadata": {},
   "outputs": [
    {
     "data": {
      "text/plain": [
       "'Rectangle: width=10, height=20'"
      ]
     },
     "execution_count": 187,
     "metadata": {},
     "output_type": "execute_result"
    }
   ],
   "source": [
    "r1.to_string()"
   ]
  },
  {
   "cell_type": "code",
   "execution_count": 188,
   "metadata": {},
   "outputs": [
    {
     "data": {
      "text/plain": [
       "<__main__.Rectangle at 0x19ddbefaaf0>"
      ]
     },
     "execution_count": 188,
     "metadata": {},
     "output_type": "execute_result"
    }
   ],
   "source": [
    "r1 #ale tohle stále ukazuje pouze objekt"
   ]
  },
  {
   "cell_type": "code",
   "execution_count": 193,
   "metadata": {},
   "outputs": [
    {
     "data": {
      "text/plain": [
       "I am back and better!"
      ]
     },
     "execution_count": 193,
     "metadata": {},
     "output_type": "execute_result"
    }
   ],
   "source": [
    "r1 # __repr__ aneb kapitola používejte repr místo str \n",
    "#a ušetříte si čas :))"
   ]
  },
  {
   "cell_type": "code",
   "execution_count": 194,
   "metadata": {},
   "outputs": [],
   "source": [
    "r2 = Rectangle(10,20)"
   ]
  },
  {
   "cell_type": "markdown",
   "metadata": {},
   "source": [
    "Máme 2 obdelníky - ale chcem řešit shodu"
   ]
  },
  {
   "cell_type": "code",
   "execution_count": 195,
   "metadata": {},
   "outputs": [
    {
     "data": {
      "text/plain": [
       "True"
      ]
     },
     "execution_count": 195,
     "metadata": {},
     "output_type": "execute_result"
    }
   ],
   "source": [
    "r1 is not r2"
   ]
  },
  {
   "cell_type": "code",
   "execution_count": 196,
   "metadata": {},
   "outputs": [
    {
     "data": {
      "text/plain": [
       "False"
      ]
     },
     "execution_count": 196,
     "metadata": {},
     "output_type": "execute_result"
    }
   ],
   "source": [
    "r1 == r2"
   ]
  },
  {
   "cell_type": "markdown",
   "metadata": {},
   "source": [
    "Jak dodáshneme možnosti porovnávat objekty?"
   ]
  },
  {
   "cell_type": "code",
   "execution_count": 206,
   "metadata": {},
   "outputs": [],
   "source": [
    "class Rectangle:\n",
    "    #první argument je objekt samotný\n",
    "    def __init__(self, width, heigth):\n",
    "        self.width = width\n",
    "        self.heigth = heigth\n",
    "        #v podstatě šířka je jeho šířka atd:)\n",
    "        \n",
    "    def area(self):\n",
    "        return self.width * self.heigth\n",
    "    \n",
    "    def perimeter(self):\n",
    "        return 2* (self.width + self.heigth)\n",
    "    \n",
    "    def to_string(self):\n",
    "        return (f\"Rectangle: width={self.width}, height={self.heigth}\")\n",
    "    \n",
    "    def __str__(self):\n",
    "        return(\"Here i am\")\n",
    "    \n",
    "    def __repr__(self):\n",
    "        return (\"I am back and better!\")\n",
    "    \n",
    "    def __eq__(self, other):\n",
    "        #řeším self a other pro porovnávání\n",
    "        return self.width == other.width and self.heigth == other.heigth\n",
    "    #a takto definuji podmínky rovnosti :)\n",
    "        \n",
    "        \n",
    "#self může být zapsáno jinak - něco, tvorba apod..\n",
    "#je to jen odkaz na sebe sama"
   ]
  },
  {
   "cell_type": "code",
   "execution_count": 207,
   "metadata": {},
   "outputs": [],
   "source": [
    "r1 = Rectangle(10,20)\n",
    "r2 = Rectangle(10,20)"
   ]
  },
  {
   "cell_type": "code",
   "execution_count": 208,
   "metadata": {},
   "outputs": [
    {
     "data": {
      "text/plain": [
       "True"
      ]
     },
     "execution_count": 208,
     "metadata": {},
     "output_type": "execute_result"
    }
   ],
   "source": [
    "r1 is not r2"
   ]
  },
  {
   "cell_type": "code",
   "execution_count": 209,
   "metadata": {},
   "outputs": [
    {
     "data": {
      "text/plain": [
       "True"
      ]
     },
     "execution_count": 209,
     "metadata": {},
     "output_type": "execute_result"
    }
   ],
   "source": [
    "r1 == r2"
   ]
  },
  {
   "cell_type": "markdown",
   "metadata": {},
   "source": [
    "A nyní máme rovnost, jsme schopni porovnat objekty mezi sebou."
   ]
  },
  {
   "cell_type": "code",
   "execution_count": 210,
   "metadata": {},
   "outputs": [
    {
     "ename": "AttributeError",
     "evalue": "'int' object has no attribute 'width'",
     "output_type": "error",
     "traceback": [
      "\u001b[1;31m---------------------------------------------------------------------------\u001b[0m",
      "\u001b[1;31mAttributeError\u001b[0m                            Traceback (most recent call last)",
      "\u001b[1;32m<ipython-input-210-7b227cedb3f6>\u001b[0m in \u001b[0;36m<module>\u001b[1;34m\u001b[0m\n\u001b[1;32m----> 1\u001b[1;33m \u001b[0mr1\u001b[0m \u001b[1;33m==\u001b[0m \u001b[1;36m100\u001b[0m\u001b[1;33m\u001b[0m\u001b[1;33m\u001b[0m\u001b[0m\n\u001b[0m",
      "\u001b[1;32m<ipython-input-206-45ddd6a0ea7b>\u001b[0m in \u001b[0;36m__eq__\u001b[1;34m(self, other)\u001b[0m\n\u001b[0;32m     23\u001b[0m     \u001b[1;32mdef\u001b[0m \u001b[0m__eq__\u001b[0m\u001b[1;33m(\u001b[0m\u001b[0mself\u001b[0m\u001b[1;33m,\u001b[0m \u001b[0mother\u001b[0m\u001b[1;33m)\u001b[0m\u001b[1;33m:\u001b[0m\u001b[1;33m\u001b[0m\u001b[1;33m\u001b[0m\u001b[0m\n\u001b[0;32m     24\u001b[0m         \u001b[1;31m#řeším self a other pro porovnávání\u001b[0m\u001b[1;33m\u001b[0m\u001b[1;33m\u001b[0m\u001b[1;33m\u001b[0m\u001b[0m\n\u001b[1;32m---> 25\u001b[1;33m         \u001b[1;32mreturn\u001b[0m \u001b[0mself\u001b[0m\u001b[1;33m.\u001b[0m\u001b[0mwidth\u001b[0m \u001b[1;33m==\u001b[0m \u001b[0mother\u001b[0m\u001b[1;33m.\u001b[0m\u001b[0mwidth\u001b[0m \u001b[1;32mand\u001b[0m \u001b[0mself\u001b[0m\u001b[1;33m.\u001b[0m\u001b[0mheigth\u001b[0m \u001b[1;33m==\u001b[0m \u001b[0mother\u001b[0m\u001b[1;33m.\u001b[0m\u001b[0mheigth\u001b[0m\u001b[1;33m\u001b[0m\u001b[1;33m\u001b[0m\u001b[0m\n\u001b[0m\u001b[0;32m     26\u001b[0m     \u001b[1;31m#a takto definuji podmínky rovnosti :)\u001b[0m\u001b[1;33m\u001b[0m\u001b[1;33m\u001b[0m\u001b[1;33m\u001b[0m\u001b[0m\n\u001b[0;32m     27\u001b[0m \u001b[1;33m\u001b[0m\u001b[0m\n",
      "\u001b[1;31mAttributeError\u001b[0m: 'int' object has no attribute 'width'"
     ]
    }
   ],
   "source": [
    "r1 == 100 #máme v tom trochu chybpu tedy :)\n",
    "#musíme zajistit aby other byl objekt"
   ]
  },
  {
   "cell_type": "code",
   "execution_count": 211,
   "metadata": {},
   "outputs": [],
   "source": [
    "class Rectangle:\n",
    "    #první argument je objekt samotný\n",
    "    def __init__(self, width, heigth):\n",
    "        self.width = width\n",
    "        self.heigth = heigth\n",
    "        #v podstatě šířka je jeho šířka atd:)\n",
    "        \n",
    "    def area(self):\n",
    "        return self.width * self.heigth\n",
    "    \n",
    "    def perimeter(self):\n",
    "        return 2* (self.width + self.heigth)\n",
    "    \n",
    "    def to_string(self):\n",
    "        return (f\"Rectangle: width={self.width}, height={self.heigth}\")\n",
    "    \n",
    "    def __str__(self):\n",
    "        return(\"Here i am\")\n",
    "    \n",
    "    def __repr__(self):\n",
    "        return (\"I am back and better!\")\n",
    "    \n",
    "    def __eq__(self, other):\n",
    "        if isinstance(other, Rectangle):\n",
    "            return self.width == other.width and self.heigth == other.heigth\n",
    "        #takže jen pokud other je instance rectangle\n",
    "        else:\n",
    "            return False\n",
    "        #pokud chceš porovnat rectangle s něčím jiným bude false"
   ]
  },
  {
   "cell_type": "code",
   "execution_count": 212,
   "metadata": {},
   "outputs": [],
   "source": [
    "r1 = Rectangle(10,20)\n",
    "r2 = Rectangle(10,20)"
   ]
  },
  {
   "cell_type": "code",
   "execution_count": 213,
   "metadata": {},
   "outputs": [
    {
     "data": {
      "text/plain": [
       "True"
      ]
     },
     "execution_count": 213,
     "metadata": {},
     "output_type": "execute_result"
    }
   ],
   "source": [
    "r1 == r2"
   ]
  },
  {
   "cell_type": "code",
   "execution_count": 214,
   "metadata": {},
   "outputs": [
    {
     "data": {
      "text/plain": [
       "False"
      ]
     },
     "execution_count": 214,
     "metadata": {},
     "output_type": "execute_result"
    }
   ],
   "source": [
    "r1 == 100\n",
    "#nyní nám to už funguje"
   ]
  },
  {
   "cell_type": "markdown",
   "metadata": {},
   "source": [
    "A jedeme dále"
   ]
  },
  {
   "cell_type": "code",
   "execution_count": 224,
   "metadata": {},
   "outputs": [],
   "source": [
    "class Rectangle:\n",
    "    #první argument je objekt samotný\n",
    "    def __init__(self, width, heigth):\n",
    "        self.width = width\n",
    "        self.heigth = heigth\n",
    "        #v podstatě šířka je jeho šířka atd:)\n",
    "        \n",
    "    def area(self):\n",
    "        return self.width * self.heigth\n",
    "    \n",
    "    def perimeter(self):\n",
    "        return 2* (self.width + self.heigth)\n",
    "    \n",
    "    def to_string(self):\n",
    "        return (f\"Rectangle: width={self.width}, height={self.heigth}\")\n",
    "    \n",
    "    def __str__(self):\n",
    "        return(\"Here i am\")\n",
    "    \n",
    "    def __repr__(self):\n",
    "        return (\"I am back and better!\")\n",
    "    \n",
    "    def __eq__(self, other):\n",
    "        if isinstance(other, Rectangle):\n",
    "            return self.width == other.width and self.heigth == other.heigth\n",
    "        #takže jen pokud other je instance rectangle\n",
    "        else:\n",
    "            return False\n",
    "        #pokud chceš porovnat rectangle s něčím jiným bude false\n",
    "    \n",
    "    def __lt__(self,other):\n",
    "        if isinstance(other, Rectangle):\n",
    "            return self.area() < other.area()\n",
    "        #mám porovnání\n",
    "        else:\n",
    "            return NotImplemented"
   ]
  },
  {
   "cell_type": "code",
   "execution_count": 225,
   "metadata": {},
   "outputs": [],
   "source": [
    "r1 = Rectangle(10,20)\n",
    "r2 = Rectangle(100,200)"
   ]
  },
  {
   "cell_type": "code",
   "execution_count": 229,
   "metadata": {},
   "outputs": [
    {
     "data": {
      "text/plain": [
       "True"
      ]
     },
     "execution_count": 229,
     "metadata": {},
     "output_type": "execute_result"
    }
   ],
   "source": [
    "r1 < r2"
   ]
  },
  {
   "cell_type": "code",
   "execution_count": 230,
   "metadata": {},
   "outputs": [
    {
     "data": {
      "text/plain": [
       "False"
      ]
     },
     "execution_count": 230,
     "metadata": {},
     "output_type": "execute_result"
    }
   ],
   "source": [
    "r2 < r1"
   ]
  },
  {
   "cell_type": "markdown",
   "metadata": {},
   "source": [
    "Takže máme porovnávání mezi classami - alespoň mezi jejich obsahy. Tj. prostě najs..za 20 minut více o classách než ever :), a frčíme vesele dále."
   ]
  },
  {
   "cell_type": "code",
   "execution_count": 236,
   "metadata": {},
   "outputs": [],
   "source": [
    "class Rectangle:\n",
    "    #první argument je objekt samotný\n",
    "    def __init__(self, width, heigth):\n",
    "        self._width = width\n",
    "        self._heigth = heigth\n",
    "        #v podstatě šířka je jeho šířka atd:)\n",
    "            \n",
    "    def __str__(self):\n",
    "        return(\"Here i am\")\n",
    "    \n",
    "    def __repr__(self):\n",
    "        return (\"I am back and better!\")\n",
    "    \n",
    "    def __eq__(self, other):\n",
    "        if isinstance(other, Rectangle):\n",
    "            return self._width == other._width and self._heigth == other._heigth\n",
    "        #takže jen pokud other je instance rectangle\n",
    "        else:\n",
    "            return False\n",
    "        #pokud chceš porovnat rectangle s něčím jiným bude false\n",
    "    \n",
    "    def __lt__(self,other):\n",
    "        if isinstance(other, Rectangle):\n",
    "            return self.area() < other.area()\n",
    "        else:\n",
    "            return NotImplemented\n",
    "        \n",
    "    def get_width(self):\n",
    "        return self._width\n",
    "    #nedělá nic jen že navrací hodnotu width\n",
    "    \n",
    "    def set_width(self, width):\n",
    "        if width <=0:\n",
    "            raise ValueError(\"Width Must be positive\")\n",
    "        else:\n",
    "            self._width = width\n",
    "    #zde se chrání aby nezadali zápornou hodnotu"
   ]
  },
  {
   "cell_type": "code",
   "execution_count": 248,
   "metadata": {},
   "outputs": [],
   "source": [
    "r1 = Rectangle(10,20)"
   ]
  },
  {
   "cell_type": "markdown",
   "metadata": {},
   "source": [
    "Máme problém, každý si to může měnit."
   ]
  },
  {
   "cell_type": "markdown",
   "metadata": {},
   "source": [
    "self._width = width takto vytvoříme private metodu, stále to můžou změnit, pomocí _"
   ]
  },
  {
   "cell_type": "markdown",
   "metadata": {},
   "source": [
    "snažíme se je motivovat ať nezískávají height a width hodnoty přímo ale pomocí get a set metody"
   ]
  },
  {
   "cell_type": "code",
   "execution_count": 250,
   "metadata": {},
   "outputs": [
    {
     "data": {
      "text/plain": [
       "10"
      ]
     },
     "execution_count": 250,
     "metadata": {},
     "output_type": "execute_result"
    }
   ],
   "source": [
    "r1.get_width()"
   ]
  },
  {
   "cell_type": "code",
   "execution_count": 251,
   "metadata": {},
   "outputs": [
    {
     "ename": "ValueError",
     "evalue": "Width Must be positive",
     "output_type": "error",
     "traceback": [
      "\u001b[1;31m---------------------------------------------------------------------------\u001b[0m",
      "\u001b[1;31mValueError\u001b[0m                                Traceback (most recent call last)",
      "\u001b[1;32m<ipython-input-251-b2f75b19b78a>\u001b[0m in \u001b[0;36m<module>\u001b[1;34m\u001b[0m\n\u001b[1;32m----> 1\u001b[1;33m \u001b[0mr1\u001b[0m\u001b[1;33m.\u001b[0m\u001b[0mset_width\u001b[0m\u001b[1;33m(\u001b[0m\u001b[1;33m-\u001b[0m\u001b[1;36m10\u001b[0m\u001b[1;33m)\u001b[0m\u001b[1;33m\u001b[0m\u001b[1;33m\u001b[0m\u001b[0m\n\u001b[0m",
      "\u001b[1;32m<ipython-input-236-516dd55b3225>\u001b[0m in \u001b[0;36mset_width\u001b[1;34m(self, width)\u001b[0m\n\u001b[0;32m     32\u001b[0m     \u001b[1;32mdef\u001b[0m \u001b[0mset_width\u001b[0m\u001b[1;33m(\u001b[0m\u001b[0mself\u001b[0m\u001b[1;33m,\u001b[0m \u001b[0mwidth\u001b[0m\u001b[1;33m)\u001b[0m\u001b[1;33m:\u001b[0m\u001b[1;33m\u001b[0m\u001b[1;33m\u001b[0m\u001b[0m\n\u001b[0;32m     33\u001b[0m         \u001b[1;32mif\u001b[0m \u001b[0mwidth\u001b[0m \u001b[1;33m<=\u001b[0m\u001b[1;36m0\u001b[0m\u001b[1;33m:\u001b[0m\u001b[1;33m\u001b[0m\u001b[1;33m\u001b[0m\u001b[0m\n\u001b[1;32m---> 34\u001b[1;33m             \u001b[1;32mraise\u001b[0m \u001b[0mValueError\u001b[0m\u001b[1;33m(\u001b[0m\u001b[1;34m\"Width Must be positive\"\u001b[0m\u001b[1;33m)\u001b[0m\u001b[1;33m\u001b[0m\u001b[1;33m\u001b[0m\u001b[0m\n\u001b[0m\u001b[0;32m     35\u001b[0m         \u001b[1;32melse\u001b[0m\u001b[1;33m:\u001b[0m\u001b[1;33m\u001b[0m\u001b[1;33m\u001b[0m\u001b[0m\n\u001b[0;32m     36\u001b[0m             \u001b[0mself\u001b[0m\u001b[1;33m.\u001b[0m\u001b[0m_width\u001b[0m \u001b[1;33m=\u001b[0m \u001b[0mwidth\u001b[0m\u001b[1;33m\u001b[0m\u001b[1;33m\u001b[0m\u001b[0m\n",
      "\u001b[1;31mValueError\u001b[0m: Width Must be positive"
     ]
    }
   ],
   "source": [
    "r1.set_width(-10)"
   ]
  },
  {
   "cell_type": "markdown",
   "metadata": {},
   "source": [
    "A tak to má být :)"
   ]
  },
  {
   "cell_type": "markdown",
   "metadata": {},
   "source": [
    "Problém je, že pokud už se kod používá, hodnoty už jsou nastaveny a pamatovány. Vždy bychom měli začínat se set a get když tvoříme metodu, ať máme kontrolu, to je ale Java styl, Python way je trochu jiná. Takže jedeme znovu :)."
   ]
  },
  {
   "cell_type": "code",
   "execution_count": 280,
   "metadata": {},
   "outputs": [],
   "source": [
    "class Rectangle:\n",
    "    #první argument je objekt samotný\n",
    "    def __init__(self, width, heigth):\n",
    "        self.width = width\n",
    "        self.heigth = heigth\n",
    "        #v podstatě šířka je jeho šířka atd:)\n",
    "            \n",
    "    def __str__(self):\n",
    "        return(\"Here i am\")\n",
    "    \n",
    "    def __repr__(self):\n",
    "        return (\"I am back and better!\")\n",
    "    \n",
    "    def __eq__(self, other):\n",
    "        if isinstance(other, Rectangle):\n",
    "            return self._width == other.width and self.heigth == other.heigth\n",
    "        else:\n",
    "            return False\n",
    "    \n",
    "    #tak a teď jak na to :) - getter a settery jinak pomocí dekorátorů\n",
    "    @property\n",
    "    def width(self):\n",
    "        print(\"width running\")\n",
    "        return self._width\n",
    "    \n",
    "    @property\n",
    "    def heigth(self):\n",
    "        print(\"height running\")\n",
    "        return self.heifht\n",
    "    \n",
    "    @width.setter\n",
    "    def width(self, width):\n",
    "        if width <= 0:\n",
    "            raise ValueError(\"Width Must be positive\")\n",
    "        else:\n",
    "            self._width = width\n",
    "                        \n",
    "    @heigth.setter\n",
    "    def heigth(self, height):\n",
    "        if heigth <= 0:\n",
    "            raise ValueError(\"Width Must be positive\")\n",
    "        else:\n",
    "            self._heigth = heigth\n",
    "        \n"
   ]
  },
  {
   "cell_type": "code",
   "execution_count": 267,
   "metadata": {},
   "outputs": [],
   "source": [
    "r1 = Rectangle(10,20)"
   ]
  },
  {
   "cell_type": "code",
   "execution_count": 268,
   "metadata": {
    "scrolled": true
   },
   "outputs": [
    {
     "name": "stdout",
     "output_type": "stream",
     "text": [
      "width running\n"
     ]
    },
    {
     "data": {
      "text/plain": [
       "10"
      ]
     },
     "execution_count": 268,
     "metadata": {},
     "output_type": "execute_result"
    }
   ],
   "source": [
    "r1.width"
   ]
  },
  {
   "cell_type": "markdown",
   "metadata": {},
   "source": [
    "Takže náš dekorátor property dělá krásnou fičuru. V podstatě není třeba to řešit pokud si myslím, že getter a setter nebude třeba, můžu to vyladit pomocí dekorátoru."
   ]
  },
  {
   "cell_type": "code",
   "execution_count": 269,
   "metadata": {},
   "outputs": [
    {
     "ename": "ValueError",
     "evalue": "Width Must be positive",
     "output_type": "error",
     "traceback": [
      "\u001b[1;31m---------------------------------------------------------------------------\u001b[0m",
      "\u001b[1;31mValueError\u001b[0m                                Traceback (most recent call last)",
      "\u001b[1;32m<ipython-input-269-7febe5f9cdf2>\u001b[0m in \u001b[0;36m<module>\u001b[1;34m\u001b[0m\n\u001b[1;32m----> 1\u001b[1;33m \u001b[0mr1\u001b[0m\u001b[1;33m.\u001b[0m\u001b[0mwidth\u001b[0m \u001b[1;33m=\u001b[0m \u001b[1;33m-\u001b[0m\u001b[1;36m100\u001b[0m\u001b[1;33m\u001b[0m\u001b[1;33m\u001b[0m\u001b[0m\n\u001b[0m",
      "\u001b[1;32m<ipython-input-266-4d74c4eca9b8>\u001b[0m in \u001b[0;36mwidth\u001b[1;34m(self, width)\u001b[0m\n\u001b[0;32m     32\u001b[0m     \u001b[1;32mdef\u001b[0m \u001b[0mwidth\u001b[0m\u001b[1;33m(\u001b[0m\u001b[0mself\u001b[0m\u001b[1;33m,\u001b[0m \u001b[0mwidth\u001b[0m\u001b[1;33m)\u001b[0m\u001b[1;33m:\u001b[0m\u001b[1;33m\u001b[0m\u001b[1;33m\u001b[0m\u001b[0m\n\u001b[0;32m     33\u001b[0m         \u001b[1;32mif\u001b[0m \u001b[0mwidth\u001b[0m \u001b[1;33m<=\u001b[0m \u001b[1;36m0\u001b[0m\u001b[1;33m:\u001b[0m\u001b[1;33m\u001b[0m\u001b[1;33m\u001b[0m\u001b[0m\n\u001b[1;32m---> 34\u001b[1;33m             \u001b[1;32mraise\u001b[0m \u001b[0mValueError\u001b[0m\u001b[1;33m(\u001b[0m\u001b[1;34m\"Width Must be positive\"\u001b[0m\u001b[1;33m)\u001b[0m\u001b[1;33m\u001b[0m\u001b[1;33m\u001b[0m\u001b[0m\n\u001b[0m\u001b[0;32m     35\u001b[0m         \u001b[1;32melse\u001b[0m\u001b[1;33m:\u001b[0m\u001b[1;33m\u001b[0m\u001b[1;33m\u001b[0m\u001b[0m\n\u001b[0;32m     36\u001b[0m             \u001b[0mself\u001b[0m\u001b[1;33m.\u001b[0m\u001b[0m_width\u001b[0m \u001b[1;33m=\u001b[0m \u001b[0mwidth\u001b[0m\u001b[1;33m\u001b[0m\u001b[1;33m\u001b[0m\u001b[0m\n",
      "\u001b[1;31mValueError\u001b[0m: Width Must be positive"
     ]
    }
   ],
   "source": [
    "r1.width = -100 #a najednou to frčí :)"
   ]
  },
  {
   "cell_type": "code",
   "execution_count": 271,
   "metadata": {},
   "outputs": [
    {
     "name": "stdout",
     "output_type": "stream",
     "text": [
      "width running\n"
     ]
    },
    {
     "data": {
      "text/plain": [
       "25"
      ]
     },
     "execution_count": 271,
     "metadata": {},
     "output_type": "execute_result"
    }
   ],
   "source": [
    "r1.width = 25\n",
    "r1.width"
   ]
  },
  {
   "cell_type": "markdown",
   "metadata": {},
   "source": [
    "Hmm ale teď zjistíme, že nechceme nic ničit ale chceme settery a gettery. Samozřejmě pokud to není třeba, nemusíme je používat."
   ]
  },
  {
   "cell_type": "markdown",
   "metadata": {},
   "source": [
    "Rada je jasná, v Pythonu není třeba nastavovat settery a gettery pokud si myslím, že nebudou třeba a pokud by bylo třeba dekorátory to doladí."
   ]
  },
  {
   "cell_type": "code",
   "execution_count": 279,
   "metadata": {},
   "outputs": [],
   "source": [
    "r1 = Rectangle(-100,20) #vytvořím to a je to .."
   ]
  },
  {
   "cell_type": "code",
   "execution_count": 275,
   "metadata": {},
   "outputs": [],
   "source": [
    "#jenže pokud odmažu \n",
    "        #self._width = width\n",
    "        #self._heigth = heigth\n",
    "        #odmažu underscore\n",
    "        #tak moje hodnotu musí jít přes dekorátor"
   ]
  },
  {
   "cell_type": "markdown",
   "metadata": {},
   "source": [
    "A tudíž mi to už nepůjde :)."
   ]
  },
  {
   "cell_type": "code",
   "execution_count": 281,
   "metadata": {},
   "outputs": [
    {
     "ename": "ValueError",
     "evalue": "Width Must be positive",
     "output_type": "error",
     "traceback": [
      "\u001b[1;31m---------------------------------------------------------------------------\u001b[0m",
      "\u001b[1;31mValueError\u001b[0m                                Traceback (most recent call last)",
      "\u001b[1;32m<ipython-input-281-da72cdb21977>\u001b[0m in \u001b[0;36m<module>\u001b[1;34m\u001b[0m\n\u001b[1;32m----> 1\u001b[1;33m \u001b[0mr1\u001b[0m \u001b[1;33m=\u001b[0m \u001b[0mRectangle\u001b[0m\u001b[1;33m(\u001b[0m\u001b[1;33m-\u001b[0m\u001b[1;36m100\u001b[0m\u001b[1;33m,\u001b[0m\u001b[1;36m20\u001b[0m\u001b[1;33m)\u001b[0m\u001b[1;33m\u001b[0m\u001b[1;33m\u001b[0m\u001b[0m\n\u001b[0m",
      "\u001b[1;32m<ipython-input-280-f9f698220a31>\u001b[0m in \u001b[0;36m__init__\u001b[1;34m(self, width, heigth)\u001b[0m\n\u001b[0;32m      2\u001b[0m     \u001b[1;31m#první argument je objekt samotný\u001b[0m\u001b[1;33m\u001b[0m\u001b[1;33m\u001b[0m\u001b[1;33m\u001b[0m\u001b[0m\n\u001b[0;32m      3\u001b[0m     \u001b[1;32mdef\u001b[0m \u001b[0m__init__\u001b[0m\u001b[1;33m(\u001b[0m\u001b[0mself\u001b[0m\u001b[1;33m,\u001b[0m \u001b[0mwidth\u001b[0m\u001b[1;33m,\u001b[0m \u001b[0mheigth\u001b[0m\u001b[1;33m)\u001b[0m\u001b[1;33m:\u001b[0m\u001b[1;33m\u001b[0m\u001b[1;33m\u001b[0m\u001b[0m\n\u001b[1;32m----> 4\u001b[1;33m         \u001b[0mself\u001b[0m\u001b[1;33m.\u001b[0m\u001b[0mwidth\u001b[0m \u001b[1;33m=\u001b[0m \u001b[0mwidth\u001b[0m\u001b[1;33m\u001b[0m\u001b[1;33m\u001b[0m\u001b[0m\n\u001b[0m\u001b[0;32m      5\u001b[0m         \u001b[0mself\u001b[0m\u001b[1;33m.\u001b[0m\u001b[0mheigth\u001b[0m \u001b[1;33m=\u001b[0m \u001b[0mheigth\u001b[0m\u001b[1;33m\u001b[0m\u001b[1;33m\u001b[0m\u001b[0m\n\u001b[0;32m      6\u001b[0m         \u001b[1;31m#v podstatě šířka je jeho šířka atd:)\u001b[0m\u001b[1;33m\u001b[0m\u001b[1;33m\u001b[0m\u001b[1;33m\u001b[0m\u001b[0m\n",
      "\u001b[1;32m<ipython-input-280-f9f698220a31>\u001b[0m in \u001b[0;36mwidth\u001b[1;34m(self, width)\u001b[0m\n\u001b[0;32m     32\u001b[0m     \u001b[1;32mdef\u001b[0m \u001b[0mwidth\u001b[0m\u001b[1;33m(\u001b[0m\u001b[0mself\u001b[0m\u001b[1;33m,\u001b[0m \u001b[0mwidth\u001b[0m\u001b[1;33m)\u001b[0m\u001b[1;33m:\u001b[0m\u001b[1;33m\u001b[0m\u001b[1;33m\u001b[0m\u001b[0m\n\u001b[0;32m     33\u001b[0m         \u001b[1;32mif\u001b[0m \u001b[0mwidth\u001b[0m \u001b[1;33m<=\u001b[0m \u001b[1;36m0\u001b[0m\u001b[1;33m:\u001b[0m\u001b[1;33m\u001b[0m\u001b[1;33m\u001b[0m\u001b[0m\n\u001b[1;32m---> 34\u001b[1;33m             \u001b[1;32mraise\u001b[0m \u001b[0mValueError\u001b[0m\u001b[1;33m(\u001b[0m\u001b[1;34m\"Width Must be positive\"\u001b[0m\u001b[1;33m)\u001b[0m\u001b[1;33m\u001b[0m\u001b[1;33m\u001b[0m\u001b[0m\n\u001b[0m\u001b[0;32m     35\u001b[0m         \u001b[1;32melse\u001b[0m\u001b[1;33m:\u001b[0m\u001b[1;33m\u001b[0m\u001b[1;33m\u001b[0m\u001b[0m\n\u001b[0;32m     36\u001b[0m             \u001b[0mself\u001b[0m\u001b[1;33m.\u001b[0m\u001b[0m_width\u001b[0m \u001b[1;33m=\u001b[0m \u001b[0mwidth\u001b[0m\u001b[1;33m\u001b[0m\u001b[1;33m\u001b[0m\u001b[0m\n",
      "\u001b[1;31mValueError\u001b[0m: Width Must be positive"
     ]
    }
   ],
   "source": [
    "r1 = Rectangle(-100,20)"
   ]
  },
  {
   "cell_type": "markdown",
   "metadata": {},
   "source": [
    "Tak tohle byla vydatná 40 minutovka o inicializaci class. Naprostý základ, ale perfektní. Opravdu extrémně vydatná část."
   ]
  }
 ],
 "metadata": {
  "kernelspec": {
   "display_name": "Python 3",
   "language": "python",
   "name": "python3"
  },
  "language_info": {
   "codemirror_mode": {
    "name": "ipython",
    "version": 3
   },
   "file_extension": ".py",
   "mimetype": "text/x-python",
   "name": "python",
   "nbconvert_exporter": "python",
   "pygments_lexer": "ipython3",
   "version": "3.8.2"
  }
 },
 "nbformat": 4,
 "nbformat_minor": 4
}
